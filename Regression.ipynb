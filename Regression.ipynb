{
  "cells": [
    {
      "cell_type": "markdown",
      "metadata": {
        "id": "oXpjgVqMnQFj"
      },
      "source": [
        "1) **What is simple Linear Regression?**\n",
        "\n",
        "Simple Linear Regression is a statistical method used to model the relationship between two variables by fitting a linear equation to the observed data. It assumes that there is a straight-line relationship between the independent variable (also called the predictor or feature) and the dependent variable (also called the outcome or target).\n",
        "\n",
        "**In simple linear regression, you have two key components:**\n",
        "\n",
        "**Independent Variable (X):** The variable you use to predict the dependent variable.\n",
        "\n",
        "**Dependent Variable (Y): The variable you're trying to predict or explain."
      ]
    },
    {
      "cell_type": "markdown",
      "metadata": {
        "id": "Cs3mA1gek3nQ"
      },
      "source": [
        "2) **What are the key assumption of simple linear regression?**\n",
        "\n",
        "The key assumptions of simple linear regression are crucial for ensuring that the model provides reliable and valid results. These assumptions are:\n",
        "\n",
        "**Linearity**\n",
        "\n",
        "The relationship between the independent variable (X) and the dependent variable (Y) should be linear. This means that changes in X are associated with proportional changes in Y. If the relationship is not linear, the simple linear regression model may not fit the data well.\n",
        "\n",
        "**Independence of Errors (No Autocorrelation)**\n",
        "The residuals (errors between the predicted and actual values) should be independent of each other. In other words, the error associated with one observation should not depend on the error of another observation. This assumption is important when dealing with time series data, as violations of this assumption (e.g., autocorrelation) can lead to biased estimates of the regression coefficients.\n",
        "\n",
        "**Normality of Errors**\n",
        "\n",
        "The residuals should be approximately normally distributed. This assumption is especially important for hypothesis testing (e.g., to test the significance of the regression coefficients) and for constructing confidence intervals. If the residuals are not normally distributed, the results of significance tests might not be valid, especially with small sample sizes.\n",
        "\n",
        "**No Perfect Multicollinearity**\n",
        "\n",
        "While this assumption is more relevant to multiple linear regression (where there are multiple predictors), it's still important to note that, in simple linear regression, there should be no perfect correlation between the independent variable and any other variables. This is less of an issue in simple linear regression, as you only have one independent variable."
      ]
    },
    {
      "cell_type": "markdown",
      "metadata": {
        "id": "pqj0bC5OrvMQ"
      },
      "source": [
        "3) **What does the coefficient m represent in the equation y = mx+c?**\n",
        "\n",
        "In the equation 𝑦=𝑚𝑥+𝑐, the coefficient 𝑚 represents the slope of the line.\n",
        "\n",
        "Slope (m): The slope 𝑚 indicates how much the dependent variable 𝑦 changes for each unit change in the independent variable x.\n",
        "\n",
        "If m>0, the line has a positive slope, meaning that as x increases, y also increases.\n",
        "If m<0, the line has a negative slope, meaning that as x increases, y decreases.\n",
        "If m=0, the line is horizontal, indicating that changes in x do not affect\n",
        "y at all."
      ]
    },
    {
      "cell_type": "markdown",
      "metadata": {
        "id": "ArVvYAg4vHlH"
      },
      "source": [
        "4) **What does the intercept c represent in the equation y = mx+c?**\n",
        "\n",
        "In the equation y=mx+c, the intercept c represents the y-intercept of the line.\n",
        "\n",
        "Here’s what it means:\n",
        "\n",
        "The intercept c is the value of y when the independent variable x is zero.\n",
        "In other words, it's the point where the line crosses the y-axis (when x=0)."
      ]
    },
    {
      "cell_type": "markdown",
      "metadata": {
        "id": "X1bWwZ_VxOjX"
      },
      "source": [
        "**5)How do we calculate the slope m in simple linear regression?**\n",
        "\n",
        "In simple linear regression, the slope 𝑚 (also called the regression coefficient) represents the change in the dependent variable 𝑦 for a unit change in the independent variable 𝑥\n",
        "\n",
        "These two values 𝑚 (slope) and 𝑏 (intercept) define the line"
      ]
    },
    {
      "cell_type": "markdown",
      "metadata": {
        "id": "-3OYOtSIIOkp"
      },
      "source": [
        "**6)What is the purpose of the least squares method in simple linear regression?**\n",
        "However, the data points don’t always lie perfectly on a straight line. The residuals are the vertical distances between the actual data points and the points predicted by the regression line. The goal of the least squares method is to minimize the sum of the squares of these residuals to find the best-fitting line.\n",
        "\n",
        "**Why use the least squares method?**\n",
        "\n",
        "**Minimization of errors**:\n",
        "\n",
        "The least squares method aims to minimize the squared error (or residuals), making it a natural way to measure how well the line fits the data. Squaring the errors ensures that both positive and negative deviations from the line are treated equally, and it prevents large deviations from being overlooked.\n",
        "\n",
        "**Optimality**\n",
        "\n",
        "The method provides a line that minimizes the total squared distance between the observed values and the predicted values, providing the best linear approximation to the data."
      ]
    },
    {
      "cell_type": "markdown",
      "metadata": {
        "id": "98waHgndPBz4"
      },
      "source": [
        "7) **How is the coefficient of determination interpreted in Simple Linear Regression?**\n",
        "\n",
        "In simple linear regression, the coefficient of determination, often denoted as\n",
        "𝑅2, is a key statistic that tells us how well the regression line fits the data. Specifically, it measures the proportion of the variance in the dependent variable 𝑦 that is explained by the independent variable x in the regression model.\n",
        "\n",
        "**Value range**:\n",
        "\n",
        "𝑅2 ranges from 0 to 1\n",
        "\n",
        "R2 =1 means that the regression model explains 100% of the variance in 𝑦. All the data points lie perfectly on the regression line, and there are no residuals.\n",
        "\n",
        "R 2 =0 means that the regression model explains 0% of the variance in 𝑦\n",
        ". In this case, the independent variable 𝑥 has no explanatory power over the dependent variable 𝑦.\n",
        "\n"
      ]
    },
    {
      "cell_type": "markdown",
      "metadata": {
        "id": "pNRbeBLidWNS"
      },
      "source": [
        "8) **What is multiple linear regression?**\n",
        "\n",
        "Multiple linear regression is a statistical technique used to model the relationship between one dependent variable and two or more independent variables. The goal is to understand how the independent variables collectively influence the dependent variable and to make predictions.\n",
        "\n",
        "In a multiple linear regression model, the relationship is represented by the equation:\n",
        "\n",
        "Y is the dependent variable (the one you're trying to predict).\n",
        "\n",
        "X 1,X 2,…,Xn are the independent variables (predictors).\n",
        "\n",
        "β0 is the intercept, the value of 𝑌 when all X's are zero.\n",
        "\n",
        "β1,β2,…,βn are the coefficients that represent the effect of each independent variable on 𝑌.\n"
      ]
    },
    {
      "cell_type": "markdown",
      "metadata": {
        "id": "tj6UqyTEgyD0"
      },
      "source": [
        "9) **What is the main difference Simple and Multiple Linear Regression?**\n",
        "\n",
        "Simple Linear Regression involves only one predictor, while Multiple Linear Regression involves multiple predictors.\n",
        "In Multiple Linear Regression, you can account for more complex relationships because you're considering more than one factor simultaneously."
      ]
    },
    {
      "cell_type": "markdown",
      "metadata": {
        "id": "OzteQzickF9t"
      },
      "source": [
        "10) **What are the key assumption of multiple linear regression?**\n",
        "\n",
        "Multiple linear regression relies on several key assumptions to ensure the model's validity and the accuracy of its predictions. These assumptions are critical for interpreting the results correctly. Here are the main assumptions of multiple linear regression:\n",
        "\n",
        "**Linearity**\n",
        "\n",
        "The relationship between the dependent variable (Y) and each independent variable (𝑋1 ,𝑋2,…,𝑋𝑛) is linear.\n",
        "\n",
        "**Independence of Errors**:\n",
        "\n",
        "Assumption: The residuals (errors) are independent of each other. In other words, the error for one observation should not be correlated with the error of another observation.\n",
        "\n",
        "**Homoscedasticity (Constant Variance of Errors):**\n",
        "\n",
        "**Assumption:** The variance of the residuals (errors) should be constant across all levels of the independent variables.\n",
        "\n",
        "**Implication:** This means the spread of the residuals should remain roughly the same across all values of the predicted dependent variable.\n",
        "\n",
        "**Normality of Errors:**\n",
        "\n",
        "Assumption: The residuals (errors) of the regression model should be normally distributed.\n",
        "Implication: This assumption is particularly important for hypothesis testing and confidence intervals for the regression coefficients. If the residuals are not normal, it could affect the reliability of the statistical tests."
      ]
    },
    {
      "cell_type": "markdown",
      "metadata": {
        "id": "LMA5ehl_qrFT"
      },
      "source": [
        "**11) What is hetroscadecity , and how does it affect the results of a Multiple Linear Regression model?**\n",
        "\n",
        "Heteroscedasticity refers to a situation in a regression model where the variance of the residuals (the differences between observed and predicted values) is not constant across all levels of the independent variables. In other words, as the values of the independent variables increase or decrease, the spread (variance) of the residuals changes.\n",
        "\n",
        "This contrasts with \"homoscedasticity,\" where the residuals have constant variance across all values of the independent variables.\n",
        "\n",
        "**Invalidation of Assumptions:**\n",
        "\n",
        "Multiple linear regression models assume that the residuals are homoscedastic. If heteroscedasticity is present, the model’s assumption is violated, which can affect the reliability of the results."
      ]
    },
    {
      "cell_type": "markdown",
      "metadata": {
        "id": "nO-Rsb-vCCD3"
      },
      "source": [
        "**12)How can we improve a multiple Linear Regression model with high multiconearity?**\n",
        "\n",
        "High multicollinearity in a multiple linear regression model occurs when two or more independent variables are highly correlated with each other. This can cause several problems, including inflated standard errors, which make it difficult to assess the individual effect of each predictor on the dependent variable. When multicollinearity is present, it can undermine the reliability of the model’s estimates, making predictions less stable and the interpretation of coefficients more challenging.\n",
        "\n",
        "**Remove One of the Correlated Variables**\n",
        "\n",
        "If two or more variables are highly correlated (i.e., have a high correlation coefficient), you can consider removing one of them from the model. This reduces the redundancy and mitigates the multicollinearity problem.\n",
        "\n",
        "**Ridge regression** is a regularized version of linear regression that adds a penalty to the size of the coefficients. It can help reduce the impact of multicollinearity by shrinking the coefficients of correlated variables.\n",
        "Ridge regression doesn’t eliminate variables but instead reduces their influence, helping to stabilize the model when there’s high multicollinearity. The regularization term in ridge regression helps to prevent overfitting and makes the coefficients more stable."
      ]
    },
    {
      "cell_type": "markdown",
      "metadata": {
        "id": "LK849pMFFber"
      },
      "source": [
        "13) **What are some common techniques for transforming categorical variables for use in regression model?**\n",
        "\n",
        "**One-Hot Encoding**\n",
        "\n",
        "One-hot encoding is one of the most common techniques for transforming categorical variables into binary (0 or 1) values.\n",
        "\n",
        "Simple to understand and implement.\n",
        "Works well with nominal categorical variables (those with no inherent order).\n",
        "\n",
        "**Label Encoding**\n",
        "\n",
        "Label encoding assigns a unique integer to each category in a categorical variable. This method is appropriate when the categories have an inherent order (ordinal variables).\n",
        "\n",
        "Simple and efficient.\n",
        "Useful for ordinal variables (those with a meaningful order)\n",
        "\n",
        "**Ordinal Encoding (for Ordinal Variables)**\n",
        "\n",
        "Ordinal encoding is a variation of label encoding where the categories are assigned numeric values based on the order they represent.\n",
        "\n",
        "**Binary Encoding**\n",
        "\n",
        "Binary encoding is a hybrid approach that combines the benefits of one-hot encoding and label encoding. It converts categories into binary numbers and then splits them into separate columns.\n",
        "This technique is useful for high-cardinality categorical variables because it reduces the number of columns compared to one-hot encoding, but still encodes the categorical information effectively."
      ]
    },
    {
      "cell_type": "markdown",
      "metadata": {
        "id": "e5w6IcRoKwiH"
      },
      "source": [
        "14) **What is the role of interaction terms in Multiple Linear Regression?**\n",
        "\n",
        "In multiple linear regression, interaction terms are used to model the combined effect of two or more independent variables (predictors) on the dependent variable that is not simply additive. Essentially, an interaction term allows the relationship between a predictor and the outcome to change depending on the level of another predictor.\n",
        "\n",
        "Capturing Joint Effects: In simple linear regression, the effect of each predictor on the dependent variable is considered separately. However, in real-world scenarios, the effect of one predictor might depend on the value of another predictor. Interaction terms allow the model to account for this dependency. For example, the impact of variable 𝑋1  on 𝑌 may vary depending on the value of 𝑋2."
      ]
    },
    {
      "cell_type": "markdown",
      "metadata": {
        "id": "-DeWqifHhJn3"
      },
      "source": [
        "15) **How can the interpretion of intercept differ between simple and multiple Linear Regression?**\n",
        "\n",
        "**Simple Linear Regression**:\n",
        "\n",
        "Interpretation of the intercept (𝛽0): The intercept in this model represents the value of the dependent variable Y when the independent variable 𝑋 is equal to zero. Specifically, it is the estimated value of 𝑌 at X=0.\n",
        "\n",
        "For example, if you're predicting salary based on years of experience, the intercept would represent the estimated salary when years of experience is 0 (i.e., for someone who has no work experience).\n",
        "\n",
        "**Multiple Linear Regression**:\n",
        "\n",
        "In multiple linear regression, you have two or more predictors, and the model looks like this:\n",
        "\n",
        "**Interpretation of the intercept (𝛽0)**: The intercept in multiple linear regression represents the value of the dependent variable Y when all the independent variables (𝑋1,𝑋2,…,𝑋𝑝 X1,X2,…,Xp) are equal to zero.\n",
        "\n",
        "This means that the intercept now reflects the value of 𝑌 when all the predictors are at their baseline values (zero), which can be less meaningful or difficult to interpret if zero is not a realistic or meaningful value for the predictors."
      ]
    },
    {
      "cell_type": "markdown",
      "metadata": {
        "id": "M65MlvEswAMq"
      },
      "source": [
        "16) **What is significant of slope in regression analysis , and does it affects predictions?**\n",
        "\n",
        "In regression analysis, the slope of the regression line (often denoted as\n",
        "m in simple linear regression) represents the relationship between the independent variable (predictor) and the dependent variable (outcome). More specifically, it indicates how much the dependent variable is expected to change when the independent variable increases by one unit.\n",
        "\n",
        "**Significance of Slope in Regression:**\n",
        "\n",
        "**Direction of Relationship**\n",
        "\n",
        "A positive slope indicates a positive relationship between the independent and dependent variables (as the predictor increases, the outcome also increases).\n",
        "\n",
        "A negative slope indicates a negative relationship (as the predictor increases, the outcome decreases).\n",
        "\n",
        "**Magnitude of Effect:**\n",
        "The magnitude of the slope tells you how much the dependent variable is expected to change for each unit change in the independent variable.\n",
        "For example, if the slope is 3, it means for every increase of 1 unit in the independent variable, the dependent variable increases by 3 units."
      ]
    },
    {
      "cell_type": "markdown",
      "metadata": {
        "id": "_LaGo7Ja9o8W"
      },
      "source": [
        "17) **How does the intercept in a regression model provide context for the relationship between variables?**\n",
        "\n",
        "The intercept in a regression model, often denoted as 𝛽0 or 𝑏0, plays a crucial role in providing context for the relationship between the independent variable (predictor) and the dependent variable (outcome). It is the value of the dependent variable when the independent variable equals zero.\n",
        "\n",
        "tarting Point (Baseline Value):\n",
        "\n",
        "The intercept represents the predicted value of the dependent variable (𝑦) when the independent variable (x) is zero. This gives a baseline or starting point for the model.\n",
        "\n",
        "The intercept sets the level of the predicted values of the dependent variable. Without it, the regression line would always pass through the origin (i.e.,\n",
        "y=0 when x=0), which may not be appropriate for many real-world relationships.\n",
        "The location of the intercept shifts the regression line up or down. A larger intercept will result in higher predicted values for y at all levels of\n",
        "x, while a smaller (or negative) intercept will result in lower predicted values.\n",
        "\n",
        "The intercept (β0=5) suggests that even if no money is spent on advertising (\n",
        "x=0), the model predicts sales of 5 thousand units. This could represent baseline sales or a certain level of demand without advertising.\n",
        "The slope (β1=3) tells us that for every additional $1,000 spent on advertising, sales are predicted to increase by 3 thousand units."
      ]
    },
    {
      "cell_type": "markdown",
      "metadata": {
        "id": "TriwvwgQP09Q"
      },
      "source": [
        "**18)What are the limitation  of r2 as a sole measure of model performce?**\n",
        "\n",
        "While R-squared (R²) is widely used as a measure of how well a regression model fits the data, it has several limitations when used as the sole measure of model performance. These limitations can lead to misleading conclusions, especially if R² is the only criterion for evaluating a model. Here are the key limitations:\n",
        "\n",
        "R² only tells you how well the model fits the data, but it does not provide information about the accuracy of individual predictions. A high R² may indicate that the model explains a large portion of the variance in the data, but it doesn’t guarantee that the model is making accurate predictions for specific data points.\n",
        "Example: A model might explain 95% of the variance in the data but still make poor predictions for some data points, especially if the data contains outliers or if the model is overfitting.\n",
        "\n",
        "**R² can be highly sensitive to outliers**. A single outlier in the data can disproportionately affect the R² value, making it misleading about the overall model's fit.\n",
        "Example: In a regression with a few extreme outliers, R² may appear higher than it should because the model is overfitting the outliers, which skews the overall fit."
      ]
    },
    {
      "cell_type": "markdown",
      "metadata": {
        "id": "NfkZI10qTxiA"
      },
      "source": [
        "19) **How would you interpret a large standard error for a regression coefficient?**\n",
        "\n",
        " large standard error for a regression coefficient indicates uncertainty or instability in the estimated coefficient. In other words, the coefficient is not estimated with high precision, and this can have several important implications for the interpretation of the regression model. Here’s a breakdown of what a large standard error for a regression coefficient means:\n",
        "\n",
        " The standard error (SE) of a regression coefficient reflects the variability or uncertainty of that coefficient estimate. A large standard error suggests that the coefficient estimate could vary widely if the model were fitted to different samples of data.\n",
        "\n",
        " A large standard error reduces the t-statistic, which in turn decreases the statistical significance of the coefficient. This makes it less likely that the coefficient is significantly different from zero (i.e., the independent variable has a meaningful impact on the dependent variable).\n",
        "\n",
        "large standard error can sometimes be a sign of multicollinearity in the regression model. Multicollinearity occurs when two or more independent variables are highly correlated, making it difficult to isolate the individual effect of each predictor on the dependent variable. When multicollinearity is present, it can cause large standard errors for the affected coefficients.\n",
        "\n",
        "A small sample size can also contribute to large standard errors. When the sample size is small, there is less data to estimate the coefficients reliably, leading to greater variability in the estimates and larger standard errors.\n",
        "Example: If you collect data from only 10 subjects, the standard errors of the coefficients are likely to be large compared to a model with a sample size of 1,000.\n"
      ]
    },
    {
      "cell_type": "markdown",
      "metadata": {
        "id": "m1gaabedX-vr"
      },
      "source": [
        "**20)How can hetroscadecity be identified in residual plots ,and why is it imporant to adderss it?**\n",
        "\n",
        "Heteroscedasticity refers to the condition where the variability (or spread) of the residuals (errors) in a regression model is not constant across all levels of the independent variable(s). In simpler terms, it means that the errors tend to increase or decrease as the value of the predictor variable changes.\n",
        "\n",
        "Identifying Heteroscedasticity in Residual Plots:\n",
        "\n",
        "To identify heteroscedasticity using residual plots, you would typically plot the residuals on the vertical axis and the fitted values (or independent variable) on the horizontal axis. Here's what to look for:\n",
        "\n",
        "Fan or Cone Shape: If the plot of residuals versus fitted values shows a \"fanning\" effect, where the spread of residuals increases or decreases as the fitted values change, this is a sign of heteroscedasticity. For example, if residuals are tightly clustered around zero for small values of the independent variable and then spread out as the independent variable increases, this indicates heteroscedasticity.\n",
        "\n",
        "Non-random Patterns: If there are clear patterns or trends (like a systematic increase or decrease in residual spread), it suggests that the assumption of constant variance of errors is violated. Ideally, the residuals should look randomly scattered without any apparent structure.\n",
        "\n",
        "Non-constant Variance: In a properly specified model with homoscedasticity (constant variance), the residuals should have roughly the same spread at all levels of the fitted values. A large or small spread that changes with the fitted values indicates heteroscedasticity.\n",
        "\n",
        "Importance of Addressing Heteroscedasticity:\n",
        "\n",
        "Validity of Statistical Inferences: One of the key assumptions in linear regression is that the variance of the errors is constant (homoscedasticity). If this assumption is violated, the standard errors of the coefficients can be biased, leading to unreliable confidence intervals and hypothesis tests. This means that p-values and confidence intervals might be misleading.\n",
        "\n",
        "Efficiency of Estimators: Even if the estimates of the coefficients (such as slope and intercept) remain unbiased, heteroscedasticity can lead to inefficient estimators. This means the estimators might have larger variances than necessary, making your model less precise.\n",
        "\n",
        "Misleading Predictions: If the model does not account for the varying spread of the residuals, predictions from the model might not be as accurate or robust, especially for higher or lower values of the independent variable.\n",
        "\n",
        "How to Address Heteroscedasticity:\n",
        "\n",
        "Transformations: Applying a transformation (like taking the logarithm or square root) to the dependent variable or independent variable can sometimes stabilize the variance.\n",
        "Weighted Least Squares (WLS): This is an alternative to ordinary least squares (OLS) regression that gives less weight to observations with larger variance, addressing the issue of heteroscedasticity.\n",
        "Robust Standard Errors: Another common approach is to compute robust standard errors, which adjust for heteroscedasticity and still allow for valid inference.\n",
        "Addressing heteroscedasticity ensures that the assumptions of your regression model are met, leading to more reliable and valid results.\n",
        "\n",
        "\n",
        "\n",
        "\n",
        "\n"
      ]
    },
    {
      "cell_type": "markdown",
      "metadata": {
        "id": "S7CbW6_c3BQr"
      },
      "source": [
        "21) **What does it mean if a multiple Linear Regression model has a high r2 but low adjusted r2?**\n",
        "\n",
        "A high R² suggests a good fit, but it can be misleading if the model has too many predictors.\n",
        "\n",
        "A low Adjusted R² suggests that the model may be overfitting, with too many irrelevant predictors that don't improve the model’s predictive ability once adjusted for complexity.\n",
        "To improve your model, consider simplifying it, removing unnecessary variables, and checking for overfitting through validation methods."
      ]
    },
    {
      "cell_type": "markdown",
      "metadata": {
        "id": "O8tmdIf5GDbT"
      },
      "source": [
        "22) **Why is it important to scale variables in multiple Linear Regression?**\n",
        "\n",
        "Scaling variables in multiple linear regression is important for several reasons:\n",
        "\n",
        "**Equal Weighting of Variables**: When variables have different units or magnitudes (e.g., height in centimeters and income in dollars), the regression model might disproportionately emphasize variables with larger scales. Scaling standardizes all variables to a common scale, typically between 0 and 1 or with a mean of 0 and a standard deviation of 1. This ensures each variable contributes equally to the model.\n",
        "\n",
        "**Improved Model Interpretation**: Scaling allows for better interpretation of coefficients. Without scaling, the coefficients of variables with larger magnitudes may appear more important, even if they are not. When scaled, all coefficients are on the same scale, making it easier to compare their relative importance.\n",
        "\n",
        "**Optimization and Convergence**: Many optimization algorithms used to estimate regression parameters (like gradient descent) are sensitive to the scale of the input variables. Variables with different scales can lead to slower convergence or even failure to converge properly. Scaling ensures that the optimization process works more efficiently.\n",
        "\n",
        "Regularization: If you are using regularization methods (like Lasso or Ridge regression), scaling is crucial. Regularization adds a penalty to the size of the coefficients. If variables are on different scales, the penalty can disproportionately affect variables with larger scales, leading to biased or inconsistent results. Scaling the variables ensures the regularization term penalizes all variables equally."
      ]
    },
    {
      "cell_type": "markdown",
      "metadata": {
        "id": "qNUWNxE9OyhY"
      },
      "source": [
        "23) **What is polynomial reigresson?**\n",
        "\n",
        "Polynomial regression is an extension of simple linear regression that allows for modeling nonlinear relationships between the independent variable(s) and the dependent variable. Instead of fitting a straight line (as in linear regression), polynomial regression fits a curve to the data by adding polynomial terms (like squared, cubic, etc.) to the model.\n",
        "\n",
        "**Key Concepts of Polynomial Regression:**\n",
        "\n",
        "**Nonlinear Relationships**: While linear regression assumes a straight-line relationship between the dependent and independent variables, polynomial regression can capture more complex, curved relationships. This is especially useful when data shows patterns that cannot be well-explained by a straight line.\n",
        "\n",
        "**Polynomial Terms**: Polynomial regression involves adding powers of the independent variable(s) to the model. For example, in the case of a single independent variable x, the polynomial regression model might look like:\n",
        "\n",
        "**Degree of the Polynomial**: The degree of the polynomial (e.g., quadratic for degree 2, cubic for degree 3) determines the complexity of the curve. Higher-degree polynomials can fit the data more closely, but they can also lead to overfitting.\n",
        "\n",
        "**Overfitting**: One of the risks of using polynomial regression is overfitting, especially when using high-degree polynomials. Overfitting occurs when the model becomes too complex and starts fitting the noise in the data rather than the underlying trend, which reduces its generalizability to new data."
      ]
    },
    {
      "cell_type": "markdown",
      "metadata": {
        "id": "foOSaTh5YGRi"
      },
      "source": [
        "24) **How does polynomial regression differ from linear regression?**\n",
        "\n",
        "Polynomial regression and linear regression are both types of regression models used to predict a dependent variable based on one or more independent variables. The primary difference between them lies in the form of the relationship they model and how they fit the data.\n",
        "\n",
        "**Form of the Relationship:**\n",
        "\n",
        "**Linear Regression**: Assumes a linear relationship between the independent variable(s) and the dependent variable. This means the relationship is modeled as a straight line.\n",
        "\n",
        "**Polynomial Regression:** Models a nonlinear relationship by using polynomial terms of the independent variable(s). This allows the model to fit curves, rather than just straight lines.\n",
        "\n",
        "**Model Complexity:**\n",
        "\n",
        "Linear Regression: The model is relatively simple, with just a straight line and typically one or two coefficients (intercept and slope for simple linear regression).\n",
        "Polynomial Regression: The model becomes more complex as higher-degree terms (e.g., 𝑥2, 𝑥3, etc.) are added. Higher-degree polynomials allow the model to capture more intricate patterns, but this also increases the risk of overfitting.\n",
        "\n",
        "**Flexibility:**\n",
        "\n",
        "Linear Regression: Limited to modeling linear trends. If the underlying relationship is nonlinear, linear regression may not capture the complexity of the data, leading to poor predictions.\n",
        "Polynomial Regression: More flexible, as it can fit data with curvatures or nonlinear patterns, which linear regression cannot. However, this flexibility comes at the cost of potential overfitting, especially with higher-degree polynomials.\n",
        "\n",
        "**Overfitting Risk:**\n",
        "\n",
        "Linear Regression: Less prone to overfitting since it has fewer parameters.\n",
        "Polynomial Regression: More prone to overfitting, especially with high-degree polynomials. Overfitting occurs when the model fits the noise in the data, leading to poor generalization on new data.\n",
        "\n",
        "**Example:**\n",
        "\n",
        "**Linear Regression**:If you're modeling the relationship between the number of hours studied and the test score, a straight-line model might make sense if you believe that the more hours studied, the higher the score, in a consistent way (e.g., each additional hour increases the score by a fixed amount).\n",
        "\n",
        "**Polynomial Regression**: If the relationship between hours studied and test score is more complex, such as a diminishing return (e.g., studying more than a certain point doesn't significantly improve the score), a quadratic model might better fit the data. This could capture the initial increase in scores with more study time, followed by a plateau or even a decrease after reaching a certain threshold."
      ]
    },
    {
      "cell_type": "markdown",
      "metadata": {
        "id": "0QhzuisFfWGj"
      },
      "source": [
        "25)**When is polynomial regression used?**\n",
        "\n",
        "Polynomial regression is used when the relationship between the independent and dependent variables is nonlinear, meaning it cannot be adequately captured by a straight line. It is a valuable tool when you want to model data that exhibits curves, peaks, or other more complex patterns. Below are some common scenarios where polynomial regression is typically used:\n",
        "\n",
        "**Nonlinear Relationships:**\n",
        "When the data suggests that the relationship between the independent variable(s) and the dependent variable is nonlinear, polynomial regression can be a good choice. For example:\n",
        "\n",
        "**Quadratic relationships**: Data that shows a U-shape or an inverted U-shape, such as the diminishing returns in some economic models (e.g., more advertising spending increases sales, but after a certain point, the returns begin to decrease).\n",
        "Cubic relationships: Data that shows multiple peaks or valleys, like how certain factors (e.g., temperature, pressure) may exhibit multiple local minima or maxima.\n",
        "\n",
        "**Time Series Data (with Trends):**\n",
        "Polynomial regression can be used to model trends in time series data when the trend is nonlinear. For example, if data points from a time series exhibit accelerated growth or decline over time, a quadratic or cubic term could capture the trend better than a simple linear model."
      ]
    },
    {
      "cell_type": "markdown",
      "metadata": {
        "id": "dBqhjJ3qgkKa"
      },
      "source": [
        "26) **What is general equation for polynomial regression?**\n",
        "![polynomial regression.jpg](data:image/jpeg;base64,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)\n",
        "\n",
        "y is the dependent variable (the output you're trying to predict).\n",
        "\n",
        "x is the independent variable (the input or feature).\n",
        "\n",
        "β0 is the intercept (constant term).\n",
        "\n",
        "β1,β2,…,βn are the coefficients (weights) for each term.\n",
        "\n",
        "xi represents the i-th power of the independent variable x, where\n",
        "𝑖 =1,2,3,…,𝑛\n",
        "\n",
        "ϵ is the error term, representing the difference between the observed value and the predicted value."
      ]
    },
    {
      "cell_type": "markdown",
      "metadata": {
        "id": "W_Lo1rU1rTa-"
      },
      "source": [
        "27) **can polynomial regression be applied to multiple varialbes?**\n",
        "\n",
        "Yes, polynomial regression can be applied to multiple variables. When you extend polynomial regression to multiple variables (also known as multivariable polynomial regression), the model involves not just powers of a single variable but powers and interactions of multiple variables.\n",
        "\n",
        "\n"
      ]
    },
    {
      "cell_type": "markdown",
      "metadata": {
        "id": "Wx4tJDWWsuq4"
      },
      "source": [
        "28)**What are the limitation of polynomial regression?**\n",
        "\n",
        "Polynomial regression is a powerful tool for modeling nonlinear relationships, but it does have several limitations:\n",
        "\n",
        "**Overfitting**:\n",
        "\n",
        "Polynomial regression is prone to overfitting, especially with higher-degree polynomials. As the degree of the polynomial increases, the model becomes more flexible, and while it may fit the training data perfectly, it can perform poorly on unseen data. This happens because the model starts capturing noise and fluctuations rather than the true underlying trend.\n",
        "\n",
        "**Extrapolation Issues:**\n",
        "\n",
        "Polynomial models are not great at extrapolating beyond the range of the training data. As the degree of the polynomial increases, the model can exhibit extreme behavior outside the training data's range (wild oscillations or unrealistic trends), leading to poor generalization.\n",
        "\n",
        "**Interpretability:**\n",
        "\n",
        "Polynomial regression models can become very complex, especially as the degree increases. This reduces the interpretability of the model, making it harder to understand how input variables are affecting the output. A linear model is often easier to explain and interpret.\n",
        "\n",
        "**Multicollinearity**:\n",
        "\n",
        "In polynomial regression, higher-order terms (e.g.,\n",
        "𝑥2,𝑥3) can be highly correlated with each other, leading to multicollinearity. This can make the model unstable and increase the variance of the regression coefficients, making it harder to draw reliable conclusions about the relationships between the predictors and the target variable.\n",
        "\n"
      ]
    },
    {
      "cell_type": "markdown",
      "metadata": {
        "id": "MJyQSW5gu2Yf"
      },
      "source": [
        "**29)What methods can be used to evaluate model fit when selecting the degree of a polynomial?**\n",
        "\n",
        "When selecting the degree of a polynomial for polynomial regression, it's important to evaluate how well the model fits the data and balances underfitting and overfitting. Several methods can help assess the model's fit:\n",
        "\n",
        "**1. Cross-Validation**\n",
        "\n",
        "K-fold Cross-Validation: This is one of the most reliable methods for evaluating model performance. The dataset is split into k subsets, and the model is trained on k−1 subsets while testing on the remaining subset. This process is repeated for each subset. The average of the performance metrics (e.g., RMSE, r2) is computed to assess the generalization ability of the model for different degrees of the polynomial.\n",
        "Leave-One-Out Cross-Validation (LOOCV): A special case of cross-validation where each data point is used as a test set once. This can be computationally expensive but offers a thorough evaluation.\n",
        "\n",
        "**2. Training and Test Set Split**\n",
        "\n",
        "Split your dataset into training and test sets (typically a 70/30 or 80/20 split). Train the model with different polynomial degrees on the training set, and evaluate its performance on the test set. Monitoring the error (e.g., RMSE, MAE, or 𝑅2) on the test set can help to determine the degree that offers the best generalization.\n",
        "Plotting Training and Test Errors: A common approach is to plot the training error and test error against the degree of the polynomial. A good model should have low error on the test set without overfitting (training error too low while test error increases).\n",
        "\n",
        "**3. Validation Curves**\n",
        "\n",
        "A validation curve is a plot of the model performance on the training and validation sets as a function of the polynomial degree (or any other hyperparameter). As you increase the polynomial degree, the training error typically decreases, but the test error may start increasing if the model overfits. You should look for the \"sweet spot\" where the test error is minimized."
      ]
    },
    {
      "cell_type": "markdown",
      "metadata": {
        "id": "GxqN_6p24r9J"
      },
      "source": [
        "30) **How is polynomial regression implemented in python?**\n",
        "\n",
        "Import the required libraries\n",
        "You will need numpy for array manipulation, matplotlib for visualization, and scikit-learn for regression.\n",
        "\n",
        "Prepare the data\n",
        "Polynomial regression is an extension of linear regression, so the data preparation process is similar. You can use a dataset that you want to fit the polynomial model to.\n",
        "\n",
        "Create Polynomial Features\n",
        "Use PolynomialFeatures from scikit-learn to transform your features (x-values) into polynomial features (i.e., adding powers of the features).\n",
        "\n",
        "Fit the model\n",
        "Use a linear regression model to fit the transformed polynomial features.\n",
        "\n",
        "Evaluate and visualize the model\n",
        "Check the performance of your model and visualize the results to see how well the polynomial fits the data."
      ]
    },
    {
      "cell_type": "code",
      "execution_count": 1,
      "metadata": {
        "id": "v5yrsUf665-E"
      },
      "outputs": [],
      "source": [
        "import numpy as np\n",
        "import pandas as pd\n",
        "import matplotlib.pyplot as plt\n",
        "from sklearn.linear_model import LinearRegression\n",
        "from sklearn.preprocessing import PolynomialFeatures\n",
        "from sklearn.model_selection import train_test_split"
      ]
    },
    {
      "cell_type": "code",
      "execution_count": 2,
      "metadata": {
        "id": "XHpMhnGK8dhw"
      },
      "outputs": [],
      "source": [
        "np.random.seed(40)\n",
        "x = np.random.rand(100,1)*10\n",
        "y = 2 * x**2 + 3 * x + 5 + np.random.randn(100, 1) * 10"
      ]
    },
    {
      "cell_type": "code",
      "execution_count": 3,
      "metadata": {
        "id": "1Uqm1tLp9UmA"
      },
      "outputs": [],
      "source": [
        "degree = 3\n",
        "poly = PolynomialFeatures(degree)\n"
      ]
    },
    {
      "cell_type": "code",
      "execution_count": 4,
      "metadata": {
        "id": "3veD0fMm9e9t"
      },
      "outputs": [],
      "source": [
        "x_poly = poly.fit_transform(x)"
      ]
    },
    {
      "cell_type": "code",
      "execution_count": 5,
      "metadata": {
        "id": "-WHQg6Bx9rd-"
      },
      "outputs": [],
      "source": [
        "model = LinearRegression()"
      ]
    },
    {
      "cell_type": "code",
      "execution_count": 6,
      "metadata": {
        "colab": {
          "base_uri": "https://localhost:8080/",
          "height": 80
        },
        "id": "68I8Q6tw94Ft",
        "outputId": "03ef2578-3ac0-462d-d132-ef9a6b8cd314"
      },
      "outputs": [
        {
          "data": {
            "text/html": [
              "<style>#sk-container-id-1 {color: black;}#sk-container-id-1 pre{padding: 0;}#sk-container-id-1 div.sk-toggleable {background-color: white;}#sk-container-id-1 label.sk-toggleable__label {cursor: pointer;display: block;width: 100%;margin-bottom: 0;padding: 0.3em;box-sizing: border-box;text-align: center;}#sk-container-id-1 label.sk-toggleable__label-arrow:before {content: \"▸\";float: left;margin-right: 0.25em;color: #696969;}#sk-container-id-1 label.sk-toggleable__label-arrow:hover:before {color: black;}#sk-container-id-1 div.sk-estimator:hover label.sk-toggleable__label-arrow:before {color: black;}#sk-container-id-1 div.sk-toggleable__content {max-height: 0;max-width: 0;overflow: hidden;text-align: left;background-color: #f0f8ff;}#sk-container-id-1 div.sk-toggleable__content pre {margin: 0.2em;color: black;border-radius: 0.25em;background-color: #f0f8ff;}#sk-container-id-1 input.sk-toggleable__control:checked~div.sk-toggleable__content {max-height: 200px;max-width: 100%;overflow: auto;}#sk-container-id-1 input.sk-toggleable__control:checked~label.sk-toggleable__label-arrow:before {content: \"▾\";}#sk-container-id-1 div.sk-estimator input.sk-toggleable__control:checked~label.sk-toggleable__label {background-color: #d4ebff;}#sk-container-id-1 div.sk-label input.sk-toggleable__control:checked~label.sk-toggleable__label {background-color: #d4ebff;}#sk-container-id-1 input.sk-hidden--visually {border: 0;clip: rect(1px 1px 1px 1px);clip: rect(1px, 1px, 1px, 1px);height: 1px;margin: -1px;overflow: hidden;padding: 0;position: absolute;width: 1px;}#sk-container-id-1 div.sk-estimator {font-family: monospace;background-color: #f0f8ff;border: 1px dotted black;border-radius: 0.25em;box-sizing: border-box;margin-bottom: 0.5em;}#sk-container-id-1 div.sk-estimator:hover {background-color: #d4ebff;}#sk-container-id-1 div.sk-parallel-item::after {content: \"\";width: 100%;border-bottom: 1px solid gray;flex-grow: 1;}#sk-container-id-1 div.sk-label:hover label.sk-toggleable__label {background-color: #d4ebff;}#sk-container-id-1 div.sk-serial::before {content: \"\";position: absolute;border-left: 1px solid gray;box-sizing: border-box;top: 0;bottom: 0;left: 50%;z-index: 0;}#sk-container-id-1 div.sk-serial {display: flex;flex-direction: column;align-items: center;background-color: white;padding-right: 0.2em;padding-left: 0.2em;position: relative;}#sk-container-id-1 div.sk-item {position: relative;z-index: 1;}#sk-container-id-1 div.sk-parallel {display: flex;align-items: stretch;justify-content: center;background-color: white;position: relative;}#sk-container-id-1 div.sk-item::before, #sk-container-id-1 div.sk-parallel-item::before {content: \"\";position: absolute;border-left: 1px solid gray;box-sizing: border-box;top: 0;bottom: 0;left: 50%;z-index: -1;}#sk-container-id-1 div.sk-parallel-item {display: flex;flex-direction: column;z-index: 1;position: relative;background-color: white;}#sk-container-id-1 div.sk-parallel-item:first-child::after {align-self: flex-end;width: 50%;}#sk-container-id-1 div.sk-parallel-item:last-child::after {align-self: flex-start;width: 50%;}#sk-container-id-1 div.sk-parallel-item:only-child::after {width: 0;}#sk-container-id-1 div.sk-dashed-wrapped {border: 1px dashed gray;margin: 0 0.4em 0.5em 0.4em;box-sizing: border-box;padding-bottom: 0.4em;background-color: white;}#sk-container-id-1 div.sk-label label {font-family: monospace;font-weight: bold;display: inline-block;line-height: 1.2em;}#sk-container-id-1 div.sk-label-container {text-align: center;}#sk-container-id-1 div.sk-container {/* jupyter's `normalize.less` sets `[hidden] { display: none; }` but bootstrap.min.css set `[hidden] { display: none !important; }` so we also need the `!important` here to be able to override the default hidden behavior on the sphinx rendered scikit-learn.org. See: https://github.com/scikit-learn/scikit-learn/issues/21755 */display: inline-block !important;position: relative;}#sk-container-id-1 div.sk-text-repr-fallback {display: none;}</style><div id=\"sk-container-id-1\" class=\"sk-top-container\"><div class=\"sk-text-repr-fallback\"><pre>LinearRegression()</pre><b>In a Jupyter environment, please rerun this cell to show the HTML representation or trust the notebook. <br />On GitHub, the HTML representation is unable to render, please try loading this page with nbviewer.org.</b></div><div class=\"sk-container\" hidden><div class=\"sk-item\"><div class=\"sk-estimator sk-toggleable\"><input class=\"sk-toggleable__control sk-hidden--visually\" id=\"sk-estimator-id-1\" type=\"checkbox\" checked><label for=\"sk-estimator-id-1\" class=\"sk-toggleable__label sk-toggleable__label-arrow\">LinearRegression</label><div class=\"sk-toggleable__content\"><pre>LinearRegression()</pre></div></div></div></div></div>"
            ],
            "text/plain": [
              "LinearRegression()"
            ]
          },
          "execution_count": 6,
          "metadata": {},
          "output_type": "execute_result"
        }
      ],
      "source": [
        "model.fit(x_poly,y)"
      ]
    },
    {
      "cell_type": "code",
      "execution_count": 7,
      "metadata": {
        "id": "Sz7MWECp-DfT"
      },
      "outputs": [],
      "source": [
        "y_pred = model.predict(x_poly)"
      ]
    },
    {
      "cell_type": "code",
      "execution_count": 8,
      "metadata": {
        "colab": {
          "base_uri": "https://localhost:8080/",
          "height": 472
        },
        "id": "KoVLaOeZ-yiM",
        "outputId": "f2f4c4b2-346b-477a-e90b-1e4910837222"
      },
      "outputs": [
        {
          "data": {
            "image/png": "[encoded data removed]",
            "text/plain": [
              "<Figure size 640x480 with 1 Axes>"
            ]
          },
          "metadata": {},
          "output_type": "display_data"
        }
      ],
      "source": [
        "plt.scatter(x, y, color='blue', label='Actual Data')\n",
        "plt.plot(x, y_pred, color='red', label='Polynomial Regression Fit')\n",
        "plt.title(f\"Polynomial Regression (Degree {degree})\")\n",
        "plt.xlabel(\"X\")\n",
        "plt.ylabel(\"y\")\n",
        "plt.legend()\n",
        "plt.show()"
      ]
    }
  ],
  "metadata": {
    "colab": {
      "provenance": []
    },
    "kernelspec": {
      "display_name": "Python 3",
      "name": "python3"
    },
    "language_info": {
      "codemirror_mode": {
        "name": "ipython",
        "version": 3
      },
      "file_extension": ".py",
      "mimetype": "text/x-python",
      "name": "python",
      "nbconvert_exporter": "python",
      "pygments_lexer": "ipython3",
      "version": "3.12.1"
    }
  },
  "nbformat": 4,
  "nbformat_minor": 0
}
