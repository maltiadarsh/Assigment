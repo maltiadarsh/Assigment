{
  "cells": [
    {
      "cell_type": "markdown",
      "metadata": {},
      "source": [
        "<h2 style=\"text-align: center;\">Data Structures Assignment</h2>\n"
      ]
    },
    {
      "cell_type": "markdown",
      "metadata": {},
      "source": [
        "### Q1 Write a code to reverse a string."
      ]
    },
    {
      "cell_type": "code",
      "execution_count": 1,
      "metadata": {
        "colab": {
          "base_uri": "https://localhost:8080/"
        },
        "id": "lmDRfxJPisqI",
        "outputId": "d4b09c99-591d-4cd4-f089-69aacf2382e0"
      },
      "outputs": [
        {
          "name": "stdout",
          "output_type": "stream",
          "text": [
            "Reverse of  adarsh  is :  hsrada\n"
          ]
        }
      ],
      "source": [
        "str = input(\"Enter a String : \")\n",
        "str_rev = str[::-1]\n",
        "print(\"Reverse of \", str, \" is : \", str_rev)"
      ]
    },
    {
      "cell_type": "markdown",
      "metadata": {},
      "source": [
        "### Q2. Write a code to count the number of vowels in a string."
      ]
    },
    {
      "cell_type": "code",
      "execution_count": 2,
      "metadata": {
        "colab": {
          "base_uri": "https://localhost:8080/"
        },
        "id": "-KDuczyri-QE",
        "outputId": "a9730918-a01e-44a8-80c7-62de7d423e43"
      },
      "outputs": [
        {
          "name": "stdout",
          "output_type": "stream",
          "text": [
            "No of vowels in adarsh  is :  2\n"
          ]
        }
      ],
      "source": [
        "str = input(\"Entr a String : \")\n",
        "vowels = ['a' , 'e' , 'i' , 'o', 'u', 'A', 'E', 'I', 'O', 'U']\n",
        "count = 0\n",
        "for i in str:\n",
        "  if(i in vowels):\n",
        "    count += 1\n",
        "print(\"No of vowels in\",str,\" is : \", count)"
      ]
    },
    {
      "cell_type": "markdown",
      "metadata": {},
      "source": [
        "### Q3. Write a code to check if a given string is a palindrome or not."
      ]
    },
    {
      "cell_type": "code",
      "execution_count": 4,
      "metadata": {
        "colab": {
          "base_uri": "https://localhost:8080/"
        },
        "id": "TkLoTiPEm9t3",
        "outputId": "7a37395f-4c67-42df-c6a5-5fc6a96fa582"
      },
      "outputs": [
        {
          "name": "stdout",
          "output_type": "stream",
          "text": [
            "malayam is not palindrome.\n"
          ]
        }
      ],
      "source": [
        "str = input(\"Enter a string : \")\n",
        "str_rev = str[::-1]\n",
        "if str == str_rev:\n",
        "  print(str,\"is palindrome.\", sep=' ')\n",
        "else:\n",
        "  print(str,\"is not palindrome.\" ,sep=' ')"
      ]
    },
    {
      "cell_type": "markdown",
      "metadata": {},
      "source": [
        "### Q4. Write a code to check if two given strings are anagrams of each other."
      ]
    },
    {
      "cell_type": "code",
      "execution_count": 5,
      "metadata": {
        "colab": {
          "base_uri": "https://localhost:8080/"
        },
        "id": "QWWwJL21ncv7",
        "outputId": "6b8380bd-c6d8-4751-ae0a-c9deb7d1b97e"
      },
      "outputs": [
        {
          "name": "stdout",
          "output_type": "stream",
          "text": [
            "worth and throw are anagrams of each other.\n"
          ]
        }
      ],
      "source": [
        "\n",
        "str1 = input(\"Enter String 1 : \")\n",
        "str2 = input(\"Enter String 2 : \")\n",
        "list_str1 = []\n",
        "list_str2 = []\n",
        "for i in str1.lower():\n",
        "  list_str1.append(i)\n",
        "for j in str2.lower():\n",
        "  list_str2.append(j)\n",
        "list_str1.sort()\n",
        "list_str2.sort()\n",
        "if list_str1 == list_str2:\n",
        "  print(str1,\"and\", str2,\"are anagrams of each other.\")\n",
        "else:\n",
        "  print(str1,\"and\", str2,\"are not anagrams of each other.\")"
      ]
    },
    {
      "cell_type": "markdown",
      "metadata": {},
      "source": [
        "### Q5. Write a code to find all occurrences of a given substring within another string."
      ]
    },
    {
      "cell_type": "code",
      "execution_count": 1,
      "metadata": {
        "colab": {
          "base_uri": "https://localhost:8080/"
        },
        "id": "eggWu4m6p4vB",
        "outputId": "2271957b-ff61-4cca-9d51-ff747caa0ad4"
      },
      "outputs": [
        {
          "name": "stdout",
          "output_type": "stream",
          "text": [
            "Occurance of  ada at indexes : [0]\n",
            "No of occurance of the sub string is :  1\n"
          ]
        }
      ],
      "source": [
        "\n",
        "str = input(\"Enter a String : \")\n",
        "sub_str = input(\"Enter sub String : \")\n",
        "count = []\n",
        "index = 0\n",
        "while True:\n",
        "    index = str.find(sub_str,index)\n",
        "    if index == -1:\n",
        "        break\n",
        "    count.append(index)\n",
        "    index += 1\n",
        "print(\"Occurance of \",sub_str,\"at indexes :\",sep=\" \",end=' ')\n",
        "print(count)\n",
        "print(\"No of occurance of the sub string is : \", len(count))"
      ]
    },
    {
      "cell_type": "markdown",
      "metadata": {},
      "source": [
        "### Q6. Write a code to perform basic string compression using the counts of repeated characters."
      ]
    },
    {
      "cell_type": "code",
      "execution_count": 2,
      "metadata": {
        "colab": {
          "base_uri": "https://localhost:8080/"
        },
        "id": "VC4AFAE05wml",
        "outputId": "e262b0d8-22ca-45a1-df55-dbf2b8bc6c90"
      },
      "outputs": [
        {
          "name": "stdout",
          "output_type": "stream",
          "text": [
            "Compressed String :  a2drsh\n"
          ]
        }
      ],
      "source": [
        "\n",
        "str1 = input(\"Enter String : \")\n",
        "replace_str = \"\"\n",
        "i=0\n",
        "while i < len(str1):\n",
        "    count = 1\n",
        "    for j in range(i+1,len(str1)):\n",
        "        if str1[i] == str1[j]:\n",
        "            count += 1\n",
        "    if count > 1:\n",
        "        replace_str += str1[i] + f\"{count}\"\n",
        "    else:\n",
        "        replace_str += str1[i]\n",
        "    str1 = str1.replace(str1[i], \"\", count)\n",
        "    i=0\n",
        "print(\"Compressed String : \",replace_str)"
      ]
    },
    {
      "cell_type": "markdown",
      "metadata": {},
      "source": [
        "### Q7.Write a code to determine if a string has all unique characters."
      ]
    },
    {
      "cell_type": "code",
      "execution_count": 4,
      "metadata": {
        "colab": {
          "base_uri": "https://localhost:8080/"
        },
        "id": "tutZh5eW758b",
        "outputId": "4afd84f6-5af6-4119-d66b-1bb6102c7f6b"
      },
      "outputs": [
        {
          "name": "stdout",
          "output_type": "stream",
          "text": [
            "String -> ( bat ) has all unique characters.\n"
          ]
        }
      ],
      "source": [
        "\n",
        "str_input = input(\"Enter a String : \")\n",
        "str1 = str_input.lower()\n",
        "flag = False\n",
        "for i in range(0,len(str1)):\n",
        "    for j in range(i+1,len(str1)):\n",
        "        if(str1[i] == str1[j]):\n",
        "            print(\"String -> (\",str_input,\") has duplicate characters.\")\n",
        "            flag = True\n",
        "            break\n",
        "    if flag:\n",
        "        break\n",
        "if not flag:\n",
        "    print(\"String -> (\",str_input,\") has all unique characters.\")\n"
      ]
    },
    {
      "cell_type": "markdown",
      "metadata": {},
      "source": [
        "### Q8. Write a code to convert a given string to uppercase or lowercase."
      ]
    },
    {
      "cell_type": "code",
      "execution_count": null,
      "metadata": {
        "colab": {
          "base_uri": "https://localhost:8080/"
        },
        "id": "BP7O4QAcFd3X",
        "outputId": "9ba43d69-b34e-4e4d-ffb8-b69ef65fa6ca"
      },
      "outputs": [
        {
          "name": "stdout",
          "output_type": "stream",
          "text": [
            "Uppercase :  ADARSH\n"
          ]
        }
      ],
      "source": [
        "\n",
        "string_input = input('Enter a String : ')\n",
        "input_u_l = input(\"Enter 'U' for uppercase or 'L' for lower case : \")\n",
        "if input_u_l == 'U' or 'u':\n",
        "    print(\"Uppercase : \", string_input.upper())\n",
        "elif input_u_l == 'L' or 'l':\n",
        "    print(\"Lowercase : \", string_input.lower())\n",
        "else:\n",
        "    print(\"Wrong input!\")"
      ]
    },
    {
      "cell_type": "markdown",
      "metadata": {},
      "source": [
        "### Q9.Write a code to count the number of words in a string."
      ]
    },
    {
      "cell_type": "code",
      "execution_count": 7,
      "metadata": {
        "colab": {
          "base_uri": "https://localhost:8080/"
        },
        "id": "Ekopuld2nSRT",
        "outputId": "5c789067-e46d-49d3-962c-082b27737c27"
      },
      "outputs": [
        {
          "name": "stdout",
          "output_type": "stream",
          "text": [
            "No of words in [ ram is a good boy ] is :  5\n"
          ]
        }
      ],
      "source": [
        "str_input = input(\"Enter a String : \")\n",
        "words = str_input.split()\n",
        "print(\"No of words in [\",str_input,\"] is : \",len(words))\n"
      ]
    },
    {
      "cell_type": "markdown",
      "metadata": {},
      "source": [
        "### Q10.Write a code to concatenate two strings without using the + operator."
      ]
    },
    {
      "cell_type": "code",
      "execution_count": 8,
      "metadata": {
        "colab": {
          "base_uri": "https://localhost:8080/"
        },
        "id": "rO32Uom9qtlH",
        "outputId": "97c6b794-a259-4e60-b3ac-853b3de7a9f0"
      },
      "outputs": [
        {
          "name": "stdout",
          "output_type": "stream",
          "text": [
            "adarshsrivastava\n"
          ]
        }
      ],
      "source": [
        "\n",
        "str1 = 'adarsh'\n",
        "str2 = 'srivastava'\n",
        "str3 = f\"{str1}{str2}\"\n",
        "print(str3)"
      ]
    },
    {
      "cell_type": "markdown",
      "metadata": {},
      "source": [
        "### Q11. Write a code to remove all occurrences of a specific element from a list."
      ]
    },
    {
      "cell_type": "code",
      "execution_count": 9,
      "metadata": {
        "colab": {
          "base_uri": "https://localhost:8080/"
        },
        "id": "PHfvbHVZ-dQX",
        "outputId": "dad87e39-84d2-438a-8170-626a10c32441"
      },
      "outputs": [
        {
          "name": "stdout",
          "output_type": "stream",
          "text": [
            "[1, 2, 3, 4]\n"
          ]
        }
      ],
      "source": [
        "list_cont = [1,2,1,2,1,2,3,4,4]\n",
        "unique_list = []\n",
        "for item in list_cont:\n",
        "    if item not in unique_list:\n",
        "        unique_list.append(item)\n",
        "print(unique_list)\n"
      ]
    },
    {
      "cell_type": "markdown",
      "metadata": {},
      "source": [
        "### Q12.Implement a code to find the second largest number in a given list of integers."
      ]
    },
    {
      "cell_type": "code",
      "execution_count": 10,
      "metadata": {
        "colab": {
          "base_uri": "https://localhost:8080/"
        },
        "id": "np4nOBoV_vBx",
        "outputId": "b8bcfdc2-c6f0-424c-dbc2-6fd71a8bf690"
      },
      "outputs": [
        {
          "name": "stdout",
          "output_type": "stream",
          "text": [
            "Second largest :  6\n"
          ]
        }
      ],
      "source": [
        "given = [1,2,3,4,5,6,7]\n",
        "max = given[0]\n",
        "second_max = given[0]\n",
        "for item in given:\n",
        "    if item > max:\n",
        "        second_max = max\n",
        "        max = item\n",
        "    elif item > second_max and item < max:\n",
        "        second_max = item\n",
        "print(\"Second largest : \",second_max)\n"
      ]
    },
    {
      "cell_type": "markdown",
      "metadata": {},
      "source": [
        "### Q13.Create a code to count the occurrences of each element in a list and return a dictionary with elements as keys and their counts as values"
      ]
    },
    {
      "cell_type": "code",
      "execution_count": 12,
      "metadata": {
        "colab": {
          "base_uri": "https://localhost:8080/"
        },
        "id": "HpHpQJexBWpv",
        "outputId": "d4408ce9-aa7f-4bfa-b82b-a18aefef20d2"
      },
      "outputs": [
        {
          "name": "stdout",
          "output_type": "stream",
          "text": [
            "The dictionary :  {25: 2, 32: 1, 56: 2}\n"
          ]
        }
      ],
      "source": [
        "#input main list\n",
        "list1 = []\n",
        "i=0\n",
        "length = int(input(\"Enter length of list : \"))\n",
        "while i < length:\n",
        "    element = int(input(f\"Enter {i} index list element : \"))\n",
        "    list1.append(element)\n",
        "    i += 1\n",
        "\n",
        "#finding unique elements\n",
        "list2 = []\n",
        "list_unique = []\n",
        "for item in list1:\n",
        "    if item not in list_unique:\n",
        "        list_unique.append(item)\n",
        "\n",
        "#finding occuracne of elements of main list and storing them in a new list\n",
        "list_occurance = []\n",
        "for item in list_unique:\n",
        "    list_occurance.append(list1.count(item))\n",
        "#make dictionary by mixing two lits\n",
        "dict_mix_lists = {element:occuracne for element,occuracne in zip(list_unique,list_occurance)}\n",
        "#-------------------------\n",
        "print(\"The dictionary : \",dict_mix_lists)"
      ]
    },
    {
      "cell_type": "markdown",
      "metadata": {},
      "source": [
        "### Q14.Write a code to reverse a list in-place without using any built-in reverse functions"
      ]
    },
    {
      "cell_type": "code",
      "execution_count": 13,
      "metadata": {
        "colab": {
          "base_uri": "https://localhost:8080/"
        },
        "id": "3-2M1w8SGj7p",
        "outputId": "b1d1271d-5001-46c9-cb91-4617c0b6c780"
      },
      "outputs": [
        {
          "name": "stdout",
          "output_type": "stream",
          "text": [
            "Reversed list :  [5, 4, 3, 2, 1]\n"
          ]
        }
      ],
      "source": [
        "list1 = []\n",
        "i=0\n",
        "length = int(input(\"Enter length of list : \"))\n",
        "while i < length:\n",
        "    element = int(input(f\"Enter {i} index list element : \"))\n",
        "    list1.append(element)\n",
        "    i += 1\n",
        "list_reverse = list1[::-1]\n",
        "print(\"Reversed list : \",list_reverse)\n"
      ]
    },
    {
      "cell_type": "markdown",
      "metadata": {},
      "source": [
        "### Q15. Implement a code to find and remove duplicates from a list while preserving the original order of elements."
      ]
    },
    {
      "cell_type": "code",
      "execution_count": 14,
      "metadata": {
        "colab": {
          "base_uri": "https://localhost:8080/"
        },
        "id": "PfGPSVGfTYkf",
        "outputId": "1223b151-44c6-482d-91d0-15c96bb9aa3c"
      },
      "outputs": [
        {
          "name": "stdout",
          "output_type": "stream",
          "text": [
            "Unique list :  [1, 2, 3]\n",
            "Duplicate element(s) : :1 2 "
          ]
        }
      ],
      "source": [
        "list1 = []\n",
        "i=0\n",
        "length = int(input(\"Enter length of list : \"))\n",
        "while i < length:\n",
        "    element = int(input(f\"Enter {i} index list element : \"))\n",
        "    list1.append(element)\n",
        "    i += 1\n",
        "list_unique = list(set(list1))\n",
        "print(\"Unique list : \",list_unique)\n",
        "print(\"Duplicate element(s) : \",end=':')\n",
        "for item in list_unique:\n",
        "    counter = 1\n",
        "    counter = list1.count(item)\n",
        "    if counter > 1:\n",
        "        print(item,end=\" \")"
      ]
    },
    {
      "cell_type": "markdown",
      "metadata": {},
      "source": [
        "### Q16.Create a code to check if a given list is sorted (either in ascending or descending order) or not."
      ]
    },
    {
      "cell_type": "code",
      "execution_count": 16,
      "metadata": {
        "colab": {
          "base_uri": "https://localhost:8080/"
        },
        "id": "TdgS0urdZFv5",
        "outputId": "af7cbce7-6f33-41d0-c703-29a82d3ba728"
      },
      "outputs": [
        {
          "name": "stdout",
          "output_type": "stream",
          "text": [
            "List is sorted.\n"
          ]
        }
      ],
      "source": [
        "list1 = []\n",
        "i=0\n",
        "length = int(input(\"Enter length of list : \"))\n",
        "while i < length:\n",
        "    element = int(input(f\"Enter {i} index list element : \"))\n",
        "    list1.append(element)\n",
        "    i += 1\n",
        "list_sorted_ascending = sorted(list1)\n",
        "list_sorted_descending = sorted(list1,reverse=True)\n",
        "# print(\"Sorted list : \",list_sorted_ascending)\n",
        "# print(\"Sorted list : \",list_sorted_descending)\n",
        "if list1 == list_sorted_ascending or list1 == list_sorted_descending:\n",
        "    print(\"List is sorted.\")\n",
        "else:\n",
        "    print(\"List is not sorted.\")"
      ]
    },
    {
      "cell_type": "markdown",
      "metadata": {},
      "source": [
        "### Q17.Write a code to merge two sorted lists into a single sorted list"
      ]
    },
    {
      "cell_type": "code",
      "execution_count": 20,
      "metadata": {
        "colab": {
          "base_uri": "https://localhost:8080/"
        },
        "id": "qkoDqktKe_Qe",
        "outputId": "dcabaf84-b2ca-429a-b24b-6b8e7f21347b"
      },
      "outputs": [
        {
          "name": "stdout",
          "output_type": "stream",
          "text": [
            "Merged sorted list :  [1, 2, 3, 4, 5, 5, 5, 5, 5, 5, 5]\n"
          ]
        }
      ],
      "source": [
        "\n",
        "list1 = []\n",
        "i=0\n",
        "length1 = int(input(\"Enter length of list 1 : \"))\n",
        "while i < length1:\n",
        "    element1 = int(input(f\"Enter {i} index list element : \"))\n",
        "    list1.append(element1)\n",
        "    i += 1\n",
        "list2 = []\n",
        "j=0\n",
        "length2 = int(input(\"Enter length of list 2 : \"))\n",
        "while j < length2:\n",
        "    element2 = int(input(f\"Enter {j} index list element : \"))\n",
        "    list2.append(element2)\n",
        "    j += 1\n",
        "list_merged_sorted = sorted(list1 + list2)\n",
        "print(\"Merged sorted list : \",list_merged_sorted)"
      ]
    },
    {
      "cell_type": "markdown",
      "metadata": {},
      "source": [
        "### Q18. Implement a code to find the intersection of two given lists."
      ]
    },
    {
      "cell_type": "code",
      "execution_count": 19,
      "metadata": {
        "colab": {
          "base_uri": "https://localhost:8080/"
        },
        "id": "pRm0UEcC_vOJ",
        "outputId": "a5970188-7edf-4b48-d2f4-fbd16f780fe2"
      },
      "outputs": [
        {
          "name": "stdout",
          "output_type": "stream",
          "text": [
            "Intersection :  [3, 4, 5, 6]\n"
          ]
        }
      ],
      "source": [
        "list1 = [1,2,3,4,5,6]\n",
        "list2 = [9,8,7,6,5,4,3]\n",
        "list_intersection = list(set(list1) & set(list2))\n",
        "print(\"Intersection : \",list_intersection)"
      ]
    },
    {
      "cell_type": "markdown",
      "metadata": {},
      "source": [
        "### Q19.Create a code to find the union of two lists without duplicates."
      ]
    },
    {
      "cell_type": "code",
      "execution_count": 17,
      "metadata": {
        "colab": {
          "base_uri": "https://localhost:8080/"
        },
        "id": "pXEldh1tA7GP",
        "outputId": "a03a4265-791d-451c-e541-469138a257f3"
      },
      "outputs": [
        {
          "name": "stdout",
          "output_type": "stream",
          "text": [
            "Intersection :  [1, 2, 3, 4, 5, 6, 7, 8, 9]\n"
          ]
        }
      ],
      "source": [
        "list1 = [1,2,3,4,5,6]\n",
        "list2 = [9,8,7,6,5,4,3]\n",
        "list_intersection = list(set(list1) | set(list2))\n",
        "print(\"Intersection : \",list_intersection)"
      ]
    },
    {
      "cell_type": "markdown",
      "metadata": {},
      "source": [
        "### Q20. Write a code to shuffle a given list randomly without using any built-in shuffle functions."
      ]
    },
    {
      "cell_type": "code",
      "execution_count": 18,
      "metadata": {
        "colab": {
          "base_uri": "https://localhost:8080/"
        },
        "id": "pm1lHramBRij",
        "outputId": "b6b5cd4b-e3ab-43ff-910b-04f275f7fa46"
      },
      "outputs": [
        {
          "name": "stdout",
          "output_type": "stream",
          "text": [
            "Shuffled list :  [3, 2, 5, 6, 1]\n"
          ]
        }
      ],
      "source": [
        "import random\n",
        "list1 = []\n",
        "i=0\n",
        "length1 = int(input(\"Enter length of list 1 : \"))\n",
        "while i < length1:\n",
        "    element1 = int(input(f\"Enter {i} index list element : \"))\n",
        "    list1.append(element1)\n",
        "    i += 1\n",
        "for i in range(0,len(list1)):\n",
        "    j = random.randint(0,i)\n",
        "    list1[i-1],list1[j] = list1[j],list1[i-1]\n",
        "print(\"Shuffled list : \",list1)"
      ]
    },
    {
      "cell_type": "markdown",
      "metadata": {},
      "source": [
        "### Q21.Write a code that takes two tuples as input and returns a new tuple containing elements that are common to both input tuples."
      ]
    },
    {
      "cell_type": "code",
      "execution_count": 38,
      "metadata": {
        "colab": {
          "base_uri": "https://localhost:8080/"
        },
        "id": "kG9P9UHVFE38",
        "outputId": "2c71fc00-d042-4dad-beb1-046dd9c8ed9a"
      },
      "outputs": [
        {
          "name": "stdout",
          "output_type": "stream",
          "text": [
            "(1, 2, 3, 4, 5, 6, 7, 8, 9)\n",
            "(23, 5, 2, 4, 1, 6)\n",
            "Common elements tuple :  (1, 2, 4, 5, 6)\n"
          ]
        }
      ],
      "source": [
        "str1 = input(\"Enter numbers (separated by space) for tuple 1 : \")\n",
        "tuple1 = tuple(int(x) for x in str1.split())\n",
        "print(tuple1)\n",
        "str2 = input(\"Enter numbers (separated by space) for tuple 2 : \")\n",
        "tuple2 = tuple(int(y) for y in str2.split())\n",
        "print(tuple2)\n",
        "print(\"Common elements tuple : \",tuple(set(tuple1) & set(tuple2)))"
      ]
    },
    {
      "cell_type": "markdown",
      "metadata": {},
      "source": [
        "### Q22. Create a code that prompts the user to enter two sets of integers separated by commas. Then, print the intersection of these two sets"
      ]
    },
    {
      "cell_type": "code",
      "execution_count": 39,
      "metadata": {
        "colab": {
          "base_uri": "https://localhost:8080/"
        },
        "id": "dStSCrk9Rb8I",
        "outputId": "1c1f5a77-5e2b-4355-bcad-3b918a0bea5e"
      },
      "outputs": [
        {
          "name": "stdout",
          "output_type": "stream",
          "text": [
            "{1, 2, 3, 4, 5, 6, 7, 8, 9}\n",
            "{1, 2, 3, 4, 5, 6}\n",
            "Intersection of sets :  {1, 2, 3, 4, 5, 6}\n"
          ]
        }
      ],
      "source": [
        "str1 = input(\"Enter numbers (separated by space) for set 1 : \")\n",
        "set1 = set(int(x) for x in str1.split())\n",
        "print(set1)\n",
        "str2 = input(\"Enter numbers (separated by space) for set 2 : \")\n",
        "set2 = set(int(y) for y in str2.split())\n",
        "print(set2)\n",
        "print(\"Intersection of sets : \",set1 & set2)"
      ]
    },
    {
      "cell_type": "markdown",
      "metadata": {},
      "source": [
        "### Q23.Write a code to concatenate two tuples. The function should take two tuples as input and return a new tuple containing elements from both input tuples."
      ]
    },
    {
      "cell_type": "code",
      "execution_count": 40,
      "metadata": {
        "colab": {
          "base_uri": "https://localhost:8080/"
        },
        "id": "AZo_lm9bFhhR",
        "outputId": "8eeb90e0-9786-4988-a4dc-6b1446590382"
      },
      "outputs": [
        {
          "name": "stdout",
          "output_type": "stream",
          "text": [
            "(1, 2, 3, 4, 5)\n",
            "(1, 2, 3, 4, 5)\n",
            "Concatenated Tuple :  (1, 2, 3, 4, 5, 1, 2, 3, 4, 5)\n"
          ]
        }
      ],
      "source": [
        "def tuple_concate(tuple1,tuple2):\n",
        "    return tuple1 + tuple2\n",
        "str1 = input(\"Enter numbers (separated by space) for tuple 1 : \")\n",
        "tuple1 = tuple(int(x) for x in str1.split())\n",
        "print(tuple1)\n",
        "str2 = input(\"Enter numbers (separated by space) for tuple 2 : \")\n",
        "tuple2 = tuple(int(y) for y in str2.split())\n",
        "print(tuple2)\n",
        "print(\"Concatenated Tuple : \",tuple_concate(tuple1,tuple2))"
      ]
    },
    {
      "cell_type": "markdown",
      "metadata": {},
      "source": [
        "### Q24. Develop a code that prompts the user to input two sets of strings. Then, print the elements that are present in the first set but not in the second set."
      ]
    },
    {
      "cell_type": "code",
      "execution_count": 41,
      "metadata": {
        "colab": {
          "base_uri": "https://localhost:8080/"
        },
        "id": "h1fGnOZ_98O3",
        "outputId": "4aede3c5-b64f-41f6-a8ee-f6c4cf5d0138"
      },
      "outputs": [
        {
          "name": "stdout",
          "output_type": "stream",
          "text": [
            "Elements  present in set 1 but not in set 2 are :  {'adarsh'}\n"
          ]
        }
      ],
      "source": [
        "set1 = set()\n",
        "set2 = set()\n",
        "set3 = set()\n",
        "length1 = int(input(\"Enter how many elements (String) you need in Set 1 : \"))\n",
        "for i in  range(length1):\n",
        "    element1 = input(f\"Enter {i} index set element : \")\n",
        "    set1.add(element1)\n",
        "length2 = int(input(\"Enter how many elements (String) you need in Set 2 : \"))\n",
        "for j in  range(length2):\n",
        "    element2 = input(f\"Enter {j} index set element : \")\n",
        "    set2.add(element2)\n",
        "for element in set1:\n",
        "    if element not in set2:\n",
        "        set3.add(element)\n",
        "print(\"Elements  present in set 1 but not in set 2 are : \",set3)"
      ]
    },
    {
      "cell_type": "markdown",
      "metadata": {},
      "source": [
        "### Q25. Create a code that takes a tuple and two integers as input. The function should return a new tuple containing elements from the original tuple within the specified range of indices."
      ]
    },
    {
      "cell_type": "code",
      "execution_count": 44,
      "metadata": {
        "colab": {
          "base_uri": "https://localhost:8080/"
        },
        "id": "Wd64UJWkDi4A",
        "outputId": "2580f2c3-07b9-45cf-b439-b99e77553b4d"
      },
      "outputs": [
        {
          "name": "stdout",
          "output_type": "stream",
          "text": [
            "Tuple  (10, 20, 30, 40, 50)  ranges between indices  2  and  4 is :  (30, 40, 50)\n"
          ]
        }
      ],
      "source": [
        "def tuple_range():\n",
        "    str1 = input(\"Enter a String (elements separated by spaces) : \")\n",
        "    tuple1 = tuple(int(x) for x in str1.split())\n",
        "    start = int(input(\"Enter start index : \"))\n",
        "    end = int(input(\"Enter end index : \"))\n",
        "    print(\"Tuple \",tuple1,\" ranges between indices \",start,' and ',end,'is : ',tuple1[start:end+1])\n",
        "tuple_range()"
      ]
    },
    {
      "cell_type": "markdown",
      "metadata": {},
      "source": [
        "### Q26.Write a code that prompts the user to input two sets of characters. Then, print the union of these two sets"
      ]
    },
    {
      "cell_type": "code",
      "execution_count": 3,
      "metadata": {
        "colab": {
          "base_uri": "https://localhost:8080/"
        },
        "id": "w4KbUVWqetl_",
        "outputId": "d4fbbc63-ef49-4b0c-ee98-94c251085a92"
      },
      "outputs": [
        {
          "name": "stdout",
          "output_type": "stream",
          "text": [
            "union of {'5 ', '6'} and {'6', '4'} is :  {'5 ', '6', '4'}\n"
          ]
        }
      ],
      "source": [
        "set1 = set()\n",
        "set2 = set()\n",
        "length1 = int(input(\"Enter how many elements (Characters) you need in Set 1 : \"))\n",
        "for i in  range(length1):\n",
        "    element1 = input(f\"Enter {i} index set element : \")\n",
        "    set1.add(element1)\n",
        "length2 = int(input(\"Enter how many elements (Characters) you need in Set 2 : \"))\n",
        "for j in  range(length2):\n",
        "    element2 = input(f\"Enter {j} index set element : \")\n",
        "    set2.add(element2)\n",
        "print(\"union of\",set1,'and',set2,'is : ',set1 | set2)"
      ]
    },
    {
      "cell_type": "markdown",
      "metadata": {},
      "source": [
        "### Q27.Develop a code that takes a tuple of integers as input. The function should return the maximum and minimum values from the tuple using tuple unpacking"
      ]
    },
    {
      "cell_type": "code",
      "execution_count": 2,
      "metadata": {
        "colab": {
          "base_uri": "https://localhost:8080/"
        },
        "id": "xBcxCJOZglqR",
        "outputId": "8c1940b6-bb26-4a9e-fb61-8f83cec3dc7c"
      },
      "outputs": [
        {
          "name": "stdout",
          "output_type": "stream",
          "text": [
            "Tuple: (5, 6, 4, 2, 80)\n",
            "Max: 80\n",
            "Min: 2\n"
          ]
        }
      ],
      "source": [
        "def tuple_max_min():\n",
        "    str1 = input(\"Enter a string of integers (separated by spaces): \")\n",
        "    tuple1 = tuple(int(x) for x in str1.split())\n",
        "\n",
        "    if not tuple1:\n",
        "        print(\"Empty input. Please enter at least one number.\")\n",
        "        return\n",
        "\n",
        "    max_tuple = max(tuple1)\n",
        "    min_tuple = min(tuple1)\n",
        "\n",
        "    print(\"Tuple:\", tuple1)\n",
        "    print(\"Max:\", max_tuple)\n",
        "    print(\"Min:\", min_tuple)\n",
        "\n",
        "tuple_max_min()\n"
      ]
    },
    {
      "cell_type": "markdown",
      "metadata": {},
      "source": [
        "### Q28. Create a code that defines two sets of integers. Then, print the union, intersection, and difference of these two sets"
      ]
    },
    {
      "cell_type": "code",
      "execution_count": 45,
      "metadata": {
        "colab": {
          "base_uri": "https://localhost:8080/"
        },
        "id": "GvYFP7GZi15i",
        "outputId": "52f67a7b-9b23-46a8-ff29-50d173c05cb5"
      },
      "outputs": [
        {
          "name": "stdout",
          "output_type": "stream",
          "text": [
            "union :  {'3', 'ada', 'adar', '4', 'a', 'bats', 'bat'}\n",
            "Intersection :  set()\n",
            "Difference of set 1 and set 2 :  {'bats', 'bat', '4'}\n"
          ]
        }
      ],
      "source": [
        "\n",
        "set1 = set()\n",
        "set2 = set()\n",
        "length1 = int(input(\"Enter how many elements (Characters) you need in Set 1 : \"))\n",
        "for i in  range(length1):\n",
        "    element1 = input(f\"Enter set element : \")\n",
        "    set1.add(element1)\n",
        "length2 = int(input(\"Enter how many elements (Characters) you need in Set 2 : \"))\n",
        "for j in  range(length2):\n",
        "    element2 = input(f\"Enter set element : \")\n",
        "    set2.add(element2)\n",
        "print(\"union : \",set1 | set2)\n",
        "print(\"Intersection : \",set1 & set2)\n",
        "print(\"Difference of set 1 and set 2 : \",set1 - set2)"
      ]
    },
    {
      "cell_type": "markdown",
      "metadata": {},
      "source": [
        "### Q29.Write a code that takes a tuple and an element as input. The function should return the count of occurrences of the given element in the tuple."
      ]
    },
    {
      "cell_type": "code",
      "execution_count": 36,
      "metadata": {
        "colab": {
          "base_uri": "https://localhost:8080/"
        },
        "id": "PV5U8kT4jRxJ",
        "outputId": "ed99dc9f-f30b-41ab-ff15-577e2a14aeca"
      },
      "outputs": [
        {
          "name": "stdout",
          "output_type": "stream",
          "text": [
            "Occurance of  2  in  (1,)  is :  0\n"
          ]
        }
      ],
      "source": [
        "\n",
        "def tuple_occurance():\n",
        "    tuple1 = tuple()\n",
        "    str1 = input(\"Enter a String (elements separated by spaces) : \")\n",
        "    tuple1 = tuple(int(x) for x in str1.split())\n",
        "    element = int(input(\"Enter the element to find the occurance in Tuple : \"))\n",
        "    print(\"Occurance of \",element,\" in \",tuple1,\" is : \",tuple1.count(element))\n",
        "tuple_occurance()"
      ]
    },
    {
      "cell_type": "markdown",
      "metadata": {},
      "source": [
        "### Q30. Develop a code that prompts the user to input two sets of strings. Then, print the symmetric difference of these two sets."
      ]
    },
    {
      "cell_type": "code",
      "execution_count": 35,
      "metadata": {
        "colab": {
          "base_uri": "https://localhost:8080/"
        },
        "id": "1hDUAx-bFzw8",
        "outputId": "0e8ac5ca-5e23-49cd-c9a6-9c3b9168e059"
      },
      "outputs": [
        {
          "name": "stdout",
          "output_type": "stream",
          "text": [
            "Symmetric Diffrence :  {'c', 'b', 'a', 'd'}\n"
          ]
        }
      ],
      "source": [
        "set1 = set()\n",
        "set2 = set()\n",
        "length1 = int(input(\"Enter how many elements (Characters) you need in Set 1 : \"))\n",
        "for i in  range(length1):\n",
        "    element1 = input(f\"Enter set element : \")\n",
        "    set1.add(element1)\n",
        "length2 = int(input(\"Enter how many elements (Characters) you need in Set 2 : \"))\n",
        "for j in  range(length2):\n",
        "    element2 = input(f\"Enter set element : \")\n",
        "    set2.add(element2)\n",
        "print(\"Symmetric Diffrence : \",set1 ^ set2)"
      ]
    },
    {
      "cell_type": "markdown",
      "metadata": {},
      "source": [
        "### Q31.Write a code that takes a list of words as input and returns a dictionary where the keys are unique words and the values are the frequencies of those words in the input list."
      ]
    },
    {
      "cell_type": "code",
      "execution_count": 34,
      "metadata": {
        "colab": {
          "base_uri": "https://localhost:8080/"
        },
        "id": "mf_FsljGGGMf",
        "outputId": "4d09f9c7-7e70-4762-cea9-039cd4c8b6eb"
      },
      "outputs": [
        {
          "name": "stdout",
          "output_type": "stream",
          "text": [
            "Entered List :  ['a', 'a']\n",
            "Dictionary with element and their occurance :  {'a': 2}\n"
          ]
        }
      ],
      "source": [
        "list_length = int(input(\"Enter length of list : \"))\n",
        "list1 = []\n",
        "list_unique = []\n",
        "list_occurance = []\n",
        "for i in range(list_length):\n",
        "    element = input(f\"Enter {i} index list element (word) : \")\n",
        "    list1.append(element)\n",
        "for element in list1:\n",
        "    if element not in list_unique:\n",
        "        list_unique.append(element)\n",
        "print(\"Entered List : \",list1)\n",
        "for j in list_unique:\n",
        "    list_occurance.append(list1.count(j))\n",
        "dict_occurance = {element:occurance for element,occurance in zip(list_unique,list_occurance)}\n",
        "print(\"Dictionary with element and their occurance : \",dict_occurance)"
      ]
    },
    {
      "cell_type": "markdown",
      "metadata": {},
      "source": [
        "### Q32. Write a code that takes two dictionaries as input and merges them into a single dictionary. If there are common keys, the values should be added together."
      ]
    },
    {
      "cell_type": "code",
      "execution_count": 33,
      "metadata": {
        "colab": {
          "base_uri": "https://localhost:8080/"
        },
        "id": "p4ltha-uHOlz",
        "outputId": "5e6dfc27-a07b-46ad-9714-33b510b9d0d5"
      },
      "outputs": [
        {
          "name": "stdout",
          "output_type": "stream",
          "text": [
            "Enter first Dictionary.\n",
            "Enter second Dictionary.\n",
            "Merged Dictionary :  {1: 'adarshshubham', 2: 'srivastavalal'}\n"
          ]
        }
      ],
      "source": [
        "from re import I\n",
        "def dictionary_input():\n",
        "    dict1 = dict()\n",
        "    length = int(input(\"Enter how many key,value pair you want in dictionary : \"))\n",
        "    for i in range(length):\n",
        "        key = int(input(f\"Enter {i} index key : \"))\n",
        "        value = input(f\"Enter {i} index value : \")\n",
        "        dict1[key] = value\n",
        "    return dict1\n",
        "def dictionary_merge():\n",
        "    print(\"Enter first Dictionary.\")\n",
        "    dict1 = dictionary_input()\n",
        "    print(\"Enter second Dictionary.\")\n",
        "    dict2 = dictionary_input()\n",
        "    for key in dict1:\n",
        "        if key in dict2:\n",
        "            dict1[key] = dict1[key] + dict2[key]\n",
        "        else:\n",
        "            dict1[key] = dict1[key]\n",
        "    return dict1\n",
        "print(\"Merged Dictionary : \",dictionary_merge())"
      ]
    },
    {
      "cell_type": "markdown",
      "metadata": {},
      "source": [
        "### Q33. Write a code to access a value in a nested dictionary. The function should take the dictionary and a list of keys as input, and return the corresponding value. If any of the keys do not exist in the dictionary, the function should return None"
      ]
    },
    {
      "cell_type": "code",
      "execution_count": 31,
      "metadata": {
        "id": "-KghIZHqSndK"
      },
      "outputs": [
        {
          "name": "stdout",
          "output_type": "stream",
          "text": [
            "d\n",
            "None\n"
          ]
        }
      ],
      "source": [
        "def get_nested_value(dictionary, keys):\n",
        "    \"\"\"\n",
        "    Access a value in a nested dictionary.\n",
        "\n",
        "    Parameters:\n",
        "    dictionary (dict): The nested dictionary to access.\n",
        "    keys (list): A list of keys to traverse the dictionary.\n",
        "\n",
        "    Returns:\n",
        "    The value corresponding to the list of keys, or None if any key is not found.\n",
        "    \"\"\"\n",
        "    current_level = dictionary\n",
        "    for key in keys:\n",
        "        if isinstance(current_level, dict) and key in current_level:\n",
        "            current_level = current_level[key]\n",
        "        else:\n",
        "            return None\n",
        "    return current_level\n",
        "\n",
        "# Example usage:\n",
        "nested_dict = {\n",
        "    'a': {\n",
        "        'b': {\n",
        "            'c': 'd'\n",
        "        }\n",
        "    }\n",
        "}\n",
        "\n",
        "keys = ['a', 'b', 'c']\n",
        "print(get_nested_value(nested_dict, keys))  # Output: 'd'\n",
        "\n",
        "keys = ['a', 'x', 'c']\n",
        "print(get_nested_value(nested_dict, keys))  # Output: None"
      ]
    },
    {
      "cell_type": "markdown",
      "metadata": {},
      "source": [
        "### Q34. Write a code that takes a dictionary as input and returns a sorted version of it based on the values. You can choose whether to sort in ascending or descending order."
      ]
    },
    {
      "cell_type": "code",
      "execution_count": 30,
      "metadata": {
        "colab": {
          "base_uri": "https://localhost:8080/"
        },
        "id": "39Vsw5de_lMx",
        "outputId": "2b4d82eb-7e1c-48a5-c39d-5949cc9ef6e6"
      },
      "outputs": [
        {
          "name": "stdout",
          "output_type": "stream",
          "text": [
            "Sorted Dictionary by values :  {1: '2', 5: '8'}\n"
          ]
        }
      ],
      "source": [
        "dict1 = dict()\n",
        "length = int(input(\"Enter how many key,value pair you want in dictionary : \"))\n",
        "for i in range(length):\n",
        "    key = int(input(f\"Enter {i} index key : \"))\n",
        "    value = input(f\"Enter {i} index value : \")\n",
        "    dict1[key] = value\n",
        "sorted_by_values = dict(sorted(dict1.items(), key=lambda item: item[1]))\n",
        "print(\"Sorted Dictionary by values : \",sorted_by_values)"
      ]
    },
    {
      "cell_type": "markdown",
      "metadata": {},
      "source": [
        "### Q35. Write a code that inverts a dictionary, swapping keys and values. Ensure that the inverted dictionary correctly handles cases where multiple keys have the same value by storing the keys as a list in the inverted dictionary."
      ]
    },
    {
      "cell_type": "code",
      "execution_count": 29,
      "metadata": {
        "id": "F62YAu4s_-7p"
      },
      "outputs": [
        {
          "name": "stdout",
          "output_type": "stream",
          "text": [
            "Inverted Dictionary: {'apple': [1], 'banana': [2], 'pineapple': [3]}\n"
          ]
        }
      ],
      "source": [
        "dict1 = dict()\n",
        "length = int(input(\"Enter how many key,value pairs you want in the dictionary: \"))\n",
        "for i in range(length):\n",
        "    key = int(input(f\"Enter key at index {i}: \"))\n",
        "    value = input(f\"Enter value at index {i}: \")\n",
        "    dict1[key] = value\n",
        "\n",
        "dict_inverted = dict()\n",
        "for key, value in dict1.items():\n",
        "    if value in dict_inverted:\n",
        "        dict_inverted[value].append(key)\n",
        "    else:\n",
        "        dict_inverted[value] = [key]\n",
        "\n",
        "print(\"Inverted Dictionary:\", dict_inverted)\n"
      ]
    }
  ],
  "metadata": {
    "colab": {
      "authorship_tag": "ABX9TyOI6aJFBZ8bWycaBZ7sZsC5",
      "include_colab_link": true,
      "provenance": []
    },
    "kernelspec": {
      "display_name": "Python 3",
      "name": "python3"
    },
    "language_info": {
      "codemirror_mode": {
        "name": "ipython",
        "version": 3
      },
      "file_extension": ".py",
      "mimetype": "text/x-python",
      "name": "python",
      "nbconvert_exporter": "python",
      "pygments_lexer": "ipython3",
      "version": "3.11.9"
    }
  },
  "nbformat": 4,
  "nbformat_minor": 0
}
