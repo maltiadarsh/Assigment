{
 "cells": [
  {
   "cell_type": "markdown",
   "id": "cf3b11a3",
   "metadata": {},
   "source": [
    "### Q1.Explain the different types of data (qualitative and quantitative) and provide examples of each. Discuss nominal, ordinal, interval, and ratio scales."
   ]
  },
  {
   "cell_type": "markdown",
   "id": "3e412e7d",
   "metadata": {
    "vscode": {
     "languageId": "markdown"
    }
   },
   "source": [
    "**Types of Data:**\n",
    "\n",
    "1. **Qualitative Data (Categorical):**\n",
    "    - Describes qualities or characteristics.\n",
    "    - Cannot be measured numerically, only categorized.\n",
    "    - **Examples:** Colors (red, blue), Gender (male, female), Types of cuisine (Italian, Chinese).\n",
    "\n",
    "2. **Quantitative Data (Numerical):**\n",
    "    - Represents quantities and can be measured numerically.\n",
    "    - **Examples:** Height (170 cm), Age (25 years), Number of students (30).\n",
    "\n",
    "**Scales of Measurement:**\n",
    "\n",
    "1. **Nominal Scale:**\n",
    "    - Categories with no inherent order.\n",
    "    - **Example:** Types of fruit (apple, banana, orange).\n",
    "\n",
    "2. **Ordinal Scale:**\n",
    "    - Categories with a meaningful order, but intervals are not equal.\n",
    "    - **Example:** Survey ratings (satisfied, neutral, dissatisfied), Education level (high school, bachelor, master).\n",
    "\n",
    "3. **Interval Scale:**\n",
    "    - Ordered categories with equal intervals, but no true zero.\n",
    "    - **Example:** Temperature in Celsius or Fahrenheit.\n",
    "\n",
    "4. **Ratio Scale:**\n",
    "    - Ordered, equal intervals, and has a true zero point.\n",
    "    - **Example:** Weight (0 kg means no weight), Height, Age, Income."
   ]
  },
  {
   "cell_type": "markdown",
   "id": "cbe6b0f7",
   "metadata": {},
   "source": [
    "### Q2. What are the measures of central tendency, and when should you use each? Discuss the mean, median,and mode with examples and situations where each is appropriate"
   ]
  },
  {
   "cell_type": "markdown",
   "id": "cd76d6c0",
   "metadata": {
    "vscode": {
     "languageId": "markdown"
    }
   },
   "source": [
    "**Measures of Central Tendency:**\n",
    "\n",
    "1. **Mean (Average):**\n",
    "    - Calculated by adding all values and dividing by the number of values.\n",
    "    - **Example:** For the data set [2, 4, 6, 8], the mean is (2+4+6+8)/4 = 5.\n",
    "    - **When to use:** Use the mean for data without extreme outliers and when all values are equally important.\n",
    "\n",
    "2. **Median:**\n",
    "    - The middle value when data is ordered from smallest to largest. If even number of values, it is the average of the two middle values.\n",
    "    - **Example:** For [1, 3, 5], the median is 3. For [1, 3, 5, 7], the median is (3+5)/2 = 4.\n",
    "    - **When to use:** Use the median when data has outliers or is skewed, as it is less affected by extreme values.\n",
    "\n",
    "3. **Mode:**\n",
    "    - The value that appears most frequently in the data set.\n",
    "    - **Example:** For [2, 2, 3, 4], the mode is 2.\n",
    "    - **When to use:** Use the mode for categorical data or when you want to know the most common value.\n",
    "\n",
    "**Summary Table:**\n",
    "\n",
    "| Measure | Best Used When... | Example Data | Result |\n",
    "|---------|-------------------|--------------|--------|\n",
    "| Mean    | Data is symmetric, no outliers | [2, 4, 6, 8] | 5 |\n",
    "| Median  | Data is skewed or has outliers | [1, 2, 2, 100] | 2 |\n",
    "| Mode    | Most frequent value is needed, categorical data | [red, blue, blue, green] | blue |"
   ]
  },
  {
   "cell_type": "markdown",
   "id": "857f5582",
   "metadata": {},
   "source": [
    "### Q3. Explain the concept of dispersion. How do variance and standard deviation measure the spread of data?"
   ]
  },
  {
   "cell_type": "markdown",
   "id": "c61ab9f5",
   "metadata": {
    "vscode": {
     "languageId": "plaintext"
    }
   },
   "source": [
    "**Dispersion** refers to the extent to which data values vary around the central value (such as the mean). It shows how spread out the data points are in a dataset.\n",
    "\n",
    "- **Variance** measures the average squared deviation of each data point from the mean. A higher variance indicates that data points are more spread out.\n",
    "### Variance and Standard Deviation\n",
    "\n",
    "When working with a dataset \\( x_1, x_2, ..., x_n \\), it's useful to understand how spread out the data is. This is where **variance** and **standard deviation** come in.\n",
    "\n",
    "- **Variance** measures the average squared difference from the mean. It's calculated using this formula:\n",
    "\n",
    "  \\[\n",
    "  \\text{Variance} = \\frac{1}{n} \\sum_{i=1}^{n} (x_i - \\mu)^2\n",
    "  \\]\n",
    "\n",
    "  where:\n",
    "  - \\( n \\) is the number of data points\n",
    "  - \\( x_i \\) is each individual data point\n",
    "  - \\( \\mu \\) is the mean of the dataset\n",
    "\n",
    "- **Standard Deviation** is simply the square root of the variance. Since it’s in the same units as the original data, it’s easier to interpret.\n",
    "\n",
    "  \\[\n",
    "  \\text{Standard Deviation} = \\sqrt{\\text{Variance}}\n",
    "  \\]\n",
    "\n",
    "**Example:**  \n",
    "For the data [2, 4, 4, 4, 5, 5, 7, 9]:\n",
    "- Mean = 5\n",
    "- Variance = 4\n",
    "- Standard Deviation = 2\n",
    "\n",
    "**Interpretation:**  \n",
    "A small standard deviation means data points are close to the mean; a large standard deviation means they are more spread out."
   ]
  },
  {
   "cell_type": "markdown",
   "id": "a10bb25f",
   "metadata": {},
   "source": [
    "### Q4. What is a box plot, and what can it tell you about the distribution of data?"
   ]
  },
  {
   "cell_type": "markdown",
   "id": "7780150b",
   "metadata": {
    "vscode": {
     "languageId": "markdown"
    }
   },
   "source": [
    "### **Answer:** A **box plot** (or box-and-whisker plot) is a graphical representation of the distribution of a dataset. It displays the dataset’s minimum, first quartile (Q1), median (Q2), third quartile (Q3), and maximum values.\n",
    "\n",
    "**What a box plot shows:**\n",
    "- **Median (Q2):** The line inside the box shows the median value.\n",
    "- **Quartiles (Q1 and Q3):** The edges of the box represent the 25th (Q1) and 75th (Q3) percentiles.\n",
    "- **Interquartile Range (IQR):** The length of the box (Q3 - Q1) shows the spread of the middle 50% of the data.\n",
    "- **Whiskers:** Lines extending from the box to the minimum and maximum values (excluding outliers).\n",
    "- **Outliers:** Data points outside 1.5 × IQR from the quartiles are plotted individually.\n",
    "\n",
    "**What you can learn from a box plot:**\n",
    "- The central value (median) of the data.\n",
    "- The spread and variability (IQR).\n",
    "- Skewness (if the median is not centered in the box or whiskers are uneven).\n",
    "- Presence of outliers.\n",
    "\n",
    "**Example:**\n",
    "A box plot can quickly show if data is symmetric, skewed, or contains outliers, making it useful for comparing distributions across groups."
   ]
  },
  {
   "cell_type": "markdown",
   "id": "c236e172",
   "metadata": {},
   "source": [
    "### Q5. Discuss the role of random sampling in making inferences about populations"
   ]
  },
  {
   "cell_type": "markdown",
   "id": "1a7e430b",
   "metadata": {
    "vscode": {
     "languageId": "markdown"
    }
   },
   "source": [
    "**Random sampling** is a technique where each member of a population has an equal chance of being selected for a sample. This method is crucial for making valid inferences about populations because it helps ensure that the sample is representative of the entire population.\n",
    "\n",
    "**Role in Inference:**\n",
    "- **Reduces Bias:** Random sampling minimizes selection bias, making the results more generalizable.\n",
    "- **Enables Statistical Analysis:** Many statistical methods assume random sampling; it allows for the use of probability theory to estimate population parameters and calculate margins of error.\n",
    "- **Supports Valid Conclusions:** With a representative sample, conclusions drawn about the population (such as means, proportions, or relationships) are more likely to be accurate.\n",
    "\n",
    "**Example:**  \n",
    "If you want to estimate the average height of students in a university, randomly selecting students from the entire student body will give a more reliable estimate than choosing only students from one class or group."
   ]
  },
  {
   "cell_type": "markdown",
   "id": "0c4d1cee",
   "metadata": {},
   "source": [
    "### Q6. Explain the concept of skewness and its types. How does skewness affect the interpretation of data?"
   ]
  },
  {
   "cell_type": "markdown",
   "id": "2e655f1d",
   "metadata": {
    "vscode": {
     "languageId": "markdown"
    }
   },
   "source": [
    "**Skewness** measures the asymmetry of a data distribution around its mean.\n",
    "\n",
    "- **Types of Skewness:**\n",
    "    1. **Symmetrical Distribution:** The left and right sides of the distribution are mirror images. Mean = Median = Mode.\n",
    "    2. **Positive Skew (Right Skew):** The right tail is longer; most data are concentrated on the left. Mean > Median > Mode.\n",
    "    3. **Negative Skew (Left Skew):** The left tail is longer; most data are concentrated on the right. Mean < Median < Mode.\n",
    "\n",
    "**Effect on Interpretation:**\n",
    "- Skewness indicates whether data are spread more to one side of the mean.\n",
    "- In positively skewed data, the mean is pulled higher by large values; in negatively skewed data, the mean is pulled lower by small values.\n",
    "- Skewness affects which measure of central tendency (mean, median, mode) is most appropriate to use.\n",
    "- Understanding skewness helps in choosing the right statistical methods and in accurately interpreting data summaries.\n",
    "\n",
    "**Example:**  \n",
    "Income data are often right-skewed: most people earn average or below-average incomes, but a few high earners pull the mean higher than the median."
   ]
  },
  {
   "cell_type": "markdown",
   "id": "e5427f1b",
   "metadata": {},
   "source": [
    "### Q7. What is the interquartile range (IQR), and how is it used to detect outliers?"
   ]
  },
  {
   "cell_type": "markdown",
   "id": "6b9383b7",
   "metadata": {
    "vscode": {
     "languageId": "tex"
    }
   },
   "source": [
    "**Interquartile Range (IQR):**  \n",
    "The IQR is a measure of statistical dispersion and represents the range within which the central 50% of the data lie. It is calculated as:\n",
    "\n",
    "\n",
    "{IQR} = Q3 - Q1\n",
    "\n",
    "\n",
    "where:\n",
    "- \\( Q1 \\) is the first quartile (25th percentile)\n",
    "- \\( Q3 \\) is the third quartile (75th percentile)\n",
    "\n",
    "**Detecting Outliers with IQR:**  \n",
    "Outliers are typically defined as data points that fall below \\( Q1 - 1.5 \\times \\text{IQR} \\) or above \\( Q3 + 1.5 \\times \\text{IQR} \\).\n",
    "\n",
    "**Example:**  \n",
    "If \\( Q1 = 10 \\) and \\( Q3 = 20 \\), then \\( \\text{IQR} = 10 \\).  \n",
    "- Lower bound: \\( 10 - 1.5 \\times 10 = -5 \\)\n",
    "- Upper bound: \\( 20 + 1.5 \\times 10 = 35 \\)\n",
    "\n",
    "Any data point outside \\([-5, 35]\\) is considered an outlier."
   ]
  },
  {
   "cell_type": "markdown",
   "id": "92a0937f",
   "metadata": {},
   "source": [
    "### Q8. Discuss the conditions under which the binomial distribution is used"
   ]
  },
  {
   "cell_type": "markdown",
   "id": "6ede0e28",
   "metadata": {
    "vscode": {
     "languageId": "markdown"
    }
   },
   "source": [
    "**Binomial Distribution Conditions:**\n",
    "\n",
    "The binomial distribution models the number of successes in a fixed number of independent trials, each with the same probability of success. It is used when the following conditions are met:\n",
    "\n",
    "1. **Fixed Number of Trials (n):** The experiment is repeated a set number of times.\n",
    "2. **Two Possible Outcomes:** Each trial results in either \"success\" or \"failure\".\n",
    "3. **Constant Probability (p):** The probability of success is the same for each trial.\n",
    "4. **Independence:** The outcome of one trial does not affect the others.\n",
    "\n",
    "**Examples:**\n",
    "- Flipping a coin 10 times and counting the number of heads.\n",
    "- Testing 20 light bulbs and counting how many work.\n",
    "\n",
    "If these conditions are satisfied, the binomial distribution can be used to calculate probabilities of obtaining a certain number of successes."
   ]
  },
  {
   "cell_type": "markdown",
   "id": "76dafc00",
   "metadata": {},
   "source": [
    "### Q9. Explain the properties of the normal distribution and the empirical rule (68-95-99.7 rule)."
   ]
  },
  {
   "cell_type": "markdown",
   "id": "cd003435",
   "metadata": {
    "vscode": {
     "languageId": "markdown"
    }
   },
   "source": [
    "**Normal Distribution:**\n",
    "- The normal distribution is a continuous, symmetric, bell-shaped distribution centered around the mean.\n",
    "- **Properties:**\n",
    "    - Symmetrical about the mean (mu).\n",
    "    - Mean, median, and mode are all equal.\n",
    "    - Defined by two parameters: mean (\\( \\mu \\)) and standard deviation (\\( \\sigma \\)).\n",
    "    - The total area under the curve is 1.\n",
    "    - Tails extend infinitely in both directions but never touch the horizontal axis.\n",
    "\n",
    "**Empirical Rule (68-95-99.7 Rule):**\n",
    "- Describes how data are distributed in a normal distribution:\n",
    "    - About **68%** of data falls within **1 standard deviation** (\\( \\mu \\pm 1\\sigma \\)) of the mean.\n",
    "    - About **95%** falls within **2 standard deviations** (\\( \\mu \\pm 2\\sigma \\)).\n",
    "    - About **99.7%** falls within **3 standard deviations** (\\( \\mu \\pm 3\\sigma \\)).\n",
    "\n",
    "**Example:**\n",
    "If the mean test score is 70 with a standard deviation of 10:\n",
    "- 68% of scores are between 60 and 80.\n",
    "- 95% are between 50 and 90.\n",
    "- 99.7% are between 40 and 100.\n",
    "\n",
    "The empirical rule helps quickly estimate the spread and identify outliers in normally distributed data."
   ]
  },
  {
   "cell_type": "markdown",
   "id": "ca3cb19d",
   "metadata": {},
   "source": [
    "### Q10. Provide a real-life example of a Poisson process and calculate the probability for a specific event."
   ]
  },
  {
   "cell_type": "markdown",
   "id": "324e8fa8",
   "metadata": {},
   "source": [
    "from scipy.stats import poisson\n",
    "\n",
    "- #### Real-life example: Number of emails received per hour\n",
    "- #### Suppose you receive an average of 5 emails per hour (λ = 5).\n",
    "- #### What is the probability of receiving exactly 3 emails in the next hour?\n",
    "\n",
    "lam = 5  # average rate (emails per hour)\n",
    "k = 3    # number of emails\n",
    "\n",
    "prob = poisson.pmf(k, lam)\n",
    "print(f\"Probability of receiving exactly {k} emails in the next hour: {prob:.4f}\")"
   ]
  },
  {
   "cell_type": "markdown",
   "id": "a32af397",
   "metadata": {},
   "source": [
    "### Q11. Explain what a random variable is and differentiate between discrete and continuous random variables"
   ]
  },
  {
   "cell_type": "markdown",
   "id": "0ccdcdaa",
   "metadata": {
    "vscode": {
     "languageId": "markdown"
    }
   },
   "source": [
    "**Random Variable:**  \n",
    "A random variable is a numerical quantity whose value depends on the outcome of a random phenomenon. It assigns a real number to each outcome in a sample space.\n",
    "\n",
    "**Types of Random Variables:**\n",
    "\n",
    "1. **Discrete Random Variable:**\n",
    "    - Takes on a countable number of distinct values.\n",
    "    - Typically arises from counting processes.\n",
    "    - **Examples:** Number of heads in 10 coin tosses, number of students in a class.\n",
    "\n",
    "2. **Continuous Random Variable:**\n",
    "    - Can take on any value within a given range (possibly infinite).\n",
    "    - Typically arises from measuring processes.\n",
    "    - **Examples:** Height of students, time taken to run a race, temperature.\n",
    "\n",
    "**Summary Table:**\n",
    "\n",
    "| Type      | Values Taken         | Example                      |\n",
    "|-----------|---------------------|------------------------------|\n",
    "| Discrete  | Countable           | Number of cars in a parking lot |\n",
    "| Continuous| Any value in interval| Weight of a person           |"
   ]
  },
  {
   "cell_type": "markdown",
   "id": "99e62aff",
   "metadata": {},
   "source": [
    "### Q12. Provide an example dataset, calculate both covariance and correlation, and interpret the results"
   ]
  },
  {
   "cell_type": "code",
   "execution_count": 1,
   "id": "de90eb83",
   "metadata": {},
   "outputs": [
    {
     "name": "stdout",
     "output_type": "stream",
     "text": [
      "Covariance: 25.00\n",
      "Correlation: 1.00\n",
      "There is a positive relationship: as hours studied increase, exam scores tend to increase.\n"
     ]
    }
   ],
   "source": [
    "import numpy as np\n",
    "import pandas as pd\n",
    "\n",
    "# Example dataset\n",
    "data = {\n",
    "    'Hours_Studied': [2, 4, 6, 8, 10],\n",
    "    'Exam_Score': [65, 70, 75, 80, 85]\n",
    "}\n",
    "df = pd.DataFrame(data)\n",
    "\n",
    "# Calculate covariance\n",
    "covariance = df['Hours_Studied'].cov(df['Exam_Score'])\n",
    "\n",
    "# Calculate correlation\n",
    "correlation = df['Hours_Studied'].corr(df['Exam_Score'])\n",
    "\n",
    "print(f\"Covariance: {covariance:.2f}\")\n",
    "print(f\"Correlation: {correlation:.2f}\")\n",
    "\n",
    "# Interpretation\n",
    "if correlation > 0:\n",
    "    print(\"There is a positive relationship: as hours studied increase, exam scores tend to increase.\")\n",
    "elif correlation < 0:\n",
    "    print(\"There is a negative relationship: as hours studied increase, exam scores tend to decrease.\")\n",
    "else:\n",
    "    print(\"There is no linear relationship between hours studied and exam scores.\")"
   ]
  },
  {
   "cell_type": "markdown",
   "id": "4e591d54",
   "metadata": {},
   "source": []
  }
 ],
 "metadata": {
  "kernelspec": {
   "display_name": "Python 3",
   "language": "python",
   "name": "python3"
  },
  "language_info": {
   "codemirror_mode": {
    "name": "ipython",
    "version": 3
   },
   "file_extension": ".py",
   "mimetype": "text/x-python",
   "name": "python",
   "nbconvert_exporter": "python",
   "pygments_lexer": "ipython3",
   "version": "3.11.9"
  }
 },
 "nbformat": 4,
 "nbformat_minor": 5
}
