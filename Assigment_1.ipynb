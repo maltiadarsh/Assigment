{
 "cells": [
  {
   "cell_type": "markdown",
   "id": "501ad85d-3c58-4a9f-a1be-03bf214916a6",
   "metadata": {},
   "source": [
    "# Assigment python"
   ]
  },
  {
   "cell_type": "markdown",
   "id": "cfea8b5b-eaad-49c6-aac9-f6ace122ac19",
   "metadata": {},
   "source": [
    "Q.1 Explain the Key features of python that make it a popular choies for progrraming."
   ]
  },
  {
   "cell_type": "markdown",
   "id": "3c13f8e1-a5a9-4dac-b604-65a53c4dc5d1",
   "metadata": {},
   "source": [
    "Answer:- The key feature of python that make it popular choice for proggaramming are :-\n",
    "#### simplicity :-\n",
    "python is simple to read and learn its code is close to english language \n",
    "#### verstility \n",
    "python can be used for a wide range of application , from web development ,data science , data analysis , ai, ml and more .\n",
    "\n",
    "#### a lot of libraries  more than 137000\n",
    "\n",
    "#### Automation and Scripting \n",
    " Python is widely used for writing scripts to automate tasks, from simple file manipulations to complex network operations. \n",
    " Its ease of use and powerful libraries make it ideal for such tasks.\n",
    " \n",
    " \n"
   ]
  },
  {
   "cell_type": "markdown",
   "id": "574ddfed-775f-4df4-a8cd-494e991390de",
   "metadata": {},
   "source": [
    "\n",
    "\n",
    "\n",
    "\n",
    "#### Q2. Describe the role of predefined keyword in python and provide examples of how they are used in a program. "
   ]
  },
  {
   "cell_type": "markdown",
   "id": "7c0fc27e-e3f6-44fa-9dbd-c4111d4eb883",
   "metadata": {},
   "source": [
    "##### Answer :-\n",
    "Predefined keywords are  also known as reserved words. The predefined keyword are used to define structure of code and control flow in code . Thr predefined keyword are used for special purposes .\n",
    "predefined keyword are not used for identifiers ( variable names , function name )\n",
    "##### the role of predefined keyword in python\n",
    "#### Logical Operations:-\n",
    "and, or, not, and is are used for logical operations and comparisons."
   ]
  },
  {
   "cell_type": "code",
   "execution_count": 4,
   "id": "15cd8405-8328-49b5-aedd-fc5dea4da0d8",
   "metadata": {},
   "outputs": [
    {
     "name": "stdout",
     "output_type": "stream",
     "text": [
      "\n",
      "Here is a list of the Python keywords.  Enter any keyword to get more help.\n",
      "\n",
      "False               class               from                or\n",
      "None                continue            global              pass\n",
      "True                def                 if                  raise\n",
      "and                 del                 import              return\n",
      "as                  elif                in                  try\n",
      "assert              else                is                  while\n",
      "async               except              lambda              with\n",
      "await               finally             nonlocal            yield\n",
      "break               for                 not                 \n",
      "\n"
     ]
    }
   ],
   "source": [
    "help(\"keywords\")"
   ]
  },
  {
   "cell_type": "code",
   "execution_count": 5,
   "id": "75bcf286-89f4-42fd-af8b-1876fb5cdc5c",
   "metadata": {},
   "outputs": [
    {
     "name": "stdout",
     "output_type": "stream",
     "text": [
      "False\n",
      "True\n",
      "False\n",
      "False\n"
     ]
    }
   ],
   "source": [
    "a = True\n",
    "b = False\n",
    "\n",
    "print(a and b) \n",
    "print(a or b)   \n",
    "print(not a)    \n",
    "\n",
    "x = [1, 2, 3]\n",
    "y = [1, 2, 3]\n",
    "print(x is y) "
   ]
  },
  {
   "cell_type": "markdown",
   "id": "b7a92faf-4aa9-4356-bdd3-470386cc5f8e",
   "metadata": {},
   "source": [
    "#### Control Flow:-\n",
    "Keywords like if, else, elif, for, while, and break are used to control the execution flow of the program."
   ]
  },
  {
   "cell_type": "code",
   "execution_count": 9,
   "id": "6ee58a92-1600-4074-afcc-9cc3e826dcb8",
   "metadata": {},
   "outputs": [
    {
     "name": "stdin",
     "output_type": "stream",
     "text": [
      "enter the marks 5\n"
     ]
    },
    {
     "name": "stdout",
     "output_type": "stream",
     "text": [
      "fail\n"
     ]
    }
   ],
   "source": [
    "# Example of if, elif, and else\n",
    "marks= int(input(\"enter the marks\"))\n",
    "\n",
    "if marks >100:\n",
    "    print (\"error\")\n",
    "elif marks > 60:\n",
    "    print(\" first devision\")\n",
    "elif marks >50:\n",
    "    print(\" second devision\")\n",
    "elif marks >30:\n",
    "    print (\"third devision\")\n",
    "else:\n",
    "    print(\"fail\")\n"
   ]
  },
  {
   "cell_type": "markdown",
   "id": "f5e0b451-ec5e-439a-a782-42307275132e",
   "metadata": {},
   "source": [
    "#### Function and Class Definitions:-\n",
    "def, class, return, yield are used to define functions and classes and manage their behavior."
   ]
  },
  {
   "cell_type": "code",
   "execution_count": 12,
   "id": "7df90bb0-a9b9-4fb8-8f83-f593cdc393cb",
   "metadata": {},
   "outputs": [
    {
     "name": "stdout",
     "output_type": "stream",
     "text": [
      "Buddy says woof!\n"
     ]
    }
   ],
   "source": [
    "\n",
    "\n",
    "class Dog:\n",
    "    def __init__(self, name):\n",
    "        self.name = name\n",
    "    \n",
    "    def bark(self):\n",
    "        return f\"{self.name} says woof!\"\n",
    "\n",
    "dog = Dog(\"Buddy\")\n",
    "print(dog.bark())\n",
    "\n"
   ]
  },
  {
   "cell_type": "markdown",
   "id": "625f9c53-3d20-4a06-8ccf-58b31dfae71e",
   "metadata": {},
   "source": [
    "## Q3. Compare and contrast mutable and immutable objects in Python with examples ?\n"
   ]
  },
  {
   "cell_type": "markdown",
   "id": "118d1f49-5522-40a0-8f66-a91917af47e5",
   "metadata": {},
   "source": [
    "#### answer :-\n",
    "\n",
    "###### mutable\n",
    "mutable object means the object can be changed after created. for example :- dictonary , list  ,set .\n",
    "\n",
    "\n",
    "###### immutable\n",
    "Immutable objects cannot be changed after they are created. Any modification to an immutable object results in the creation of a new object. for example :-tuples,strings,integers,floats,booleans\n",
    "\n",
    "\n",
    "\n",
    "\n"
   ]
  },
  {
   "cell_type": "code",
   "execution_count": 21,
   "id": "8f28900f-62e4-49ca-b9a6-3195e445df8b",
   "metadata": {},
   "outputs": [
    {
     "name": "stdout",
     "output_type": "stream",
     "text": [
      "[1, 2, 3]\n",
      "[1, 2, 3, 4]\n"
     ]
    }
   ],
   "source": [
    "# mutable\n",
    "l = [1, 2, 3]\n",
    "print(l)\n",
    "l.append(4)\n",
    "print(l)"
   ]
  },
  {
   "cell_type": "code",
   "execution_count": 22,
   "id": "b6b7f5a9-fee8-4af8-9da7-7031be63a8fa",
   "metadata": {},
   "outputs": [
    {
     "name": "stdout",
     "output_type": "stream",
     "text": [
      "(5, 6, 8)\n"
     ]
    }
   ],
   "source": [
    "#immutable\n",
    "t=(5,6,8)\n",
    "print (t)"
   ]
  },
  {
   "cell_type": "code",
   "execution_count": 24,
   "id": "ed3f9228-a71e-43ff-adeb-3c0cb89129c4",
   "metadata": {},
   "outputs": [
    {
     "ename": "AttributeError",
     "evalue": "'tuple' object has no attribute 'append'",
     "output_type": "error",
     "traceback": [
      "\u001b[0;31m---------------------------------------------------------------------------\u001b[0m",
      "\u001b[0;31mAttributeError\u001b[0m                            Traceback (most recent call last)",
      "Cell \u001b[0;32mIn[24], line 1\u001b[0m\n\u001b[0;32m----> 1\u001b[0m \u001b[43mt\u001b[49m\u001b[38;5;241;43m.\u001b[39;49m\u001b[43mappend\u001b[49m(\u001b[38;5;241m4\u001b[39m)\n\u001b[1;32m      2\u001b[0m \u001b[38;5;28mprint\u001b[39m (t)\n",
      "\u001b[0;31mAttributeError\u001b[0m: 'tuple' object has no attribute 'append'"
     ]
    }
   ],
   "source": [
    "t.append(4)\n",
    "print (t)"
   ]
  },
  {
   "cell_type": "markdown",
   "id": "0b1fccd4-beed-4c62-b79d-7083eb570134",
   "metadata": {
    "tags": []
   },
   "source": [
    " ### Q4. Discuss the different types of operators in Python and provide examples of how they are used."
   ]
  },
  {
   "cell_type": "markdown",
   "id": "6bcd7268-eb25-4b8b-922e-8430bdf14dff",
   "metadata": {},
   "source": [
    "### Answer :- the different types of operators in python are :-\n",
    "#### Arithmetic operators\n",
    "#### Assignment operators\n",
    "#### Comparison operators\n",
    "#### Logical operators\n",
    "#### Identity operators\n",
    "#### Membership operators\n",
    "#### Bitwise operators"
   ]
  },
  {
   "cell_type": "markdown",
   "id": "6b560246-361d-467b-a827-82c245aaac38",
   "metadata": {},
   "source": [
    "#### Arithmetic operators \n",
    "Arithmetic operators are used to do mathematical operation , like division (/), multiplication(*) , addition(+) ,subtraction(-),moduls(%),floor division (//)"
   ]
  },
  {
   "cell_type": "code",
   "execution_count": 1,
   "id": "2041756a-e8ef-4c9f-9e40-efdbfe17a643",
   "metadata": {},
   "outputs": [
    {
     "name": "stdout",
     "output_type": "stream",
     "text": [
      "30\n"
     ]
    }
   ],
   "source": [
    "##for addition \n",
    "a=10\n",
    "b=20\n",
    "c=a+b\n",
    "print (c)"
   ]
  },
  {
   "cell_type": "code",
   "execution_count": 3,
   "id": "4e6a2328-ad11-4878-ba15-9d1733e71c6b",
   "metadata": {},
   "outputs": [
    {
     "name": "stdout",
     "output_type": "stream",
     "text": [
      "-10\n"
     ]
    }
   ],
   "source": [
    "## for sub\n",
    "a=10\n",
    "b=20\n",
    "c=a-b\n",
    "print (c)"
   ]
  },
  {
   "cell_type": "code",
   "execution_count": 4,
   "id": "5615b447-1677-43f4-8871-10614600b635",
   "metadata": {},
   "outputs": [
    {
     "name": "stdout",
     "output_type": "stream",
     "text": [
      "200\n"
     ]
    }
   ],
   "source": [
    "# for multiplication\n",
    "a=10\n",
    "b=20\n",
    "c=a*b\n",
    "print (c)"
   ]
  },
  {
   "cell_type": "code",
   "execution_count": 5,
   "id": "5d68cfc7-a6f0-4c03-9bfc-28d6ca8d7ac7",
   "metadata": {},
   "outputs": [
    {
     "name": "stdout",
     "output_type": "stream",
     "text": [
      "0.5\n"
     ]
    }
   ],
   "source": [
    "# for division \n",
    "a=10\n",
    "b=20\n",
    "c=a/b\n",
    "print (c)"
   ]
  },
  {
   "cell_type": "markdown",
   "id": "e219ef0a-8cf1-4fc4-9e6f-d551a6678ea8",
   "metadata": {},
   "source": [
    "### Assignment Operators\n",
    "Assignment operators are used to assign values to variables for example =,+=,-=,%= etc"
   ]
  },
  {
   "cell_type": "markdown",
   "id": "3a85df2b-7bac-4230-bdd4-0aba2bd05dd4",
   "metadata": {},
   "source": [
    "### Assignment Operators\n",
    "Assignment operators are used to assign values to variables for example equale (==), not equal (!=), greater than (>), less than (<), etc"
   ]
  },
  {
   "cell_type": "code",
   "execution_count": 1,
   "id": "5e6e3bf0-8c19-4911-9f4a-64e4376af0b3",
   "metadata": {},
   "outputs": [],
   "source": [
    "a=10"
   ]
  },
  {
   "cell_type": "code",
   "execution_count": 4,
   "id": "38725b8c-2daa-4a01-8d4e-4d94d8cf5f4c",
   "metadata": {},
   "outputs": [],
   "source": [
    "b=10"
   ]
  },
  {
   "cell_type": "markdown",
   "id": "c2e2e601-bb47-4a19-8a4b-a4fc45278fe2",
   "metadata": {},
   "source": [
    "### Comparison operators"
   ]
  },
  {
   "cell_type": "markdown",
   "id": "009fc98c-0f66-4df9-a7a1-b9c1fb898708",
   "metadata": {},
   "source": [
    "Comparison operators are used to compared two value and its value is givien result either True or false"
   ]
  },
  {
   "cell_type": "code",
   "execution_count": 5,
   "id": "103117f1-c9cc-4d13-9e58-2579b1a52339",
   "metadata": {},
   "outputs": [
    {
     "data": {
      "text/plain": [
       "True"
      ]
     },
     "execution_count": 5,
     "metadata": {},
     "output_type": "execute_result"
    }
   ],
   "source": [
    " a == b "
   ]
  },
  {
   "cell_type": "code",
   "execution_count": 6,
   "id": "b62487e5-3186-47ce-946c-5657d748bc48",
   "metadata": {},
   "outputs": [
    {
     "data": {
      "text/plain": [
       "True"
      ]
     },
     "execution_count": 6,
     "metadata": {},
     "output_type": "execute_result"
    }
   ],
   "source": [
    "20>10"
   ]
  },
  {
   "cell_type": "code",
   "execution_count": 7,
   "id": "abeb3866-bbbb-4639-b1d3-7fb815645232",
   "metadata": {},
   "outputs": [
    {
     "data": {
      "text/plain": [
       "False"
      ]
     },
     "execution_count": 7,
     "metadata": {},
     "output_type": "execute_result"
    }
   ],
   "source": [
    "50>60"
   ]
  },
  {
   "cell_type": "code",
   "execution_count": 8,
   "id": "fff745fe-e6ab-49b2-b73b-be36955fd9f0",
   "metadata": {},
   "outputs": [
    {
     "data": {
      "text/plain": [
       "True"
      ]
     },
     "execution_count": 8,
     "metadata": {},
     "output_type": "execute_result"
    }
   ],
   "source": [
    "50<60"
   ]
  },
  {
   "cell_type": "code",
   "execution_count": 10,
   "id": "cde04b50-2262-4208-8a87-46efc771393b",
   "metadata": {},
   "outputs": [
    {
     "data": {
      "text/plain": [
       "True"
      ]
     },
     "execution_count": 10,
     "metadata": {},
     "output_type": "execute_result"
    }
   ],
   "source": [
    "5>=5"
   ]
  },
  {
   "cell_type": "code",
   "execution_count": 11,
   "id": "58a79b01-fe16-4342-a003-2712f77747af",
   "metadata": {},
   "outputs": [
    {
     "data": {
      "text/plain": [
       "True"
      ]
     },
     "execution_count": 11,
     "metadata": {},
     "output_type": "execute_result"
    }
   ],
   "source": [
    "20 != 5"
   ]
  },
  {
   "cell_type": "markdown",
   "id": "9a1b7928-c8db-40c3-b511-fbd9c1bcb0de",
   "metadata": {},
   "source": [
    "### Logical operators\n",
    "logical operator are used to perform logic in operation for example and (and is true if bith the operantand is true (X and Y)), or(if one value is true then the result is true ) , not (if x is true then y is false as a output )"
   ]
  },
  {
   "cell_type": "code",
   "execution_count": 12,
   "id": "b24e43d8-6092-433c-8f7a-af1bffc13733",
   "metadata": {},
   "outputs": [
    {
     "name": "stdout",
     "output_type": "stream",
     "text": [
      "False\n",
      "True\n",
      "False\n"
     ]
    }
   ],
   "source": [
    "X = True\n",
    "Y= False\n",
    "print(X and Y)\n",
    "print(X or Y)\n",
    "print(not X)"
   ]
  },
  {
   "cell_type": "markdown",
   "id": "bd51ad7c-c299-481b-9ef8-cf767abf8720",
   "metadata": {},
   "source": [
    "### Identity operators\n",
    "is and is not are the identity operators both are used to check if two values are located on the same part of the memory. Two variables that are equal do not imply that they are identical. "
   ]
  },
  {
   "cell_type": "code",
   "execution_count": 13,
   "id": "1d890906-dc8d-422f-9247-9c5598454a5e",
   "metadata": {},
   "outputs": [
    {
     "name": "stdout",
     "output_type": "stream",
     "text": [
      "True\n",
      "True\n"
     ]
    }
   ],
   "source": [
    "a = 10\n",
    "b = 20\n",
    "c = a\n",
    "\n",
    "print(a is not b)\n",
    "print(a is c)"
   ]
  },
  {
   "cell_type": "markdown",
   "id": "84a7bb91-1256-411c-92c9-894c5760c729",
   "metadata": {},
   "source": [
    "### Membership Operators\n",
    "#### in or not in is the two operation of Membership Operators used to check the value is present or not present in the variable \n",
    "#### in            True if value is found in the sequence\n",
    "#### not in        True if value is not found in the sequence"
   ]
  },
  {
   "cell_type": "code",
   "execution_count": 14,
   "id": "7f5633d5-8880-4d6b-86cd-0712fd968690",
   "metadata": {},
   "outputs": [
    {
     "name": "stdout",
     "output_type": "stream",
     "text": [
      "x is NOT present in given list\n",
      "y is present in given list\n"
     ]
    }
   ],
   "source": [
    "x = 7\n",
    "y = 50\n",
    "list = [10, 20, 30, 40, 50]\n",
    "\n",
    "if (x not in list):\n",
    "    print(\"x is NOT present in given list\")\n",
    "else:\n",
    "    print(\"x is present in given list\")\n",
    "\n",
    "if (y in list):\n",
    "    print(\"y is present in given list\")\n",
    "else:\n",
    "    print(\"y is NOT present in given list\")"
   ]
  },
  {
   "cell_type": "markdown",
   "id": "a722ac68-cea5-4cdb-abf6-6179c24144b1",
   "metadata": {},
   "source": [
    "### Q.5 explain the concept of type casting in Python with examples.\n",
    "### answer :-\n",
    "Typecasting is also known as type conversion which means we convert the data types of the value"
   ]
  },
  {
   "cell_type": "code",
   "execution_count": 15,
   "id": "f2cb5e7c-e983-4b2c-8919-0e35d3812328",
   "metadata": {},
   "outputs": [
    {
     "data": {
      "text/plain": [
       "str"
      ]
     },
     "execution_count": 15,
     "metadata": {},
     "output_type": "execute_result"
    }
   ],
   "source": [
    "a = \"5\"\n",
    "type(a)"
   ]
  },
  {
   "cell_type": "code",
   "execution_count": 16,
   "id": "391c1beb-4605-47cf-b3a1-764bd053e507",
   "metadata": {},
   "outputs": [
    {
     "data": {
      "text/plain": [
       "12"
      ]
     },
     "execution_count": 16,
     "metadata": {},
     "output_type": "execute_result"
    }
   ],
   "source": [
    "int(\"5\")+7"
   ]
  },
  {
   "cell_type": "code",
   "execution_count": 17,
   "id": "3ca00345-8aa9-4267-a7bd-01390dea8a6f",
   "metadata": {},
   "outputs": [
    {
     "data": {
      "text/plain": [
       "106"
      ]
     },
     "execution_count": 17,
     "metadata": {},
     "output_type": "execute_result"
    }
   ],
   "source": [
    "a = \"100\"\n",
    "b = 6\n",
    "a = int(a)\n",
    "a+b"
   ]
  },
  {
   "cell_type": "code",
   "execution_count": 18,
   "id": "542fcb5e-3661-4f0e-b896-384c9df38f36",
   "metadata": {},
   "outputs": [
    {
     "data": {
      "text/plain": [
       "1100.01"
      ]
     },
     "execution_count": 18,
     "metadata": {},
     "output_type": "execute_result"
    }
   ],
   "source": [
    "a = 500\n",
    "b = 600.01\n",
    "a+b"
   ]
  },
  {
   "cell_type": "code",
   "execution_count": 20,
   "id": "6b0e5637-7a6a-429e-96c3-4090069bd8d9",
   "metadata": {},
   "outputs": [
    {
     "data": {
      "text/plain": [
       "int"
      ]
     },
     "execution_count": 20,
     "metadata": {},
     "output_type": "execute_result"
    }
   ],
   "source": [
    "a=100\n",
    "type(a)"
   ]
  },
  {
   "cell_type": "code",
   "execution_count": 21,
   "id": "9302736d-d097-4e2d-8ad3-012550e4fbff",
   "metadata": {},
   "outputs": [
    {
     "data": {
      "text/plain": [
       "str"
      ]
     },
     "execution_count": 21,
     "metadata": {},
     "output_type": "execute_result"
    }
   ],
   "source": [
    "a = 100\n",
    "a = str(a)\n",
    "type(a)"
   ]
  },
  {
   "cell_type": "markdown",
   "id": "ab95331c-9860-4ad2-ab02-4384c77218e9",
   "metadata": {},
   "source": [
    "### Q6.How do conditional statements work in Python? Illustrate with examples\n",
    "### answer:-"
   ]
  },
  {
   "cell_type": "markdown",
   "id": "e4a39116-26c0-4b07-8a56-dfcb4b421bcf",
   "metadata": {},
   "source": [
    "#### Conditional statements can be used to make our code more dynamic and responsive to different conditions.  the conditional staements are if elif or else"
   ]
  },
  {
   "cell_type": "code",
   "execution_count": 22,
   "id": "89101b24-0c6e-4fa7-a89c-fcbe835846f3",
   "metadata": {},
   "outputs": [
    {
     "name": "stdin",
     "output_type": "stream",
     "text": [
      "enter your marks 45\n"
     ]
    },
    {
     "name": "stdout",
     "output_type": "stream",
     "text": [
      "You are fail\n"
     ]
    }
   ],
   "source": [
    "score = int (input(\"enter your marks\"))\n",
    "if score >= 90:\n",
    "    print(\"The grade is A+\")\n",
    "elif 80<=score<90:\n",
    "    print(\"The grade is A\")\n",
    "elif 70<=score<80:\n",
    "    print(\"The grade is B+\")\n",
    "elif 60<=score<70:\n",
    "    print(\"The grade is B\")\n",
    "else:\n",
    "    print(\"You are fail\")"
   ]
  },
  {
   "cell_type": "markdown",
   "id": "e3dc33b7-48b4-46f6-9ef9-faf1564e917c",
   "metadata": {},
   "source": [
    "### Q7. Describe the different types of loops in Python and their use cases with examples.\n",
    "#### Answer :- the two different types of loops in python are For and while :\n",
    "##### FOR loop :- if we know how many time loop iterate\n",
    "##### while loop :- if we apply condition to apply when to stop loop "
   ]
  },
  {
   "cell_type": "code",
   "execution_count": 24,
   "id": "34cb993e-ecf6-4616-89bb-5f0100e47100",
   "metadata": {},
   "outputs": [
    {
     "name": "stdout",
     "output_type": "stream",
     "text": [
      "1\n",
      "2\n",
      "3\n",
      "4\n",
      "5\n",
      "6\n",
      "7\n",
      "8\n",
      "9\n",
      "10\n"
     ]
    }
   ],
   "source": [
    "# foe loop \n",
    "n= 11\n",
    "for i in range (1,11):\n",
    "    print( i)"
   ]
  },
  {
   "cell_type": "code",
   "execution_count": 26,
   "id": "f940ba75-cfa6-4f7d-bdbe-3863e64ff90f",
   "metadata": {},
   "outputs": [
    {
     "name": "stdin",
     "output_type": "stream",
     "text": [
      "table 20\n"
     ]
    },
    {
     "name": "stdout",
     "output_type": "stream",
     "text": [
      "20\n",
      "40\n",
      "60\n",
      "80\n",
      "100\n",
      "120\n",
      "140\n",
      "160\n",
      "180\n",
      "200\n"
     ]
    }
   ],
   "source": [
    "n= int (input ( \"table\"))\n",
    "for i in range (1,11):\n",
    "    print(i * n)"
   ]
  },
  {
   "cell_type": "code",
   "execution_count": 2,
   "id": "c912ddbb-91bb-4ac8-95ba-a6d8f03a1ba0",
   "metadata": {},
   "outputs": [
    {
     "name": "stdout",
     "output_type": "stream",
     "text": [
      " pwskill \n",
      " pwskill \n",
      " pwskill \n",
      " pwskill \n",
      " pwskill \n"
     ]
    }
   ],
   "source": [
    " #while \n",
    "a= 0\n",
    "while (a < 5):\n",
    "    a= a+1\n",
    "    print(\" pwskill \")"
   ]
  },
  {
   "cell_type": "code",
   "execution_count": null,
   "id": "33fd4347-0d7e-4e91-97fa-934a2ccc9af6",
   "metadata": {},
   "outputs": [],
   "source": []
  },
  {
   "cell_type": "code",
   "execution_count": null,
   "id": "3b8f6ffb-fea4-4da1-a9f9-70a794feacc2",
   "metadata": {},
   "outputs": [],
   "source": [
    "\n"
   ]
  }
 ],
 "metadata": {
  "kernelspec": {
   "display_name": "Python 3 (ipykernel)",
   "language": "python",
   "name": "python3"
  },
  "language_info": {
   "codemirror_mode": {
    "name": "ipython",
    "version": 3
   },
   "file_extension": ".py",
   "mimetype": "text/x-python",
   "name": "python",
   "nbconvert_exporter": "python",
   "pygments_lexer": "ipython3",
   "version": "3.10.8"
  }
 },
 "nbformat": 4,
 "nbformat_minor": 5
}
