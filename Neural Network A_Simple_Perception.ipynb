{
 "cells": [
  {
   "cell_type": "markdown",
   "metadata": {},
   "source": [
    "## Neural Network A Simple Perception"
   ]
  },
  {
   "cell_type": "markdown",
   "metadata": {},
   "source": [
    "### Q1. What is deep learning, and how is it connected to artificial intelligence ?"
   ]
  },
  {
   "cell_type": "markdown",
   "metadata": {
    "vscode": {
     "languageId": "markdown"
    }
   },
   "source": [
    "#### **Answer** Deep learning is a subset of machine learning, which itself is a branch of artificial intelligence (AI). It involves training artificial neural networks with multiple layers (hence \"deep\") to learn patterns and representations from large amounts of data. Deep learning models are particularly effective for tasks such as image recognition, natural language processing, and speech recognition. It is connected to AI as it enables machines to perform tasks that typically require human intelligence, such as understanding language, recognizing objects, and making decisions."
   ]
  },
  {
   "cell_type": "markdown",
   "metadata": {},
   "source": [
    "### Q2. What is a neural network, and what are the different types of neural networks?\n"
   ]
  },
  {
   "cell_type": "markdown",
   "metadata": {
    "vscode": {
     "languageId": "markdown"
    }
   },
   "source": [
    "#### **Answer** A neural network is a computational model inspired by the way biological neural networks in the human brain process information. It consists of layers of interconnected nodes (neurons), where each connection has an associated weight. Neural networks are used to recognize patterns, classify data, and make predictions.\n",
    "\n",
    "There are several types of neural networks :\n",
    "1. **Artifical Neural Networks (ANNs):** The simplest type of neural network where information flows in one direction, from input to output.\n",
    "2. **Convolutional Neural Networks (CNNs):** Specialized for processing structured grid data like images, commonly used in computer vision tasks.\n",
    "3. **Recurrent Neural Networks (RNNs):** Designed for sequential data, such as time series or natural language, with connections that form directed cycles.\n",
    "4. **Long Short-Term Memory Networks (LSTMs):** A type of RNN that can learn long-term dependencies, addressing the vanishing gradient problem.\n",
    "5. **Generative Adversarial Networks (GANs):** Consist of two networks (generator and discriminator) that compete to generate realistic data.\n",
    "6. **Autoencoders:** Used for unsupervised learning, dimensionality reduction, and feature extraction.\n",
    "7. **Radial Basis Function Networks (RBFNs):** Used for function approximation and classification tasks."
   ]
  },
  {
   "cell_type": "markdown",
   "metadata": {},
   "source": [
    "### Q3. What is the mathematical structure of a neural network."
   ]
  },
  {
   "cell_type": "markdown",
   "metadata": {},
   "source": []
  },
  {
   "cell_type": "markdown",
   "metadata": {},
   "source": [
    "### Q4.What is an activation function, and why is it essential in neural network."
   ]
  },
  {
   "cell_type": "markdown",
   "metadata": {
    "vscode": {
     "languageId": "markdown"
    }
   },
   "source": [
    "#### **Answer** : An activation function is a mathematical function applied to the output of a neuron in a neural network. It determines whether a neuron should be activated or not by introducing non-linearity into the model. Without activation functions, the neural network would behave like a linear regression model, regardless of the number of layers, and would not be able to learn complex patterns.\n",
    "\n",
    "Activation functions are essential because:\n",
    "1. **Non-linearity:** They allow the network to learn and model complex data patterns by introducing non-linear transformations.\n",
    "2. **Feature learning:** They help the network capture intricate relationships in the data.\n",
    "3. **Bounded output:** Some activation functions, like sigmoid, squash the output to a specific range, making it easier to interpret and stabilize training.\n",
    "4. **Gradient flow:** Proper activation functions help in maintaining the gradient flow during backpropagation, avoiding issues like vanishing or exploding gradients.\n",
    "\n",
    "Common activation functions include:\n",
    "- **Sigmoid:** Outputs values between 0 and 1, useful for binary classification.\n",
    "- **ReLU (Rectified Linear Unit):** Outputs the input directly if positive, otherwise 0, widely used due to its simplicity and efficiency.\n",
    "- **Tanh:** Outputs values between -1 and 1, useful for centered data.\n",
    "- **Softmax:** Converts outputs into probabilities, used in multi-class classification."
   ]
  },
  {
   "cell_type": "markdown",
   "metadata": {},
   "source": [
    "### Q.5 Could you list some common activation functions used in neural networks.\n"
   ]
  },
  {
   "cell_type": "markdown",
   "metadata": {},
   "source": [
    "#### **Answer** :  The list of some common activation functions used in neural networks are :\n",
    "-  **Sigmoid:** Outputs values between 0 and 1, useful for binary classification.\n",
    "- **ReLU (Rectified Linear Unit):** Outputs the input directly if positive, otherwise 0, widely used due to its simplicity and efficiency.\n",
    "- **Tanh:** Outputs values between -1 and 1, useful for centered data.\n",
    "- **Softmax:** Converts outputs into probabilities, used in multi-class classification."
   ]
  },
  {
   "cell_type": "markdown",
   "metadata": {},
   "source": [
    "### Q6. What is a multilayer neural network ?\n"
   ]
  },
  {
   "cell_type": "markdown",
   "metadata": {
    "vscode": {
     "languageId": "markdown"
    }
   },
   "source": [
    "#### **Answer** : A multilayer neural network, also known as a multilayer perceptron (MLP), is a type of artificial neural network where a tightly connected neural network from the input to the output layer. It has 3 layers: an input layer, a hidden layer, and an output layer. There are various nodes in each layer, and all nodes are interconnected with each other.\n",
    "\n",
    "1. **Input Layer:** The first layer that receives the input data.\n",
    "2. **Hidden Layers:** One or more intermediate layers where computations are performed. Each neuron in a hidden layer applies a weighted sum of its inputs followed by an activation function.\n",
    "3. **Output Layer:** The final layer that produces the output of the network.\n",
    "\n",
    "### The presence of hidden layers allows the network to learn complex patterns and representations in the data. Multilayer neural networks are capable of solving non-linear problems and are widely used in various applications such as classification, regression, and feature extraction."
   ]
  },
  {
   "cell_type": "markdown",
   "metadata": {},
   "source": [
    "### Q7. What is a loss function, and why is it crucial for neural network training.\n"
   ]
  },
  {
   "cell_type": "markdown",
   "metadata": {
    "vscode": {
     "languageId": "markdown"
    }
   },
   "source": [
    "#### **Answer** : A loss function is a mathematical function that measures the difference between the predicted output of a neural network and the actual target values. It quantifies how our model perform good or bad.\n",
    "#### **Loss functions are crucial for neural network training because:**\n",
    "1. **Guides Optimization:** The loss function provides a signal to the optimization algorithm (e.g., gradient descent) to adjust the model's weights and biases to minimize the error.\n",
    "2. **Performance Metric:** It serves as a metric to evaluate the model's performance during training and validation.\n",
    "3. **Model Improvement:** By minimizing the loss, the model learns to make better predictions and generalize to unseen data.\n",
    "\n"
   ]
  },
  {
   "cell_type": "markdown",
   "metadata": {
    "vscode": {
     "languageId": "markdown"
    }
   },
   "source": [
    "### Q8. What are some common types of loss functions."
   ]
  },
  {
   "cell_type": "markdown",
   "metadata": {
    "vscode": {
     "languageId": "markdown"
    }
   },
   "source": [
    "\n",
    "#### **Answer** : Some common types of loss functions used in neural networks are:\n",
    "\n",
    "1. **Mean Squared Error (MSE):** Used for regression tasks, it calculates the average squared difference between predicted and actual values.\n",
    "2. **Mean Absolute Error (MAE):** Also used for regression, it computes the average absolute difference between predicted and actual values.\n",
    "3. **Binary Cross-Entropy:** Used for binary classification tasks, it measures the difference between predicted probabilities and actual binary labels.\n",
    "4. **Categorical Cross-Entropy:** Used for multi-class classification tasks, it measures the difference between predicted probability distributions and actual class labels.\n",
    "5. **Hinge Loss:** Commonly used for training support vector machines (SVMs), it is also applicable to binary classification tasks.\n",
    "6. **Huber Loss:** Combines MSE and MAE, making it robust to outliers, and is used for regression tasks.\n",
    "7. **KL Divergence (Kullback-Leibler Divergence):** Measures the difference between two probability distributions, often used in probabilistic models.\n",
    "8. **Sparse Categorical Cross-Entropy:** Similar to categorical cross-entropy but used when class labels are provided as integers instead of one-hot encoded vectors.\n",
    "```"
   ]
  },
  {
   "cell_type": "markdown",
   "metadata": {
    "vscode": {
     "languageId": "markdown"
    }
   },
   "source": [
    "### Q9. How does a neural network learn.\n"
   ]
  },
  {
   "cell_type": "markdown",
   "metadata": {
    "vscode": {
     "languageId": "markdown"
    }
   },
   "source": [
    "#### **Answer** : Neural networks learn through a process called training, where they adjust internal weights and biases based on input data and feedback, using algorithms like backpropagation to minimize errors and improve accuracy.\n",
    "#### **Observing and Guessing (Forward Pass)**\n",
    "#### Imagine a student trying to solve a math problem for the first time. They take what they know, apply it, and make a guess. Similarly, a neural network takes input (like an image or text), processes it through layers, and makes a prediction.\n",
    "\n",
    "#### **Checking Mistakes (Loss Calculation)**\n",
    "#### After making a guess, the student checks their answer against the correct one. If it’s wrong, they figure out how far off they were. The neural network does the same using a loss function, which measures how incorrect its prediction was.\n",
    "\n",
    "#### **Learning from Mistakes (Backpropagation & Gradient Descent)**\n",
    "#### When a student realizes their mistake, they adjust their approach—maybe they rethink their logic or try a different method. A neural network does this by backpropagation, where it sends the error backward through the layers and tweaks the \"importance\" (weights) of different factors using gradient descent.\n",
    "\n",
    "#### **Practice Makes Perfect (Iterating & Improving)**\n",
    "#### Just like a student practices problems repeatedly to improve, a neural network goes through thousands (or even millions) of examples, adjusting its weights each time to get better. Over time, it becomes more accurate, just like a human mastering a skill."
   ]
  },
  {
   "cell_type": "markdown",
   "metadata": {
    "vscode": {
     "languageId": "markdown"
    }
   },
   "source": [
    "### Q10. What is an optimizer in neural networks, and why is it necessary.\n"
   ]
  },
  {
   "cell_type": "markdown",
   "metadata": {
    "vscode": {
     "languageId": "markdown"
    }
   },
   "source": [
    "#### **Answer** : An optimizer in neural networks is an algorithm or method used to adjust the weights and biases of the model during training to minimize the loss function. It plays a crucial role in improving the model's performance by finding the optimal set of parameters.\n",
    "\n",
    "#### **Why is it necessary?**\n",
    "1. **Efficient Training:** Optimizers help in efficiently navigating the loss landscape to find the minimum loss.\n",
    "2. **Convergence:** They ensure that the model converges to a solution by updating parameters in the right direction and magnitude.\n",
    "3. **Handling Complex Models:** For deep neural networks with millions of parameters, optimizers are essential to manage the complexity and scale of training.\n",
    "4. **Avoiding Local Minima:** Advanced optimizers can help escape local minima and saddle points to find a better global solution.\n",
    "\n"
   ]
  },
  {
   "cell_type": "markdown",
   "metadata": {},
   "source": [
    "### Q11. Could you briefly describe some common optimizers.\n"
   ]
  },
  {
   "cell_type": "markdown",
   "metadata": {
    "vscode": {
     "languageId": "markdown"
    }
   },
   "source": [
    "#### **Answer** : Some common optimizers used in neural networks are:\n",
    "\n",
    "1. **Gradient Descent:** The simplest optimization algorithm that updates weights by computing the gradient of the loss function with respect to the weights.\n",
    "\n",
    "2. **Stochastic Gradient Descent (SGD):** A variant of gradient descent that updates weights using a single data point or a small batch, making it faster and more scalable.\n",
    "\n",
    "3. **Momentum:** An extension of SGD that accelerates convergence by adding a fraction of the previous update to the current update, helping to navigate through flat regions and avoid oscillations.\n",
    "\n",
    "4. **Adagrad (Adaptive Gradient Algorithm):** Adjusts the learning rate for each parameter based on the historical gradients, making it suitable for sparse data.\n",
    "\n",
    "5. **RMSprop (Root Mean Square Propagation):** Divides the learning rate by a moving average of squared gradients, stabilizing training and improving convergence.\n",
    "\n",
    "6. **Adam (Adaptive Moment Estimation):** Combines the benefits of Momentum and RMSprop by using moving averages of both gradients and squared gradients, making it one of the most popular optimizers.\n",
    "\n",
    "7. **Adadelta:** An improvement over Adagrad that restricts the accumulation of past gradients to a fixed window, addressing the diminishing learning rate problem.\n",
    "\n",
    "8. **Nadam (Nesterov-accelerated Adaptive Moment Estimation):** A variant of Adam that incorporates Nesterov momentum for faster convergence.\n",
    "\n"
   ]
  },
  {
   "cell_type": "markdown",
   "metadata": {},
   "source": [
    "### Q12. Can you explain forward and backward propagation in a neural network.\n"
   ]
  },
  {
   "cell_type": "markdown",
   "metadata": {
    "vscode": {
     "languageId": "markdown"
    }
   },
   "source": [
    "#### **Answer** : Forward and backward propagation are two key processes in training a neural network.\n",
    "\n",
    "### **Forward Propagation:**\n",
    "### Forward propagation is the process where input data passes through the network to produce an output. means left to right .\n",
    "1. **Input to Output:** In forward propagation, the input data is passed through the network layer by layer, and computations are performed at each layer to produce the output.\n",
    "2. **Weighted Sum and Activation:** Each neuron computes a weighted sum of its inputs, adds a bias term, and applies an activation function to produce its output.\n",
    "3. **Prediction:** The final layer produces the network's prediction, which can be a class label, a probability distribution, or a continuous value, depending on the task.\n",
    "\n",
    "### **Backward Propagation:**\n",
    "### Backward propagation is used to adjust the network's weights and biases to minimize the error between predicted output (𝑦^) and actual output (𝑦).\n",
    "1. **Error Calculation:** After forward propagation, the error (difference between the predicted output and the actual target) is calculated using a loss function.\n",
    "2. **Gradient Computation:** The gradients of the loss with respect to the network's weights and biases are computed using the chain rule of calculus.\n",
    "3. **Weight Update:** The gradients are used to update the weights and biases in the network, typically using an optimization algorithm like gradient descent or Adam.\n",
    "4. **Iterative Process:** Backward propagation is repeated for multiple iterations (epochs) to minimize the loss and improve the network's performance.\n",
    "\n"
   ]
  },
  {
   "cell_type": "markdown",
   "metadata": {},
   "source": [
    "### Q13. What is weight initialization, and how does it impact training.\n"
   ]
  },
  {
   "cell_type": "markdown",
   "metadata": {
    "vscode": {
     "languageId": "markdown"
    }
   },
   "source": [
    "#### **Answer** : Weight initialization is the process of assigning initial values to the weights of a neural network before training begins. Proper weight initialization is crucial for effective training and convergence of the model.\n",
    "\n",
    "#### **How does it impact training?**\n",
    "1. **Avoiding Vanishing/Exploding Gradients:** Proper initialization prevents gradients from becoming too small (vanishing) or too large (exploding) during backpropagation, ensuring stable training.\n",
    "2. **Faster Convergence:** Good initialization helps the optimization algorithm converge faster by starting the training process closer to the optimal solution.\n",
    "3. **Breaking Symmetry:** Random initialization ensures that neurons learn different features by breaking symmetry, preventing identical updates to weights.\n",
    "4. **Improved Performance:** Proper initialization can lead to better generalization and improved model performance.\n",
    "\n",
    "#### **for example of Common Weight Initialization Techniques:**\n",
    "1. **Zero Initialization:** All weights are initialized to zero (not recommended as it leads to symmetry problems).\n",
    "2. **Random Initialization:** Weights are initialized randomly, often using a uniform or normal distribution.\n",
    "3. **Xavier Initialization:** Scales weights based on the number of input and output neurons, suitable for sigmoid and tanh activation functions.\n",
    "4. **He Initialization:** Scales weights based on the number of input neurons, suitable for ReLU and its variants.\n",
    "5. **LeCun Initialization:** Similar to Xavier but optimized for activation functions like SELU."
   ]
  },
  {
   "cell_type": "markdown",
   "metadata": {},
   "source": [
    "### Q14. What is the vanishing gradient problem in deep learning."
   ]
  },
  {
   "cell_type": "markdown",
   "metadata": {
    "vscode": {
     "languageId": "markdown"
    }
   },
   "source": [
    "### **Answer** The vanishing gradient problem in deep learning is a big issue that comes up when training neural networks in deep structures with lots of layers. It happens when the gradients used to update the weights during backpropagation get small disappearing. This makes it hard for the network to learn because the weights of the earlier layers change, which slows down or stops training altogether. Fixing the vanishing gradient problem is key to train deep neural networks . People have come up with ways to deal with this challenge, like setting up weights in a certain way at the start, using batch normalization, and trying out activation functions such as ReLU."
   ]
  },
  {
   "cell_type": "markdown",
   "metadata": {},
   "source": [
    "### Q15. What is the exploding gradient problem?\n"
   ]
  },
  {
   "cell_type": "markdown",
   "metadata": {},
   "source": [
    "### **Answer** Exploding is the opposite of Vanishing and is when the gradient continues to get larger which causes a large weight update and results in the Gradient Descent to diverge.\n",
    "\n",
    "#### Exploding gradients occur due to the weights in the Neural Network, not the activation function.\n",
    "\n",
    "#### The gradient linked to each weight in the Neural Network is equal to a product of numbers. If this contains a product of values that is greater than one, there is a possibility that the gradients become too large.\n",
    "\n",
    "#### The weights in the lower layers of the Neural Network are more likely to be affected by Exploding Gradient as their associated gradients are products of more values. This leads to the gradients of the lower layers being more unstable, causing the algorithm to diverge."
   ]
  },
  {
   "cell_type": "markdown",
   "metadata": {},
   "source": [
    "# **Practical**"
   ]
  },
  {
   "cell_type": "markdown",
   "metadata": {},
   "source": [
    "### Q1. How do you create a simple perceptron for basic binary classification."
   ]
  },
  {
   "cell_type": "code",
   "execution_count": 1,
   "metadata": {},
   "outputs": [],
   "source": [
    "import numpy as np"
   ]
  },
  {
   "cell_type": "code",
   "execution_count": 2,
   "metadata": {},
   "outputs": [],
   "source": [
    "# Define the activation function (step function)\n",
    "def step_function(x):\n",
    "    return 1 if x >= 0 else 0\n",
    "\n",
    "# Define the perceptron\n",
    "class Perceptron:\n",
    "    def __init__(self, input_size, learning_rate=0.01):\n",
    "        self.weights = np.zeros(input_size + 1)  # +1 for the bias\n",
    "        self.learning_rate = learning_rate\n",
    "\n",
    "    def predict(self, inputs):\n",
    "        summation = np.dot(inputs, self.weights[1:]) + self.weights[0]  # Weighted sum + bias\n",
    "        return step_function(summation)\n",
    "\n",
    "    def train(self, training_inputs, labels, epochs=10):\n",
    "        for _ in range(epochs):\n",
    "            for inputs, label in zip(training_inputs, labels):\n",
    "                prediction = self.predict(inputs)\n",
    "                self.weights[1:] += self.learning_rate * (label - prediction) * inputs\n",
    "                self.weights[0] += self.learning_rate * (label - prediction)  # Update bias"
   ]
  },
  {
   "cell_type": "code",
   "execution_count": 3,
   "metadata": {},
   "outputs": [],
   "source": [
    "# Training data: AND gate\n",
    "training_inputs = np.array([[0, 0], [0, 1], [1, 0], [1, 1]])\n",
    "labels = np.array([0, 0, 0, 1])"
   ]
  },
  {
   "cell_type": "code",
   "execution_count": 4,
   "metadata": {},
   "outputs": [],
   "source": [
    "# Create and train the perceptron\n",
    "perceptron = Perceptron(input_size=2)\n",
    "perceptron.train(training_inputs, labels, epochs=10)"
   ]
  },
  {
   "cell_type": "code",
   "execution_count": 5,
   "metadata": {},
   "outputs": [
    {
     "name": "stdout",
     "output_type": "stream",
     "text": [
      "Input: [0 0], Prediction: 0\n",
      "Input: [0 1], Prediction: 0\n",
      "Input: [1 0], Prediction: 0\n",
      "Input: [1 1], Prediction: 1\n"
     ]
    }
   ],
   "source": [
    "# Test the perceptron\n",
    "for inputs in training_inputs:\n",
    "    print(f\"Input: {inputs}, Prediction: {perceptron.predict(inputs)}\")"
   ]
  },
  {
   "cell_type": "markdown",
   "metadata": {},
   "source": [
    "### Q2. How can you build a neural network with one hidden layer using Keras."
   ]
  },
  {
   "cell_type": "code",
   "execution_count": 6,
   "metadata": {},
   "outputs": [
    {
     "name": "stdout",
     "output_type": "stream",
     "text": [
      "Requirement already satisfied: tensorflow in c:\\users\\asus\\appdata\\local\\packages\\pythonsoftwarefoundation.python.3.11_qbz5n2kfra8p0\\localcache\\local-packages\\python311\\site-packages (2.19.0)\n",
      "Requirement already satisfied: absl-py>=1.0.0 in c:\\users\\asus\\appdata\\local\\packages\\pythonsoftwarefoundation.python.3.11_qbz5n2kfra8p0\\localcache\\local-packages\\python311\\site-packages (from tensorflow) (2.2.2)\n",
      "Requirement already satisfied: astunparse>=1.6.0 in c:\\users\\asus\\appdata\\local\\packages\\pythonsoftwarefoundation.python.3.11_qbz5n2kfra8p0\\localcache\\local-packages\\python311\\site-packages (from tensorflow) (1.6.3)\n",
      "Requirement already satisfied: flatbuffers>=24.3.25 in c:\\users\\asus\\appdata\\local\\packages\\pythonsoftwarefoundation.python.3.11_qbz5n2kfra8p0\\localcache\\local-packages\\python311\\site-packages (from tensorflow) (25.2.10)\n",
      "Requirement already satisfied: gast!=0.5.0,!=0.5.1,!=0.5.2,>=0.2.1 in c:\\users\\asus\\appdata\\local\\packages\\pythonsoftwarefoundation.python.3.11_qbz5n2kfra8p0\\localcache\\local-packages\\python311\\site-packages (from tensorflow) (0.6.0)\n",
      "Requirement already satisfied: google-pasta>=0.1.1 in c:\\users\\asus\\appdata\\local\\packages\\pythonsoftwarefoundation.python.3.11_qbz5n2kfra8p0\\localcache\\local-packages\\python311\\site-packages (from tensorflow) (0.2.0)\n",
      "Requirement already satisfied: libclang>=13.0.0 in c:\\users\\asus\\appdata\\local\\packages\\pythonsoftwarefoundation.python.3.11_qbz5n2kfra8p0\\localcache\\local-packages\\python311\\site-packages (from tensorflow) (18.1.1)\n",
      "Requirement already satisfied: opt-einsum>=2.3.2 in c:\\users\\asus\\appdata\\local\\packages\\pythonsoftwarefoundation.python.3.11_qbz5n2kfra8p0\\localcache\\local-packages\\python311\\site-packages (from tensorflow) (3.4.0)\n",
      "Requirement already satisfied: packaging in c:\\users\\asus\\appdata\\local\\packages\\pythonsoftwarefoundation.python.3.11_qbz5n2kfra8p0\\localcache\\local-packages\\python311\\site-packages (from tensorflow) (24.2)\n",
      "Requirement already satisfied: protobuf!=4.21.0,!=4.21.1,!=4.21.2,!=4.21.3,!=4.21.4,!=4.21.5,<6.0.0dev,>=3.20.3 in c:\\users\\asus\\appdata\\local\\packages\\pythonsoftwarefoundation.python.3.11_qbz5n2kfra8p0\\localcache\\local-packages\\python311\\site-packages (from tensorflow) (5.29.4)\n",
      "Requirement already satisfied: requests<3,>=2.21.0 in c:\\users\\asus\\appdata\\local\\packages\\pythonsoftwarefoundation.python.3.11_qbz5n2kfra8p0\\localcache\\local-packages\\python311\\site-packages (from tensorflow) (2.32.3)\n",
      "Requirement already satisfied: setuptools in c:\\program files\\windowsapps\\pythonsoftwarefoundation.python.3.11_3.11.2544.0_x64__qbz5n2kfra8p0\\lib\\site-packages (from tensorflow) (65.5.0)\n",
      "Requirement already satisfied: six>=1.12.0 in c:\\users\\asus\\appdata\\local\\packages\\pythonsoftwarefoundation.python.3.11_qbz5n2kfra8p0\\localcache\\local-packages\\python311\\site-packages (from tensorflow) (1.17.0)\n",
      "Requirement already satisfied: termcolor>=1.1.0 in c:\\users\\asus\\appdata\\local\\packages\\pythonsoftwarefoundation.python.3.11_qbz5n2kfra8p0\\localcache\\local-packages\\python311\\site-packages (from tensorflow) (3.0.1)\n",
      "Requirement already satisfied: typing-extensions>=3.6.6 in c:\\users\\asus\\appdata\\local\\packages\\pythonsoftwarefoundation.python.3.11_qbz5n2kfra8p0\\localcache\\local-packages\\python311\\site-packages (from tensorflow) (4.12.2)\n",
      "Requirement already satisfied: wrapt>=1.11.0 in c:\\users\\asus\\appdata\\local\\packages\\pythonsoftwarefoundation.python.3.11_qbz5n2kfra8p0\\localcache\\local-packages\\python311\\site-packages (from tensorflow) (1.17.2)\n",
      "Requirement already satisfied: grpcio<2.0,>=1.24.3 in c:\\users\\asus\\appdata\\local\\packages\\pythonsoftwarefoundation.python.3.11_qbz5n2kfra8p0\\localcache\\local-packages\\python311\\site-packages (from tensorflow) (1.71.0)\n",
      "Requirement already satisfied: tensorboard~=2.19.0 in c:\\users\\asus\\appdata\\local\\packages\\pythonsoftwarefoundation.python.3.11_qbz5n2kfra8p0\\localcache\\local-packages\\python311\\site-packages (from tensorflow) (2.19.0)\n",
      "Requirement already satisfied: keras>=3.5.0 in c:\\users\\asus\\appdata\\local\\packages\\pythonsoftwarefoundation.python.3.11_qbz5n2kfra8p0\\localcache\\local-packages\\python311\\site-packages (from tensorflow) (3.9.2)\n",
      "Requirement already satisfied: numpy<2.2.0,>=1.26.0 in c:\\users\\asus\\appdata\\local\\packages\\pythonsoftwarefoundation.python.3.11_qbz5n2kfra8p0\\localcache\\local-packages\\python311\\site-packages (from tensorflow) (2.1.3)\n",
      "Requirement already satisfied: h5py>=3.11.0 in c:\\users\\asus\\appdata\\local\\packages\\pythonsoftwarefoundation.python.3.11_qbz5n2kfra8p0\\localcache\\local-packages\\python311\\site-packages (from tensorflow) (3.13.0)\n",
      "Requirement already satisfied: ml-dtypes<1.0.0,>=0.5.1 in c:\\users\\asus\\appdata\\local\\packages\\pythonsoftwarefoundation.python.3.11_qbz5n2kfra8p0\\localcache\\local-packages\\python311\\site-packages (from tensorflow) (0.5.1)\n",
      "Requirement already satisfied: tensorflow-io-gcs-filesystem>=0.23.1 in c:\\users\\asus\\appdata\\local\\packages\\pythonsoftwarefoundation.python.3.11_qbz5n2kfra8p0\\localcache\\local-packages\\python311\\site-packages (from tensorflow) (0.31.0)\n",
      "Requirement already satisfied: wheel<1.0,>=0.23.0 in c:\\users\\asus\\appdata\\local\\packages\\pythonsoftwarefoundation.python.3.11_qbz5n2kfra8p0\\localcache\\local-packages\\python311\\site-packages (from astunparse>=1.6.0->tensorflow) (0.45.1)\n",
      "Requirement already satisfied: rich in c:\\users\\asus\\appdata\\local\\packages\\pythonsoftwarefoundation.python.3.11_qbz5n2kfra8p0\\localcache\\local-packages\\python311\\site-packages (from keras>=3.5.0->tensorflow) (14.0.0)\n",
      "Requirement already satisfied: namex in c:\\users\\asus\\appdata\\local\\packages\\pythonsoftwarefoundation.python.3.11_qbz5n2kfra8p0\\localcache\\local-packages\\python311\\site-packages (from keras>=3.5.0->tensorflow) (0.0.8)\n",
      "Requirement already satisfied: optree in c:\\users\\asus\\appdata\\local\\packages\\pythonsoftwarefoundation.python.3.11_qbz5n2kfra8p0\\localcache\\local-packages\\python311\\site-packages (from keras>=3.5.0->tensorflow) (0.14.1)\n",
      "Requirement already satisfied: charset-normalizer<4,>=2 in c:\\users\\asus\\appdata\\local\\packages\\pythonsoftwarefoundation.python.3.11_qbz5n2kfra8p0\\localcache\\local-packages\\python311\\site-packages (from requests<3,>=2.21.0->tensorflow) (3.4.1)\n",
      "Requirement already satisfied: idna<4,>=2.5 in c:\\users\\asus\\appdata\\local\\packages\\pythonsoftwarefoundation.python.3.11_qbz5n2kfra8p0\\localcache\\local-packages\\python311\\site-packages (from requests<3,>=2.21.0->tensorflow) (3.10)\n",
      "Requirement already satisfied: urllib3<3,>=1.21.1 in c:\\users\\asus\\appdata\\local\\packages\\pythonsoftwarefoundation.python.3.11_qbz5n2kfra8p0\\localcache\\local-packages\\python311\\site-packages (from requests<3,>=2.21.0->tensorflow) (2.3.0)\n",
      "Requirement already satisfied: certifi>=2017.4.17 in c:\\users\\asus\\appdata\\local\\packages\\pythonsoftwarefoundation.python.3.11_qbz5n2kfra8p0\\localcache\\local-packages\\python311\\site-packages (from requests<3,>=2.21.0->tensorflow) (2025.1.31)\n",
      "Requirement already satisfied: markdown>=2.6.8 in c:\\users\\asus\\appdata\\local\\packages\\pythonsoftwarefoundation.python.3.11_qbz5n2kfra8p0\\localcache\\local-packages\\python311\\site-packages (from tensorboard~=2.19.0->tensorflow) (3.7)\n",
      "Requirement already satisfied: tensorboard-data-server<0.8.0,>=0.7.0 in c:\\users\\asus\\appdata\\local\\packages\\pythonsoftwarefoundation.python.3.11_qbz5n2kfra8p0\\localcache\\local-packages\\python311\\site-packages (from tensorboard~=2.19.0->tensorflow) (0.7.2)\n",
      "Requirement already satisfied: werkzeug>=1.0.1 in c:\\users\\asus\\appdata\\local\\packages\\pythonsoftwarefoundation.python.3.11_qbz5n2kfra8p0\\localcache\\local-packages\\python311\\site-packages (from tensorboard~=2.19.0->tensorflow) (3.1.3)\n",
      "Requirement already satisfied: MarkupSafe>=2.1.1 in c:\\users\\asus\\appdata\\local\\packages\\pythonsoftwarefoundation.python.3.11_qbz5n2kfra8p0\\localcache\\local-packages\\python311\\site-packages (from werkzeug>=1.0.1->tensorboard~=2.19.0->tensorflow) (3.0.2)\n",
      "Requirement already satisfied: markdown-it-py>=2.2.0 in c:\\users\\asus\\appdata\\local\\packages\\pythonsoftwarefoundation.python.3.11_qbz5n2kfra8p0\\localcache\\local-packages\\python311\\site-packages (from rich->keras>=3.5.0->tensorflow) (3.0.0)\n",
      "Requirement already satisfied: pygments<3.0.0,>=2.13.0 in c:\\users\\asus\\appdata\\local\\packages\\pythonsoftwarefoundation.python.3.11_qbz5n2kfra8p0\\localcache\\local-packages\\python311\\site-packages (from rich->keras>=3.5.0->tensorflow) (2.19.1)\n",
      "Requirement already satisfied: mdurl~=0.1 in c:\\users\\asus\\appdata\\local\\packages\\pythonsoftwarefoundation.python.3.11_qbz5n2kfra8p0\\localcache\\local-packages\\python311\\site-packages (from markdown-it-py>=2.2.0->rich->keras>=3.5.0->tensorflow) (0.1.2)\n",
      "Note: you may need to restart the kernel to use updated packages.\n"
     ]
    },
    {
     "name": "stderr",
     "output_type": "stream",
     "text": [
      "\n",
      "[notice] A new release of pip is available: 24.0 -> 25.0.1\n",
      "[notice] To update, run: C:\\Users\\ASUS\\AppData\\Local\\Microsoft\\WindowsApps\\PythonSoftwareFoundation.Python.3.11_qbz5n2kfra8p0\\python.exe -m pip install --upgrade pip\n"
     ]
    }
   ],
   "source": [
    "pip install tensorflow"
   ]
  },
  {
   "cell_type": "code",
   "execution_count": 7,
   "metadata": {},
   "outputs": [],
   "source": [
    "from tensorflow.keras.models import Sequential\n",
    "from tensorflow.keras.layers import Dense"
   ]
  },
  {
   "cell_type": "code",
   "execution_count": 8,
   "metadata": {},
   "outputs": [
    {
     "name": "stderr",
     "output_type": "stream",
     "text": [
      "C:\\Users\\ASUS\\AppData\\Local\\Packages\\PythonSoftwareFoundation.Python.3.11_qbz5n2kfra8p0\\LocalCache\\local-packages\\Python311\\site-packages\\keras\\src\\layers\\core\\dense.py:87: UserWarning: Do not pass an `input_shape`/`input_dim` argument to a layer. When using Sequential models, prefer using an `Input(shape)` object as the first layer in the model instead.\n",
      "  super().__init__(activity_regularizer=activity_regularizer, **kwargs)\n"
     ]
    }
   ],
   "source": [
    "# Define the model\n",
    "model = Sequential([\n",
    "    Dense(4, input_dim=2, activation='relu'),  # Hidden layer with 4 neurons and ReLU activation\n",
    "    Dense(1, activation='sigmoid')            # Output layer with 1 neuron and sigmoid activation\n",
    "])"
   ]
  },
  {
   "cell_type": "code",
   "execution_count": 9,
   "metadata": {},
   "outputs": [],
   "source": [
    "# Compile the model\n",
    "model.compile(optimizer='adam', loss='binary_crossentropy', metrics=['accuracy'])"
   ]
  },
  {
   "cell_type": "code",
   "execution_count": 10,
   "metadata": {},
   "outputs": [
    {
     "name": "stdout",
     "output_type": "stream",
     "text": [
      "Epoch 1/10\n",
      "\u001b[1m1/1\u001b[0m \u001b[32m━━━━━━━━━━━━━━━━━━━━\u001b[0m\u001b[37m\u001b[0m \u001b[1m1s\u001b[0m 1s/step - accuracy: 0.5000 - loss: 0.7384\n",
      "Epoch 2/10\n",
      "\u001b[1m1/1\u001b[0m \u001b[32m━━━━━━━━━━━━━━━━━━━━\u001b[0m\u001b[37m\u001b[0m \u001b[1m0s\u001b[0m 68ms/step - accuracy: 0.5000 - loss: 0.7373\n",
      "Epoch 3/10\n",
      "\u001b[1m1/1\u001b[0m \u001b[32m━━━━━━━━━━━━━━━━━━━━\u001b[0m\u001b[37m\u001b[0m \u001b[1m0s\u001b[0m 53ms/step - accuracy: 0.5000 - loss: 0.7362\n",
      "Epoch 4/10\n",
      "\u001b[1m1/1\u001b[0m \u001b[32m━━━━━━━━━━━━━━━━━━━━\u001b[0m\u001b[37m\u001b[0m \u001b[1m0s\u001b[0m 58ms/step - accuracy: 0.5000 - loss: 0.7351\n",
      "Epoch 5/10\n",
      "\u001b[1m1/1\u001b[0m \u001b[32m━━━━━━━━━━━━━━━━━━━━\u001b[0m\u001b[37m\u001b[0m \u001b[1m0s\u001b[0m 58ms/step - accuracy: 0.5000 - loss: 0.7340\n",
      "Epoch 6/10\n",
      "\u001b[1m1/1\u001b[0m \u001b[32m━━━━━━━━━━━━━━━━━━━━\u001b[0m\u001b[37m\u001b[0m \u001b[1m0s\u001b[0m 62ms/step - accuracy: 0.5000 - loss: 0.7330\n",
      "Epoch 7/10\n",
      "\u001b[1m1/1\u001b[0m \u001b[32m━━━━━━━━━━━━━━━━━━━━\u001b[0m\u001b[37m\u001b[0m \u001b[1m0s\u001b[0m 60ms/step - accuracy: 0.5000 - loss: 0.7319\n",
      "Epoch 8/10\n",
      "\u001b[1m1/1\u001b[0m \u001b[32m━━━━━━━━━━━━━━━━━━━━\u001b[0m\u001b[37m\u001b[0m \u001b[1m0s\u001b[0m 64ms/step - accuracy: 0.5000 - loss: 0.7308\n",
      "Epoch 9/10\n",
      "\u001b[1m1/1\u001b[0m \u001b[32m━━━━━━━━━━━━━━━━━━━━\u001b[0m\u001b[37m\u001b[0m \u001b[1m0s\u001b[0m 64ms/step - accuracy: 0.5000 - loss: 0.7297\n",
      "Epoch 10/10\n",
      "\u001b[1m1/1\u001b[0m \u001b[32m━━━━━━━━━━━━━━━━━━━━\u001b[0m\u001b[37m\u001b[0m \u001b[1m0s\u001b[0m 80ms/step - accuracy: 0.5000 - loss: 0.7287\n"
     ]
    },
    {
     "data": {
      "text/plain": [
       "<keras.src.callbacks.history.History at 0x23613c6b050>"
      ]
     },
     "execution_count": 10,
     "metadata": {},
     "output_type": "execute_result"
    }
   ],
   "source": [
    "# Train the model\n",
    "model.fit(training_inputs, labels, epochs=10, verbose=1)"
   ]
  },
  {
   "cell_type": "markdown",
   "metadata": {},
   "source": [
    "### Q3. How do you initialize weights using the Xavier (Glorot) initialization method in Keras."
   ]
  },
  {
   "cell_type": "code",
   "execution_count": 11,
   "metadata": {},
   "outputs": [],
   "source": [
    "from tensorflow.keras.initializers import GlorotUniform\n",
    "\n",
    "\n",
    "model = Sequential([\n",
    "    Dense(4, input_dim=2, activation='relu', kernel_initializer=GlorotUniform()),  # Hidden layer\n",
    "    Dense(1, activation='sigmoid', kernel_initializer=GlorotUniform())            # Output layer\n",
    "])"
   ]
  },
  {
   "cell_type": "markdown",
   "metadata": {},
   "source": [
    "### Q4.How can you apply different activation functions in a neural network in Keras."
   ]
  },
  {
   "cell_type": "code",
   "execution_count": 12,
   "metadata": {},
   "outputs": [],
   "source": [
    "from tensorflow.keras.models import Sequential\n",
    "from tensorflow.keras.layers import Dense\n",
    "\n",
    "# Define the model with different activation functions\n",
    "model = Sequential([\n",
    "    Dense(4, input_dim=2, activation='relu'),   # Hidden layer with ReLU activation\n",
    "    Dense(3, activation='tanh'),               # Hidden layer with Tanh activation\n",
    "    Dense(1, activation='sigmoid')             # Output layer with Sigmoid activation\n",
    "])"
   ]
  },
  {
   "cell_type": "markdown",
   "metadata": {},
   "source": [
    "#### Q5. How do you add drop out to a neural network model to prevent overfitting."
   ]
  },
  {
   "cell_type": "code",
   "execution_count": 13,
   "metadata": {},
   "outputs": [],
   "source": [
    "from tensorflow.keras.layers import Dropout\n",
    "\n",
    "# Define the model with dropout layers\n",
    "model = Sequential([\n",
    "    Dense(4, input_dim=2, activation='relu'),   # Hidden layer with ReLU activation\n",
    "    Dropout(0.5),                               # Dropout layer with 50% dropout rate\n",
    "    Dense(3, activation='tanh'),               # Hidden layer with Tanh activation\n",
    "    Dropout(0.3),                               # Dropout layer with 30% dropout rate\n",
    "    Dense(1, activation='sigmoid')             # Output layer with Sigmoid activation\n",
    "])"
   ]
  },
  {
   "cell_type": "markdown",
   "metadata": {},
   "source": [
    "### Q6.How do you manually implement forward propagation in a simple neural network."
   ]
  },
  {
   "cell_type": "code",
   "execution_count": null,
   "metadata": {},
   "outputs": [],
   "source": [
    "# Define weights and biases for a single-layer neural network\n",
    "weights = np.array([0.5, -0.6])  # Example weights\n",
    "bias = 0.1  # Example bias\n",
    "\n",
    "# Define the activation function (e.g., sigmoid)\n",
    "def sigmoid(x):\n",
    "    return 1 / (1 + np.exp(-x))"
   ]
  },
  {
   "cell_type": "code",
   "execution_count": 17,
   "metadata": {},
   "outputs": [],
   "source": [
    "# Perform forward propagation\n",
    "def forward_propagation(inputs):\n",
    "    weighted_sum = np.dot(inputs, weights) + bias  # Weighted sum\n",
    "    output = sigmoid(weighted_sum)  # Apply activation function\n",
    "    return output"
   ]
  },
  {
   "cell_type": "code",
   "execution_count": 18,
   "metadata": {},
   "outputs": [
    {
     "name": "stdout",
     "output_type": "stream",
     "text": [
      "Output: 0.5\n"
     ]
    }
   ],
   "source": [
    "# Test forward propagation with the given inputs\n",
    "output = forward_propagation(inputs)\n",
    "print(f\"Output: {output}\")"
   ]
  },
  {
   "cell_type": "markdown",
   "metadata": {},
   "source": [
    "### Q7.How do you add batch normalization to a neural network model in Keras."
   ]
  },
  {
   "cell_type": "code",
   "execution_count": null,
   "metadata": {},
   "outputs": [],
   "source": [
    "from tensorflow.keras.layers import BatchNormalization\n",
    "\n",
    "# Define the model with batch normalization layers\n",
    "model = Sequential([\n",
    "    Dense(4, input_dim=2, activation='relu'),   # Hidden layer with ReLU activation\n",
    "    BatchNormalization(),                       # Batch normalization layer\n",
    "    Dense(3, activation='tanh'),               # Hidden layer with Tanh activation\n",
    "    BatchNormalization(),                       # Batch normalization layer\n",
    "    Dense(1, activation='sigmoid')             # Output layer with Sigmoid activation\n",
    "])"
   ]
  },
  {
   "cell_type": "markdown",
   "metadata": {},
   "source": [
    "### Q8. How can you visualize the training process with accuracy and loss curves."
   ]
  },
  {
   "cell_type": "code",
   "execution_count": 24,
   "metadata": {},
   "outputs": [],
   "source": [
    "import matplotlib.pyplot as plt"
   ]
  },
  {
   "cell_type": "code",
   "execution_count": 26,
   "metadata": {},
   "outputs": [],
   "source": [
    "model.compile(optimizer='adam', loss='binary_crossentropy', metrics=['accuracy'])"
   ]
  },
  {
   "cell_type": "code",
   "execution_count": 27,
   "metadata": {},
   "outputs": [
    {
     "name": "stdout",
     "output_type": "stream",
     "text": [
      "Epoch 1/10\n"
     ]
    },
    {
     "name": "stdout",
     "output_type": "stream",
     "text": [
      "\u001b[1m1/1\u001b[0m \u001b[32m━━━━━━━━━━━━━━━━━━━━\u001b[0m\u001b[37m\u001b[0m \u001b[1m1s\u001b[0m 1s/step - accuracy: 0.6667 - loss: 0.7220 - val_accuracy: 0.0000e+00 - val_loss: 1.2369\n",
      "Epoch 2/10\n",
      "\u001b[1m1/1\u001b[0m \u001b[32m━━━━━━━━━━━━━━━━━━━━\u001b[0m\u001b[37m\u001b[0m \u001b[1m0s\u001b[0m 94ms/step - accuracy: 1.0000 - loss: 0.5123 - val_accuracy: 0.0000e+00 - val_loss: 1.2408\n",
      "Epoch 3/10\n",
      "\u001b[1m1/1\u001b[0m \u001b[32m━━━━━━━━━━━━━━━━━━━━\u001b[0m\u001b[37m\u001b[0m \u001b[1m0s\u001b[0m 95ms/step - accuracy: 1.0000 - loss: 0.5811 - val_accuracy: 0.0000e+00 - val_loss: 1.2449\n",
      "Epoch 4/10\n",
      "\u001b[1m1/1\u001b[0m \u001b[32m━━━━━━━━━━━━━━━━━━━━\u001b[0m\u001b[37m\u001b[0m \u001b[1m0s\u001b[0m 98ms/step - accuracy: 1.0000 - loss: 0.6880 - val_accuracy: 0.0000e+00 - val_loss: 1.2486\n",
      "Epoch 5/10\n",
      "\u001b[1m1/1\u001b[0m \u001b[32m━━━━━━━━━━━━━━━━━━━━\u001b[0m\u001b[37m\u001b[0m \u001b[1m0s\u001b[0m 96ms/step - accuracy: 1.0000 - loss: 0.4563 - val_accuracy: 0.0000e+00 - val_loss: 1.2529\n",
      "Epoch 6/10\n",
      "\u001b[1m1/1\u001b[0m \u001b[32m━━━━━━━━━━━━━━━━━━━━\u001b[0m\u001b[37m\u001b[0m \u001b[1m0s\u001b[0m 90ms/step - accuracy: 1.0000 - loss: 0.4504 - val_accuracy: 0.0000e+00 - val_loss: 1.2571\n",
      "Epoch 7/10\n",
      "\u001b[1m1/1\u001b[0m \u001b[32m━━━━━━━━━━━━━━━━━━━━\u001b[0m\u001b[37m\u001b[0m \u001b[1m0s\u001b[0m 92ms/step - accuracy: 1.0000 - loss: 0.5022 - val_accuracy: 0.0000e+00 - val_loss: 1.2614\n",
      "Epoch 8/10\n",
      "\u001b[1m1/1\u001b[0m \u001b[32m━━━━━━━━━━━━━━━━━━━━\u001b[0m\u001b[37m\u001b[0m \u001b[1m0s\u001b[0m 95ms/step - accuracy: 1.0000 - loss: 0.6392 - val_accuracy: 0.0000e+00 - val_loss: 1.2658\n",
      "Epoch 9/10\n",
      "\u001b[1m1/1\u001b[0m \u001b[32m━━━━━━━━━━━━━━━━━━━━\u001b[0m\u001b[37m\u001b[0m \u001b[1m0s\u001b[0m 92ms/step - accuracy: 1.0000 - loss: 0.6797 - val_accuracy: 0.0000e+00 - val_loss: 1.2699\n",
      "Epoch 10/10\n",
      "\u001b[1m1/1\u001b[0m \u001b[32m━━━━━━━━━━━━━━━━━━━━\u001b[0m\u001b[37m\u001b[0m \u001b[1m0s\u001b[0m 90ms/step - accuracy: 0.6667 - loss: 0.7100 - val_accuracy: 0.0000e+00 - val_loss: 1.2737\n"
     ]
    }
   ],
   "source": [
    "# Assuming you have a history object from your model training\n",
    "history = model.fit(training_inputs, labels, epochs=10, validation_split=0.2, verbose=1)"
   ]
  },
  {
   "cell_type": "code",
   "execution_count": 29,
   "metadata": {},
   "outputs": [
    {
     "data": {
      "image/png": "[encoded data removed]",
      "text/plain": [
       "<Figure size 1000x500 with 1 Axes>"
      ]
     },
     "metadata": {},
     "output_type": "display_data"
    }
   ],
   "source": [
    "# Plot training & validation accuracy values\n",
    "plt.figure(figsize=(10, 5))\n",
    "plt.plot(history.history['accuracy'], label='Training Accuracy')\n",
    "plt.plot(history.history['val_accuracy'], label='Validation Accuracy')\n",
    "plt.title('Model Accuracy')\n",
    "plt.ylabel('Accuracy')\n",
    "plt.xlabel('Epoch')\n",
    "plt.legend()\n",
    "plt.show()"
   ]
  },
  {
   "cell_type": "code",
   "execution_count": 30,
   "metadata": {},
   "outputs": [
    {
     "data": {
      "image/png": "[encoded data removed]",
      "text/plain": [
       "<Figure size 1000x500 with 1 Axes>"
      ]
     },
     "metadata": {},
     "output_type": "display_data"
    }
   ],
   "source": [
    "# Plot training & validation loss values\n",
    "plt.figure(figsize=(10, 5))\n",
    "plt.plot(history.history['loss'], label='Training Loss')\n",
    "plt.plot(history.history['val_loss'], label='Validation Loss')\n",
    "plt.title('Model Loss')\n",
    "plt.ylabel('Loss')\n",
    "plt.xlabel('Epoch')\n",
    "plt.legend()\n",
    "plt.show()"
   ]
  },
  {
   "cell_type": "markdown",
   "metadata": {},
   "source": [
    "### Q8.How can you use gradient clipping in Keras to control the gradient size and prevent exploding gradients."
   ]
  },
  {
   "cell_type": "code",
   "execution_count": 32,
   "metadata": {},
   "outputs": [],
   "source": [
    "from tensorflow.keras.optimizers import Adam\n",
    "\n",
    "# Define an optimizer with gradient clipping\n",
    "optimizer = Adam(learning_rate=0.001, clipvalue=1.0)  # Clip gradients by value\n",
    "\n",
    "#Alternatively, we can clip gradients by norm\n",
    "optimizer = Adam(learning_rate=0.001, clipnorm=1.0)\n",
    "\n",
    "# Compile the model with the clipped optimizer\n",
    "model.compile(optimizer=optimizer, loss='binary_crossentropy', metrics=['accuracy'])"
   ]
  },
  {
   "cell_type": "markdown",
   "metadata": {},
   "source": [
    "### Q9. How can you create a custom loss function in Keras."
   ]
  },
  {
   "cell_type": "code",
   "execution_count": 33,
   "metadata": {},
   "outputs": [],
   "source": [
    "from tensorflow.keras import backend as K\n",
    "\n",
    "# Define a custom loss function\n",
    "def custom_loss(y_true, y_pred):\n",
    "    return K.mean(K.square(y_pred - y_true))  # Example: Mean Squared Error\n",
    "\n",
    "# Compile the model with the custom loss function\n",
    "model.compile(optimizer=optimizer, loss=custom_loss, metrics=['accuracy'])"
   ]
  },
  {
   "cell_type": "markdown",
   "metadata": {},
   "source": [
    " \n",
    "### Q10 How can you visualize the structure of a neural network model in Keras?\n"
   ]
  },
  {
   "cell_type": "code",
   "execution_count": 43,
   "metadata": {},
   "outputs": [
    {
     "name": "stdout",
     "output_type": "stream",
     "text": [
      "Requirement already satisfied: pydot in c:\\users\\asus\\appdata\\local\\packages\\pythonsoftwarefoundation.python.3.11_qbz5n2kfra8p0\\localcache\\local-packages\\python311\\site-packages (3.0.4)\n",
      "Requirement already satisfied: pyparsing>=3.0.9 in c:\\users\\asus\\appdata\\local\\packages\\pythonsoftwarefoundation.python.3.11_qbz5n2kfra8p0\\localcache\\local-packages\\python311\\site-packages (from pydot) (3.2.1)\n",
      "Note: you may need to restart the kernel to use updated packages.\n"
     ]
    },
    {
     "name": "stderr",
     "output_type": "stream",
     "text": [
      "\n",
      "[notice] A new release of pip is available: 24.0 -> 25.0.1\n",
      "[notice] To update, run: C:\\Users\\ASUS\\AppData\\Local\\Microsoft\\WindowsApps\\PythonSoftwareFoundation.Python.3.11_qbz5n2kfra8p0\\python.exe -m pip install --upgrade pip\n"
     ]
    },
    {
     "name": "stdout",
     "output_type": "stream",
     "text": [
      "Requirement already satisfied: graphviz in c:\\users\\asus\\appdata\\local\\packages\\pythonsoftwarefoundation.python.3.11_qbz5n2kfra8p0\\localcache\\local-packages\\python311\\site-packages (0.20.3)\n",
      "Note: you may need to restart the kernel to use updated packages.\n"
     ]
    },
    {
     "name": "stderr",
     "output_type": "stream",
     "text": [
      "\n",
      "[notice] A new release of pip is available: 24.0 -> 25.0.1\n",
      "[notice] To update, run: C:\\Users\\ASUS\\AppData\\Local\\Microsoft\\WindowsApps\\PythonSoftwareFoundation.Python.3.11_qbz5n2kfra8p0\\python.exe -m pip install --upgrade pip\n"
     ]
    }
   ],
   "source": [
    "%pip install pydot\n",
    "%pip install graphviz\n"
   ]
  },
  {
   "cell_type": "code",
   "execution_count": 47,
   "metadata": {},
   "outputs": [
    {
     "name": "stdout",
     "output_type": "stream",
     "text": [
      "You must install pydot (`pip install pydot`) for `plot_model` to work.\n"
     ]
    },
    {
     "name": "stderr",
     "output_type": "stream",
     "text": [
      "C:\\Users\\ASUS\\AppData\\Local\\Packages\\PythonSoftwareFoundation.Python.3.11_qbz5n2kfra8p0\\LocalCache\\local-packages\\Python311\\site-packages\\keras\\src\\layers\\core\\dense.py:87: UserWarning: Do not pass an `input_shape`/`input_dim` argument to a layer. When using Sequential models, prefer using an `Input(shape)` object as the first layer in the model instead.\n",
      "  super().__init__(activity_regularizer=activity_regularizer, **kwargs)\n"
     ]
    }
   ],
   "source": [
    "from tensorflow.keras.models import Sequential\n",
    "from tensorflow.keras.layers import Dense\n",
    "from tensorflow.keras.utils import plot_model\n",
    "\n",
    "# Define a simple model\n",
    "model = Sequential([\n",
    "    Dense(128, activation='relu', input_shape=(784,)),\n",
    "    Dense(10, activation='softmax')\n",
    "])\n",
    "\n",
    "# Visualize the model\n",
    "plot_model(model, to_file=\"simple_model.png\", show_shapes=True, show_layer_names=True)\n",
    "\n",
    "\n",
    "# this code is not running in my local environment, but it should work in a Google Colab."
   ]
  },
  {
   "cell_type": "code",
   "execution_count": null,
   "metadata": {},
   "outputs": [],
   "source": []
  }
 ],
 "metadata": {
  "kernelspec": {
   "display_name": "Python 3",
   "language": "python",
   "name": "python3"
  },
  "language_info": {
   "codemirror_mode": {
    "name": "ipython",
    "version": 3
   },
   "file_extension": ".py",
   "mimetype": "text/x-python",
   "name": "python",
   "nbconvert_exporter": "python",
   "pygments_lexer": "ipython3",
   "version": "3.11.9"
  }
 },
 "nbformat": 4,
 "nbformat_minor": 2
}
