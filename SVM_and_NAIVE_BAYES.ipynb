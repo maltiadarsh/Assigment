{
  "cells": [
    {
      "cell_type": "markdown",
      "metadata": {
        "id": "Wx8eIslqhAZD"
      },
      "source": [
        "# **Support Vector Machine**"
      ]
    },
    {
      "cell_type": "markdown",
      "metadata": {
        "id": "85VdbhEchMOw"
      },
      "source": [
        "1) **What is support vector machine?**\n",
        "\n",
        "A Support Vector Machine (SVM) is a supervised machine learning algorithm commonly used for classification and regression tasks. The core idea behind SVM is to find a hyperplane (or decision boundary) that best separates the data points into different classes"
      ]
    },
    {
      "cell_type": "markdown",
      "metadata": {
        "id": "xI4rGyvhlHIv"
      },
      "source": [
        "**2) What is diffrence between Hard margin and soft margin SVM?**\n",
        "\n",
        "**Hard Margin SVM**\n",
        "\n",
        "Perfect Separation: Hard margin SVM assumes that the data is linearly separable and there are no outliers or noise. It tries to find a hyperplane that completely separates the two classes without any mistakes.\n",
        "\n",
        "No Misclassification Allowed: It doesn't allow any misclassification, meaning every data point must be on the correct side of the margin (or on the margin itself, if it's a support vector).\n",
        "\n",
        "Sensitive to Noise: If there are outliers or noisy data points, hard margin SVM can fail because it will try to fit the model perfectly to the data, which could lead to overfitting.\n",
        "\n",
        "**Soft Margin SVM**\n",
        "\n",
        "Allowance for Misclassification: Soft margin SVM allows some misclassifications (i.e., it allows some points to be on the wrong side of the margin or even the hyperplane) to improve the model's ability to generalize.\n",
        "\n",
        "C Parameter: The degree of tolerance for misclassification is controlled by a parameter C. A large C value means the model will try to minimize misclassification as much as possible, making it behave more like hard margin SVM. A small C value allows more flexibility in misclassification, which can improve the model's ability to generalize to new data.\n",
        "\n",
        "Handles Non-linearly Separable Data: Soft margin SVM is especially useful when the data is not perfectly separable (e.g., noisy data or data that is not linearly separable). It balances between having a wider margin and allowing some errors in classification.\n",
        "\n",
        "Robust to Outliers: By allowing misclassifications, soft margin SVM can avoid overfitting and can be more robust when the data contains outliers or noise."
      ]
    },
    {
      "cell_type": "markdown",
      "metadata": {
        "id": "Ka9IYoz1vB7L"
      },
      "source": [
        "**3) What is mathematical intution behind svm?**\n",
        "\n",
        "Maximize the margin between the two classes by finding the hyperplane that best separates them.\n",
        "\n",
        "Minimize the norm of the weight vector ∥𝑤∥(equivalent to maximizing the margin).\n",
        "\n",
        "Use slack variables for soft margin SVM to allow some misclassifications and improve generalization.\n",
        "\n",
        "Use kernels to handle non-linearly separable data by mapping the data to a higher-dimensional space where a linear separator is possible."
      ]
    },
    {
      "cell_type": "markdown",
      "metadata": {
        "id": "NCy0e8Ky46wI"
      },
      "source": [
        "**4) What is role of language matlipliers in SVM?**\n",
        "\n",
        "Lagrange multipliers are used in SVM to handle the constraints in the optimization problem (i.e., ensuring that the data points are correctly classified and separated).\n",
        "\n",
        "They help in identifying support vectors, which are the critical points that define the optimal hyperplane.\n",
        "\n",
        "Lagrange multipliers are also key in deriving the dual problem, which is often computationally more efficient, especially when using kernel functions for non-linear classification.\n"
      ]
    },
    {
      "cell_type": "markdown",
      "metadata": {
        "id": "G7BeUsVL9NIh"
      },
      "source": [
        "**5) What are support vectors in SVM?**\n",
        "\n",
        "In Support Vector Machines (SVM), support vectors are the data points that are most important for defining the decision boundary (or hyperplane) that separates different classes in the dataset. These support vectors lie closest to the decision boundary, and they essentially determine the position and orientation of this boundary.\n",
        "\n",
        "SVM tries to find the hyperplane (in 2D, a line) that maximizes the margin (distance) between the classes. The margin is defined as the distance between the hyperplane and the nearest data points from each class.\n",
        "\n",
        "The support vectors are the data points that are on the \"edge\" of this margin, meaning they are closest to the decision boundary."
      ]
    },
    {
      "cell_type": "markdown",
      "metadata": {
        "id": "WmSGeEzdl_H9"
      },
      "source": [
        "**6) What is support vector classifier?**\n",
        "\n",
        "Effective in high-dimensional spaces: SVC can handle data with many features (dimensions) efficiently, which makes it suitable for tasks like text classification or image recognition.\n",
        "\n",
        "Robust to overfitting: The use of the margin and the regularization parameter C helps SVC generalize well even with small training datasets.\n",
        "\n",
        "Versatile with kernels: By using kernel functions, SVC can be adapted to both linear and non-linear classification problems."
      ]
    },
    {
      "cell_type": "markdown",
      "metadata": {
        "id": "aybot7xMmqwC"
      },
      "source": [
        "**7) what is support vector regressor?**\n",
        "\n",
        "SVR is used to predict continuous values. For example, predicting house prices, stock prices, or any other numerical output.\n",
        "\n",
        "Instead of separating classes, the goal in SVR is to find a hyperplane (or a line, in 2D) that best fits the data points while allowing some margin for error. This hyperplane represents the predicted values.\n",
        "\n",
        "It uses support vectors to define the fit and is particularly effective for both linear and non-linear regression problems."
      ]
    },
    {
      "cell_type": "markdown",
      "metadata": {
        "id": "P4exMZvvt53v"
      },
      "source": [
        "**8) What is kernel trick in svm?**\n",
        "\n",
        "The kernel trick in Support Vector Machines (SVM) is a powerful technique that allows SVM to perform non-linear classification (or regression) tasks efficiently by transforming the data into a higher-dimensional space without explicitly computing the coordinates of the transformed data. This is particularly useful when the data is not linearly separable in its original space but might be separable in a higher-dimensional space.\n",
        "\n",
        "Common Kernel Functions:\n",
        "\n",
        "1) Linear Kernel:\n",
        "\n",
        "2) Polynomial Kernel\n",
        "\n",
        "3) Radial Basis Function (RBF) Kernel (Gaussian Kernel):\n",
        "\n",
        "4) Sigmoid Kernel:\n",
        "\n",
        "Non-linear decision boundaries:\n",
        "\n",
        "The kernel trick allows SVM to create non-linear decision boundaries, making it a versatile tool for a wide range of classification and regression tasks, especially when the relationship between the features and target variable is complex."
      ]
    },
    {
      "cell_type": "markdown",
      "metadata": {
        "id": "uKjWdYVyvIAv"
      },
      "source": [
        "**9) Compare linear kernel ,polynomial kernel , and rbf kernel**\n",
        "\n",
        "Linear Kernel: Use when you believe the data is linearly separable or nearly linear.\n",
        "\n",
        "Polynomial Kernel: Use when you expect polynomial relationships between features and the decision boundary is polynomial in nature.\n",
        "\n",
        "RBF Kernel: Use when you expect highly non-linear relationships in your data or have complex decision boundaries that cannot be easily captured by linear or polynomial kernels."
      ]
    },
    {
      "cell_type": "markdown",
      "metadata": {
        "id": "souhRaG4zOMN"
      },
      "source": [
        "**10) What is the effect of the c parameter in svm?**\n",
        "\n",
        "In Support Vector Machines (SVM), the C parameter plays a crucial role in controlling the trade-off between maximizing the margin (which helps to generalize the model) and minimizing classification errors (which allows the model to fit the training data more closely). Essentially, C is a regularization parameter that helps balance bias and variance in the model.\n",
        "\n",
        "**Large C (High Penalty for Misclassification):**\n",
        "\n",
        "Behavior: When C is large, the SVM tries to minimize classification errors at the cost of a smaller margin. This means the algorithm will prioritize fitting the training data as accurately as possible, allowing fewer misclassifications.\n",
        "\n",
        "Use Case: A large C is useful when you need the model to be very accurate on the training data and there is confidence that the training data is clean (without too much noise).\n",
        "\n",
        "**Small C (Low Penalty for Misclassification):**\n",
        "\n",
        "Behavior: When C is small, the SVM allows for more misclassifications in exchange for a larger margin. This results in the model being more flexible, and the decision boundary is less influenced by individual points.\n",
        "\n",
        "Use Case: A small C is useful when you want to prioritize generalization over perfect classification of the training data, especially if the data is noisy."
      ]
    },
    {
      "cell_type": "markdown",
      "metadata": {
        "id": "p9Ww_BRo4Ypv"
      },
      "source": [
        "**11) What is the role of the Gamma parameter in RBF kernel SVM?**\n",
        "\n",
        "The Gamma (γ) parameter in the Radial Basis Function (RBF) kernel plays a crucial role in determining the influence of each data point on the decision boundary in a Support Vector Machine (SVM) model.\n",
        "\n",
        "**Role of Gamma (γ) in RBF Kernel SVM:**\n",
        "\n",
        "**Effect on the shape of the decision boundary:**\n",
        "\n",
        "Gamma controls how much influence each individual data point has on the decision boundary. A higher gamma value means that the influence of each point is more localized, and the decision boundary will be more flexible and complex. Conversely, a lower gamma value means the influence of each point is more spread out, leading to a smoother, simpler decision boundary.\n",
        "\n",
        "**Effect of Different Gamma Values:**\n",
        "\n",
        "**High Gamma (large value):**\n",
        "\n",
        "Local influence: When Gamma is large, the RBF kernel’s influence is highly localized. Each point affects only a small region of the feature space, leading to a complex and wiggly decision boundary that can tightly fit the training data.\n",
        "\n",
        "Overfitting: With a high Gamma, the model may try to fit the data too closely, resulting in overfitting. The model may perform well on the training data but fail to generalize to new, unseen data.\n",
        "\n",
        "Gamma is a hyperparameter that significantly impacts the model’s performance. Choosing the right value for Gamma is crucial for building a good model.\n",
        "\n",
        "A high value of Gamma makes the model more sensitive to the individual data points, which can lead to overfitting.\n",
        "\n",
        "A low value of Gamma makes the model less sensitive, which can lead to underfitting.\n",
        "\n",
        "With low Gamma, the decision boundary is smoother and less flexible, which might fail to capture complex relationships in the data."
      ]
    },
    {
      "cell_type": "markdown",
      "metadata": {
        "id": "MLX2nU6wAw67"
      },
      "source": [
        "**12) What is naive bayes classifier , and why is it called \"Naive\"?**\n",
        "\n",
        "The Naive Bayes classifier is a probabilistic machine learning model used for classification tasks. It is based on Bayes' Theorem and makes strong (and often unrealistic) assumptions about the independence of features. These assumptions are what lead to the term \"naive.\"\n",
        "\n",
        "**Naive Assumption**\n",
        "\n",
        "The \"naive\" part of the Naive Bayes classifier comes from an assumption it makes: the features (variables) are conditionally independent given the class. This means that it assumes that the presence (or absence) of a feature in a given class is unrelated to the presence (or absence) of any other feature. In other words, it assumes that each feature contributes independently to the probability of the class, even if, in reality, the features might be correlated.\n",
        "\n",
        "\\P(X∣C)=P(x\n",
        "1\n",
        "​\n",
        " ,x\n",
        "2\n",
        "​\n",
        " ,...,x\n",
        "n\n",
        "​\n",
        " ∣C)=P(x\n",
        "1\n",
        "​\n",
        " ∣C)×P(x\n",
        "2\n",
        "​\n",
        " ∣C)×⋯×P(x\n",
        "n\n",
        "​\n",
        " ∣C)\n",
        "\n",
        " x\n",
        "1\n",
        "​\n",
        " ,x\n",
        "2\n",
        "​\n",
        " ,...,x\n",
        "n\n",
        "​\n",
        "   are the features, and the product of their individual conditional probabilities is used, rather than their joint probability.\n",
        "\n",
        "The term \"naive\" reflects this strong independence assumption between the features, which is often unrealistic in real-world problems. Features in many datasets are usually correlated (e.g., in text classification, words in a sentence are related). Despite this \"naive\" assumption, the classifier can perform surprisingly well in many practical scenarios, even when the independence assumption doesn't hold perfectly."
      ]
    },
    {
      "cell_type": "markdown",
      "metadata": {
        "id": "v2FYUprBB9Q4"
      },
      "source": [
        "**13) what is 'bayes' theorem?**\n",
        "\n",
        "Bayes' Theorem is a fundamental concept in probability theory and statistics, named after the Reverend Thomas Bayes. It provides a way to calculate the probability of a hypothesis (event or class) given some observed evidence, based on prior knowledge or beliefs.\n",
        "\n",
        "**The Formula for Bayes' Theorem**\n",
        "\n",
        "\\P(A∣B)=\n",
        "P(B)\n",
        "P(B∣A)⋅P(A)\n",
        "​\n",
        "\n",
        "P(A|B): The posterior probability of event A occurring, given that event B has occurred. This is what we're trying to find.\n",
        "\n",
        "P(B|A): The likelihood of event B occurring, given that event A is true.\n",
        "\n",
        "P(A): The prior probability of event A before any evidence (event B) is observed. This represents our belief about A before we get any new information.\n",
        "\n",
        "P(B): The marginal probability of event B occurring. This serves as a normalizing factor to ensure the total probability sums to 1.\n",
        "\n"
      ]
    },
    {
      "cell_type": "markdown",
      "metadata": {
        "id": "m-ZKYVxTH_L5"
      },
      "source": [
        "**14) Explain the difference between Gaussian Navie Bayes, multinomial Navie Bayes , and bernouli Naive Bayes.**\n",
        "\n",
        "**i) Gaussian Naive Bayes (GNB)**\n",
        "\n",
        "**Type of Features**: Continuous (typically real-valued data)\n",
        "\n",
        "Assumption: The features follow a Gaussian (normal) distribution within each class.\n",
        "\n",
        "\\In Gaussian Naive Bayes, we assume that each feature (predictor) is normally distributed within each class. For each class 𝐶\n",
        "\n",
        "**When to use:**\n",
        "\n",
        "This variant is used when you have continuous data where each feature follows a normal distribution (e.g., height, weight, age, or any other measurements).\n",
        "\n",
        "**ii). Multinomial Naive Bayes (MNB)**\n",
        "\n",
        "Type of Features: Discrete (counts or frequencies)\n",
        "\n",
        "Assumption: The features represent counts or frequencies of events (e.g., word counts, occurrences of categories).\n",
        "\n",
        "When to use:\n",
        "\n",
        "This variant is commonly used for text classification problems where the features are word counts or frequencies (e.g., document classification based on word frequency).\n",
        "\n",
        "Example Use Case:\n",
        "\n",
        "Spam detection in emails, where the features are the counts of certain words appearing in an email, and the goal is to classify it as \"spam\" or \"not spam.\"\n",
        "\n",
        "**iii). Bernoulli Naive Bayes (BNB)**\n",
        "\n",
        "Type of Features: Binary (presence or absence of a feature)\n",
        "\n",
        "Assumption: The features are binary (i.e., a feature either occurs or does not occur).\n",
        "\n",
        "When to use:\n",
        "\n",
        "This variant is used when the features are binary, i.e., the presence or absence of a feature (e.g., whether a word appears in a document or not).\n",
        "\n",
        "Example Use Case:\n",
        "\n",
        "Classifying documents based on whether certain keywords appear or not (e.g., predicting if a document is about sports based on the presence or absence of specific words like \"football,\" \"team,\" or \"score\").\n",
        "\n"
      ]
    },
    {
      "cell_type": "markdown",
      "metadata": {
        "id": "RkCcmDsxNqAP"
      },
      "source": [
        "**15) When should you use Gaussian navie bayes over other variants?**\n",
        "\n",
        "When your features are continuous and approximately follow a normal distribution:\n",
        "Assumption: Gaussian Naive Bayes assumes that the features for each class are normally distributed.\n",
        "\n",
        "Use Case: If you have continuous features (e.g., height, weight, temperature) and you suspect they are roughly Gaussian-distributed, GNB can perform well.\n",
        "\n",
        "If you want a simple, fast, and interpretable model:\n",
        "Why it’s good: GNB is known for its simplicity and speed because it involves calculating just the mean and variance for each class and feature. The model is computationally efficient, especially when dealing with large datasets.\n",
        "\n",
        "Use Case: If you need a quick model that gives reasonable performance and you want interpretability, GNB is a good choice. It can be faster to train than more complex models like random forests or SVMs.\n",
        "\n",
        "When you have a relatively small dataset or limited computational resources:\n",
        "Why it’s good: Unlike more complex models, GNB doesn’t require large amounts of data or significant computational resources. It is lightweight and scales well to smaller datasets.\n",
        "\n",
        "Use Case: In scenarios where resources are limited, such as in embedded systems or on devices with low computational power, GNB is a viable option."
      ]
    },
    {
      "cell_type": "markdown",
      "metadata": {
        "id": "3tHXpGyHrFlZ"
      },
      "source": [
        "**16) What are the key assumptions made by Naive Bayes?**\n",
        "\n",
        "Naive Bayes is a simple but powerful algorithm used for classification tasks, and it relies on several key assumptions:\n",
        "\n",
        "Conditional Independence:\n",
        "\n",
        "The most crucial assumption of Naive Bayes is that the features (or predictors) are conditionally independent, given the class label. This means that the presence or absence of a particular feature is assumed to be independent of the presence or absence of any other feature, assuming the class label is known.\n",
        "\n",
        "In reality, features are often correlated, but Naive Bayes ignores this correlation, which is why it’s considered \"naive.\""
      ]
    },
    {
      "cell_type": "markdown",
      "metadata": {
        "id": "NR5MBC9gxaV6"
      },
      "source": [
        "**17) What are advantage and disadvantage of naive Bayes ?**\n",
        "\n",
        "**Advantages of Naive Bayes:**\n",
        "\n",
        "Simplicity and Speed:\n",
        "\n",
        "Fast to Train and Predict: Naive Bayes is computationally efficient because it makes a strong assumption of independence between features, leading to a straightforward calculation of probabilities. This makes both the training and prediction phases very fast, even on large datasets.\n",
        "\n",
        "Works Well with High-Dimensional Data:\n",
        "\n",
        "Naive Bayes works well when you have a large number of features (such as in text classification tasks like spam filtering). Its simplicity allows it to handle high-dimensional datasets better than some other classifiers, like decision trees or SVMs, that might struggle with many features.\n",
        "\n",
        "Works Well with Small Data:\n",
        "\n",
        "It tends to perform well even with a small amount of training data, as it doesn’t require large amounts of data to estimate the parameters (since it assumes conditional independence and doesn't rely on modeling feature interactions).\n",
        "\n",
        "Handles Missing Data Well:\n",
        "\n",
        "Naive Bayes can handle missing data by simply ignoring the missing features when computing the probability. It doesn’t require complex imputation methods.\n",
        "\n",
        "Performs Well with Categorical Data:\n",
        "\n",
        "Naive Bayes performs particularly well on datasets with categorical features, as it naturally fits well with multinomial or Bernoulli distributions.\n",
        "\n",
        "Good Baseline Model:\n",
        "\n",
        "It is often used as a baseline model to compare against more complex algorithms, especially when speed and efficiency are important factors.\n",
        "\n",
        "**Disadvantages of Naive Bayes:**\n",
        "\n",
        "Strong Assumption of Independence:\n",
        "\n",
        "The biggest limitation is the assumption that all features are conditionally independent, which is rarely true in real-world data. For example, in image classification, pixel values are often correlated, and Naive Bayes ignores these correlations, potentially leading to poor performance in such cases.\n",
        "\n",
        "Poor Performance with Highly Correlated Features:\n",
        "\n",
        "When features are highly correlated (like in time series data, or when features are drawn from a similar distribution), Naive Bayes performs poorly, as the conditional independence assumption is violated.\n",
        "\n",
        "Sensitive to Imbalanced Data:\n",
        "\n",
        "Naive Bayes can be sensitive to class imbalances. If one class has many more instances than another, the model can become biased toward the majority class.\n",
        "\n",
        "Requires Assumptions About Distribution:\n",
        "\n",
        "For continuous data, Naive Bayes assumes that the features follow a Gaussian (normal) distribution. If the data doesn't follow this distribution, the model’s performance may degrade. While the multinomial version of Naive Bayes works for discrete data, it still assumes certain distributions that may not be realistic for all datasets.\n",
        "\n",
        "Over-Simplification in Complex Data:\n",
        "\n",
        "In complex problems, such as those involving many interacting features or complicated patterns, Naive Bayes might oversimplify the model, leading to suboptimal performance.\n",
        "\n",
        "Zero Probability Problem:\n",
        "\n",
        "When a feature value that is present in the test set is not observed in the training set, Naive Bayes assigns a zero probability, which can lead to incorrect classification. This can be mitigated by techniques like Laplace smoothing, but it’s still a potential issue.\n",
        "\n",
        "\n"
      ]
    },
    {
      "cell_type": "markdown",
      "metadata": {
        "id": "mOg4eluB2G1S"
      },
      "source": [
        "**18) Why is navie bayes is good choice for text classfication ?**\n",
        "\n",
        "\n",
        "Efficiency with large, high-dimensional data: Text datasets are often very large, and Naive Bayes scales well with this type of data.\n",
        "\n",
        "Probabilistic and interpretable: Its probabilistic framework aligns well with text data's inherent uncertainty.\n",
        "\n",
        "Simplicity: The model's simplicity, based on counting word frequencies, makes it easy to implement and fast to train.\n",
        "\n",
        "Multinomial distribution fits text data: The multinomial Naive Bayes model is particularly suited for tasks like spam detection and sentiment analysis, where word frequency plays a key role in classifying text.\n"
      ]
    },
    {
      "cell_type": "markdown",
      "metadata": {
        "id": "ljhdLaV0-ZlW"
      },
      "source": [
        "**19) comparision svm and navie bayes for classfication tasks.**\n",
        "\n",
        "Support Vector Machines (SVM):\n",
        "\n",
        "Type: Supervised Learning (classification and regression).\n",
        "\n",
        "Main Idea: SVM finds a hyperplane that best separates data points of different classes in a high-dimensional space. The goal is to maximize the margin between the classes (i.e., the distance between the hyperplane and the nearest data points).\n",
        "\n",
        "Kernel Trick: SVMs can be extended to work with non-linearly separable data by using kernel functions (linear, polynomial, radial basis function, etc.).\n",
        "\n",
        "Training Objective: Find the hyperplane with the maximum margin, which also minimizes classification errors.\n",
        "\n",
        "Naive Bayes:\n",
        "\n",
        "Type: Supervised Learning (classification).\n",
        "\n",
        "Main Idea: Based on Bayes' Theorem, Naive Bayes classifies data by calculating the probability of each class given the features and selecting the class with the highest probability. The key assumption is that features are conditionally independent given the class (hence the \"naive\" part).\n",
        "\n",
        "Training Objective: Estimate probabilities for each feature/class combination using the training data."
      ]
    },
    {
      "cell_type": "markdown",
      "metadata": {
        "id": "7WOvddbeBHnU"
      },
      "source": [
        "**20) How does laplace smoothing help in Naive Bayes?**\n",
        "\n",
        "Laplace smoothing (also known as additive smoothing) is a technique used to handle zero probability issues in the Naive Bayes algorithm, especially when estimating the probability of features (e.g., words in text classification) that may not appear in the training data but might appear in new (test) data.\n",
        "\n",
        "In Naive Bayes, we calculate the probability of each feature (or word, in text classification) given the class. If a feature doesn’t appear in the training data for a particular class, its probability would be zero, which would lead to problems when multiplying these probabilities together (because multiplying by zero results in zero).\n",
        "\n",
        "Laplace smoothing helps avoid zero probabilities by adding a small constant (usually 1) to the frequency counts during probability estimation. This ensures that no feature has a probability of zero, even if it didn’t appear in the training data.\n",
        "\n"
      ]
    },
    {
      "cell_type": "markdown",
      "metadata": {
        "id": "oqK0xDjECgfE"
      },
      "source": [
        "# <center>**practical question**</center>"
      ]
    },
    {
      "cell_type": "markdown",
      "metadata": {
        "id": "0QjQom2gCkM7"
      },
      "source": [
        "**1) Write a python program to train an SVM classifier on the iris dataset and evaluate accracy**."
      ]
    },
    {
      "cell_type": "code",
      "execution_count": 1,
      "metadata": {
        "id": "SJtRZPhkDCe2"
      },
      "outputs": [],
      "source": [
        "import numpy as np\n",
        "from sklearn import datasets\n",
        "from sklearn.model_selection import train_test_split\n",
        "from sklearn.svm import SVC\n",
        "from sklearn.metrics import accuracy_score\n",
        "\n"
      ]
    },
    {
      "cell_type": "code",
      "execution_count": 2,
      "metadata": {
        "id": "Sl4igj-tMv-X"
      },
      "outputs": [],
      "source": [
        "iris = datasets.load_iris()"
      ]
    },
    {
      "cell_type": "code",
      "execution_count": 3,
      "metadata": {
        "id": "JN19RLBlNFQY"
      },
      "outputs": [],
      "source": [
        "x = iris.data"
      ]
    },
    {
      "cell_type": "code",
      "execution_count": 4,
      "metadata": {
        "id": "dFIgY4GnNIGE"
      },
      "outputs": [],
      "source": [
        "y = iris.target"
      ]
    },
    {
      "cell_type": "code",
      "execution_count": 5,
      "metadata": {
        "id": "bwtul-2PNJ3Y"
      },
      "outputs": [],
      "source": [
        "x_train,x_test,y_train,y_test = train_test_split(x,y,test_size = 0.2,random_state = 2)"
      ]
    },
    {
      "cell_type": "code",
      "execution_count": 6,
      "metadata": {
        "id": "541z59elNevF"
      },
      "outputs": [],
      "source": [
        "svm_classifier = SVC(kernel = 'linear')"
      ]
    },
    {
      "cell_type": "code",
      "execution_count": 7,
      "metadata": {
        "colab": {
          "base_uri": "https://localhost:8080/",
          "height": 80
        },
        "id": "gdqSIeZ7PDhx",
        "outputId": "22152c4f-7ee1-4010-8854-965a4e69df7b"
      },
      "outputs": [
        {
          "data": {
            "text/html": [
              "<style>#sk-container-id-1 {color: black;}#sk-container-id-1 pre{padding: 0;}#sk-container-id-1 div.sk-toggleable {background-color: white;}#sk-container-id-1 label.sk-toggleable__label {cursor: pointer;display: block;width: 100%;margin-bottom: 0;padding: 0.3em;box-sizing: border-box;text-align: center;}#sk-container-id-1 label.sk-toggleable__label-arrow:before {content: \"▸\";float: left;margin-right: 0.25em;color: #696969;}#sk-container-id-1 label.sk-toggleable__label-arrow:hover:before {color: black;}#sk-container-id-1 div.sk-estimator:hover label.sk-toggleable__label-arrow:before {color: black;}#sk-container-id-1 div.sk-toggleable__content {max-height: 0;max-width: 0;overflow: hidden;text-align: left;background-color: #f0f8ff;}#sk-container-id-1 div.sk-toggleable__content pre {margin: 0.2em;color: black;border-radius: 0.25em;background-color: #f0f8ff;}#sk-container-id-1 input.sk-toggleable__control:checked~div.sk-toggleable__content {max-height: 200px;max-width: 100%;overflow: auto;}#sk-container-id-1 input.sk-toggleable__control:checked~label.sk-toggleable__label-arrow:before {content: \"▾\";}#sk-container-id-1 div.sk-estimator input.sk-toggleable__control:checked~label.sk-toggleable__label {background-color: #d4ebff;}#sk-container-id-1 div.sk-label input.sk-toggleable__control:checked~label.sk-toggleable__label {background-color: #d4ebff;}#sk-container-id-1 input.sk-hidden--visually {border: 0;clip: rect(1px 1px 1px 1px);clip: rect(1px, 1px, 1px, 1px);height: 1px;margin: -1px;overflow: hidden;padding: 0;position: absolute;width: 1px;}#sk-container-id-1 div.sk-estimator {font-family: monospace;background-color: #f0f8ff;border: 1px dotted black;border-radius: 0.25em;box-sizing: border-box;margin-bottom: 0.5em;}#sk-container-id-1 div.sk-estimator:hover {background-color: #d4ebff;}#sk-container-id-1 div.sk-parallel-item::after {content: \"\";width: 100%;border-bottom: 1px solid gray;flex-grow: 1;}#sk-container-id-1 div.sk-label:hover label.sk-toggleable__label {background-color: #d4ebff;}#sk-container-id-1 div.sk-serial::before {content: \"\";position: absolute;border-left: 1px solid gray;box-sizing: border-box;top: 0;bottom: 0;left: 50%;z-index: 0;}#sk-container-id-1 div.sk-serial {display: flex;flex-direction: column;align-items: center;background-color: white;padding-right: 0.2em;padding-left: 0.2em;position: relative;}#sk-container-id-1 div.sk-item {position: relative;z-index: 1;}#sk-container-id-1 div.sk-parallel {display: flex;align-items: stretch;justify-content: center;background-color: white;position: relative;}#sk-container-id-1 div.sk-item::before, #sk-container-id-1 div.sk-parallel-item::before {content: \"\";position: absolute;border-left: 1px solid gray;box-sizing: border-box;top: 0;bottom: 0;left: 50%;z-index: -1;}#sk-container-id-1 div.sk-parallel-item {display: flex;flex-direction: column;z-index: 1;position: relative;background-color: white;}#sk-container-id-1 div.sk-parallel-item:first-child::after {align-self: flex-end;width: 50%;}#sk-container-id-1 div.sk-parallel-item:last-child::after {align-self: flex-start;width: 50%;}#sk-container-id-1 div.sk-parallel-item:only-child::after {width: 0;}#sk-container-id-1 div.sk-dashed-wrapped {border: 1px dashed gray;margin: 0 0.4em 0.5em 0.4em;box-sizing: border-box;padding-bottom: 0.4em;background-color: white;}#sk-container-id-1 div.sk-label label {font-family: monospace;font-weight: bold;display: inline-block;line-height: 1.2em;}#sk-container-id-1 div.sk-label-container {text-align: center;}#sk-container-id-1 div.sk-container {/* jupyter's `normalize.less` sets `[hidden] { display: none; }` but bootstrap.min.css set `[hidden] { display: none !important; }` so we also need the `!important` here to be able to override the default hidden behavior on the sphinx rendered scikit-learn.org. See: https://github.com/scikit-learn/scikit-learn/issues/21755 */display: inline-block !important;position: relative;}#sk-container-id-1 div.sk-text-repr-fallback {display: none;}</style><div id=\"sk-container-id-1\" class=\"sk-top-container\"><div class=\"sk-text-repr-fallback\"><pre>SVC(kernel=&#x27;linear&#x27;)</pre><b>In a Jupyter environment, please rerun this cell to show the HTML representation or trust the notebook. <br />On GitHub, the HTML representation is unable to render, please try loading this page with nbviewer.org.</b></div><div class=\"sk-container\" hidden><div class=\"sk-item\"><div class=\"sk-estimator sk-toggleable\"><input class=\"sk-toggleable__control sk-hidden--visually\" id=\"sk-estimator-id-1\" type=\"checkbox\" checked><label for=\"sk-estimator-id-1\" class=\"sk-toggleable__label sk-toggleable__label-arrow\">SVC</label><div class=\"sk-toggleable__content\"><pre>SVC(kernel=&#x27;linear&#x27;)</pre></div></div></div></div></div>"
            ],
            "text/plain": [
              "SVC(kernel='linear')"
            ]
          },
          "execution_count": 7,
          "metadata": {},
          "output_type": "execute_result"
        }
      ],
      "source": [
        "svm_classifier.fit(x_train,y_train)"
      ]
    },
    {
      "cell_type": "code",
      "execution_count": 8,
      "metadata": {
        "id": "we19RQxrQ183"
      },
      "outputs": [],
      "source": [
        "y_pred = svm_classifier.predict(x_test)"
      ]
    },
    {
      "cell_type": "code",
      "execution_count": 9,
      "metadata": {
        "id": "vxd65_gQQ_ut"
      },
      "outputs": [],
      "source": [
        "accuracy = accuracy_score(y_test,y_pred)"
      ]
    },
    {
      "cell_type": "code",
      "execution_count": 10,
      "metadata": {
        "colab": {
          "base_uri": "https://localhost:8080/"
        },
        "id": "HGTnFNYzRIdn",
        "outputId": "5eb0f09a-89dd-4616-af06-96e91e65fa24"
      },
      "outputs": [
        {
          "data": {
            "text/plain": [
              "1.0"
            ]
          },
          "execution_count": 10,
          "metadata": {},
          "output_type": "execute_result"
        }
      ],
      "source": [
        "accuracy"
      ]
    },
    {
      "cell_type": "markdown",
      "metadata": {
        "id": "YsFPH5XgRNiW"
      },
      "source": [
        "**2) Write a python program to train two SVM classifiers with Linear and RBF kernels on the wine dataset then compare their accuracy.**"
      ]
    },
    {
      "cell_type": "code",
      "execution_count": 11,
      "metadata": {
        "id": "BKAvNvUvRn3O"
      },
      "outputs": [],
      "source": [
        "import numpy as np\n",
        "from sklearn.model_selection import train_test_split\n",
        "from sklearn.svm import SVC\n",
        "from sklearn.metrics import accuracy_score"
      ]
    },
    {
      "cell_type": "code",
      "execution_count": 12,
      "metadata": {
        "id": "qkCU9ETWUXuC"
      },
      "outputs": [],
      "source": [
        "wine = datasets.load_wine()"
      ]
    },
    {
      "cell_type": "code",
      "execution_count": 13,
      "metadata": {
        "id": "TWepM9vjUtbu"
      },
      "outputs": [],
      "source": [
        "x = wine.data"
      ]
    },
    {
      "cell_type": "code",
      "execution_count": 14,
      "metadata": {
        "colab": {
          "base_uri": "https://localhost:8080/"
        },
        "id": "HlJ59JOoU1fo",
        "outputId": "1875bccc-bed0-479c-d83e-9134efb9efb9"
      },
      "outputs": [
        {
          "data": {
            "text/plain": [
              "array([[1.423e+01, 1.710e+00, 2.430e+00, ..., 1.040e+00, 3.920e+00,\n",
              "        1.065e+03],\n",
              "       [1.320e+01, 1.780e+00, 2.140e+00, ..., 1.050e+00, 3.400e+00,\n",
              "        1.050e+03],\n",
              "       [1.316e+01, 2.360e+00, 2.670e+00, ..., 1.030e+00, 3.170e+00,\n",
              "        1.185e+03],\n",
              "       ...,\n",
              "       [1.327e+01, 4.280e+00, 2.260e+00, ..., 5.900e-01, 1.560e+00,\n",
              "        8.350e+02],\n",
              "       [1.317e+01, 2.590e+00, 2.370e+00, ..., 6.000e-01, 1.620e+00,\n",
              "        8.400e+02],\n",
              "       [1.413e+01, 4.100e+00, 2.740e+00, ..., 6.100e-01, 1.600e+00,\n",
              "        5.600e+02]])"
            ]
          },
          "execution_count": 14,
          "metadata": {},
          "output_type": "execute_result"
        }
      ],
      "source": [
        "x"
      ]
    },
    {
      "cell_type": "code",
      "execution_count": 15,
      "metadata": {
        "id": "8wSwi3WVUyJu"
      },
      "outputs": [],
      "source": [
        "y = wine.target"
      ]
    },
    {
      "cell_type": "code",
      "execution_count": 16,
      "metadata": {
        "colab": {
          "base_uri": "https://localhost:8080/"
        },
        "id": "XjsX85jvUz7u",
        "outputId": "55a6d40c-053e-4147-dfc8-576830c188ec"
      },
      "outputs": [
        {
          "data": {
            "text/plain": [
              "array([0, 0, 0, 0, 0, 0, 0, 0, 0, 0, 0, 0, 0, 0, 0, 0, 0, 0, 0, 0, 0, 0,\n",
              "       0, 0, 0, 0, 0, 0, 0, 0, 0, 0, 0, 0, 0, 0, 0, 0, 0, 0, 0, 0, 0, 0,\n",
              "       0, 0, 0, 0, 0, 0, 0, 0, 0, 0, 0, 0, 0, 0, 0, 1, 1, 1, 1, 1, 1, 1,\n",
              "       1, 1, 1, 1, 1, 1, 1, 1, 1, 1, 1, 1, 1, 1, 1, 1, 1, 1, 1, 1, 1, 1,\n",
              "       1, 1, 1, 1, 1, 1, 1, 1, 1, 1, 1, 1, 1, 1, 1, 1, 1, 1, 1, 1, 1, 1,\n",
              "       1, 1, 1, 1, 1, 1, 1, 1, 1, 1, 1, 1, 1, 1, 1, 1, 1, 1, 1, 1, 2, 2,\n",
              "       2, 2, 2, 2, 2, 2, 2, 2, 2, 2, 2, 2, 2, 2, 2, 2, 2, 2, 2, 2, 2, 2,\n",
              "       2, 2, 2, 2, 2, 2, 2, 2, 2, 2, 2, 2, 2, 2, 2, 2, 2, 2, 2, 2, 2, 2,\n",
              "       2, 2])"
            ]
          },
          "execution_count": 16,
          "metadata": {},
          "output_type": "execute_result"
        }
      ],
      "source": [
        "y"
      ]
    },
    {
      "cell_type": "code",
      "execution_count": 17,
      "metadata": {
        "id": "GN7ZPzkMVChn"
      },
      "outputs": [],
      "source": [
        "x_train,x_test,y_train,y_test = train_test_split(x,y,test_size = 0.2,random_state = 2)"
      ]
    },
    {
      "cell_type": "code",
      "execution_count": 18,
      "metadata": {
        "id": "TAWH7X6FVaGy"
      },
      "outputs": [],
      "source": [
        "svm_classifier = SVC(kernel = \"linear\")"
      ]
    },
    {
      "cell_type": "code",
      "execution_count": 19,
      "metadata": {
        "colab": {
          "base_uri": "https://localhost:8080/",
          "height": 80
        },
        "id": "h-MJcBndXXpx",
        "outputId": "e8ba0d1c-552c-4c10-a1ab-86ffcb5b0c3f"
      },
      "outputs": [
        {
          "data": {
            "text/html": [
              "<style>#sk-container-id-2 {color: black;}#sk-container-id-2 pre{padding: 0;}#sk-container-id-2 div.sk-toggleable {background-color: white;}#sk-container-id-2 label.sk-toggleable__label {cursor: pointer;display: block;width: 100%;margin-bottom: 0;padding: 0.3em;box-sizing: border-box;text-align: center;}#sk-container-id-2 label.sk-toggleable__label-arrow:before {content: \"▸\";float: left;margin-right: 0.25em;color: #696969;}#sk-container-id-2 label.sk-toggleable__label-arrow:hover:before {color: black;}#sk-container-id-2 div.sk-estimator:hover label.sk-toggleable__label-arrow:before {color: black;}#sk-container-id-2 div.sk-toggleable__content {max-height: 0;max-width: 0;overflow: hidden;text-align: left;background-color: #f0f8ff;}#sk-container-id-2 div.sk-toggleable__content pre {margin: 0.2em;color: black;border-radius: 0.25em;background-color: #f0f8ff;}#sk-container-id-2 input.sk-toggleable__control:checked~div.sk-toggleable__content {max-height: 200px;max-width: 100%;overflow: auto;}#sk-container-id-2 input.sk-toggleable__control:checked~label.sk-toggleable__label-arrow:before {content: \"▾\";}#sk-container-id-2 div.sk-estimator input.sk-toggleable__control:checked~label.sk-toggleable__label {background-color: #d4ebff;}#sk-container-id-2 div.sk-label input.sk-toggleable__control:checked~label.sk-toggleable__label {background-color: #d4ebff;}#sk-container-id-2 input.sk-hidden--visually {border: 0;clip: rect(1px 1px 1px 1px);clip: rect(1px, 1px, 1px, 1px);height: 1px;margin: -1px;overflow: hidden;padding: 0;position: absolute;width: 1px;}#sk-container-id-2 div.sk-estimator {font-family: monospace;background-color: #f0f8ff;border: 1px dotted black;border-radius: 0.25em;box-sizing: border-box;margin-bottom: 0.5em;}#sk-container-id-2 div.sk-estimator:hover {background-color: #d4ebff;}#sk-container-id-2 div.sk-parallel-item::after {content: \"\";width: 100%;border-bottom: 1px solid gray;flex-grow: 1;}#sk-container-id-2 div.sk-label:hover label.sk-toggleable__label {background-color: #d4ebff;}#sk-container-id-2 div.sk-serial::before {content: \"\";position: absolute;border-left: 1px solid gray;box-sizing: border-box;top: 0;bottom: 0;left: 50%;z-index: 0;}#sk-container-id-2 div.sk-serial {display: flex;flex-direction: column;align-items: center;background-color: white;padding-right: 0.2em;padding-left: 0.2em;position: relative;}#sk-container-id-2 div.sk-item {position: relative;z-index: 1;}#sk-container-id-2 div.sk-parallel {display: flex;align-items: stretch;justify-content: center;background-color: white;position: relative;}#sk-container-id-2 div.sk-item::before, #sk-container-id-2 div.sk-parallel-item::before {content: \"\";position: absolute;border-left: 1px solid gray;box-sizing: border-box;top: 0;bottom: 0;left: 50%;z-index: -1;}#sk-container-id-2 div.sk-parallel-item {display: flex;flex-direction: column;z-index: 1;position: relative;background-color: white;}#sk-container-id-2 div.sk-parallel-item:first-child::after {align-self: flex-end;width: 50%;}#sk-container-id-2 div.sk-parallel-item:last-child::after {align-self: flex-start;width: 50%;}#sk-container-id-2 div.sk-parallel-item:only-child::after {width: 0;}#sk-container-id-2 div.sk-dashed-wrapped {border: 1px dashed gray;margin: 0 0.4em 0.5em 0.4em;box-sizing: border-box;padding-bottom: 0.4em;background-color: white;}#sk-container-id-2 div.sk-label label {font-family: monospace;font-weight: bold;display: inline-block;line-height: 1.2em;}#sk-container-id-2 div.sk-label-container {text-align: center;}#sk-container-id-2 div.sk-container {/* jupyter's `normalize.less` sets `[hidden] { display: none; }` but bootstrap.min.css set `[hidden] { display: none !important; }` so we also need the `!important` here to be able to override the default hidden behavior on the sphinx rendered scikit-learn.org. See: https://github.com/scikit-learn/scikit-learn/issues/21755 */display: inline-block !important;position: relative;}#sk-container-id-2 div.sk-text-repr-fallback {display: none;}</style><div id=\"sk-container-id-2\" class=\"sk-top-container\"><div class=\"sk-text-repr-fallback\"><pre>SVC(kernel=&#x27;linear&#x27;)</pre><b>In a Jupyter environment, please rerun this cell to show the HTML representation or trust the notebook. <br />On GitHub, the HTML representation is unable to render, please try loading this page with nbviewer.org.</b></div><div class=\"sk-container\" hidden><div class=\"sk-item\"><div class=\"sk-estimator sk-toggleable\"><input class=\"sk-toggleable__control sk-hidden--visually\" id=\"sk-estimator-id-2\" type=\"checkbox\" checked><label for=\"sk-estimator-id-2\" class=\"sk-toggleable__label sk-toggleable__label-arrow\">SVC</label><div class=\"sk-toggleable__content\"><pre>SVC(kernel=&#x27;linear&#x27;)</pre></div></div></div></div></div>"
            ],
            "text/plain": [
              "SVC(kernel='linear')"
            ]
          },
          "execution_count": 19,
          "metadata": {},
          "output_type": "execute_result"
        }
      ],
      "source": [
        "svm_classifier.fit(x_train,y_train)"
      ]
    },
    {
      "cell_type": "code",
      "execution_count": 20,
      "metadata": {
        "id": "5XT4HnPLXaVC"
      },
      "outputs": [],
      "source": [
        "y_pred =svm_classifier.predict(x_test)"
      ]
    },
    {
      "cell_type": "code",
      "execution_count": 21,
      "metadata": {
        "id": "d9uaJ7EaXji6"
      },
      "outputs": [],
      "source": [
        "accuracy = accuracy_score(y_test,y_pred)"
      ]
    },
    {
      "cell_type": "code",
      "execution_count": 22,
      "metadata": {
        "colab": {
          "base_uri": "https://localhost:8080/"
        },
        "id": "V2ofWFLDXsgK",
        "outputId": "fb25a094-85aa-419a-9e0a-962a2b3e118e"
      },
      "outputs": [
        {
          "data": {
            "text/plain": [
              "0.9444444444444444"
            ]
          },
          "execution_count": 22,
          "metadata": {},
          "output_type": "execute_result"
        }
      ],
      "source": [
        "accuracy"
      ]
    },
    {
      "cell_type": "code",
      "execution_count": 23,
      "metadata": {
        "id": "f_FaV22WXt3e"
      },
      "outputs": [],
      "source": [
        "rbf_classifier = SVC(kernel = \"rbf\")"
      ]
    },
    {
      "cell_type": "code",
      "execution_count": 24,
      "metadata": {
        "colab": {
          "base_uri": "https://localhost:8080/",
          "height": 80
        },
        "id": "nP_jTNZwYLgC",
        "outputId": "d3c6d67d-316c-49ce-d2f7-e53cb0cf9410"
      },
      "outputs": [
        {
          "data": {
            "text/html": [
              "<style>#sk-container-id-3 {color: black;}#sk-container-id-3 pre{padding: 0;}#sk-container-id-3 div.sk-toggleable {background-color: white;}#sk-container-id-3 label.sk-toggleable__label {cursor: pointer;display: block;width: 100%;margin-bottom: 0;padding: 0.3em;box-sizing: border-box;text-align: center;}#sk-container-id-3 label.sk-toggleable__label-arrow:before {content: \"▸\";float: left;margin-right: 0.25em;color: #696969;}#sk-container-id-3 label.sk-toggleable__label-arrow:hover:before {color: black;}#sk-container-id-3 div.sk-estimator:hover label.sk-toggleable__label-arrow:before {color: black;}#sk-container-id-3 div.sk-toggleable__content {max-height: 0;max-width: 0;overflow: hidden;text-align: left;background-color: #f0f8ff;}#sk-container-id-3 div.sk-toggleable__content pre {margin: 0.2em;color: black;border-radius: 0.25em;background-color: #f0f8ff;}#sk-container-id-3 input.sk-toggleable__control:checked~div.sk-toggleable__content {max-height: 200px;max-width: 100%;overflow: auto;}#sk-container-id-3 input.sk-toggleable__control:checked~label.sk-toggleable__label-arrow:before {content: \"▾\";}#sk-container-id-3 div.sk-estimator input.sk-toggleable__control:checked~label.sk-toggleable__label {background-color: #d4ebff;}#sk-container-id-3 div.sk-label input.sk-toggleable__control:checked~label.sk-toggleable__label {background-color: #d4ebff;}#sk-container-id-3 input.sk-hidden--visually {border: 0;clip: rect(1px 1px 1px 1px);clip: rect(1px, 1px, 1px, 1px);height: 1px;margin: -1px;overflow: hidden;padding: 0;position: absolute;width: 1px;}#sk-container-id-3 div.sk-estimator {font-family: monospace;background-color: #f0f8ff;border: 1px dotted black;border-radius: 0.25em;box-sizing: border-box;margin-bottom: 0.5em;}#sk-container-id-3 div.sk-estimator:hover {background-color: #d4ebff;}#sk-container-id-3 div.sk-parallel-item::after {content: \"\";width: 100%;border-bottom: 1px solid gray;flex-grow: 1;}#sk-container-id-3 div.sk-label:hover label.sk-toggleable__label {background-color: #d4ebff;}#sk-container-id-3 div.sk-serial::before {content: \"\";position: absolute;border-left: 1px solid gray;box-sizing: border-box;top: 0;bottom: 0;left: 50%;z-index: 0;}#sk-container-id-3 div.sk-serial {display: flex;flex-direction: column;align-items: center;background-color: white;padding-right: 0.2em;padding-left: 0.2em;position: relative;}#sk-container-id-3 div.sk-item {position: relative;z-index: 1;}#sk-container-id-3 div.sk-parallel {display: flex;align-items: stretch;justify-content: center;background-color: white;position: relative;}#sk-container-id-3 div.sk-item::before, #sk-container-id-3 div.sk-parallel-item::before {content: \"\";position: absolute;border-left: 1px solid gray;box-sizing: border-box;top: 0;bottom: 0;left: 50%;z-index: -1;}#sk-container-id-3 div.sk-parallel-item {display: flex;flex-direction: column;z-index: 1;position: relative;background-color: white;}#sk-container-id-3 div.sk-parallel-item:first-child::after {align-self: flex-end;width: 50%;}#sk-container-id-3 div.sk-parallel-item:last-child::after {align-self: flex-start;width: 50%;}#sk-container-id-3 div.sk-parallel-item:only-child::after {width: 0;}#sk-container-id-3 div.sk-dashed-wrapped {border: 1px dashed gray;margin: 0 0.4em 0.5em 0.4em;box-sizing: border-box;padding-bottom: 0.4em;background-color: white;}#sk-container-id-3 div.sk-label label {font-family: monospace;font-weight: bold;display: inline-block;line-height: 1.2em;}#sk-container-id-3 div.sk-label-container {text-align: center;}#sk-container-id-3 div.sk-container {/* jupyter's `normalize.less` sets `[hidden] { display: none; }` but bootstrap.min.css set `[hidden] { display: none !important; }` so we also need the `!important` here to be able to override the default hidden behavior on the sphinx rendered scikit-learn.org. See: https://github.com/scikit-learn/scikit-learn/issues/21755 */display: inline-block !important;position: relative;}#sk-container-id-3 div.sk-text-repr-fallback {display: none;}</style><div id=\"sk-container-id-3\" class=\"sk-top-container\"><div class=\"sk-text-repr-fallback\"><pre>SVC()</pre><b>In a Jupyter environment, please rerun this cell to show the HTML representation or trust the notebook. <br />On GitHub, the HTML representation is unable to render, please try loading this page with nbviewer.org.</b></div><div class=\"sk-container\" hidden><div class=\"sk-item\"><div class=\"sk-estimator sk-toggleable\"><input class=\"sk-toggleable__control sk-hidden--visually\" id=\"sk-estimator-id-3\" type=\"checkbox\" checked><label for=\"sk-estimator-id-3\" class=\"sk-toggleable__label sk-toggleable__label-arrow\">SVC</label><div class=\"sk-toggleable__content\"><pre>SVC()</pre></div></div></div></div></div>"
            ],
            "text/plain": [
              "SVC()"
            ]
          },
          "execution_count": 24,
          "metadata": {},
          "output_type": "execute_result"
        }
      ],
      "source": [
        "rbf_classifier.fit(x_train,y_train)"
      ]
    },
    {
      "cell_type": "code",
      "execution_count": 25,
      "metadata": {
        "id": "Ws59rLaVYQBU"
      },
      "outputs": [],
      "source": [
        "y_pred = rbf_classifier.predict(x_test)"
      ]
    },
    {
      "cell_type": "code",
      "execution_count": 26,
      "metadata": {
        "id": "u_6BrzutaFKN"
      },
      "outputs": [],
      "source": [
        "accuracy = accuracy_score(y_test,y_pred)"
      ]
    },
    {
      "cell_type": "code",
      "execution_count": 27,
      "metadata": {
        "colab": {
          "base_uri": "https://localhost:8080/"
        },
        "id": "67Y5kgOEaIto",
        "outputId": "41ff0b99-39a1-4bb2-fa40-bde816bedde2"
      },
      "outputs": [
        {
          "data": {
            "text/plain": [
              "0.6944444444444444"
            ]
          },
          "execution_count": 27,
          "metadata": {},
          "output_type": "execute_result"
        }
      ],
      "source": [
        "accuracy"
      ]
    },
    {
      "cell_type": "markdown",
      "metadata": {
        "id": "g_5LrezLaQ9w"
      },
      "source": [
        "**3) Write a python program to train an SVR Regressor on a housing dataset and evuluate it using Mean Squared error (MSE)**"
      ]
    },
    {
      "cell_type": "code",
      "execution_count": 28,
      "metadata": {
        "id": "WLa2cT5gMpKe"
      },
      "outputs": [],
      "source": [
        "import numpy as np\n",
        "import pandas as pd\n",
        "import matplotlib.pyplot as plt\n",
        "from sklearn.model_selection import train_test_split\n",
        "from sklearn.svm import SVR\n",
        "from sklearn.metrics import mean_squared_error\n",
        "from sklearn.datasets import fetch_openml\n",
        "from sklearn.preprocessing import StandardScaler"
      ]
    },
    {
      "cell_type": "code",
      "execution_count": 29,
      "metadata": {
        "id": "dlJLmJOePPVu"
      },
      "outputs": [
        {
          "name": "stderr",
          "output_type": "stream",
          "text": [
            "c:\\Users\\ASUS\\AppData\\Local\\Programs\\Python\\Python312\\Lib\\site-packages\\sklearn\\datasets\\_openml.py:1022: FutureWarning: The default value of `parser` will change from `'liac-arff'` to `'auto'` in 1.4. You can set `parser='auto'` to silence this warning. Therefore, an `ImportError` will be raised from 1.4 if the dataset is dense and pandas is not installed. Note that the pandas parser may return different data types. See the Notes Section in fetch_openml's API doc for details.\n",
            "  warn(\n"
          ]
        }
      ],
      "source": [
        "dataset = fetch_openml('house_sales',version = 3)"
      ]
    },
    {
      "cell_type": "code",
      "execution_count": 30,
      "metadata": {
        "colab": {
          "base_uri": "https://localhost:8080/"
        },
        "id": "oyI5WvihQOtn",
        "outputId": "3043d4cb-d57e-4480-973e-366117304e64"
      },
      "outputs": [
        {
          "data": {
            "text/plain": [
              "{'data':        bedrooms  bathrooms  sqft_living  sqft_lot  floors  waterfront  view  \\\n",
              " 0             3       1.00         1180      5650     1.0           0     0   \n",
              " 1             3       2.25         2570      7242     2.0           0     0   \n",
              " 2             2       1.00          770     10000     1.0           0     0   \n",
              " 3             4       3.00         1960      5000     1.0           0     0   \n",
              " 4             3       2.00         1680      8080     1.0           0     0   \n",
              " ...         ...        ...          ...       ...     ...         ...   ...   \n",
              " 21608         3       2.50         1530      1131     3.0           0     0   \n",
              " 21609         4       2.50         2310      5813     2.0           0     0   \n",
              " 21610         2       0.75         1020      1350     2.0           0     0   \n",
              " 21611         3       2.50         1600      2388     2.0           0     0   \n",
              " 21612         2       0.75         1020      1076     2.0           0     0   \n",
              " \n",
              "        condition  grade  sqft_above  ...  yr_built  yr_renovated  zipcode  \\\n",
              " 0              3      7        1180  ...      1955             0    98178   \n",
              " 1              3      7        2170  ...      1951          1991    98125   \n",
              " 2              3      6         770  ...      1933             0    98028   \n",
              " 3              5      7        1050  ...      1965             0    98136   \n",
              " 4              3      8        1680  ...      1987             0    98074   \n",
              " ...          ...    ...         ...  ...       ...           ...      ...   \n",
              " 21608          3      8        1530  ...      2009             0    98103   \n",
              " 21609          3      8        2310  ...      2014             0    98146   \n",
              " 21610          3      7        1020  ...      2009             0    98144   \n",
              " 21611          3      8        1600  ...      2004             0    98027   \n",
              " 21612          3      7        1020  ...      2008             0    98144   \n",
              " \n",
              "            lat     long  sqft_living15  sqft_lot15  date_year  date_month  \\\n",
              " 0      47.5112 -122.257           1340        5650       2014          10   \n",
              " 1      47.7210 -122.319           1690        7639       2014          12   \n",
              " 2      47.7379 -122.233           2720        8062       2015           2   \n",
              " 3      47.5208 -122.393           1360        5000       2014          12   \n",
              " 4      47.6168 -122.045           1800        7503       2015           2   \n",
              " ...        ...      ...            ...         ...        ...         ...   \n",
              " 21608  47.6993 -122.346           1530        1509       2014           5   \n",
              " 21609  47.5107 -122.362           1830        7200       2015           2   \n",
              " 21610  47.5944 -122.299           1020        2007       2014           6   \n",
              " 21611  47.5345 -122.069           1410        1287       2015           1   \n",
              " 21612  47.5941 -122.299           1020        1357       2014          10   \n",
              " \n",
              "        date_day  \n",
              " 0            13  \n",
              " 1             9  \n",
              " 2            25  \n",
              " 3             9  \n",
              " 4            18  \n",
              " ...         ...  \n",
              " 21608        21  \n",
              " 21609        23  \n",
              " 21610        23  \n",
              " 21611        16  \n",
              " 21612        15  \n",
              " \n",
              " [21613 rows x 21 columns],\n",
              " 'target': 0        221900.0\n",
              " 1        538000.0\n",
              " 2        180000.0\n",
              " 3        604000.0\n",
              " 4        510000.0\n",
              "            ...   \n",
              " 21608    360000.0\n",
              " 21609    400000.0\n",
              " 21610    402101.0\n",
              " 21611    400000.0\n",
              " 21612    325000.0\n",
              " Name: price, Length: 21613, dtype: float64,\n",
              " 'frame':           price  bedrooms  bathrooms  sqft_living  sqft_lot  floors  \\\n",
              " 0      221900.0         3       1.00         1180      5650     1.0   \n",
              " 1      538000.0         3       2.25         2570      7242     2.0   \n",
              " 2      180000.0         2       1.00          770     10000     1.0   \n",
              " 3      604000.0         4       3.00         1960      5000     1.0   \n",
              " 4      510000.0         3       2.00         1680      8080     1.0   \n",
              " ...         ...       ...        ...          ...       ...     ...   \n",
              " 21608  360000.0         3       2.50         1530      1131     3.0   \n",
              " 21609  400000.0         4       2.50         2310      5813     2.0   \n",
              " 21610  402101.0         2       0.75         1020      1350     2.0   \n",
              " 21611  400000.0         3       2.50         1600      2388     2.0   \n",
              " 21612  325000.0         2       0.75         1020      1076     2.0   \n",
              " \n",
              "        waterfront  view  condition  grade  ...  yr_built  yr_renovated  \\\n",
              " 0               0     0          3      7  ...      1955             0   \n",
              " 1               0     0          3      7  ...      1951          1991   \n",
              " 2               0     0          3      6  ...      1933             0   \n",
              " 3               0     0          5      7  ...      1965             0   \n",
              " 4               0     0          3      8  ...      1987             0   \n",
              " ...           ...   ...        ...    ...  ...       ...           ...   \n",
              " 21608           0     0          3      8  ...      2009             0   \n",
              " 21609           0     0          3      8  ...      2014             0   \n",
              " 21610           0     0          3      7  ...      2009             0   \n",
              " 21611           0     0          3      8  ...      2004             0   \n",
              " 21612           0     0          3      7  ...      2008             0   \n",
              " \n",
              "        zipcode      lat     long  sqft_living15  sqft_lot15  date_year  \\\n",
              " 0        98178  47.5112 -122.257           1340        5650       2014   \n",
              " 1        98125  47.7210 -122.319           1690        7639       2014   \n",
              " 2        98028  47.7379 -122.233           2720        8062       2015   \n",
              " 3        98136  47.5208 -122.393           1360        5000       2014   \n",
              " 4        98074  47.6168 -122.045           1800        7503       2015   \n",
              " ...        ...      ...      ...            ...         ...        ...   \n",
              " 21608    98103  47.6993 -122.346           1530        1509       2014   \n",
              " 21609    98146  47.5107 -122.362           1830        7200       2015   \n",
              " 21610    98144  47.5944 -122.299           1020        2007       2014   \n",
              " 21611    98027  47.5345 -122.069           1410        1287       2015   \n",
              " 21612    98144  47.5941 -122.299           1020        1357       2014   \n",
              " \n",
              "        date_month  date_day  \n",
              " 0              10        13  \n",
              " 1              12         9  \n",
              " 2               2        25  \n",
              " 3              12         9  \n",
              " 4               2        18  \n",
              " ...           ...       ...  \n",
              " 21608           5        21  \n",
              " 21609           2        23  \n",
              " 21610           6        23  \n",
              " 21611           1        16  \n",
              " 21612          10        15  \n",
              " \n",
              " [21613 rows x 22 columns],\n",
              " 'categories': None,\n",
              " 'feature_names': ['bedrooms',\n",
              "  'bathrooms',\n",
              "  'sqft_living',\n",
              "  'sqft_lot',\n",
              "  'floors',\n",
              "  'waterfront',\n",
              "  'view',\n",
              "  'condition',\n",
              "  'grade',\n",
              "  'sqft_above',\n",
              "  'sqft_basement',\n",
              "  'yr_built',\n",
              "  'yr_renovated',\n",
              "  'zipcode',\n",
              "  'lat',\n",
              "  'long',\n",
              "  'sqft_living15',\n",
              "  'sqft_lot15',\n",
              "  'date_year',\n",
              "  'date_month',\n",
              "  'date_day'],\n",
              " 'target_names': ['price'],\n",
              " 'DESCR': \"Date converted to year/mo/day numerics.This dataset contains house sale prices for King County, which includes Seattle. It includes homes sold between May 2014 and May 2015.\\n\\nIt contains 19 house features plus the price and the id columns, along with 21613 observations.\\nIt's a great dataset for evaluating simple regression models.\\n\\nDownloaded from openml.org.\",\n",
              " 'details': {'id': '42731',\n",
              "  'name': 'house_sales',\n",
              "  'version': '3',\n",
              "  'description_version': '1',\n",
              "  'format': 'arff',\n",
              "  'creator': 'https://www.kaggle.com/harlfoxem/',\n",
              "  'contributor': 'https://www.kaggle.com/harlfoxem/',\n",
              "  'collection_date': '2016-08-25',\n",
              "  'upload_date': '2020-11-18T08:51:57',\n",
              "  'language': 'English',\n",
              "  'licence': 'CC0 Public Domain',\n",
              "  'url': 'https://api.openml.org/data/v1/download/22044765/house_sales.arff',\n",
              "  'parquet_url': 'https://data.openml.org/datasets/0004/42731/dataset_42731.pq',\n",
              "  'file_id': '22044765',\n",
              "  'default_target_attribute': 'price',\n",
              "  'row_id_attribute': 'id',\n",
              "  'visibility': 'public',\n",
              "  'original_data_url': 'https://www.kaggle.com/harlfoxem/housesalesprediction',\n",
              "  'minio_url': 'https://data.openml.org/datasets/0004/42731/dataset_42731.pq',\n",
              "  'status': 'active',\n",
              "  'processing_date': '2020-11-18 08:52:04',\n",
              "  'md5_checksum': 'ea7b46e10234119ae2ac9a262c320420'},\n",
              " 'url': 'https://www.openml.org/d/42731'}"
            ]
          },
          "execution_count": 30,
          "metadata": {},
          "output_type": "execute_result"
        }
      ],
      "source": [
        "dataset"
      ]
    },
    {
      "cell_type": "code",
      "execution_count": 31,
      "metadata": {
        "id": "QgNhJWUEQUSO"
      },
      "outputs": [],
      "source": [
        "x = dataset.data"
      ]
    },
    {
      "cell_type": "code",
      "execution_count": 32,
      "metadata": {
        "colab": {
          "base_uri": "https://localhost:8080/",
          "height": 443
        },
        "id": "tXObDrUU7J2I",
        "outputId": "fc844a64-69fe-477b-9e4f-9e6b0340dba5"
      },
      "outputs": [
        {
          "data": {
            "text/html": [
              "<div>\n",
              "<style scoped>\n",
              "    .dataframe tbody tr th:only-of-type {\n",
              "        vertical-align: middle;\n",
              "    }\n",
              "\n",
              "    .dataframe tbody tr th {\n",
              "        vertical-align: top;\n",
              "    }\n",
              "\n",
              "    .dataframe thead th {\n",
              "        text-align: right;\n",
              "    }\n",
              "</style>\n",
              "<table border=\"1\" class=\"dataframe\">\n",
              "  <thead>\n",
              "    <tr style=\"text-align: right;\">\n",
              "      <th></th>\n",
              "      <th>bedrooms</th>\n",
              "      <th>bathrooms</th>\n",
              "      <th>sqft_living</th>\n",
              "      <th>sqft_lot</th>\n",
              "      <th>floors</th>\n",
              "      <th>waterfront</th>\n",
              "      <th>view</th>\n",
              "      <th>condition</th>\n",
              "      <th>grade</th>\n",
              "      <th>sqft_above</th>\n",
              "      <th>...</th>\n",
              "      <th>yr_built</th>\n",
              "      <th>yr_renovated</th>\n",
              "      <th>zipcode</th>\n",
              "      <th>lat</th>\n",
              "      <th>long</th>\n",
              "      <th>sqft_living15</th>\n",
              "      <th>sqft_lot15</th>\n",
              "      <th>date_year</th>\n",
              "      <th>date_month</th>\n",
              "      <th>date_day</th>\n",
              "    </tr>\n",
              "  </thead>\n",
              "  <tbody>\n",
              "    <tr>\n",
              "      <th>0</th>\n",
              "      <td>3</td>\n",
              "      <td>1.00</td>\n",
              "      <td>1180</td>\n",
              "      <td>5650</td>\n",
              "      <td>1.0</td>\n",
              "      <td>0</td>\n",
              "      <td>0</td>\n",
              "      <td>3</td>\n",
              "      <td>7</td>\n",
              "      <td>1180</td>\n",
              "      <td>...</td>\n",
              "      <td>1955</td>\n",
              "      <td>0</td>\n",
              "      <td>98178</td>\n",
              "      <td>47.5112</td>\n",
              "      <td>-122.257</td>\n",
              "      <td>1340</td>\n",
              "      <td>5650</td>\n",
              "      <td>2014</td>\n",
              "      <td>10</td>\n",
              "      <td>13</td>\n",
              "    </tr>\n",
              "    <tr>\n",
              "      <th>1</th>\n",
              "      <td>3</td>\n",
              "      <td>2.25</td>\n",
              "      <td>2570</td>\n",
              "      <td>7242</td>\n",
              "      <td>2.0</td>\n",
              "      <td>0</td>\n",
              "      <td>0</td>\n",
              "      <td>3</td>\n",
              "      <td>7</td>\n",
              "      <td>2170</td>\n",
              "      <td>...</td>\n",
              "      <td>1951</td>\n",
              "      <td>1991</td>\n",
              "      <td>98125</td>\n",
              "      <td>47.7210</td>\n",
              "      <td>-122.319</td>\n",
              "      <td>1690</td>\n",
              "      <td>7639</td>\n",
              "      <td>2014</td>\n",
              "      <td>12</td>\n",
              "      <td>9</td>\n",
              "    </tr>\n",
              "    <tr>\n",
              "      <th>2</th>\n",
              "      <td>2</td>\n",
              "      <td>1.00</td>\n",
              "      <td>770</td>\n",
              "      <td>10000</td>\n",
              "      <td>1.0</td>\n",
              "      <td>0</td>\n",
              "      <td>0</td>\n",
              "      <td>3</td>\n",
              "      <td>6</td>\n",
              "      <td>770</td>\n",
              "      <td>...</td>\n",
              "      <td>1933</td>\n",
              "      <td>0</td>\n",
              "      <td>98028</td>\n",
              "      <td>47.7379</td>\n",
              "      <td>-122.233</td>\n",
              "      <td>2720</td>\n",
              "      <td>8062</td>\n",
              "      <td>2015</td>\n",
              "      <td>2</td>\n",
              "      <td>25</td>\n",
              "    </tr>\n",
              "    <tr>\n",
              "      <th>3</th>\n",
              "      <td>4</td>\n",
              "      <td>3.00</td>\n",
              "      <td>1960</td>\n",
              "      <td>5000</td>\n",
              "      <td>1.0</td>\n",
              "      <td>0</td>\n",
              "      <td>0</td>\n",
              "      <td>5</td>\n",
              "      <td>7</td>\n",
              "      <td>1050</td>\n",
              "      <td>...</td>\n",
              "      <td>1965</td>\n",
              "      <td>0</td>\n",
              "      <td>98136</td>\n",
              "      <td>47.5208</td>\n",
              "      <td>-122.393</td>\n",
              "      <td>1360</td>\n",
              "      <td>5000</td>\n",
              "      <td>2014</td>\n",
              "      <td>12</td>\n",
              "      <td>9</td>\n",
              "    </tr>\n",
              "    <tr>\n",
              "      <th>4</th>\n",
              "      <td>3</td>\n",
              "      <td>2.00</td>\n",
              "      <td>1680</td>\n",
              "      <td>8080</td>\n",
              "      <td>1.0</td>\n",
              "      <td>0</td>\n",
              "      <td>0</td>\n",
              "      <td>3</td>\n",
              "      <td>8</td>\n",
              "      <td>1680</td>\n",
              "      <td>...</td>\n",
              "      <td>1987</td>\n",
              "      <td>0</td>\n",
              "      <td>98074</td>\n",
              "      <td>47.6168</td>\n",
              "      <td>-122.045</td>\n",
              "      <td>1800</td>\n",
              "      <td>7503</td>\n",
              "      <td>2015</td>\n",
              "      <td>2</td>\n",
              "      <td>18</td>\n",
              "    </tr>\n",
              "    <tr>\n",
              "      <th>...</th>\n",
              "      <td>...</td>\n",
              "      <td>...</td>\n",
              "      <td>...</td>\n",
              "      <td>...</td>\n",
              "      <td>...</td>\n",
              "      <td>...</td>\n",
              "      <td>...</td>\n",
              "      <td>...</td>\n",
              "      <td>...</td>\n",
              "      <td>...</td>\n",
              "      <td>...</td>\n",
              "      <td>...</td>\n",
              "      <td>...</td>\n",
              "      <td>...</td>\n",
              "      <td>...</td>\n",
              "      <td>...</td>\n",
              "      <td>...</td>\n",
              "      <td>...</td>\n",
              "      <td>...</td>\n",
              "      <td>...</td>\n",
              "      <td>...</td>\n",
              "    </tr>\n",
              "    <tr>\n",
              "      <th>21608</th>\n",
              "      <td>3</td>\n",
              "      <td>2.50</td>\n",
              "      <td>1530</td>\n",
              "      <td>1131</td>\n",
              "      <td>3.0</td>\n",
              "      <td>0</td>\n",
              "      <td>0</td>\n",
              "      <td>3</td>\n",
              "      <td>8</td>\n",
              "      <td>1530</td>\n",
              "      <td>...</td>\n",
              "      <td>2009</td>\n",
              "      <td>0</td>\n",
              "      <td>98103</td>\n",
              "      <td>47.6993</td>\n",
              "      <td>-122.346</td>\n",
              "      <td>1530</td>\n",
              "      <td>1509</td>\n",
              "      <td>2014</td>\n",
              "      <td>5</td>\n",
              "      <td>21</td>\n",
              "    </tr>\n",
              "    <tr>\n",
              "      <th>21609</th>\n",
              "      <td>4</td>\n",
              "      <td>2.50</td>\n",
              "      <td>2310</td>\n",
              "      <td>5813</td>\n",
              "      <td>2.0</td>\n",
              "      <td>0</td>\n",
              "      <td>0</td>\n",
              "      <td>3</td>\n",
              "      <td>8</td>\n",
              "      <td>2310</td>\n",
              "      <td>...</td>\n",
              "      <td>2014</td>\n",
              "      <td>0</td>\n",
              "      <td>98146</td>\n",
              "      <td>47.5107</td>\n",
              "      <td>-122.362</td>\n",
              "      <td>1830</td>\n",
              "      <td>7200</td>\n",
              "      <td>2015</td>\n",
              "      <td>2</td>\n",
              "      <td>23</td>\n",
              "    </tr>\n",
              "    <tr>\n",
              "      <th>21610</th>\n",
              "      <td>2</td>\n",
              "      <td>0.75</td>\n",
              "      <td>1020</td>\n",
              "      <td>1350</td>\n",
              "      <td>2.0</td>\n",
              "      <td>0</td>\n",
              "      <td>0</td>\n",
              "      <td>3</td>\n",
              "      <td>7</td>\n",
              "      <td>1020</td>\n",
              "      <td>...</td>\n",
              "      <td>2009</td>\n",
              "      <td>0</td>\n",
              "      <td>98144</td>\n",
              "      <td>47.5944</td>\n",
              "      <td>-122.299</td>\n",
              "      <td>1020</td>\n",
              "      <td>2007</td>\n",
              "      <td>2014</td>\n",
              "      <td>6</td>\n",
              "      <td>23</td>\n",
              "    </tr>\n",
              "    <tr>\n",
              "      <th>21611</th>\n",
              "      <td>3</td>\n",
              "      <td>2.50</td>\n",
              "      <td>1600</td>\n",
              "      <td>2388</td>\n",
              "      <td>2.0</td>\n",
              "      <td>0</td>\n",
              "      <td>0</td>\n",
              "      <td>3</td>\n",
              "      <td>8</td>\n",
              "      <td>1600</td>\n",
              "      <td>...</td>\n",
              "      <td>2004</td>\n",
              "      <td>0</td>\n",
              "      <td>98027</td>\n",
              "      <td>47.5345</td>\n",
              "      <td>-122.069</td>\n",
              "      <td>1410</td>\n",
              "      <td>1287</td>\n",
              "      <td>2015</td>\n",
              "      <td>1</td>\n",
              "      <td>16</td>\n",
              "    </tr>\n",
              "    <tr>\n",
              "      <th>21612</th>\n",
              "      <td>2</td>\n",
              "      <td>0.75</td>\n",
              "      <td>1020</td>\n",
              "      <td>1076</td>\n",
              "      <td>2.0</td>\n",
              "      <td>0</td>\n",
              "      <td>0</td>\n",
              "      <td>3</td>\n",
              "      <td>7</td>\n",
              "      <td>1020</td>\n",
              "      <td>...</td>\n",
              "      <td>2008</td>\n",
              "      <td>0</td>\n",
              "      <td>98144</td>\n",
              "      <td>47.5941</td>\n",
              "      <td>-122.299</td>\n",
              "      <td>1020</td>\n",
              "      <td>1357</td>\n",
              "      <td>2014</td>\n",
              "      <td>10</td>\n",
              "      <td>15</td>\n",
              "    </tr>\n",
              "  </tbody>\n",
              "</table>\n",
              "<p>21613 rows × 21 columns</p>\n",
              "</div>"
            ],
            "text/plain": [
              "       bedrooms  bathrooms  sqft_living  sqft_lot  floors  waterfront  view  \\\n",
              "0             3       1.00         1180      5650     1.0           0     0   \n",
              "1             3       2.25         2570      7242     2.0           0     0   \n",
              "2             2       1.00          770     10000     1.0           0     0   \n",
              "3             4       3.00         1960      5000     1.0           0     0   \n",
              "4             3       2.00         1680      8080     1.0           0     0   \n",
              "...         ...        ...          ...       ...     ...         ...   ...   \n",
              "21608         3       2.50         1530      1131     3.0           0     0   \n",
              "21609         4       2.50         2310      5813     2.0           0     0   \n",
              "21610         2       0.75         1020      1350     2.0           0     0   \n",
              "21611         3       2.50         1600      2388     2.0           0     0   \n",
              "21612         2       0.75         1020      1076     2.0           0     0   \n",
              "\n",
              "       condition  grade  sqft_above  ...  yr_built  yr_renovated  zipcode  \\\n",
              "0              3      7        1180  ...      1955             0    98178   \n",
              "1              3      7        2170  ...      1951          1991    98125   \n",
              "2              3      6         770  ...      1933             0    98028   \n",
              "3              5      7        1050  ...      1965             0    98136   \n",
              "4              3      8        1680  ...      1987             0    98074   \n",
              "...          ...    ...         ...  ...       ...           ...      ...   \n",
              "21608          3      8        1530  ...      2009             0    98103   \n",
              "21609          3      8        2310  ...      2014             0    98146   \n",
              "21610          3      7        1020  ...      2009             0    98144   \n",
              "21611          3      8        1600  ...      2004             0    98027   \n",
              "21612          3      7        1020  ...      2008             0    98144   \n",
              "\n",
              "           lat     long  sqft_living15  sqft_lot15  date_year  date_month  \\\n",
              "0      47.5112 -122.257           1340        5650       2014          10   \n",
              "1      47.7210 -122.319           1690        7639       2014          12   \n",
              "2      47.7379 -122.233           2720        8062       2015           2   \n",
              "3      47.5208 -122.393           1360        5000       2014          12   \n",
              "4      47.6168 -122.045           1800        7503       2015           2   \n",
              "...        ...      ...            ...         ...        ...         ...   \n",
              "21608  47.6993 -122.346           1530        1509       2014           5   \n",
              "21609  47.5107 -122.362           1830        7200       2015           2   \n",
              "21610  47.5944 -122.299           1020        2007       2014           6   \n",
              "21611  47.5345 -122.069           1410        1287       2015           1   \n",
              "21612  47.5941 -122.299           1020        1357       2014          10   \n",
              "\n",
              "       date_day  \n",
              "0            13  \n",
              "1             9  \n",
              "2            25  \n",
              "3             9  \n",
              "4            18  \n",
              "...         ...  \n",
              "21608        21  \n",
              "21609        23  \n",
              "21610        23  \n",
              "21611        16  \n",
              "21612        15  \n",
              "\n",
              "[21613 rows x 21 columns]"
            ]
          },
          "execution_count": 32,
          "metadata": {},
          "output_type": "execute_result"
        }
      ],
      "source": [
        "x"
      ]
    },
    {
      "cell_type": "code",
      "execution_count": 33,
      "metadata": {
        "id": "zJnLUmim47bK"
      },
      "outputs": [],
      "source": [
        "y = dataset.target"
      ]
    },
    {
      "cell_type": "code",
      "execution_count": 34,
      "metadata": {
        "id": "eRyZ0pu86Y2j"
      },
      "outputs": [],
      "source": [
        "y = y.astype(float)"
      ]
    },
    {
      "cell_type": "code",
      "execution_count": 35,
      "metadata": {
        "id": "BdcrtEWu6qDe"
      },
      "outputs": [],
      "source": [
        "x_train, x_test, y_train, y_test = train_test_split(x, y, test_size=0.2, random_state=42)"
      ]
    },
    {
      "cell_type": "code",
      "execution_count": 36,
      "metadata": {
        "colab": {
          "base_uri": "https://localhost:8080/",
          "height": 443
        },
        "id": "cjGs_UNb67fF",
        "outputId": "208a2d8d-e2f3-493d-9872-b4648933935f"
      },
      "outputs": [
        {
          "data": {
            "text/html": [
              "<div>\n",
              "<style scoped>\n",
              "    .dataframe tbody tr th:only-of-type {\n",
              "        vertical-align: middle;\n",
              "    }\n",
              "\n",
              "    .dataframe tbody tr th {\n",
              "        vertical-align: top;\n",
              "    }\n",
              "\n",
              "    .dataframe thead th {\n",
              "        text-align: right;\n",
              "    }\n",
              "</style>\n",
              "<table border=\"1\" class=\"dataframe\">\n",
              "  <thead>\n",
              "    <tr style=\"text-align: right;\">\n",
              "      <th></th>\n",
              "      <th>bedrooms</th>\n",
              "      <th>bathrooms</th>\n",
              "      <th>sqft_living</th>\n",
              "      <th>sqft_lot</th>\n",
              "      <th>floors</th>\n",
              "      <th>waterfront</th>\n",
              "      <th>view</th>\n",
              "      <th>condition</th>\n",
              "      <th>grade</th>\n",
              "      <th>sqft_above</th>\n",
              "      <th>...</th>\n",
              "      <th>yr_built</th>\n",
              "      <th>yr_renovated</th>\n",
              "      <th>zipcode</th>\n",
              "      <th>lat</th>\n",
              "      <th>long</th>\n",
              "      <th>sqft_living15</th>\n",
              "      <th>sqft_lot15</th>\n",
              "      <th>date_year</th>\n",
              "      <th>date_month</th>\n",
              "      <th>date_day</th>\n",
              "    </tr>\n",
              "  </thead>\n",
              "  <tbody>\n",
              "    <tr>\n",
              "      <th>735</th>\n",
              "      <td>4</td>\n",
              "      <td>2.25</td>\n",
              "      <td>2070</td>\n",
              "      <td>8893</td>\n",
              "      <td>2.0</td>\n",
              "      <td>0</td>\n",
              "      <td>0</td>\n",
              "      <td>4</td>\n",
              "      <td>8</td>\n",
              "      <td>2070</td>\n",
              "      <td>...</td>\n",
              "      <td>1986</td>\n",
              "      <td>0</td>\n",
              "      <td>98058</td>\n",
              "      <td>47.4388</td>\n",
              "      <td>-122.162</td>\n",
              "      <td>2390</td>\n",
              "      <td>7700</td>\n",
              "      <td>2014</td>\n",
              "      <td>10</td>\n",
              "      <td>6</td>\n",
              "    </tr>\n",
              "    <tr>\n",
              "      <th>2830</th>\n",
              "      <td>5</td>\n",
              "      <td>3.00</td>\n",
              "      <td>2900</td>\n",
              "      <td>6730</td>\n",
              "      <td>1.0</td>\n",
              "      <td>0</td>\n",
              "      <td>0</td>\n",
              "      <td>5</td>\n",
              "      <td>8</td>\n",
              "      <td>1830</td>\n",
              "      <td>...</td>\n",
              "      <td>1977</td>\n",
              "      <td>0</td>\n",
              "      <td>98115</td>\n",
              "      <td>47.6784</td>\n",
              "      <td>-122.285</td>\n",
              "      <td>2370</td>\n",
              "      <td>6283</td>\n",
              "      <td>2014</td>\n",
              "      <td>8</td>\n",
              "      <td>21</td>\n",
              "    </tr>\n",
              "    <tr>\n",
              "      <th>4106</th>\n",
              "      <td>4</td>\n",
              "      <td>2.50</td>\n",
              "      <td>3770</td>\n",
              "      <td>10893</td>\n",
              "      <td>2.0</td>\n",
              "      <td>0</td>\n",
              "      <td>2</td>\n",
              "      <td>3</td>\n",
              "      <td>11</td>\n",
              "      <td>3770</td>\n",
              "      <td>...</td>\n",
              "      <td>1997</td>\n",
              "      <td>0</td>\n",
              "      <td>98006</td>\n",
              "      <td>47.5646</td>\n",
              "      <td>-122.129</td>\n",
              "      <td>3710</td>\n",
              "      <td>9685</td>\n",
              "      <td>2014</td>\n",
              "      <td>8</td>\n",
              "      <td>15</td>\n",
              "    </tr>\n",
              "    <tr>\n",
              "      <th>16218</th>\n",
              "      <td>3</td>\n",
              "      <td>3.50</td>\n",
              "      <td>4560</td>\n",
              "      <td>14608</td>\n",
              "      <td>2.0</td>\n",
              "      <td>0</td>\n",
              "      <td>2</td>\n",
              "      <td>3</td>\n",
              "      <td>12</td>\n",
              "      <td>4560</td>\n",
              "      <td>...</td>\n",
              "      <td>1990</td>\n",
              "      <td>0</td>\n",
              "      <td>98034</td>\n",
              "      <td>47.6995</td>\n",
              "      <td>-122.228</td>\n",
              "      <td>4050</td>\n",
              "      <td>14226</td>\n",
              "      <td>2015</td>\n",
              "      <td>3</td>\n",
              "      <td>31</td>\n",
              "    </tr>\n",
              "    <tr>\n",
              "      <th>19964</th>\n",
              "      <td>3</td>\n",
              "      <td>2.50</td>\n",
              "      <td>2550</td>\n",
              "      <td>5376</td>\n",
              "      <td>2.0</td>\n",
              "      <td>0</td>\n",
              "      <td>0</td>\n",
              "      <td>3</td>\n",
              "      <td>9</td>\n",
              "      <td>2550</td>\n",
              "      <td>...</td>\n",
              "      <td>2004</td>\n",
              "      <td>0</td>\n",
              "      <td>98052</td>\n",
              "      <td>47.6647</td>\n",
              "      <td>-122.083</td>\n",
              "      <td>2250</td>\n",
              "      <td>4050</td>\n",
              "      <td>2014</td>\n",
              "      <td>7</td>\n",
              "      <td>14</td>\n",
              "    </tr>\n",
              "    <tr>\n",
              "      <th>...</th>\n",
              "      <td>...</td>\n",
              "      <td>...</td>\n",
              "      <td>...</td>\n",
              "      <td>...</td>\n",
              "      <td>...</td>\n",
              "      <td>...</td>\n",
              "      <td>...</td>\n",
              "      <td>...</td>\n",
              "      <td>...</td>\n",
              "      <td>...</td>\n",
              "      <td>...</td>\n",
              "      <td>...</td>\n",
              "      <td>...</td>\n",
              "      <td>...</td>\n",
              "      <td>...</td>\n",
              "      <td>...</td>\n",
              "      <td>...</td>\n",
              "      <td>...</td>\n",
              "      <td>...</td>\n",
              "      <td>...</td>\n",
              "      <td>...</td>\n",
              "    </tr>\n",
              "    <tr>\n",
              "      <th>13674</th>\n",
              "      <td>3</td>\n",
              "      <td>1.75</td>\n",
              "      <td>1250</td>\n",
              "      <td>7710</td>\n",
              "      <td>1.0</td>\n",
              "      <td>0</td>\n",
              "      <td>0</td>\n",
              "      <td>4</td>\n",
              "      <td>7</td>\n",
              "      <td>1250</td>\n",
              "      <td>...</td>\n",
              "      <td>1947</td>\n",
              "      <td>0</td>\n",
              "      <td>98155</td>\n",
              "      <td>47.7623</td>\n",
              "      <td>-122.317</td>\n",
              "      <td>1340</td>\n",
              "      <td>7710</td>\n",
              "      <td>2014</td>\n",
              "      <td>11</td>\n",
              "      <td>10</td>\n",
              "    </tr>\n",
              "    <tr>\n",
              "      <th>20377</th>\n",
              "      <td>3</td>\n",
              "      <td>2.75</td>\n",
              "      <td>2830</td>\n",
              "      <td>3496</td>\n",
              "      <td>2.0</td>\n",
              "      <td>0</td>\n",
              "      <td>0</td>\n",
              "      <td>3</td>\n",
              "      <td>8</td>\n",
              "      <td>2830</td>\n",
              "      <td>...</td>\n",
              "      <td>2012</td>\n",
              "      <td>0</td>\n",
              "      <td>98029</td>\n",
              "      <td>47.5606</td>\n",
              "      <td>-122.011</td>\n",
              "      <td>2160</td>\n",
              "      <td>3501</td>\n",
              "      <td>2014</td>\n",
              "      <td>7</td>\n",
              "      <td>8</td>\n",
              "    </tr>\n",
              "    <tr>\n",
              "      <th>8805</th>\n",
              "      <td>4</td>\n",
              "      <td>2.50</td>\n",
              "      <td>2434</td>\n",
              "      <td>4400</td>\n",
              "      <td>2.0</td>\n",
              "      <td>0</td>\n",
              "      <td>0</td>\n",
              "      <td>3</td>\n",
              "      <td>8</td>\n",
              "      <td>2434</td>\n",
              "      <td>...</td>\n",
              "      <td>2007</td>\n",
              "      <td>0</td>\n",
              "      <td>98001</td>\n",
              "      <td>47.2874</td>\n",
              "      <td>-122.283</td>\n",
              "      <td>2434</td>\n",
              "      <td>4400</td>\n",
              "      <td>2014</td>\n",
              "      <td>10</td>\n",
              "      <td>16</td>\n",
              "    </tr>\n",
              "    <tr>\n",
              "      <th>10168</th>\n",
              "      <td>4</td>\n",
              "      <td>1.75</td>\n",
              "      <td>2250</td>\n",
              "      <td>10108</td>\n",
              "      <td>1.0</td>\n",
              "      <td>0</td>\n",
              "      <td>0</td>\n",
              "      <td>4</td>\n",
              "      <td>8</td>\n",
              "      <td>2250</td>\n",
              "      <td>...</td>\n",
              "      <td>1967</td>\n",
              "      <td>0</td>\n",
              "      <td>98008</td>\n",
              "      <td>47.5922</td>\n",
              "      <td>-122.118</td>\n",
              "      <td>2050</td>\n",
              "      <td>9750</td>\n",
              "      <td>2014</td>\n",
              "      <td>12</td>\n",
              "      <td>1</td>\n",
              "    </tr>\n",
              "    <tr>\n",
              "      <th>2522</th>\n",
              "      <td>4</td>\n",
              "      <td>2.50</td>\n",
              "      <td>2570</td>\n",
              "      <td>11473</td>\n",
              "      <td>2.0</td>\n",
              "      <td>0</td>\n",
              "      <td>0</td>\n",
              "      <td>3</td>\n",
              "      <td>8</td>\n",
              "      <td>2570</td>\n",
              "      <td>...</td>\n",
              "      <td>2008</td>\n",
              "      <td>0</td>\n",
              "      <td>98003</td>\n",
              "      <td>47.2809</td>\n",
              "      <td>-122.296</td>\n",
              "      <td>2430</td>\n",
              "      <td>5997</td>\n",
              "      <td>2014</td>\n",
              "      <td>12</td>\n",
              "      <td>12</td>\n",
              "    </tr>\n",
              "  </tbody>\n",
              "</table>\n",
              "<p>4323 rows × 21 columns</p>\n",
              "</div>"
            ],
            "text/plain": [
              "       bedrooms  bathrooms  sqft_living  sqft_lot  floors  waterfront  view  \\\n",
              "735           4       2.25         2070      8893     2.0           0     0   \n",
              "2830          5       3.00         2900      6730     1.0           0     0   \n",
              "4106          4       2.50         3770     10893     2.0           0     2   \n",
              "16218         3       3.50         4560     14608     2.0           0     2   \n",
              "19964         3       2.50         2550      5376     2.0           0     0   \n",
              "...         ...        ...          ...       ...     ...         ...   ...   \n",
              "13674         3       1.75         1250      7710     1.0           0     0   \n",
              "20377         3       2.75         2830      3496     2.0           0     0   \n",
              "8805          4       2.50         2434      4400     2.0           0     0   \n",
              "10168         4       1.75         2250     10108     1.0           0     0   \n",
              "2522          4       2.50         2570     11473     2.0           0     0   \n",
              "\n",
              "       condition  grade  sqft_above  ...  yr_built  yr_renovated  zipcode  \\\n",
              "735            4      8        2070  ...      1986             0    98058   \n",
              "2830           5      8        1830  ...      1977             0    98115   \n",
              "4106           3     11        3770  ...      1997             0    98006   \n",
              "16218          3     12        4560  ...      1990             0    98034   \n",
              "19964          3      9        2550  ...      2004             0    98052   \n",
              "...          ...    ...         ...  ...       ...           ...      ...   \n",
              "13674          4      7        1250  ...      1947             0    98155   \n",
              "20377          3      8        2830  ...      2012             0    98029   \n",
              "8805           3      8        2434  ...      2007             0    98001   \n",
              "10168          4      8        2250  ...      1967             0    98008   \n",
              "2522           3      8        2570  ...      2008             0    98003   \n",
              "\n",
              "           lat     long  sqft_living15  sqft_lot15  date_year  date_month  \\\n",
              "735    47.4388 -122.162           2390        7700       2014          10   \n",
              "2830   47.6784 -122.285           2370        6283       2014           8   \n",
              "4106   47.5646 -122.129           3710        9685       2014           8   \n",
              "16218  47.6995 -122.228           4050       14226       2015           3   \n",
              "19964  47.6647 -122.083           2250        4050       2014           7   \n",
              "...        ...      ...            ...         ...        ...         ...   \n",
              "13674  47.7623 -122.317           1340        7710       2014          11   \n",
              "20377  47.5606 -122.011           2160        3501       2014           7   \n",
              "8805   47.2874 -122.283           2434        4400       2014          10   \n",
              "10168  47.5922 -122.118           2050        9750       2014          12   \n",
              "2522   47.2809 -122.296           2430        5997       2014          12   \n",
              "\n",
              "       date_day  \n",
              "735           6  \n",
              "2830         21  \n",
              "4106         15  \n",
              "16218        31  \n",
              "19964        14  \n",
              "...         ...  \n",
              "13674        10  \n",
              "20377         8  \n",
              "8805         16  \n",
              "10168         1  \n",
              "2522         12  \n",
              "\n",
              "[4323 rows x 21 columns]"
            ]
          },
          "execution_count": 36,
          "metadata": {},
          "output_type": "execute_result"
        }
      ],
      "source": [
        "x_test"
      ]
    },
    {
      "cell_type": "code",
      "execution_count": 37,
      "metadata": {
        "id": "-PF4uS4o7YzV"
      },
      "outputs": [],
      "source": [
        "scaler = StandardScaler()"
      ]
    },
    {
      "cell_type": "code",
      "execution_count": 38,
      "metadata": {
        "id": "cVIL46448BYL"
      },
      "outputs": [],
      "source": [
        "x_train_scaled = scaler.fit_transform(x_train)"
      ]
    },
    {
      "cell_type": "code",
      "execution_count": 39,
      "metadata": {
        "id": "KQZl2Lv08I9Q"
      },
      "outputs": [],
      "source": [
        "x_test_scaled = scaler.transform(x_test)"
      ]
    },
    {
      "cell_type": "code",
      "execution_count": 40,
      "metadata": {
        "colab": {
          "base_uri": "https://localhost:8080/",
          "height": 80
        },
        "id": "z4rTjK4U8nL5",
        "outputId": "59268e38-2013-4439-df5f-fbc29634c6fb"
      },
      "outputs": [
        {
          "data": {
            "text/html": [
              "<style>#sk-container-id-4 {color: black;}#sk-container-id-4 pre{padding: 0;}#sk-container-id-4 div.sk-toggleable {background-color: white;}#sk-container-id-4 label.sk-toggleable__label {cursor: pointer;display: block;width: 100%;margin-bottom: 0;padding: 0.3em;box-sizing: border-box;text-align: center;}#sk-container-id-4 label.sk-toggleable__label-arrow:before {content: \"▸\";float: left;margin-right: 0.25em;color: #696969;}#sk-container-id-4 label.sk-toggleable__label-arrow:hover:before {color: black;}#sk-container-id-4 div.sk-estimator:hover label.sk-toggleable__label-arrow:before {color: black;}#sk-container-id-4 div.sk-toggleable__content {max-height: 0;max-width: 0;overflow: hidden;text-align: left;background-color: #f0f8ff;}#sk-container-id-4 div.sk-toggleable__content pre {margin: 0.2em;color: black;border-radius: 0.25em;background-color: #f0f8ff;}#sk-container-id-4 input.sk-toggleable__control:checked~div.sk-toggleable__content {max-height: 200px;max-width: 100%;overflow: auto;}#sk-container-id-4 input.sk-toggleable__control:checked~label.sk-toggleable__label-arrow:before {content: \"▾\";}#sk-container-id-4 div.sk-estimator input.sk-toggleable__control:checked~label.sk-toggleable__label {background-color: #d4ebff;}#sk-container-id-4 div.sk-label input.sk-toggleable__control:checked~label.sk-toggleable__label {background-color: #d4ebff;}#sk-container-id-4 input.sk-hidden--visually {border: 0;clip: rect(1px 1px 1px 1px);clip: rect(1px, 1px, 1px, 1px);height: 1px;margin: -1px;overflow: hidden;padding: 0;position: absolute;width: 1px;}#sk-container-id-4 div.sk-estimator {font-family: monospace;background-color: #f0f8ff;border: 1px dotted black;border-radius: 0.25em;box-sizing: border-box;margin-bottom: 0.5em;}#sk-container-id-4 div.sk-estimator:hover {background-color: #d4ebff;}#sk-container-id-4 div.sk-parallel-item::after {content: \"\";width: 100%;border-bottom: 1px solid gray;flex-grow: 1;}#sk-container-id-4 div.sk-label:hover label.sk-toggleable__label {background-color: #d4ebff;}#sk-container-id-4 div.sk-serial::before {content: \"\";position: absolute;border-left: 1px solid gray;box-sizing: border-box;top: 0;bottom: 0;left: 50%;z-index: 0;}#sk-container-id-4 div.sk-serial {display: flex;flex-direction: column;align-items: center;background-color: white;padding-right: 0.2em;padding-left: 0.2em;position: relative;}#sk-container-id-4 div.sk-item {position: relative;z-index: 1;}#sk-container-id-4 div.sk-parallel {display: flex;align-items: stretch;justify-content: center;background-color: white;position: relative;}#sk-container-id-4 div.sk-item::before, #sk-container-id-4 div.sk-parallel-item::before {content: \"\";position: absolute;border-left: 1px solid gray;box-sizing: border-box;top: 0;bottom: 0;left: 50%;z-index: -1;}#sk-container-id-4 div.sk-parallel-item {display: flex;flex-direction: column;z-index: 1;position: relative;background-color: white;}#sk-container-id-4 div.sk-parallel-item:first-child::after {align-self: flex-end;width: 50%;}#sk-container-id-4 div.sk-parallel-item:last-child::after {align-self: flex-start;width: 50%;}#sk-container-id-4 div.sk-parallel-item:only-child::after {width: 0;}#sk-container-id-4 div.sk-dashed-wrapped {border: 1px dashed gray;margin: 0 0.4em 0.5em 0.4em;box-sizing: border-box;padding-bottom: 0.4em;background-color: white;}#sk-container-id-4 div.sk-label label {font-family: monospace;font-weight: bold;display: inline-block;line-height: 1.2em;}#sk-container-id-4 div.sk-label-container {text-align: center;}#sk-container-id-4 div.sk-container {/* jupyter's `normalize.less` sets `[hidden] { display: none; }` but bootstrap.min.css set `[hidden] { display: none !important; }` so we also need the `!important` here to be able to override the default hidden behavior on the sphinx rendered scikit-learn.org. See: https://github.com/scikit-learn/scikit-learn/issues/21755 */display: inline-block !important;position: relative;}#sk-container-id-4 div.sk-text-repr-fallback {display: none;}</style><div id=\"sk-container-id-4\" class=\"sk-top-container\"><div class=\"sk-text-repr-fallback\"><pre>SVR(C=100, gamma=0.1)</pre><b>In a Jupyter environment, please rerun this cell to show the HTML representation or trust the notebook. <br />On GitHub, the HTML representation is unable to render, please try loading this page with nbviewer.org.</b></div><div class=\"sk-container\" hidden><div class=\"sk-item\"><div class=\"sk-estimator sk-toggleable\"><input class=\"sk-toggleable__control sk-hidden--visually\" id=\"sk-estimator-id-4\" type=\"checkbox\" checked><label for=\"sk-estimator-id-4\" class=\"sk-toggleable__label sk-toggleable__label-arrow\">SVR</label><div class=\"sk-toggleable__content\"><pre>SVR(C=100, gamma=0.1)</pre></div></div></div></div></div>"
            ],
            "text/plain": [
              "SVR(C=100, gamma=0.1)"
            ]
          },
          "execution_count": 40,
          "metadata": {},
          "output_type": "execute_result"
        }
      ],
      "source": [
        "svr = SVR(kernel='rbf', C=100, gamma=0.1, epsilon=0.1)\n",
        "svr.fit(x_train_scaled, y_train)"
      ]
    },
    {
      "cell_type": "code",
      "execution_count": 41,
      "metadata": {
        "id": "LS7y6hwF_hyr"
      },
      "outputs": [],
      "source": [
        "y_pred = svr.predict(x_test_scaled)"
      ]
    },
    {
      "cell_type": "code",
      "execution_count": 42,
      "metadata": {
        "id": "5RtjwKZ1_ldz"
      },
      "outputs": [],
      "source": [
        "mse = mean_squared_error(y_test, y_pred)"
      ]
    },
    {
      "cell_type": "markdown",
      "metadata": {
        "id": "wgJI1FTyXnWs"
      },
      "source": [
        "**4) Write a python program to train an SVM classifier with a polynomical kernal and visualise the decision boundary.**"
      ]
    },
    {
      "cell_type": "code",
      "execution_count": 43,
      "metadata": {
        "colab": {
          "base_uri": "https://localhost:8080/",
          "height": 472
        },
        "id": "v_20izh5YEoV",
        "outputId": "c22e135a-5aa5-406a-cf63-2076ab69f680"
      },
      "outputs": [
        {
          "data": {
            "image/png": "[encoded data removed]",
            "text/plain": [
              "<Figure size 640x480 with 1 Axes>"
            ]
          },
          "metadata": {},
          "output_type": "display_data"
        }
      ],
      "source": [
        "import numpy as np\n",
        "import matplotlib.pyplot as plt\n",
        "from sklearn.svm import SVC\n",
        "from sklearn.datasets import make_moons\n",
        "from sklearn.preprocessing import StandardScaler\n",
        "from sklearn.model_selection import train_test_split\n",
        "\n",
        "# Generate synthetic dataset\n",
        "X, y = make_moons(n_samples=200, noise=0.2, random_state=42)\n",
        "\n",
        "# Split into training and testing sets\n",
        "X_train, X_test, y_train, y_test = train_test_split(X, y, test_size=0.2, random_state=42)\n",
        "\n",
        "# Standardize features\n",
        "scaler = StandardScaler()\n",
        "X_train = scaler.fit_transform(X_train)\n",
        "X_test = scaler.transform(X_test)\n",
        "\n",
        "# Train SVM with polynomial kernel\n",
        "svm_clf = SVC(kernel='poly', degree=3, C=1.0, coef0=1)\n",
        "svm_clf.fit(X_train, y_train)\n",
        "\n",
        "# Function to plot decision boundary\n",
        "def plot_decision_boundary(clf, X, y):\n",
        "    x_min, x_max = X[:, 0].min() - 1, X[:, 0].max() + 1\n",
        "    y_min, y_max = X[:, 1].min() - 1, X[:, 1].max() + 1\n",
        "    xx, yy = np.meshgrid(np.linspace(x_min, x_max, 200),\n",
        "                         np.linspace(y_min, y_max, 200))\n",
        "\n",
        "    Z = clf.predict(scaler.transform(np.c_[xx.ravel(), yy.ravel()]))\n",
        "    Z = Z.reshape(xx.shape)\n",
        "\n",
        "    plt.contourf(xx, yy, Z, alpha=0.3)\n",
        "    plt.scatter(X[:, 0], X[:, 1], c=y, edgecolor='k', cmap=plt.cm.coolwarm)\n",
        "    plt.xlabel(\"Feature 1\")\n",
        "    plt.ylabel(\"Feature 2\")\n",
        "    plt.title(\"SVM with Polynomial Kernel\")\n",
        "    plt.show()\n",
        "\n",
        "# Plot decision boundary\n",
        "plot_decision_boundary(svm_clf, X_train, y_train)"
      ]
    },
    {
      "cell_type": "markdown",
      "metadata": {
        "id": "nUPBbbTqZ1om"
      },
      "source": [
        "5) Write a python program to train a gaussian navie bayes classifier on the breast cancer dataset and evauate boundary"
      ]
    },
    {
      "cell_type": "code",
      "execution_count": 44,
      "metadata": {
        "id": "_86oCEYccLnG"
      },
      "outputs": [],
      "source": [
        "import numpy as np\n",
        "import matplotlib.pyplot as plt\n",
        "from sklearn.naive_bayes import GaussianNB\n",
        "from sklearn.datasets import load_breast_cancer\n",
        "from sklearn.preprocessing import StandardScaler\n",
        "from sklearn.model_selection import train_test_split\n",
        "from sklearn.decomposition import PCA\n",
        "from sklearn.metrics import accuracy_score\n"
      ]
    },
    {
      "cell_type": "code",
      "execution_count": 45,
      "metadata": {
        "id": "_1SWRTyVcQPN"
      },
      "outputs": [],
      "source": [
        "data = load_breast_cancer()\n",
        "X, y = data.data, data.target\n",
        "\n",
        "# Split into training and testing sets\n",
        "X_train, X_test, y_train, y_test = train_test_split(X, y, test_size=0.2, random_state=42)\n",
        "\n",
        "# Standardize features\n",
        "scaler = StandardScaler()\n",
        "X_train = scaler.fit_transform(X_train)\n",
        "X_test = scaler.transform(X_test)\n"
      ]
    },
    {
      "cell_type": "code",
      "execution_count": 46,
      "metadata": {
        "id": "10qTOs7jcRuo"
      },
      "outputs": [],
      "source": [
        "pca = PCA(n_components=2)\n",
        "X_train_pca = pca.fit_transform(X_train)\n",
        "X_test_pca = pca.transform(X_test)"
      ]
    },
    {
      "cell_type": "code",
      "execution_count": 47,
      "metadata": {
        "colab": {
          "base_uri": "https://localhost:8080/",
          "height": 80
        },
        "id": "U9Khlsz6cVRF",
        "outputId": "af4e916d-5f21-46d9-c06c-72ad138a00e2"
      },
      "outputs": [
        {
          "data": {
            "text/html": [
              "<style>#sk-container-id-5 {color: black;}#sk-container-id-5 pre{padding: 0;}#sk-container-id-5 div.sk-toggleable {background-color: white;}#sk-container-id-5 label.sk-toggleable__label {cursor: pointer;display: block;width: 100%;margin-bottom: 0;padding: 0.3em;box-sizing: border-box;text-align: center;}#sk-container-id-5 label.sk-toggleable__label-arrow:before {content: \"▸\";float: left;margin-right: 0.25em;color: #696969;}#sk-container-id-5 label.sk-toggleable__label-arrow:hover:before {color: black;}#sk-container-id-5 div.sk-estimator:hover label.sk-toggleable__label-arrow:before {color: black;}#sk-container-id-5 div.sk-toggleable__content {max-height: 0;max-width: 0;overflow: hidden;text-align: left;background-color: #f0f8ff;}#sk-container-id-5 div.sk-toggleable__content pre {margin: 0.2em;color: black;border-radius: 0.25em;background-color: #f0f8ff;}#sk-container-id-5 input.sk-toggleable__control:checked~div.sk-toggleable__content {max-height: 200px;max-width: 100%;overflow: auto;}#sk-container-id-5 input.sk-toggleable__control:checked~label.sk-toggleable__label-arrow:before {content: \"▾\";}#sk-container-id-5 div.sk-estimator input.sk-toggleable__control:checked~label.sk-toggleable__label {background-color: #d4ebff;}#sk-container-id-5 div.sk-label input.sk-toggleable__control:checked~label.sk-toggleable__label {background-color: #d4ebff;}#sk-container-id-5 input.sk-hidden--visually {border: 0;clip: rect(1px 1px 1px 1px);clip: rect(1px, 1px, 1px, 1px);height: 1px;margin: -1px;overflow: hidden;padding: 0;position: absolute;width: 1px;}#sk-container-id-5 div.sk-estimator {font-family: monospace;background-color: #f0f8ff;border: 1px dotted black;border-radius: 0.25em;box-sizing: border-box;margin-bottom: 0.5em;}#sk-container-id-5 div.sk-estimator:hover {background-color: #d4ebff;}#sk-container-id-5 div.sk-parallel-item::after {content: \"\";width: 100%;border-bottom: 1px solid gray;flex-grow: 1;}#sk-container-id-5 div.sk-label:hover label.sk-toggleable__label {background-color: #d4ebff;}#sk-container-id-5 div.sk-serial::before {content: \"\";position: absolute;border-left: 1px solid gray;box-sizing: border-box;top: 0;bottom: 0;left: 50%;z-index: 0;}#sk-container-id-5 div.sk-serial {display: flex;flex-direction: column;align-items: center;background-color: white;padding-right: 0.2em;padding-left: 0.2em;position: relative;}#sk-container-id-5 div.sk-item {position: relative;z-index: 1;}#sk-container-id-5 div.sk-parallel {display: flex;align-items: stretch;justify-content: center;background-color: white;position: relative;}#sk-container-id-5 div.sk-item::before, #sk-container-id-5 div.sk-parallel-item::before {content: \"\";position: absolute;border-left: 1px solid gray;box-sizing: border-box;top: 0;bottom: 0;left: 50%;z-index: -1;}#sk-container-id-5 div.sk-parallel-item {display: flex;flex-direction: column;z-index: 1;position: relative;background-color: white;}#sk-container-id-5 div.sk-parallel-item:first-child::after {align-self: flex-end;width: 50%;}#sk-container-id-5 div.sk-parallel-item:last-child::after {align-self: flex-start;width: 50%;}#sk-container-id-5 div.sk-parallel-item:only-child::after {width: 0;}#sk-container-id-5 div.sk-dashed-wrapped {border: 1px dashed gray;margin: 0 0.4em 0.5em 0.4em;box-sizing: border-box;padding-bottom: 0.4em;background-color: white;}#sk-container-id-5 div.sk-label label {font-family: monospace;font-weight: bold;display: inline-block;line-height: 1.2em;}#sk-container-id-5 div.sk-label-container {text-align: center;}#sk-container-id-5 div.sk-container {/* jupyter's `normalize.less` sets `[hidden] { display: none; }` but bootstrap.min.css set `[hidden] { display: none !important; }` so we also need the `!important` here to be able to override the default hidden behavior on the sphinx rendered scikit-learn.org. See: https://github.com/scikit-learn/scikit-learn/issues/21755 */display: inline-block !important;position: relative;}#sk-container-id-5 div.sk-text-repr-fallback {display: none;}</style><div id=\"sk-container-id-5\" class=\"sk-top-container\"><div class=\"sk-text-repr-fallback\"><pre>PCA(n_components=2)</pre><b>In a Jupyter environment, please rerun this cell to show the HTML representation or trust the notebook. <br />On GitHub, the HTML representation is unable to render, please try loading this page with nbviewer.org.</b></div><div class=\"sk-container\" hidden><div class=\"sk-item\"><div class=\"sk-estimator sk-toggleable\"><input class=\"sk-toggleable__control sk-hidden--visually\" id=\"sk-estimator-id-5\" type=\"checkbox\" checked><label for=\"sk-estimator-id-5\" class=\"sk-toggleable__label sk-toggleable__label-arrow\">PCA</label><div class=\"sk-toggleable__content\"><pre>PCA(n_components=2)</pre></div></div></div></div></div>"
            ],
            "text/plain": [
              "PCA(n_components=2)"
            ]
          },
          "execution_count": 47,
          "metadata": {},
          "output_type": "execute_result"
        }
      ],
      "source": [
        "pca"
      ]
    },
    {
      "cell_type": "code",
      "execution_count": 48,
      "metadata": {
        "colab": {
          "base_uri": "https://localhost:8080/",
          "height": 489
        },
        "id": "2cu53XCXcirF",
        "outputId": "3bbafa90-b19f-4b02-827e-34d2a0536a4f"
      },
      "outputs": [
        {
          "name": "stdout",
          "output_type": "stream",
          "text": [
            "Accuracy: 0.95\n"
          ]
        },
        {
          "data": {
            "image/png": "[encoded data removed]",
            "text/plain": [
              "<Figure size 640x480 with 1 Axes>"
            ]
          },
          "metadata": {},
          "output_type": "display_data"
        }
      ],
      "source": [
        "gnb = GaussianNB()\n",
        "gnb.fit(X_train_pca, y_train)\n",
        "\n",
        "# Evaluate classifier\n",
        "y_pred = gnb.predict(X_test_pca)\n",
        "accuracy = accuracy_score(y_test, y_pred)\n",
        "print(f'Accuracy: {accuracy:.2f}')\n",
        "\n",
        "# Function to plot decision boundary\n",
        "def plot_decision_boundary(clf, X, y):\n",
        "    x_min, x_max = X[:, 0].min() - 1, X[:, 0].max() + 1\n",
        "    y_min, y_max = X[:, 1].min() - 1, X[:, 1].max() + 1\n",
        "    xx, yy = np.meshgrid(np.linspace(x_min, x_max, 200),\n",
        "                         np.linspace(y_min, y_max, 200))\n",
        "\n",
        "    Z = clf.predict(np.c_[xx.ravel(), yy.ravel()])\n",
        "    Z = Z.reshape(xx.shape)\n",
        "\n",
        "    plt.contourf(xx, yy, Z, alpha=0.3)\n",
        "    plt.scatter(X[:, 0], X[:, 1], c=y, edgecolor='k', cmap=plt.cm.coolwarm)\n",
        "    plt.xlabel(\"Principal Component 1\")\n",
        "    plt.ylabel(\"Principal Component 2\")\n",
        "    plt.title(\"Gaussian Naive Bayes Decision Boundary\")\n",
        "    plt.show()\n",
        "\n",
        "# Plot decision boundary\n",
        "plot_decision_boundary(gnb, X_train_pca, y_train)\n"
      ]
    },
    {
      "cell_type": "markdown",
      "metadata": {
        "id": "6he6bnExcuQu"
      },
      "source": [
        "**6) Write a classfication program to train a mutlinomial Navie Bayes classifier for text classification using the 20 newsgroups dataset.**"
      ]
    },
    {
      "cell_type": "code",
      "execution_count": 49,
      "metadata": {
        "id": "CJIPKbgadPZU"
      },
      "outputs": [],
      "source": [
        "import numpy as np\n",
        "import matplotlib.pyplot as plt\n",
        "from sklearn.naive_bayes import MultinomialNB\n",
        "from sklearn.datasets import fetch_20newsgroups\n",
        "from sklearn.feature_extraction.text import TfidfVectorizer\n",
        "from sklearn.model_selection import train_test_split\n",
        "from sklearn.metrics import accuracy_score, classification_report\n"
      ]
    },
    {
      "cell_type": "code",
      "execution_count": 50,
      "metadata": {
        "id": "doZPXTBCfxnZ"
      },
      "outputs": [],
      "source": [
        "categories = ['alt.atheism', 'comp.graphics', 'sci.med', 'soc.religion.christian']  # Example categories\n",
        "data = fetch_20newsgroups(subset='all', categories=categories, remove=('headers', 'footers', 'quotes'))"
      ]
    },
    {
      "cell_type": "code",
      "execution_count": 51,
      "metadata": {
        "id": "4oEZWp-Bf2le"
      },
      "outputs": [],
      "source": [
        "X_train, X_test, y_train, y_test = train_test_split(data.data, data.target, test_size=0.2, random_state=42)"
      ]
    },
    {
      "cell_type": "code",
      "execution_count": 52,
      "metadata": {
        "id": "3mM2YDJuf---"
      },
      "outputs": [],
      "source": [
        "vectorizer = TfidfVectorizer(stop_words='english', max_features=5000)\n",
        "X_train_tfidf = vectorizer.fit_transform(X_train)\n",
        "X_test_tfidf = vectorizer.transform(X_test)\n"
      ]
    },
    {
      "cell_type": "code",
      "execution_count": 53,
      "metadata": {
        "colab": {
          "base_uri": "https://localhost:8080/",
          "height": 80
        },
        "id": "2szNEu8XgJfH",
        "outputId": "39fab5f7-5580-4107-ea92-3604a6aeee93"
      },
      "outputs": [
        {
          "data": {
            "text/html": [
              "<style>#sk-container-id-6 {color: black;}#sk-container-id-6 pre{padding: 0;}#sk-container-id-6 div.sk-toggleable {background-color: white;}#sk-container-id-6 label.sk-toggleable__label {cursor: pointer;display: block;width: 100%;margin-bottom: 0;padding: 0.3em;box-sizing: border-box;text-align: center;}#sk-container-id-6 label.sk-toggleable__label-arrow:before {content: \"▸\";float: left;margin-right: 0.25em;color: #696969;}#sk-container-id-6 label.sk-toggleable__label-arrow:hover:before {color: black;}#sk-container-id-6 div.sk-estimator:hover label.sk-toggleable__label-arrow:before {color: black;}#sk-container-id-6 div.sk-toggleable__content {max-height: 0;max-width: 0;overflow: hidden;text-align: left;background-color: #f0f8ff;}#sk-container-id-6 div.sk-toggleable__content pre {margin: 0.2em;color: black;border-radius: 0.25em;background-color: #f0f8ff;}#sk-container-id-6 input.sk-toggleable__control:checked~div.sk-toggleable__content {max-height: 200px;max-width: 100%;overflow: auto;}#sk-container-id-6 input.sk-toggleable__control:checked~label.sk-toggleable__label-arrow:before {content: \"▾\";}#sk-container-id-6 div.sk-estimator input.sk-toggleable__control:checked~label.sk-toggleable__label {background-color: #d4ebff;}#sk-container-id-6 div.sk-label input.sk-toggleable__control:checked~label.sk-toggleable__label {background-color: #d4ebff;}#sk-container-id-6 input.sk-hidden--visually {border: 0;clip: rect(1px 1px 1px 1px);clip: rect(1px, 1px, 1px, 1px);height: 1px;margin: -1px;overflow: hidden;padding: 0;position: absolute;width: 1px;}#sk-container-id-6 div.sk-estimator {font-family: monospace;background-color: #f0f8ff;border: 1px dotted black;border-radius: 0.25em;box-sizing: border-box;margin-bottom: 0.5em;}#sk-container-id-6 div.sk-estimator:hover {background-color: #d4ebff;}#sk-container-id-6 div.sk-parallel-item::after {content: \"\";width: 100%;border-bottom: 1px solid gray;flex-grow: 1;}#sk-container-id-6 div.sk-label:hover label.sk-toggleable__label {background-color: #d4ebff;}#sk-container-id-6 div.sk-serial::before {content: \"\";position: absolute;border-left: 1px solid gray;box-sizing: border-box;top: 0;bottom: 0;left: 50%;z-index: 0;}#sk-container-id-6 div.sk-serial {display: flex;flex-direction: column;align-items: center;background-color: white;padding-right: 0.2em;padding-left: 0.2em;position: relative;}#sk-container-id-6 div.sk-item {position: relative;z-index: 1;}#sk-container-id-6 div.sk-parallel {display: flex;align-items: stretch;justify-content: center;background-color: white;position: relative;}#sk-container-id-6 div.sk-item::before, #sk-container-id-6 div.sk-parallel-item::before {content: \"\";position: absolute;border-left: 1px solid gray;box-sizing: border-box;top: 0;bottom: 0;left: 50%;z-index: -1;}#sk-container-id-6 div.sk-parallel-item {display: flex;flex-direction: column;z-index: 1;position: relative;background-color: white;}#sk-container-id-6 div.sk-parallel-item:first-child::after {align-self: flex-end;width: 50%;}#sk-container-id-6 div.sk-parallel-item:last-child::after {align-self: flex-start;width: 50%;}#sk-container-id-6 div.sk-parallel-item:only-child::after {width: 0;}#sk-container-id-6 div.sk-dashed-wrapped {border: 1px dashed gray;margin: 0 0.4em 0.5em 0.4em;box-sizing: border-box;padding-bottom: 0.4em;background-color: white;}#sk-container-id-6 div.sk-label label {font-family: monospace;font-weight: bold;display: inline-block;line-height: 1.2em;}#sk-container-id-6 div.sk-label-container {text-align: center;}#sk-container-id-6 div.sk-container {/* jupyter's `normalize.less` sets `[hidden] { display: none; }` but bootstrap.min.css set `[hidden] { display: none !important; }` so we also need the `!important` here to be able to override the default hidden behavior on the sphinx rendered scikit-learn.org. See: https://github.com/scikit-learn/scikit-learn/issues/21755 */display: inline-block !important;position: relative;}#sk-container-id-6 div.sk-text-repr-fallback {display: none;}</style><div id=\"sk-container-id-6\" class=\"sk-top-container\"><div class=\"sk-text-repr-fallback\"><pre>MultinomialNB()</pre><b>In a Jupyter environment, please rerun this cell to show the HTML representation or trust the notebook. <br />On GitHub, the HTML representation is unable to render, please try loading this page with nbviewer.org.</b></div><div class=\"sk-container\" hidden><div class=\"sk-item\"><div class=\"sk-estimator sk-toggleable\"><input class=\"sk-toggleable__control sk-hidden--visually\" id=\"sk-estimator-id-6\" type=\"checkbox\" checked><label for=\"sk-estimator-id-6\" class=\"sk-toggleable__label sk-toggleable__label-arrow\">MultinomialNB</label><div class=\"sk-toggleable__content\"><pre>MultinomialNB()</pre></div></div></div></div></div>"
            ],
            "text/plain": [
              "MultinomialNB()"
            ]
          },
          "execution_count": 53,
          "metadata": {},
          "output_type": "execute_result"
        }
      ],
      "source": [
        "mnb = MultinomialNB()\n",
        "mnb.fit(X_train_tfidf, y_train)\n"
      ]
    },
    {
      "cell_type": "code",
      "execution_count": 54,
      "metadata": {
        "id": "hmw171SvgRm-"
      },
      "outputs": [],
      "source": [
        "y_pred = mnb.predict(X_test_tfidf)\n",
        "accuracy = accuracy_score(y_test, y_pred)"
      ]
    },
    {
      "cell_type": "markdown",
      "metadata": {
        "id": "-R1ztFrwhbsK"
      },
      "source": [
        "**7) Write a python program to train an SVM classifier with different c value and compare the decision boundary visually.**"
      ]
    },
    {
      "cell_type": "code",
      "execution_count": 55,
      "metadata": {
        "id": "5I1oAywjh0RE"
      },
      "outputs": [],
      "source": [
        "import numpy as np\n",
        "import matplotlib.pyplot as plt\n",
        "from sklearn.svm import SVC\n",
        "from sklearn.datasets import make_moons\n",
        "from sklearn.preprocessing import StandardScaler\n",
        "from sklearn.model_selection import train_test_split\n"
      ]
    },
    {
      "cell_type": "code",
      "execution_count": 56,
      "metadata": {
        "id": "b-nF5GnmirJv"
      },
      "outputs": [],
      "source": [
        "X, y = make_moons(n_samples=200, noise=0.2, random_state=42)\n"
      ]
    },
    {
      "cell_type": "code",
      "execution_count": 57,
      "metadata": {
        "id": "0px4e4O1itW2"
      },
      "outputs": [],
      "source": [
        "X_train, X_test, y_train, y_test = train_test_split(X, y, test_size=0.2, random_state=42)\n"
      ]
    },
    {
      "cell_type": "code",
      "execution_count": 58,
      "metadata": {
        "colab": {
          "base_uri": "https://localhost:8080/",
          "height": 1000
        },
        "id": "LmP1ZQy3mvxw",
        "outputId": "fea65142-853c-4062-a7bf-e459ff8b93f1"
      },
      "outputs": [
        {
          "data": {
            "image/png": "[encoded data removed]",
            "text/plain": [
              "<Figure size 640x480 with 1 Axes>"
            ]
          },
          "metadata": {},
          "output_type": "display_data"
        },
        {
          "data": {
            "image/png": "[encoded data removed]",
            "text/plain": [
              "<Figure size 640x480 with 1 Axes>"
            ]
          },
          "metadata": {},
          "output_type": "display_data"
        },
        {
          "data": {
            "image/png": "[encoded data removed]",
            "text/plain": [
              "<Figure size 640x480 with 1 Axes>"
            ]
          },
          "metadata": {},
          "output_type": "display_data"
        }
      ],
      "source": [
        "scaler = StandardScaler()\n",
        "X_train = scaler.fit_transform(X_train)\n",
        "X_test = scaler.transform(X_test)\n",
        "\n",
        "# Function to plot decision boundary\n",
        "def plot_decision_boundary(clf, X, y, title):\n",
        "    x_min, x_max = X[:, 0].min() - 1, X[:, 0].max() + 1\n",
        "    y_min, y_max = X[:, 1].min() - 1, X[:, 1].max() + 1\n",
        "    xx, yy = np.meshgrid(np.linspace(x_min, x_max, 200),\n",
        "                         np.linspace(y_min, y_max, 200))\n",
        "\n",
        "    Z = clf.predict(scaler.transform(np.c_[xx.ravel(), yy.ravel()]))\n",
        "    Z = Z.reshape(xx.shape)\n",
        "\n",
        "    plt.contourf(xx, yy, Z, alpha=0.3)\n",
        "    plt.scatter(X[:, 0], X[:, 1], c=y, edgecolor='k', cmap=plt.cm.coolwarm)\n",
        "    plt.xlabel(\"Feature 1\")\n",
        "    plt.ylabel(\"Feature 2\")\n",
        "    plt.title(title)\n",
        "    plt.show()\n",
        "\n",
        "# Train SVM with different C values and compare decision boundaries\n",
        "C_values = [0.1, 1, 10]\n",
        "for C in C_values:\n",
        "    svm_clf = SVC(kernel='poly', degree=3, C=C, coef0=1)\n",
        "    svm_clf.fit(X_train, y_train)\n",
        "    plot_decision_boundary(svm_clf, X_train, y_train, title=f\"SVM with C={C}\")"
      ]
    },
    {
      "cell_type": "markdown",
      "metadata": {
        "id": "6fXcT93inKuJ"
      },
      "source": [
        "**8) Write a python program to train a bernouali Naibayes classifier for binary classification  on a dataset with binary feature.**"
      ]
    },
    {
      "cell_type": "code",
      "execution_count": 59,
      "metadata": {
        "id": "cSfDIwjTntKD"
      },
      "outputs": [],
      "source": [
        "import numpy as np\n",
        "import matplotlib.pyplot as plt\n",
        "from sklearn.naive_bayes import BernoulliNB\n",
        "from sklearn.model_selection import train_test_split\n",
        "from sklearn.datasets import make_classification\n",
        "from sklearn.metrics import accuracy_score, classification_report"
      ]
    },
    {
      "cell_type": "code",
      "execution_count": 60,
      "metadata": {
        "id": "o0_B_ASNokv2"
      },
      "outputs": [],
      "source": [
        "X, y = make_classification(n_samples=500, n_features=10, n_informative=5, n_redundant=0, n_classes=2, random_state=42)"
      ]
    },
    {
      "cell_type": "code",
      "execution_count": 61,
      "metadata": {
        "id": "bU90SUfFooim"
      },
      "outputs": [],
      "source": [
        "X = (X > np.median(X)).astype(int)"
      ]
    },
    {
      "cell_type": "code",
      "execution_count": 62,
      "metadata": {
        "id": "b_ntp3xrpBwx"
      },
      "outputs": [],
      "source": [
        "X_train, X_test, y_train, y_test = train_test_split(X, y, test_size=0.2, random_state=42)\n"
      ]
    },
    {
      "cell_type": "code",
      "execution_count": 63,
      "metadata": {
        "colab": {
          "base_uri": "https://localhost:8080/"
        },
        "id": "bCqZu3yxpEsX",
        "outputId": "50d1d1c2-676e-4669-c79c-9022c005aec2"
      },
      "outputs": [
        {
          "name": "stdout",
          "output_type": "stream",
          "text": [
            "Accuracy: 0.87\n",
            "              precision    recall  f1-score   support\n",
            "\n",
            "           0       0.93      0.79      0.85        48\n",
            "           1       0.83      0.94      0.88        52\n",
            "\n",
            "    accuracy                           0.87       100\n",
            "   macro avg       0.88      0.87      0.87       100\n",
            "weighted avg       0.88      0.87      0.87       100\n",
            "\n"
          ]
        }
      ],
      "source": [
        "bnb = BernoulliNB()\n",
        "bnb.fit(X_train, y_train)\n",
        "\n",
        "# Evaluate classifier\n",
        "y_pred = bnb.predict(X_test)\n",
        "accuracy = accuracy_score(y_test, y_pred)\n",
        "print(f'Accuracy: {accuracy:.2f}')\n",
        "print(classification_report(y_test, y_pred))\n"
      ]
    },
    {
      "cell_type": "markdown",
      "metadata": {
        "id": "TP90mNrypbQB"
      },
      "source": [
        "**9) Write a python program to apply feature scalling before training an SVM model and compare results with unscaled data.**"
      ]
    },
    {
      "cell_type": "code",
      "execution_count": 64,
      "metadata": {
        "id": "y3o9OOLgpyAJ"
      },
      "outputs": [],
      "source": [
        "import numpy as np\n",
        "import matplotlib.pyplot as plt\n",
        "from sklearn.svm import SVC\n",
        "from sklearn.datasets import make_classification\n",
        "from sklearn.preprocessing import StandardScaler\n",
        "from sklearn.model_selection import train_test_split\n",
        "from sklearn.metrics import accuracy_score"
      ]
    },
    {
      "cell_type": "code",
      "execution_count": 65,
      "metadata": {
        "id": "6ikhtEoMp9wK"
      },
      "outputs": [],
      "source": [
        "X, y = make_classification(n_samples=500, n_features=10, n_informative=5, n_redundant=0, random_state=42)"
      ]
    },
    {
      "cell_type": "code",
      "execution_count": 66,
      "metadata": {
        "id": "E5e2TPt9qAdS"
      },
      "outputs": [],
      "source": [
        "X_train, X_test, y_train, y_test = train_test_split(X, y, test_size=0.2, random_state=42)\n"
      ]
    },
    {
      "cell_type": "code",
      "execution_count": 67,
      "metadata": {
        "colab": {
          "base_uri": "https://localhost:8080/"
        },
        "id": "XTIiOi-sqHxz",
        "outputId": "dfb2c274-2f32-47aa-bb55-231de8ffa59e"
      },
      "outputs": [
        {
          "name": "stdout",
          "output_type": "stream",
          "text": [
            "Accuracy without scaling: 0.87\n"
          ]
        }
      ],
      "source": [
        "svm_unscaled = SVC(kernel='linear', random_state=42)\n",
        "svm_unscaled.fit(X_train, y_train)\n",
        "y_pred_unscaled = svm_unscaled.predict(X_test)\n",
        "unscaled_accuracy = accuracy_score(y_test, y_pred_unscaled)\n",
        "print(f'Accuracy without scaling: {unscaled_accuracy:.2f}')\n"
      ]
    },
    {
      "cell_type": "code",
      "execution_count": 68,
      "metadata": {
        "id": "722iEAHJqOWz"
      },
      "outputs": [],
      "source": [
        "scaler = StandardScaler()\n",
        "X_train_scaled = scaler.fit_transform(X_train)\n",
        "X_test_scaled = scaler.transform(X_test)\n",
        "\n",
        "# Train SVM model with scaled data\n",
        "svm_scaled = SVC(kernel='linear', random_state=42)\n",
        "svm_scaled.fit(X_train_scaled, y_train)\n",
        "y_pred_scaled = svm_scaled.predict(X_test_scaled)\n",
        "scaled_accuracy = accuracy_score(y_test, y_pred_scaled)"
      ]
    },
    {
      "cell_type": "code",
      "execution_count": 69,
      "metadata": {
        "colab": {
          "base_uri": "https://localhost:8080/"
        },
        "id": "FW0rdrY0qRxD",
        "outputId": "4aec1be7-6c54-458d-f85d-b0a4d29f1058"
      },
      "outputs": [
        {
          "data": {
            "text/plain": [
              "0.87"
            ]
          },
          "execution_count": 69,
          "metadata": {},
          "output_type": "execute_result"
        }
      ],
      "source": [
        "scaled_accuracy"
      ]
    },
    {
      "cell_type": "markdown",
      "metadata": {
        "id": "11M1bhOzxUXk"
      },
      "source": [
        "**10) Write a python program to train a gaussian Naive Bayes model and compare the predictions before and after laplace smooting.**"
      ]
    },
    {
      "cell_type": "code",
      "execution_count": 70,
      "metadata": {
        "id": "JD5CQIjzx5qV"
      },
      "outputs": [],
      "source": [
        "import numpy as np\n",
        "import pandas as pd\n",
        "from sklearn.model_selection import train_test_split\n",
        "from sklearn.naive_bayes import GaussianNB\n",
        "from sklearn.metrics import accuracy_score\n"
      ]
    },
    {
      "cell_type": "code",
      "execution_count": 71,
      "metadata": {
        "id": "KmReiixbyjK6"
      },
      "outputs": [],
      "source": [
        "np.random.seed(42)\n",
        "X = np.random.rand(200, 2) * 10\n",
        "y = (X[:, 0] + X[:, 1] > 10).astype(int)"
      ]
    },
    {
      "cell_type": "code",
      "execution_count": 72,
      "metadata": {
        "id": "UF7kwXRZylgL"
      },
      "outputs": [],
      "source": [
        "X_train, X_test, y_train, y_test = train_test_split(X, y, test_size=0.2, random_state=42)\n"
      ]
    },
    {
      "cell_type": "code",
      "execution_count": 73,
      "metadata": {
        "colab": {
          "base_uri": "https://localhost:8080/"
        },
        "id": "F7PYyha0yq1S",
        "outputId": "4f367324-f502-4c62-8d18-199eedce6fcc"
      },
      "outputs": [
        {
          "name": "stdout",
          "output_type": "stream",
          "text": [
            "Accuracy without Laplace smoothing: 0.9250\n"
          ]
        }
      ],
      "source": [
        "gnb = GaussianNB(var_smoothing=1e-9)  # Very small smoothing\n",
        "gnb.fit(X_train, y_train)\n",
        "y_pred = gnb.predict(X_test)\n",
        "accuracy_no_smoothing = accuracy_score(y_test, y_pred)\n",
        "print(f\"Accuracy without Laplace smoothing: {accuracy_no_smoothing:.4f}\")\n"
      ]
    },
    {
      "cell_type": "code",
      "execution_count": 74,
      "metadata": {
        "colab": {
          "base_uri": "https://localhost:8080/"
        },
        "id": "a4HK8lL2yvsz",
        "outputId": "ab9e0aac-112d-4cc0-b8f9-c0f3e5cdba72"
      },
      "outputs": [
        {
          "name": "stdout",
          "output_type": "stream",
          "text": [
            "Accuracy with Laplace smoothing: 0.9250\n"
          ]
        }
      ],
      "source": [
        "gnb_smooth = GaussianNB(var_smoothing=1e-3)  # Increased smoothing\n",
        "gnb_smooth.fit(X_train, y_train)\n",
        "y_pred_smooth = gnb_smooth.predict(X_test)\n",
        "accuracy_with_smoothing = accuracy_score(y_test, y_pred_smooth)\n",
        "print(f\"Accuracy with Laplace smoothing: {accuracy_with_smoothing:.4f}\")\n"
      ]
    },
    {
      "cell_type": "code",
      "execution_count": 75,
      "metadata": {
        "colab": {
          "base_uri": "https://localhost:8080/"
        },
        "id": "B3po84WQy2bS",
        "outputId": "81c0349c-7345-4aed-c1ad-3cf80bcb93d6"
      },
      "outputs": [
        {
          "name": "stdout",
          "output_type": "stream",
          "text": [
            "   Actual  Predicted (No Smoothing)  Predicted (With Smoothing)\n",
            "0       0                         0                           0\n",
            "1       0                         0                           0\n",
            "2       0                         0                           0\n",
            "3       0                         0                           0\n",
            "4       1                         1                           1\n"
          ]
        }
      ],
      "source": [
        "comparison = pd.DataFrame({\n",
        "    \"Actual\": y_test,\n",
        "    \"Predicted (No Smoothing)\": y_pred,\n",
        "    \"Predicted (With Smoothing)\": y_pred_smooth\n",
        "})\n",
        "print(comparison.head())\n"
      ]
    },
    {
      "cell_type": "markdown",
      "metadata": {
        "id": "lXDAsJO6y-dS"
      },
      "source": [
        "**11) Write a python progam to train an SVM classifier and use GridSearchCV to tune the hyperparameters**"
      ]
    },
    {
      "cell_type": "code",
      "execution_count": 76,
      "metadata": {
        "colab": {
          "base_uri": "https://localhost:8080/"
        },
        "id": "g-cKBXmnzcwz",
        "outputId": "a7273cd4-0ae5-4235-be6a-131cf683a9b1"
      },
      "outputs": [
        {
          "name": "stdout",
          "output_type": "stream",
          "text": [
            "Best Parameters: {'C': 0.1, 'gamma': 'scale', 'kernel': 'poly'}\n",
            "Test Accuracy with Best Model: 0.9750\n"
          ]
        }
      ],
      "source": [
        "import numpy as np\n",
        "import pandas as pd\n",
        "from sklearn.model_selection import train_test_split, GridSearchCV\n",
        "from sklearn.svm import SVC\n",
        "from sklearn.metrics import accuracy_score\n",
        "\n",
        "# Generate synthetic dataset\n",
        "np.random.seed(42)\n",
        "X = np.random.rand(200, 2) * 10  # 200 samples, 2 features\n",
        "y = (X[:, 0] + X[:, 1] > 10).astype(int)  # Binary classification\n",
        "\n",
        "# Split the dataset into training and testing sets\n",
        "X_train, X_test, y_train, y_test = train_test_split(X, y, test_size=0.2, random_state=42)\n",
        "\n",
        "# Define the SVM classifier\n",
        "svm_clf = SVC()\n",
        "\n",
        "# Define the hyperparameter grid\n",
        "param_grid = {\n",
        "    'C': [0.1, 1, 10],\n",
        "    'kernel': ['linear', 'rbf', 'poly'],\n",
        "    'gamma': ['scale', 'auto']\n",
        "}\n",
        "\n",
        "# Perform GridSearchCV\n",
        "grid_search = GridSearchCV(svm_clf, param_grid, cv=5, scoring='accuracy', n_jobs=-1)\n",
        "grid_search.fit(X_train, y_train)\n",
        "\n",
        "# Best parameters and best model\n",
        "best_params = grid_search.best_params_\n",
        "best_model = grid_search.best_estimator_\n",
        "print(f\"Best Parameters: {best_params}\")\n",
        "\n",
        "# Evaluate the best model\n",
        "y_pred = best_model.predict(X_test)\n",
        "accuracy = accuracy_score(y_test, y_pred)\n",
        "print(f\"Test Accuracy with Best Model: {accuracy:.4f}\")\n"
      ]
    },
    {
      "cell_type": "markdown",
      "metadata": {
        "id": "4KjjaARQz57s"
      },
      "source": [
        "**12) Write a python program to train an SVM classifier on an imbanced dataset and apply class weighting and check  it improve accuracy.**"
      ]
    },
    {
      "cell_type": "code",
      "execution_count": 77,
      "metadata": {
        "colab": {
          "base_uri": "https://localhost:8080/"
        },
        "id": "2T-QVFjm2jWr",
        "outputId": "bc042146-9214-4d85-e38e-6a2637402d3f"
      },
      "outputs": [
        {
          "name": "stdout",
          "output_type": "stream",
          "text": [
            "Accuracy without class weighting: 0.9700\n",
            "Classification Report (No Class Weighting):\n",
            "               precision    recall  f1-score   support\n",
            "\n",
            "           0       0.97      1.00      0.98       194\n",
            "           1       0.00      0.00      0.00         6\n",
            "\n",
            "    accuracy                           0.97       200\n",
            "   macro avg       0.48      0.50      0.49       200\n",
            "weighted avg       0.94      0.97      0.96       200\n",
            "\n",
            "Accuracy with class weighting: 0.8600\n",
            "Classification Report (With Class Weighting):\n",
            "               precision    recall  f1-score   support\n",
            "\n",
            "           0       1.00      0.86      0.92       194\n",
            "           1       0.18      1.00      0.30         6\n",
            "\n",
            "    accuracy                           0.86       200\n",
            "   macro avg       0.59      0.93      0.61       200\n",
            "weighted avg       0.98      0.86      0.90       200\n",
            "\n"
          ]
        },
        {
          "name": "stderr",
          "output_type": "stream",
          "text": [
            "c:\\Users\\ASUS\\AppData\\Local\\Programs\\Python\\Python312\\Lib\\site-packages\\sklearn\\metrics\\_classification.py:1469: UndefinedMetricWarning: Precision and F-score are ill-defined and being set to 0.0 in labels with no predicted samples. Use `zero_division` parameter to control this behavior.\n",
            "  _warn_prf(average, modifier, msg_start, len(result))\n",
            "c:\\Users\\ASUS\\AppData\\Local\\Programs\\Python\\Python312\\Lib\\site-packages\\sklearn\\metrics\\_classification.py:1469: UndefinedMetricWarning: Precision and F-score are ill-defined and being set to 0.0 in labels with no predicted samples. Use `zero_division` parameter to control this behavior.\n",
            "  _warn_prf(average, modifier, msg_start, len(result))\n",
            "c:\\Users\\ASUS\\AppData\\Local\\Programs\\Python\\Python312\\Lib\\site-packages\\sklearn\\metrics\\_classification.py:1469: UndefinedMetricWarning: Precision and F-score are ill-defined and being set to 0.0 in labels with no predicted samples. Use `zero_division` parameter to control this behavior.\n",
            "  _warn_prf(average, modifier, msg_start, len(result))\n"
          ]
        }
      ],
      "source": [
        "import numpy as np\n",
        "import pandas as pd\n",
        "from sklearn.model_selection import train_test_split\n",
        "from sklearn.svm import SVC\n",
        "from sklearn.metrics import accuracy_score, classification_report\n",
        "from sklearn.utils import class_weight\n",
        "\n",
        "# Generate imbalanced synthetic dataset\n",
        "np.random.seed(42)\n",
        "X = np.random.rand(1000, 2) * 10  # 1000 samples, 2 features\n",
        "y = np.where(X[:, 0] + X[:, 1] > 15, 1, 0)  # Imbalanced binary classification\n",
        "y[:800] = 0  # Making class 0 more frequent\n",
        "\n",
        "# Split the dataset into training and testing sets\n",
        "X_train, X_test, y_train, y_test = train_test_split(X, y, test_size=0.2, random_state=42)\n",
        "\n",
        "# Train SVM classifier without class weighting\n",
        "svm_clf = SVC(kernel='rbf', random_state=42)\n",
        "svm_clf.fit(X_train, y_train)\n",
        "y_pred = svm_clf.predict(X_test)\n",
        "accuracy_no_weighting = accuracy_score(y_test, y_pred)\n",
        "print(f\"Accuracy without class weighting: {accuracy_no_weighting:.4f}\")\n",
        "print(\"Classification Report (No Class Weighting):\\n\", classification_report(y_test, y_pred))\n",
        "\n",
        "# Compute class weights\n",
        "y_unique = np.unique(y_train)\n",
        "weights = class_weight.compute_class_weight('balanced', classes=y_unique, y=y_train)\n",
        "class_weights_dict = {key: value for key, value in zip(y_unique, weights)}\n",
        "\n",
        "# Train SVM classifier with class weighting\n",
        "svm_clf_weighted = SVC(kernel='rbf', class_weight='balanced', random_state=42)\n",
        "svm_clf_weighted.fit(X_train, y_train)\n",
        "y_pred_weighted = svm_clf_weighted.predict(X_test)\n",
        "accuracy_with_weighting = accuracy_score(y_test, y_pred_weighted)\n",
        "print(f\"Accuracy with class weighting: {accuracy_with_weighting:.4f}\")\n",
        "print(\"Classification Report (With Class Weighting):\\n\", classification_report(y_test, y_pred_weighted))"
      ]
    },
    {
      "cell_type": "markdown",
      "metadata": {
        "id": "0vgtr9VtbW8G"
      },
      "source": [
        "**13) Write a python program to implement a Navie Bayes classfier spam detection.**"
      ]
    },
    {
      "cell_type": "code",
      "execution_count": 78,
      "metadata": {
        "id": "ui4H-RWWb8w2"
      },
      "outputs": [],
      "source": [
        "import numpy as np\n",
        "import pandas as pd\n",
        "from sklearn.pipeline import Pipeline\n",
        "from sklearn.feature_extraction.text import CountVectorizer, TfidfTransformer\n",
        "from sklearn.naive_bayes import MultinomialNB\n",
        "from sklearn.pipeline import Pipeline\n",
        "from sklearn.model_selection import train_test_split"
      ]
    },
    {
      "cell_type": "code",
      "execution_count": 79,
      "metadata": {
        "id": "w2G9ZCBdeCAs"
      },
      "outputs": [],
      "source": [
        "data = {\n",
        "    'message': [\n",
        "        'Win a free iPhone now!',\n",
        "        'Call me when you get free',\n",
        "        'Congratulations, you won a lottery!',\n",
        "        'Reminder: Meeting at 3 PM',\n",
        "        'Get cash now, limited offer!',\n",
        "        'Let’s catch up later',\n",
        "        'Exclusive deal just for you!',\n",
        "        'Are you coming to the party?',\n",
        "        'URGENT! Your account needs verification',\n",
        "        'See you at the coffee shop'\n",
        "    ],\n",
        "    'label': ['spam', 'ham', 'spam', 'ham', 'spam', 'ham', 'spam', 'ham', 'spam', 'ham']\n",
        "}"
      ]
    },
    {
      "cell_type": "code",
      "execution_count": 80,
      "metadata": {
        "id": "hg1qjLj5eIUk"
      },
      "outputs": [],
      "source": [
        "df = pd.DataFrame(data)\n"
      ]
    },
    {
      "cell_type": "code",
      "execution_count": 81,
      "metadata": {
        "id": "0PK7I9DGeMUr"
      },
      "outputs": [],
      "source": [
        "df['label'] = df['label'].map({'spam' : 0 , 'ham': 1})"
      ]
    },
    {
      "cell_type": "code",
      "execution_count": 82,
      "metadata": {
        "id": "4r7LzaBEg5ra"
      },
      "outputs": [],
      "source": [
        "X_train, X_test, y_train, y_test = train_test_split(df['message'], df['label'], test_size=0.3, random_state=42)"
      ]
    },
    {
      "cell_type": "code",
      "execution_count": 83,
      "metadata": {
        "id": "hY4W_n2ehS5n"
      },
      "outputs": [],
      "source": [
        "model = Pipeline([('vectorizer',CountVectorizer()),\n",
        "('tfidf', TfidfTransformer()),('classifier', MultinomialNB())])"
      ]
    },
    {
      "cell_type": "code",
      "execution_count": 84,
      "metadata": {
        "colab": {
          "base_uri": "https://localhost:8080/",
          "height": 195
        },
        "id": "8WOUUHx7iXTQ",
        "outputId": "eb386af2-f422-45d8-e2c4-9515e99ccc39"
      },
      "outputs": [
        {
          "data": {
            "text/html": [
              "<style>#sk-container-id-7 {color: black;}#sk-container-id-7 pre{padding: 0;}#sk-container-id-7 div.sk-toggleable {background-color: white;}#sk-container-id-7 label.sk-toggleable__label {cursor: pointer;display: block;width: 100%;margin-bottom: 0;padding: 0.3em;box-sizing: border-box;text-align: center;}#sk-container-id-7 label.sk-toggleable__label-arrow:before {content: \"▸\";float: left;margin-right: 0.25em;color: #696969;}#sk-container-id-7 label.sk-toggleable__label-arrow:hover:before {color: black;}#sk-container-id-7 div.sk-estimator:hover label.sk-toggleable__label-arrow:before {color: black;}#sk-container-id-7 div.sk-toggleable__content {max-height: 0;max-width: 0;overflow: hidden;text-align: left;background-color: #f0f8ff;}#sk-container-id-7 div.sk-toggleable__content pre {margin: 0.2em;color: black;border-radius: 0.25em;background-color: #f0f8ff;}#sk-container-id-7 input.sk-toggleable__control:checked~div.sk-toggleable__content {max-height: 200px;max-width: 100%;overflow: auto;}#sk-container-id-7 input.sk-toggleable__control:checked~label.sk-toggleable__label-arrow:before {content: \"▾\";}#sk-container-id-7 div.sk-estimator input.sk-toggleable__control:checked~label.sk-toggleable__label {background-color: #d4ebff;}#sk-container-id-7 div.sk-label input.sk-toggleable__control:checked~label.sk-toggleable__label {background-color: #d4ebff;}#sk-container-id-7 input.sk-hidden--visually {border: 0;clip: rect(1px 1px 1px 1px);clip: rect(1px, 1px, 1px, 1px);height: 1px;margin: -1px;overflow: hidden;padding: 0;position: absolute;width: 1px;}#sk-container-id-7 div.sk-estimator {font-family: monospace;background-color: #f0f8ff;border: 1px dotted black;border-radius: 0.25em;box-sizing: border-box;margin-bottom: 0.5em;}#sk-container-id-7 div.sk-estimator:hover {background-color: #d4ebff;}#sk-container-id-7 div.sk-parallel-item::after {content: \"\";width: 100%;border-bottom: 1px solid gray;flex-grow: 1;}#sk-container-id-7 div.sk-label:hover label.sk-toggleable__label {background-color: #d4ebff;}#sk-container-id-7 div.sk-serial::before {content: \"\";position: absolute;border-left: 1px solid gray;box-sizing: border-box;top: 0;bottom: 0;left: 50%;z-index: 0;}#sk-container-id-7 div.sk-serial {display: flex;flex-direction: column;align-items: center;background-color: white;padding-right: 0.2em;padding-left: 0.2em;position: relative;}#sk-container-id-7 div.sk-item {position: relative;z-index: 1;}#sk-container-id-7 div.sk-parallel {display: flex;align-items: stretch;justify-content: center;background-color: white;position: relative;}#sk-container-id-7 div.sk-item::before, #sk-container-id-7 div.sk-parallel-item::before {content: \"\";position: absolute;border-left: 1px solid gray;box-sizing: border-box;top: 0;bottom: 0;left: 50%;z-index: -1;}#sk-container-id-7 div.sk-parallel-item {display: flex;flex-direction: column;z-index: 1;position: relative;background-color: white;}#sk-container-id-7 div.sk-parallel-item:first-child::after {align-self: flex-end;width: 50%;}#sk-container-id-7 div.sk-parallel-item:last-child::after {align-self: flex-start;width: 50%;}#sk-container-id-7 div.sk-parallel-item:only-child::after {width: 0;}#sk-container-id-7 div.sk-dashed-wrapped {border: 1px dashed gray;margin: 0 0.4em 0.5em 0.4em;box-sizing: border-box;padding-bottom: 0.4em;background-color: white;}#sk-container-id-7 div.sk-label label {font-family: monospace;font-weight: bold;display: inline-block;line-height: 1.2em;}#sk-container-id-7 div.sk-label-container {text-align: center;}#sk-container-id-7 div.sk-container {/* jupyter's `normalize.less` sets `[hidden] { display: none; }` but bootstrap.min.css set `[hidden] { display: none !important; }` so we also need the `!important` here to be able to override the default hidden behavior on the sphinx rendered scikit-learn.org. See: https://github.com/scikit-learn/scikit-learn/issues/21755 */display: inline-block !important;position: relative;}#sk-container-id-7 div.sk-text-repr-fallback {display: none;}</style><div id=\"sk-container-id-7\" class=\"sk-top-container\"><div class=\"sk-text-repr-fallback\"><pre>Pipeline(steps=[(&#x27;vectorizer&#x27;, CountVectorizer()),\n",
              "                (&#x27;tfidf&#x27;, TfidfTransformer()),\n",
              "                (&#x27;classifier&#x27;, MultinomialNB())])</pre><b>In a Jupyter environment, please rerun this cell to show the HTML representation or trust the notebook. <br />On GitHub, the HTML representation is unable to render, please try loading this page with nbviewer.org.</b></div><div class=\"sk-container\" hidden><div class=\"sk-item sk-dashed-wrapped\"><div class=\"sk-label-container\"><div class=\"sk-label sk-toggleable\"><input class=\"sk-toggleable__control sk-hidden--visually\" id=\"sk-estimator-id-7\" type=\"checkbox\" ><label for=\"sk-estimator-id-7\" class=\"sk-toggleable__label sk-toggleable__label-arrow\">Pipeline</label><div class=\"sk-toggleable__content\"><pre>Pipeline(steps=[(&#x27;vectorizer&#x27;, CountVectorizer()),\n",
              "                (&#x27;tfidf&#x27;, TfidfTransformer()),\n",
              "                (&#x27;classifier&#x27;, MultinomialNB())])</pre></div></div></div><div class=\"sk-serial\"><div class=\"sk-item\"><div class=\"sk-estimator sk-toggleable\"><input class=\"sk-toggleable__control sk-hidden--visually\" id=\"sk-estimator-id-8\" type=\"checkbox\" ><label for=\"sk-estimator-id-8\" class=\"sk-toggleable__label sk-toggleable__label-arrow\">CountVectorizer</label><div class=\"sk-toggleable__content\"><pre>CountVectorizer()</pre></div></div></div><div class=\"sk-item\"><div class=\"sk-estimator sk-toggleable\"><input class=\"sk-toggleable__control sk-hidden--visually\" id=\"sk-estimator-id-9\" type=\"checkbox\" ><label for=\"sk-estimator-id-9\" class=\"sk-toggleable__label sk-toggleable__label-arrow\">TfidfTransformer</label><div class=\"sk-toggleable__content\"><pre>TfidfTransformer()</pre></div></div></div><div class=\"sk-item\"><div class=\"sk-estimator sk-toggleable\"><input class=\"sk-toggleable__control sk-hidden--visually\" id=\"sk-estimator-id-10\" type=\"checkbox\" ><label for=\"sk-estimator-id-10\" class=\"sk-toggleable__label sk-toggleable__label-arrow\">MultinomialNB</label><div class=\"sk-toggleable__content\"><pre>MultinomialNB()</pre></div></div></div></div></div></div></div>"
            ],
            "text/plain": [
              "Pipeline(steps=[('vectorizer', CountVectorizer()),\n",
              "                ('tfidf', TfidfTransformer()),\n",
              "                ('classifier', MultinomialNB())])"
            ]
          },
          "execution_count": 84,
          "metadata": {},
          "output_type": "execute_result"
        }
      ],
      "source": [
        "model.fit(X_train,y_train)"
      ]
    },
    {
      "cell_type": "code",
      "execution_count": 85,
      "metadata": {
        "id": "CbbLOF5Via1k"
      },
      "outputs": [],
      "source": [
        "y_pred = model.predict(X_test)"
      ]
    },
    {
      "cell_type": "code",
      "execution_count": 86,
      "metadata": {
        "colab": {
          "base_uri": "https://localhost:8080/"
        },
        "id": "ZmkqNGQ8imrv",
        "outputId": "74b8b66a-4a31-461b-e1f7-99a0bb92d4f2"
      },
      "outputs": [
        {
          "name": "stdout",
          "output_type": "stream",
          "text": [
            "Accuracy: 0.3333333333333333\n"
          ]
        }
      ],
      "source": [
        "print(\"Accuracy:\", accuracy_score(y_test, y_pred))"
      ]
    },
    {
      "cell_type": "code",
      "execution_count": 87,
      "metadata": {
        "id": "XoMyUyIoiskn"
      },
      "outputs": [],
      "source": [
        "new_messages = [\"Congratulations! You have won a $1000 gift card.\", \"Hey, how are you doing today?\"]"
      ]
    },
    {
      "cell_type": "code",
      "execution_count": 88,
      "metadata": {
        "id": "0oaIaFzyiwpP"
      },
      "outputs": [],
      "source": [
        "Predictions = model.predict(new_messages)"
      ]
    },
    {
      "cell_type": "code",
      "execution_count": 89,
      "metadata": {
        "colab": {
          "base_uri": "https://localhost:8080/"
        },
        "id": "XioNJz-ci2_G",
        "outputId": "8f286b9d-24ce-4418-c48b-945befab4eb0"
      },
      "outputs": [
        {
          "data": {
            "text/plain": [
              "array([0, 1], dtype=int64)"
            ]
          },
          "execution_count": 89,
          "metadata": {},
          "output_type": "execute_result"
        }
      ],
      "source": [
        "Predictions"
      ]
    },
    {
      "cell_type": "markdown",
      "metadata": {
        "id": "Dnk4jy4Bi4hF"
      },
      "source": [
        "14) Write a python to train an SVM classifier and a Navie Bayes Classifier on the same dataset and compare their accuracy."
      ]
    },
    {
      "cell_type": "code",
      "execution_count": 90,
      "metadata": {
        "id": "Hod-P2Xej3MH"
      },
      "outputs": [],
      "source": [
        "import numpy as np\n",
        "import pandas as pd\n",
        "from sklearn.feature_extraction.text import CountVectorizer, TfidfTransformer\n",
        "from sklearn.naive_bayes import MultinomialNB\n",
        "from sklearn.svm import SVC\n",
        "from sklearn.pipeline import Pipeline\n",
        "from sklearn.model_selection import train_test_split\n",
        "from sklearn.metrics import accuracy_score, classification_report\n"
      ]
    },
    {
      "cell_type": "code",
      "execution_count": 91,
      "metadata": {
        "id": "hX4TSEzcj4GG"
      },
      "outputs": [],
      "source": [
        "data = {\n",
        "    'message': [\n",
        "        'Win a free iPhone now!',\n",
        "        'Call me when you get free',\n",
        "        'Congratulations, you won a lottery!',\n",
        "        'Reminder: Meeting at 3 PM',\n",
        "        'Get cash now, limited offer!',\n",
        "        'Let’s catch up later',\n",
        "        'Exclusive deal just for you!',\n",
        "        'Are you coming to the party?',\n",
        "        'URGENT! Your account needs verification',\n",
        "        'See you at the coffee shop'\n",
        "    ],\n",
        "    'label': ['spam', 'ham', 'spam', 'ham', 'spam', 'ham', 'spam', 'ham', 'spam', 'ham']\n",
        "}\n",
        "\n",
        "df = pd.DataFrame(data)"
      ]
    },
    {
      "cell_type": "code",
      "execution_count": 92,
      "metadata": {
        "id": "hbKuTycuj7X1"
      },
      "outputs": [],
      "source": [
        "df['label'] = df['label'].map({'ham': 0, 'spam': 1})"
      ]
    },
    {
      "cell_type": "code",
      "execution_count": 93,
      "metadata": {
        "id": "LEvylNxIkBuE"
      },
      "outputs": [],
      "source": [
        "X_train, X_test, y_train, y_test = train_test_split(df['message'], df['label'], test_size=0.3, random_state=42)"
      ]
    },
    {
      "cell_type": "code",
      "execution_count": 94,
      "metadata": {
        "id": "pv-7TabEkIOU"
      },
      "outputs": [],
      "source": [
        "nb_model = Pipeline([\n",
        "    ('vectorizer', CountVectorizer()),\n",
        "    ('tfidf', TfidfTransformer()),\n",
        "    ('classifier', MultinomialNB())\n",
        "])"
      ]
    },
    {
      "cell_type": "code",
      "execution_count": 95,
      "metadata": {
        "id": "VRHVZT4NkK09"
      },
      "outputs": [],
      "source": [
        "svm_model = Pipeline([\n",
        "    ('vectorizer', CountVectorizer()),\n",
        "    ('tfidf', TfidfTransformer()),\n",
        "    ('classifier', SVC(kernel='linear'))\n",
        "])"
      ]
    },
    {
      "cell_type": "code",
      "execution_count": 96,
      "metadata": {
        "colab": {
          "base_uri": "https://localhost:8080/",
          "height": 195
        },
        "id": "SuqaRA8-kO4c",
        "outputId": "02d34e30-6a2a-44e8-946a-ca0135b4c356"
      },
      "outputs": [
        {
          "data": {
            "text/html": [
              "<style>#sk-container-id-8 {color: black;}#sk-container-id-8 pre{padding: 0;}#sk-container-id-8 div.sk-toggleable {background-color: white;}#sk-container-id-8 label.sk-toggleable__label {cursor: pointer;display: block;width: 100%;margin-bottom: 0;padding: 0.3em;box-sizing: border-box;text-align: center;}#sk-container-id-8 label.sk-toggleable__label-arrow:before {content: \"▸\";float: left;margin-right: 0.25em;color: #696969;}#sk-container-id-8 label.sk-toggleable__label-arrow:hover:before {color: black;}#sk-container-id-8 div.sk-estimator:hover label.sk-toggleable__label-arrow:before {color: black;}#sk-container-id-8 div.sk-toggleable__content {max-height: 0;max-width: 0;overflow: hidden;text-align: left;background-color: #f0f8ff;}#sk-container-id-8 div.sk-toggleable__content pre {margin: 0.2em;color: black;border-radius: 0.25em;background-color: #f0f8ff;}#sk-container-id-8 input.sk-toggleable__control:checked~div.sk-toggleable__content {max-height: 200px;max-width: 100%;overflow: auto;}#sk-container-id-8 input.sk-toggleable__control:checked~label.sk-toggleable__label-arrow:before {content: \"▾\";}#sk-container-id-8 div.sk-estimator input.sk-toggleable__control:checked~label.sk-toggleable__label {background-color: #d4ebff;}#sk-container-id-8 div.sk-label input.sk-toggleable__control:checked~label.sk-toggleable__label {background-color: #d4ebff;}#sk-container-id-8 input.sk-hidden--visually {border: 0;clip: rect(1px 1px 1px 1px);clip: rect(1px, 1px, 1px, 1px);height: 1px;margin: -1px;overflow: hidden;padding: 0;position: absolute;width: 1px;}#sk-container-id-8 div.sk-estimator {font-family: monospace;background-color: #f0f8ff;border: 1px dotted black;border-radius: 0.25em;box-sizing: border-box;margin-bottom: 0.5em;}#sk-container-id-8 div.sk-estimator:hover {background-color: #d4ebff;}#sk-container-id-8 div.sk-parallel-item::after {content: \"\";width: 100%;border-bottom: 1px solid gray;flex-grow: 1;}#sk-container-id-8 div.sk-label:hover label.sk-toggleable__label {background-color: #d4ebff;}#sk-container-id-8 div.sk-serial::before {content: \"\";position: absolute;border-left: 1px solid gray;box-sizing: border-box;top: 0;bottom: 0;left: 50%;z-index: 0;}#sk-container-id-8 div.sk-serial {display: flex;flex-direction: column;align-items: center;background-color: white;padding-right: 0.2em;padding-left: 0.2em;position: relative;}#sk-container-id-8 div.sk-item {position: relative;z-index: 1;}#sk-container-id-8 div.sk-parallel {display: flex;align-items: stretch;justify-content: center;background-color: white;position: relative;}#sk-container-id-8 div.sk-item::before, #sk-container-id-8 div.sk-parallel-item::before {content: \"\";position: absolute;border-left: 1px solid gray;box-sizing: border-box;top: 0;bottom: 0;left: 50%;z-index: -1;}#sk-container-id-8 div.sk-parallel-item {display: flex;flex-direction: column;z-index: 1;position: relative;background-color: white;}#sk-container-id-8 div.sk-parallel-item:first-child::after {align-self: flex-end;width: 50%;}#sk-container-id-8 div.sk-parallel-item:last-child::after {align-self: flex-start;width: 50%;}#sk-container-id-8 div.sk-parallel-item:only-child::after {width: 0;}#sk-container-id-8 div.sk-dashed-wrapped {border: 1px dashed gray;margin: 0 0.4em 0.5em 0.4em;box-sizing: border-box;padding-bottom: 0.4em;background-color: white;}#sk-container-id-8 div.sk-label label {font-family: monospace;font-weight: bold;display: inline-block;line-height: 1.2em;}#sk-container-id-8 div.sk-label-container {text-align: center;}#sk-container-id-8 div.sk-container {/* jupyter's `normalize.less` sets `[hidden] { display: none; }` but bootstrap.min.css set `[hidden] { display: none !important; }` so we also need the `!important` here to be able to override the default hidden behavior on the sphinx rendered scikit-learn.org. See: https://github.com/scikit-learn/scikit-learn/issues/21755 */display: inline-block !important;position: relative;}#sk-container-id-8 div.sk-text-repr-fallback {display: none;}</style><div id=\"sk-container-id-8\" class=\"sk-top-container\"><div class=\"sk-text-repr-fallback\"><pre>Pipeline(steps=[(&#x27;vectorizer&#x27;, CountVectorizer()),\n",
              "                (&#x27;tfidf&#x27;, TfidfTransformer()),\n",
              "                (&#x27;classifier&#x27;, SVC(kernel=&#x27;linear&#x27;))])</pre><b>In a Jupyter environment, please rerun this cell to show the HTML representation or trust the notebook. <br />On GitHub, the HTML representation is unable to render, please try loading this page with nbviewer.org.</b></div><div class=\"sk-container\" hidden><div class=\"sk-item sk-dashed-wrapped\"><div class=\"sk-label-container\"><div class=\"sk-label sk-toggleable\"><input class=\"sk-toggleable__control sk-hidden--visually\" id=\"sk-estimator-id-11\" type=\"checkbox\" ><label for=\"sk-estimator-id-11\" class=\"sk-toggleable__label sk-toggleable__label-arrow\">Pipeline</label><div class=\"sk-toggleable__content\"><pre>Pipeline(steps=[(&#x27;vectorizer&#x27;, CountVectorizer()),\n",
              "                (&#x27;tfidf&#x27;, TfidfTransformer()),\n",
              "                (&#x27;classifier&#x27;, SVC(kernel=&#x27;linear&#x27;))])</pre></div></div></div><div class=\"sk-serial\"><div class=\"sk-item\"><div class=\"sk-estimator sk-toggleable\"><input class=\"sk-toggleable__control sk-hidden--visually\" id=\"sk-estimator-id-12\" type=\"checkbox\" ><label for=\"sk-estimator-id-12\" class=\"sk-toggleable__label sk-toggleable__label-arrow\">CountVectorizer</label><div class=\"sk-toggleable__content\"><pre>CountVectorizer()</pre></div></div></div><div class=\"sk-item\"><div class=\"sk-estimator sk-toggleable\"><input class=\"sk-toggleable__control sk-hidden--visually\" id=\"sk-estimator-id-13\" type=\"checkbox\" ><label for=\"sk-estimator-id-13\" class=\"sk-toggleable__label sk-toggleable__label-arrow\">TfidfTransformer</label><div class=\"sk-toggleable__content\"><pre>TfidfTransformer()</pre></div></div></div><div class=\"sk-item\"><div class=\"sk-estimator sk-toggleable\"><input class=\"sk-toggleable__control sk-hidden--visually\" id=\"sk-estimator-id-14\" type=\"checkbox\" ><label for=\"sk-estimator-id-14\" class=\"sk-toggleable__label sk-toggleable__label-arrow\">SVC</label><div class=\"sk-toggleable__content\"><pre>SVC(kernel=&#x27;linear&#x27;)</pre></div></div></div></div></div></div></div>"
            ],
            "text/plain": [
              "Pipeline(steps=[('vectorizer', CountVectorizer()),\n",
              "                ('tfidf', TfidfTransformer()),\n",
              "                ('classifier', SVC(kernel='linear'))])"
            ]
          },
          "execution_count": 96,
          "metadata": {},
          "output_type": "execute_result"
        }
      ],
      "source": [
        "nb_model.fit(X_train, y_train)\n",
        "svm_model.fit(X_train, y_train)\n"
      ]
    },
    {
      "cell_type": "code",
      "execution_count": 97,
      "metadata": {
        "id": "HuDdNAuEkSIE"
      },
      "outputs": [],
      "source": [
        "y_pred_nb = nb_model.predict(X_test)\n",
        "y_pred_svm = svm_model.predict(X_test)"
      ]
    },
    {
      "cell_type": "code",
      "execution_count": 98,
      "metadata": {
        "id": "geQy8d0jkf8U"
      },
      "outputs": [],
      "source": [
        "navie_bayes_acc = accuracy_score(y_test, y_pred_nb)"
      ]
    },
    {
      "cell_type": "code",
      "execution_count": 99,
      "metadata": {
        "id": "HPoBnROdko7d"
      },
      "outputs": [],
      "source": [
        "svm_acc = accuracy_score(y_test, y_pred_svm)"
      ]
    },
    {
      "cell_type": "markdown",
      "metadata": {
        "id": "j3660YscpyOe"
      },
      "source": [
        "15) wrtie a python program feature selection before training a Navie Bayes classifier and compare results."
      ]
    },
    {
      "cell_type": "code",
      "execution_count": 100,
      "metadata": {
        "id": "ILx9vhhNqz21"
      },
      "outputs": [],
      "source": [
        "import numpy as np\n",
        "import pandas as pd\n",
        "from sklearn.feature_extraction.text import CountVectorizer, TfidfTransformer\n",
        "from sklearn.feature_selection import SelectKBest, chi2\n",
        "from sklearn.naive_bayes import MultinomialNB\n",
        "from sklearn.pipeline import Pipeline\n",
        "from sklearn.model_selection import train_test_split\n",
        "from sklearn.metrics import accuracy_score, classification_report\n"
      ]
    },
    {
      "cell_type": "code",
      "execution_count": 101,
      "metadata": {
        "id": "v9o_svXsqJ_e"
      },
      "outputs": [],
      "source": [
        "data = {\n",
        "    'message': [\n",
        "        'Win a free iPhone now!',\n",
        "        'Call me when you get free',\n",
        "        'Congratulations, you won a lottery!',\n",
        "        'Reminder: Meeting at 3 PM',\n",
        "        'Get cash now, limited offer!',\n",
        "        'Let’s catch up later',\n",
        "        'Exclusive deal just for you!',\n",
        "        'Are you coming to the party?',\n",
        "        'URGENT! Your account needs verification',\n",
        "        'See you at the coffee shop'\n",
        "    ],\n",
        "    'label': ['spam', 'ham', 'spam', 'ham', 'spam', 'ham', 'spam', 'ham', 'spam', 'ham']\n",
        "}\n",
        "\n",
        "df = pd.DataFrame(data)\n"
      ]
    },
    {
      "cell_type": "code",
      "execution_count": 102,
      "metadata": {
        "id": "pD1nzhvrtcda"
      },
      "outputs": [],
      "source": [
        "df['label'] = df['label'].map({'ham': 0, 'spam': 1})"
      ]
    },
    {
      "cell_type": "code",
      "execution_count": 103,
      "metadata": {
        "id": "1jRY7tjAtfcS"
      },
      "outputs": [],
      "source": [
        "X_train, X_test, y_train, y_test = train_test_split(df['message'], df['label'], test_size=0.3, random_state=42)\n"
      ]
    },
    {
      "cell_type": "code",
      "execution_count": 104,
      "metadata": {
        "id": "SIR7PjC3thtd"
      },
      "outputs": [],
      "source": [
        "nb_model = Pipeline([\n",
        "    ('vectorizer', CountVectorizer()),\n",
        "    ('tfidf', TfidfTransformer()),\n",
        "    ('classifier', MultinomialNB())\n",
        "])"
      ]
    },
    {
      "cell_type": "code",
      "execution_count": 105,
      "metadata": {
        "id": "wOozaxQAtlPr"
      },
      "outputs": [],
      "source": [
        "nb_model_fs = Pipeline([\n",
        "    ('vectorizer', CountVectorizer()),\n",
        "    ('tfidf', TfidfTransformer()),\n",
        "    ('feature_selection', SelectKBest(chi2, k=5)),  # Selecting top 5 features\n",
        "    ('classifier', MultinomialNB())\n",
        "])\n"
      ]
    },
    {
      "cell_type": "code",
      "execution_count": 106,
      "metadata": {
        "colab": {
          "base_uri": "https://localhost:8080/",
          "height": 235
        },
        "id": "WnbZ3QM7tqIb",
        "outputId": "3a9a332e-e668-4bb7-f87d-b3eb3ffc9155"
      },
      "outputs": [
        {
          "data": {
            "text/html": [
              "<style>#sk-container-id-9 {color: black;}#sk-container-id-9 pre{padding: 0;}#sk-container-id-9 div.sk-toggleable {background-color: white;}#sk-container-id-9 label.sk-toggleable__label {cursor: pointer;display: block;width: 100%;margin-bottom: 0;padding: 0.3em;box-sizing: border-box;text-align: center;}#sk-container-id-9 label.sk-toggleable__label-arrow:before {content: \"▸\";float: left;margin-right: 0.25em;color: #696969;}#sk-container-id-9 label.sk-toggleable__label-arrow:hover:before {color: black;}#sk-container-id-9 div.sk-estimator:hover label.sk-toggleable__label-arrow:before {color: black;}#sk-container-id-9 div.sk-toggleable__content {max-height: 0;max-width: 0;overflow: hidden;text-align: left;background-color: #f0f8ff;}#sk-container-id-9 div.sk-toggleable__content pre {margin: 0.2em;color: black;border-radius: 0.25em;background-color: #f0f8ff;}#sk-container-id-9 input.sk-toggleable__control:checked~div.sk-toggleable__content {max-height: 200px;max-width: 100%;overflow: auto;}#sk-container-id-9 input.sk-toggleable__control:checked~label.sk-toggleable__label-arrow:before {content: \"▾\";}#sk-container-id-9 div.sk-estimator input.sk-toggleable__control:checked~label.sk-toggleable__label {background-color: #d4ebff;}#sk-container-id-9 div.sk-label input.sk-toggleable__control:checked~label.sk-toggleable__label {background-color: #d4ebff;}#sk-container-id-9 input.sk-hidden--visually {border: 0;clip: rect(1px 1px 1px 1px);clip: rect(1px, 1px, 1px, 1px);height: 1px;margin: -1px;overflow: hidden;padding: 0;position: absolute;width: 1px;}#sk-container-id-9 div.sk-estimator {font-family: monospace;background-color: #f0f8ff;border: 1px dotted black;border-radius: 0.25em;box-sizing: border-box;margin-bottom: 0.5em;}#sk-container-id-9 div.sk-estimator:hover {background-color: #d4ebff;}#sk-container-id-9 div.sk-parallel-item::after {content: \"\";width: 100%;border-bottom: 1px solid gray;flex-grow: 1;}#sk-container-id-9 div.sk-label:hover label.sk-toggleable__label {background-color: #d4ebff;}#sk-container-id-9 div.sk-serial::before {content: \"\";position: absolute;border-left: 1px solid gray;box-sizing: border-box;top: 0;bottom: 0;left: 50%;z-index: 0;}#sk-container-id-9 div.sk-serial {display: flex;flex-direction: column;align-items: center;background-color: white;padding-right: 0.2em;padding-left: 0.2em;position: relative;}#sk-container-id-9 div.sk-item {position: relative;z-index: 1;}#sk-container-id-9 div.sk-parallel {display: flex;align-items: stretch;justify-content: center;background-color: white;position: relative;}#sk-container-id-9 div.sk-item::before, #sk-container-id-9 div.sk-parallel-item::before {content: \"\";position: absolute;border-left: 1px solid gray;box-sizing: border-box;top: 0;bottom: 0;left: 50%;z-index: -1;}#sk-container-id-9 div.sk-parallel-item {display: flex;flex-direction: column;z-index: 1;position: relative;background-color: white;}#sk-container-id-9 div.sk-parallel-item:first-child::after {align-self: flex-end;width: 50%;}#sk-container-id-9 div.sk-parallel-item:last-child::after {align-self: flex-start;width: 50%;}#sk-container-id-9 div.sk-parallel-item:only-child::after {width: 0;}#sk-container-id-9 div.sk-dashed-wrapped {border: 1px dashed gray;margin: 0 0.4em 0.5em 0.4em;box-sizing: border-box;padding-bottom: 0.4em;background-color: white;}#sk-container-id-9 div.sk-label label {font-family: monospace;font-weight: bold;display: inline-block;line-height: 1.2em;}#sk-container-id-9 div.sk-label-container {text-align: center;}#sk-container-id-9 div.sk-container {/* jupyter's `normalize.less` sets `[hidden] { display: none; }` but bootstrap.min.css set `[hidden] { display: none !important; }` so we also need the `!important` here to be able to override the default hidden behavior on the sphinx rendered scikit-learn.org. See: https://github.com/scikit-learn/scikit-learn/issues/21755 */display: inline-block !important;position: relative;}#sk-container-id-9 div.sk-text-repr-fallback {display: none;}</style><div id=\"sk-container-id-9\" class=\"sk-top-container\"><div class=\"sk-text-repr-fallback\"><pre>Pipeline(steps=[(&#x27;vectorizer&#x27;, CountVectorizer()),\n",
              "                (&#x27;tfidf&#x27;, TfidfTransformer()),\n",
              "                (&#x27;feature_selection&#x27;,\n",
              "                 SelectKBest(k=5,\n",
              "                             score_func=&lt;function chi2 at 0x000001C7F4D30400&gt;)),\n",
              "                (&#x27;classifier&#x27;, MultinomialNB())])</pre><b>In a Jupyter environment, please rerun this cell to show the HTML representation or trust the notebook. <br />On GitHub, the HTML representation is unable to render, please try loading this page with nbviewer.org.</b></div><div class=\"sk-container\" hidden><div class=\"sk-item sk-dashed-wrapped\"><div class=\"sk-label-container\"><div class=\"sk-label sk-toggleable\"><input class=\"sk-toggleable__control sk-hidden--visually\" id=\"sk-estimator-id-15\" type=\"checkbox\" ><label for=\"sk-estimator-id-15\" class=\"sk-toggleable__label sk-toggleable__label-arrow\">Pipeline</label><div class=\"sk-toggleable__content\"><pre>Pipeline(steps=[(&#x27;vectorizer&#x27;, CountVectorizer()),\n",
              "                (&#x27;tfidf&#x27;, TfidfTransformer()),\n",
              "                (&#x27;feature_selection&#x27;,\n",
              "                 SelectKBest(k=5,\n",
              "                             score_func=&lt;function chi2 at 0x000001C7F4D30400&gt;)),\n",
              "                (&#x27;classifier&#x27;, MultinomialNB())])</pre></div></div></div><div class=\"sk-serial\"><div class=\"sk-item\"><div class=\"sk-estimator sk-toggleable\"><input class=\"sk-toggleable__control sk-hidden--visually\" id=\"sk-estimator-id-16\" type=\"checkbox\" ><label for=\"sk-estimator-id-16\" class=\"sk-toggleable__label sk-toggleable__label-arrow\">CountVectorizer</label><div class=\"sk-toggleable__content\"><pre>CountVectorizer()</pre></div></div></div><div class=\"sk-item\"><div class=\"sk-estimator sk-toggleable\"><input class=\"sk-toggleable__control sk-hidden--visually\" id=\"sk-estimator-id-17\" type=\"checkbox\" ><label for=\"sk-estimator-id-17\" class=\"sk-toggleable__label sk-toggleable__label-arrow\">TfidfTransformer</label><div class=\"sk-toggleable__content\"><pre>TfidfTransformer()</pre></div></div></div><div class=\"sk-item\"><div class=\"sk-estimator sk-toggleable\"><input class=\"sk-toggleable__control sk-hidden--visually\" id=\"sk-estimator-id-18\" type=\"checkbox\" ><label for=\"sk-estimator-id-18\" class=\"sk-toggleable__label sk-toggleable__label-arrow\">SelectKBest</label><div class=\"sk-toggleable__content\"><pre>SelectKBest(k=5, score_func=&lt;function chi2 at 0x000001C7F4D30400&gt;)</pre></div></div></div><div class=\"sk-item\"><div class=\"sk-estimator sk-toggleable\"><input class=\"sk-toggleable__control sk-hidden--visually\" id=\"sk-estimator-id-19\" type=\"checkbox\" ><label for=\"sk-estimator-id-19\" class=\"sk-toggleable__label sk-toggleable__label-arrow\">MultinomialNB</label><div class=\"sk-toggleable__content\"><pre>MultinomialNB()</pre></div></div></div></div></div></div></div>"
            ],
            "text/plain": [
              "Pipeline(steps=[('vectorizer', CountVectorizer()),\n",
              "                ('tfidf', TfidfTransformer()),\n",
              "                ('feature_selection',\n",
              "                 SelectKBest(k=5,\n",
              "                             score_func=<function chi2 at 0x000001C7F4D30400>)),\n",
              "                ('classifier', MultinomialNB())])"
            ]
          },
          "execution_count": 106,
          "metadata": {},
          "output_type": "execute_result"
        }
      ],
      "source": [
        "nb_model.fit(X_train, y_train)\n",
        "nb_model_fs.fit(X_train, y_train)"
      ]
    },
    {
      "cell_type": "code",
      "execution_count": 107,
      "metadata": {
        "colab": {
          "base_uri": "https://localhost:8080/"
        },
        "id": "iRW8iLrnt19M",
        "outputId": "57a2036b-44d9-40d7-92c6-601e00537fb7"
      },
      "outputs": [
        {
          "name": "stdout",
          "output_type": "stream",
          "text": [
            "Naive Bayes Accuracy: 0.3333333333333333\n"
          ]
        }
      ],
      "source": [
        "print(\"Naive Bayes Accuracy:\", accuracy_score(y_test, y_pred_nb))"
      ]
    },
    {
      "cell_type": "code",
      "execution_count": 108,
      "metadata": {
        "id": "wRfHvI4QuTrz"
      },
      "outputs": [],
      "source": [
        "y_pred_nb_fs = nb_model_fs.predict(X_test)"
      ]
    },
    {
      "cell_type": "code",
      "execution_count": 109,
      "metadata": {
        "colab": {
          "base_uri": "https://localhost:8080/"
        },
        "id": "AANVS3sZt9T9",
        "outputId": "b018a380-1fe2-4a86-a33f-2f79490e5878"
      },
      "outputs": [
        {
          "name": "stdout",
          "output_type": "stream",
          "text": [
            "Naive Bayes with Feature Selection Accuracy: 0.3333333333333333\n"
          ]
        }
      ],
      "source": [
        "print(\"Naive Bayes with Feature Selection Accuracy:\", accuracy_score(y_test, y_pred_nb_fs))"
      ]
    },
    {
      "cell_type": "code",
      "execution_count": 110,
      "metadata": {
        "colab": {
          "base_uri": "https://localhost:8080/"
        },
        "id": "QfmkYg09t-1z",
        "outputId": "3bc300ba-df23-4cde-e58b-be0afd684a58"
      },
      "outputs": [
        {
          "name": "stdout",
          "output_type": "stream",
          "text": [
            "Naive Bayes Predictions: [1 0]\n",
            "Naive Bayes with Feature Selection Predictions: [1 1]\n"
          ]
        }
      ],
      "source": [
        "new_messages = [\"Congratulations! You have won a $1000 gift card.\", \"Hey, how are you doing today?\"]\n",
        "print(\"Naive Bayes Predictions:\", nb_model.predict(new_messages))\n",
        "print(\"Naive Bayes with Feature Selection Predictions:\", nb_model_fs.predict(new_messages))\n"
      ]
    },
    {
      "cell_type": "markdown",
      "metadata": {
        "id": "BX5E3q8fucf6"
      },
      "source": [
        "16) Write a python program to train an SVM classifier using One-vs-Rest(ovr) and one-vs-one strategies on the wine dataset and compare their accuracy."
      ]
    },
    {
      "cell_type": "code",
      "execution_count": 111,
      "metadata": {
        "id": "pABwjdA9BAp2"
      },
      "outputs": [],
      "source": [
        "from sklearn import datasets\n",
        "from sklearn.model_selection import train_test_split\n",
        "from sklearn.svm import SVC\n",
        "from sklearn.metrics import accuracy_score\n"
      ]
    },
    {
      "cell_type": "code",
      "execution_count": 112,
      "metadata": {
        "id": "GtXKuc7OBC7b"
      },
      "outputs": [],
      "source": [
        "wine = datasets.load_wine()\n",
        "x, y = wine.data, wine.target"
      ]
    },
    {
      "cell_type": "code",
      "execution_count": 113,
      "metadata": {
        "colab": {
          "base_uri": "https://localhost:8080/"
        },
        "id": "giwuZ6S4DJpi",
        "outputId": "33ff3d5f-87ec-492d-9101-6e687eb26db8"
      },
      "outputs": [
        {
          "data": {
            "text/plain": [
              "array([[1.423e+01, 1.710e+00, 2.430e+00, ..., 1.040e+00, 3.920e+00,\n",
              "        1.065e+03],\n",
              "       [1.320e+01, 1.780e+00, 2.140e+00, ..., 1.050e+00, 3.400e+00,\n",
              "        1.050e+03],\n",
              "       [1.316e+01, 2.360e+00, 2.670e+00, ..., 1.030e+00, 3.170e+00,\n",
              "        1.185e+03],\n",
              "       ...,\n",
              "       [1.327e+01, 4.280e+00, 2.260e+00, ..., 5.900e-01, 1.560e+00,\n",
              "        8.350e+02],\n",
              "       [1.317e+01, 2.590e+00, 2.370e+00, ..., 6.000e-01, 1.620e+00,\n",
              "        8.400e+02],\n",
              "       [1.413e+01, 4.100e+00, 2.740e+00, ..., 6.100e-01, 1.600e+00,\n",
              "        5.600e+02]])"
            ]
          },
          "execution_count": 113,
          "metadata": {},
          "output_type": "execute_result"
        }
      ],
      "source": [
        "x"
      ]
    },
    {
      "cell_type": "code",
      "execution_count": 114,
      "metadata": {
        "id": "WgSzpPsQBGzj"
      },
      "outputs": [],
      "source": [
        "feature_names = wine.feature_names"
      ]
    },
    {
      "cell_type": "code",
      "execution_count": 115,
      "metadata": {
        "colab": {
          "base_uri": "https://localhost:8080/"
        },
        "id": "gf8u6a9vDBDS",
        "outputId": "17c9bf56-bf79-440b-fbeb-b8a9c626c8bc"
      },
      "outputs": [
        {
          "data": {
            "text/plain": [
              "['alcohol',\n",
              " 'malic_acid',\n",
              " 'ash',\n",
              " 'alcalinity_of_ash',\n",
              " 'magnesium',\n",
              " 'total_phenols',\n",
              " 'flavanoids',\n",
              " 'nonflavanoid_phenols',\n",
              " 'proanthocyanins',\n",
              " 'color_intensity',\n",
              " 'hue',\n",
              " 'od280/od315_of_diluted_wines',\n",
              " 'proline']"
            ]
          },
          "execution_count": 115,
          "metadata": {},
          "output_type": "execute_result"
        }
      ],
      "source": [
        "feature_names"
      ]
    },
    {
      "cell_type": "code",
      "execution_count": 116,
      "metadata": {
        "colab": {
          "base_uri": "https://localhost:8080/"
        },
        "id": "2Bkb2oRhEemw",
        "outputId": "40550069-a1a9-40f9-b966-545a756604a3"
      },
      "outputs": [
        {
          "data": {
            "text/plain": [
              "array(['class_0', 'class_1', 'class_2'], dtype='<U7')"
            ]
          },
          "execution_count": 116,
          "metadata": {},
          "output_type": "execute_result"
        }
      ],
      "source": [
        "wine.target_names"
      ]
    },
    {
      "cell_type": "code",
      "execution_count": 117,
      "metadata": {
        "id": "6iNWU1zLBM1b"
      },
      "outputs": [],
      "source": [
        "x_train, x_test, y_train, y_test = train_test_split(x, y, test_size=0.2, random_state=42)"
      ]
    },
    {
      "cell_type": "code",
      "execution_count": 118,
      "metadata": {
        "colab": {
          "base_uri": "https://localhost:8080/",
          "height": 80
        },
        "id": "P8Nmpe9sBUdN",
        "outputId": "4d584511-6f45-4a76-956f-9162bade11ee"
      },
      "outputs": [
        {
          "data": {
            "text/html": [
              "<style>#sk-container-id-10 {color: black;}#sk-container-id-10 pre{padding: 0;}#sk-container-id-10 div.sk-toggleable {background-color: white;}#sk-container-id-10 label.sk-toggleable__label {cursor: pointer;display: block;width: 100%;margin-bottom: 0;padding: 0.3em;box-sizing: border-box;text-align: center;}#sk-container-id-10 label.sk-toggleable__label-arrow:before {content: \"▸\";float: left;margin-right: 0.25em;color: #696969;}#sk-container-id-10 label.sk-toggleable__label-arrow:hover:before {color: black;}#sk-container-id-10 div.sk-estimator:hover label.sk-toggleable__label-arrow:before {color: black;}#sk-container-id-10 div.sk-toggleable__content {max-height: 0;max-width: 0;overflow: hidden;text-align: left;background-color: #f0f8ff;}#sk-container-id-10 div.sk-toggleable__content pre {margin: 0.2em;color: black;border-radius: 0.25em;background-color: #f0f8ff;}#sk-container-id-10 input.sk-toggleable__control:checked~div.sk-toggleable__content {max-height: 200px;max-width: 100%;overflow: auto;}#sk-container-id-10 input.sk-toggleable__control:checked~label.sk-toggleable__label-arrow:before {content: \"▾\";}#sk-container-id-10 div.sk-estimator input.sk-toggleable__control:checked~label.sk-toggleable__label {background-color: #d4ebff;}#sk-container-id-10 div.sk-label input.sk-toggleable__control:checked~label.sk-toggleable__label {background-color: #d4ebff;}#sk-container-id-10 input.sk-hidden--visually {border: 0;clip: rect(1px 1px 1px 1px);clip: rect(1px, 1px, 1px, 1px);height: 1px;margin: -1px;overflow: hidden;padding: 0;position: absolute;width: 1px;}#sk-container-id-10 div.sk-estimator {font-family: monospace;background-color: #f0f8ff;border: 1px dotted black;border-radius: 0.25em;box-sizing: border-box;margin-bottom: 0.5em;}#sk-container-id-10 div.sk-estimator:hover {background-color: #d4ebff;}#sk-container-id-10 div.sk-parallel-item::after {content: \"\";width: 100%;border-bottom: 1px solid gray;flex-grow: 1;}#sk-container-id-10 div.sk-label:hover label.sk-toggleable__label {background-color: #d4ebff;}#sk-container-id-10 div.sk-serial::before {content: \"\";position: absolute;border-left: 1px solid gray;box-sizing: border-box;top: 0;bottom: 0;left: 50%;z-index: 0;}#sk-container-id-10 div.sk-serial {display: flex;flex-direction: column;align-items: center;background-color: white;padding-right: 0.2em;padding-left: 0.2em;position: relative;}#sk-container-id-10 div.sk-item {position: relative;z-index: 1;}#sk-container-id-10 div.sk-parallel {display: flex;align-items: stretch;justify-content: center;background-color: white;position: relative;}#sk-container-id-10 div.sk-item::before, #sk-container-id-10 div.sk-parallel-item::before {content: \"\";position: absolute;border-left: 1px solid gray;box-sizing: border-box;top: 0;bottom: 0;left: 50%;z-index: -1;}#sk-container-id-10 div.sk-parallel-item {display: flex;flex-direction: column;z-index: 1;position: relative;background-color: white;}#sk-container-id-10 div.sk-parallel-item:first-child::after {align-self: flex-end;width: 50%;}#sk-container-id-10 div.sk-parallel-item:last-child::after {align-self: flex-start;width: 50%;}#sk-container-id-10 div.sk-parallel-item:only-child::after {width: 0;}#sk-container-id-10 div.sk-dashed-wrapped {border: 1px dashed gray;margin: 0 0.4em 0.5em 0.4em;box-sizing: border-box;padding-bottom: 0.4em;background-color: white;}#sk-container-id-10 div.sk-label label {font-family: monospace;font-weight: bold;display: inline-block;line-height: 1.2em;}#sk-container-id-10 div.sk-label-container {text-align: center;}#sk-container-id-10 div.sk-container {/* jupyter's `normalize.less` sets `[hidden] { display: none; }` but bootstrap.min.css set `[hidden] { display: none !important; }` so we also need the `!important` here to be able to override the default hidden behavior on the sphinx rendered scikit-learn.org. See: https://github.com/scikit-learn/scikit-learn/issues/21755 */display: inline-block !important;position: relative;}#sk-container-id-10 div.sk-text-repr-fallback {display: none;}</style><div id=\"sk-container-id-10\" class=\"sk-top-container\"><div class=\"sk-text-repr-fallback\"><pre>SVC(kernel=&#x27;linear&#x27;)</pre><b>In a Jupyter environment, please rerun this cell to show the HTML representation or trust the notebook. <br />On GitHub, the HTML representation is unable to render, please try loading this page with nbviewer.org.</b></div><div class=\"sk-container\" hidden><div class=\"sk-item\"><div class=\"sk-estimator sk-toggleable\"><input class=\"sk-toggleable__control sk-hidden--visually\" id=\"sk-estimator-id-20\" type=\"checkbox\" checked><label for=\"sk-estimator-id-20\" class=\"sk-toggleable__label sk-toggleable__label-arrow\">SVC</label><div class=\"sk-toggleable__content\"><pre>SVC(kernel=&#x27;linear&#x27;)</pre></div></div></div></div></div>"
            ],
            "text/plain": [
              "SVC(kernel='linear')"
            ]
          },
          "execution_count": 118,
          "metadata": {},
          "output_type": "execute_result"
        }
      ],
      "source": [
        "svm_ovr = SVC(decision_function_shape='ovr', kernel='linear')\n",
        "svm_ovr.fit(x_train, y_train)"
      ]
    },
    {
      "cell_type": "code",
      "execution_count": 119,
      "metadata": {
        "id": "lU7C59EiBY6s"
      },
      "outputs": [],
      "source": [
        "y_pred_ovr = svm_ovr.predict(x_test)\n",
        "accuracy_ovr = accuracy_score(y_test, y_pred_ovr)"
      ]
    },
    {
      "cell_type": "code",
      "execution_count": 120,
      "metadata": {
        "colab": {
          "base_uri": "https://localhost:8080/"
        },
        "id": "NJSXCLToBpgv",
        "outputId": "5e3a29ed-6c54-4aa5-e869-2c8ef26372b5"
      },
      "outputs": [
        {
          "data": {
            "text/plain": [
              "1.0"
            ]
          },
          "execution_count": 120,
          "metadata": {},
          "output_type": "execute_result"
        }
      ],
      "source": [
        "accuracy_ovr"
      ]
    },
    {
      "cell_type": "code",
      "execution_count": 121,
      "metadata": {
        "colab": {
          "base_uri": "https://localhost:8080/"
        },
        "id": "ope42RfTBkzF",
        "outputId": "4ad7673d-766a-45c2-eb63-2f2038a76769"
      },
      "outputs": [
        {
          "data": {
            "text/plain": [
              "array([0, 0, 2, 0, 1, 0, 1, 2, 1, 2, 0, 2, 0, 1, 0, 1, 1, 1, 0, 1, 0, 1,\n",
              "       1, 2, 2, 2, 1, 1, 1, 0, 0, 1, 2, 0, 0, 0])"
            ]
          },
          "execution_count": 121,
          "metadata": {},
          "output_type": "execute_result"
        }
      ],
      "source": [
        "y_pred_ovr"
      ]
    },
    {
      "cell_type": "code",
      "execution_count": 122,
      "metadata": {
        "id": "133tFFcvCdrp"
      },
      "outputs": [],
      "source": [
        "svm_ovo = SVC(decision_function_shape='ovo', kernel='linear')\n",
        "svm_ovo.fit(x_train, y_train)\n",
        "y_pred_ovo = svm_ovo.predict(x_test)\n",
        "accuracy_ovo = accuracy_score(y_test, y_pred_ovo)"
      ]
    },
    {
      "cell_type": "code",
      "execution_count": 123,
      "metadata": {
        "colab": {
          "base_uri": "https://localhost:8080/"
        },
        "id": "TAAcslfICjIg",
        "outputId": "ead04f4d-2bb1-4715-817b-880fb8347dfa"
      },
      "outputs": [
        {
          "data": {
            "text/plain": [
              "1.0"
            ]
          },
          "execution_count": 123,
          "metadata": {},
          "output_type": "execute_result"
        }
      ],
      "source": [
        "accuracy_ovo"
      ]
    },
    {
      "cell_type": "markdown",
      "metadata": {
        "id": "G08l9uo3Cn4I"
      },
      "source": [
        "**17) Write a python program to train an SVM Classifier using Linear,Polynomial, and RBF kernels on the breast cancer dataset and compare their accuracy.**"
      ]
    },
    {
      "cell_type": "code",
      "execution_count": 124,
      "metadata": {
        "id": "xMsJzMruFisz"
      },
      "outputs": [],
      "source": [
        "from sklearn import datasets\n",
        "from sklearn.model_selection import train_test_split\n",
        "from sklearn.svm import SVC\n",
        "from sklearn.metrics import accuracy_score\n"
      ]
    },
    {
      "cell_type": "code",
      "execution_count": 125,
      "metadata": {
        "id": "Yuagk2g1F1KL"
      },
      "outputs": [],
      "source": [
        "cancer = datasets.load_breast_cancer()"
      ]
    },
    {
      "cell_type": "code",
      "execution_count": 126,
      "metadata": {
        "id": "PDU3PSC2F_Th"
      },
      "outputs": [],
      "source": [
        "x,y = cancer.data, cancer.target"
      ]
    },
    {
      "cell_type": "code",
      "execution_count": 127,
      "metadata": {
        "colab": {
          "base_uri": "https://localhost:8080/"
        },
        "id": "C-rCXTV7GFgN",
        "outputId": "a030b938-f3c0-4739-e7a6-2f745bb922f9"
      },
      "outputs": [
        {
          "data": {
            "text/plain": [
              "array(['mean radius', 'mean texture', 'mean perimeter', 'mean area',\n",
              "       'mean smoothness', 'mean compactness', 'mean concavity',\n",
              "       'mean concave points', 'mean symmetry', 'mean fractal dimension',\n",
              "       'radius error', 'texture error', 'perimeter error', 'area error',\n",
              "       'smoothness error', 'compactness error', 'concavity error',\n",
              "       'concave points error', 'symmetry error',\n",
              "       'fractal dimension error', 'worst radius', 'worst texture',\n",
              "       'worst perimeter', 'worst area', 'worst smoothness',\n",
              "       'worst compactness', 'worst concavity', 'worst concave points',\n",
              "       'worst symmetry', 'worst fractal dimension'], dtype='<U23')"
            ]
          },
          "execution_count": 127,
          "metadata": {},
          "output_type": "execute_result"
        }
      ],
      "source": [
        "cancer.feature_names"
      ]
    },
    {
      "cell_type": "code",
      "execution_count": 128,
      "metadata": {
        "colab": {
          "base_uri": "https://localhost:8080/"
        },
        "id": "5Kw9lcvyGQTU",
        "outputId": "524761d2-4e58-4487-ddd3-139062ecc568"
      },
      "outputs": [
        {
          "data": {
            "text/plain": [
              "array(['malignant', 'benign'], dtype='<U9')"
            ]
          },
          "execution_count": 128,
          "metadata": {},
          "output_type": "execute_result"
        }
      ],
      "source": [
        "cancer.target_names"
      ]
    },
    {
      "cell_type": "code",
      "execution_count": 129,
      "metadata": {
        "id": "-A4Ha7M6GR-s"
      },
      "outputs": [],
      "source": [
        "x_train, x_test, y_train, y_test = train_test_split(x, y, test_size=0.2, random_state=42)\n"
      ]
    },
    {
      "cell_type": "code",
      "execution_count": 130,
      "metadata": {
        "colab": {
          "base_uri": "https://localhost:8080/"
        },
        "id": "xfvhPMI6HtQi",
        "outputId": "09b7126f-60f7-45eb-e5e2-9221a56b2181"
      },
      "outputs": [
        {
          "data": {
            "text/plain": [
              "array([1, 0, 1, 1, 1, 0, 1, 1, 1, 0, 1, 0, 0, 1, 1, 0, 0, 0, 1, 1, 1, 0,\n",
              "       1, 1, 1, 0, 1, 0, 1, 1, 0, 1, 0, 0, 0, 1, 0, 1, 1, 1, 1, 0, 0, 1,\n",
              "       1, 1, 1, 1, 1, 1, 0, 1, 1, 1, 1, 0, 1, 1, 1, 1, 1, 1, 0, 1, 1, 1,\n",
              "       1, 1, 1, 0, 0, 0, 1, 1, 0, 1, 0, 1, 1, 1, 1, 0, 1, 1, 0, 1, 1, 1,\n",
              "       0, 1, 0, 0, 1, 1, 1, 0, 1, 1, 1, 1, 0, 1, 1, 1, 1, 1, 0, 1, 0, 0,\n",
              "       1, 1, 0, 1, 1, 1, 1, 1, 1, 1, 0, 0, 0, 1, 1, 0, 1, 1, 0, 1, 0, 1,\n",
              "       0, 1, 0, 1, 1, 0, 1, 1, 1, 0, 1, 0, 1, 0, 1, 0, 1, 1, 0, 1, 1, 1,\n",
              "       1, 0, 1, 1, 1, 0, 1, 1, 0, 1, 1, 0, 1, 1, 1, 1, 1, 1, 1, 0, 1, 1,\n",
              "       1, 0, 1, 0, 1, 1, 1, 0, 1, 0, 0, 1, 1, 0, 1, 0, 0, 0, 1, 1, 1, 0,\n",
              "       1, 1, 0, 1, 0, 1, 1, 1, 0, 1, 0, 1, 1, 0, 0, 1, 1, 0, 1, 0, 0, 1,\n",
              "       0, 0, 1, 1, 0, 0, 0, 1, 1, 1, 1, 0, 1, 0, 0, 0, 0, 1, 1, 1, 1, 1,\n",
              "       1, 1, 1, 0, 0, 1, 1, 0, 1, 1, 1, 1, 1, 0, 1, 1, 0, 0, 1, 0, 1, 0,\n",
              "       1, 1, 1, 1, 1, 1, 0, 1, 1, 0, 1, 1, 1, 1, 1, 1, 0, 1, 1, 0, 1, 0,\n",
              "       0, 0, 1, 0, 1, 1, 0, 0, 0, 1, 1, 1, 1, 1, 1, 1, 0, 1, 1, 1, 0, 1,\n",
              "       1, 0, 0, 1, 0, 1, 0, 0, 1, 1, 0, 1, 0, 0, 1, 0, 0, 1, 1, 0, 1, 0,\n",
              "       1, 1, 0, 1, 1, 0, 0, 0, 1, 1, 1, 0, 0, 1, 0, 0, 1, 1, 1, 0, 1, 0,\n",
              "       0, 0, 0, 1, 1, 0, 1, 1, 0, 0, 0, 0, 0, 0, 1, 1, 1, 1, 1, 1, 1, 0,\n",
              "       0, 0, 0, 1, 1, 1, 1, 0, 1, 0, 1, 1, 1, 1, 1, 0, 0, 0, 1, 1, 0, 1,\n",
              "       1, 0, 0, 0, 0, 1, 1, 0, 0, 1, 1, 1, 0, 0, 0, 1, 1, 0, 1, 1, 1, 1,\n",
              "       0, 1, 1, 1, 1, 1, 1, 1, 1, 1, 0, 1, 1, 1, 1, 1, 1, 0, 1, 1, 0, 1,\n",
              "       1, 0, 0, 0, 1, 0, 0, 1, 0, 1, 1, 1, 1, 0, 1])"
            ]
          },
          "execution_count": 130,
          "metadata": {},
          "output_type": "execute_result"
        }
      ],
      "source": [
        "y_train"
      ]
    },
    {
      "cell_type": "code",
      "execution_count": 131,
      "metadata": {
        "colab": {
          "base_uri": "https://localhost:8080/"
        },
        "id": "_T2QNgFzHyOa",
        "outputId": "bb82e3d7-d103-4f22-bbed-634733a74fbe"
      },
      "outputs": [
        {
          "data": {
            "text/plain": [
              "array([1, 0, 0, 1, 1, 0, 0, 0, 1, 1, 1, 0, 1, 0, 1, 0, 1, 1, 1, 0, 0, 1,\n",
              "       0, 1, 1, 1, 1, 1, 1, 0, 1, 1, 1, 1, 1, 1, 0, 1, 0, 1, 1, 0, 1, 1,\n",
              "       1, 1, 1, 1, 1, 1, 0, 0, 1, 1, 1, 1, 1, 0, 0, 1, 1, 0, 0, 1, 1, 1,\n",
              "       0, 0, 1, 1, 0, 0, 1, 0, 1, 1, 1, 0, 1, 1, 0, 1, 0, 0, 0, 0, 0, 0,\n",
              "       1, 1, 1, 1, 1, 1, 1, 1, 0, 0, 1, 0, 0, 1, 0, 0, 1, 1, 1, 0, 1, 1,\n",
              "       0, 1, 1, 0])"
            ]
          },
          "execution_count": 131,
          "metadata": {},
          "output_type": "execute_result"
        }
      ],
      "source": [
        "y_test"
      ]
    },
    {
      "cell_type": "code",
      "execution_count": 132,
      "metadata": {
        "colab": {
          "base_uri": "https://localhost:8080/"
        },
        "id": "qw1Tl6GsHpd9",
        "outputId": "990c31ce-09dd-4e6a-a1d5-d152c38d0ac3"
      },
      "outputs": [
        {
          "data": {
            "text/plain": [
              "array([[9.029e+00, 1.733e+01, 5.879e+01, ..., 1.750e-01, 4.228e-01,\n",
              "        1.175e-01],\n",
              "       [2.109e+01, 2.657e+01, 1.427e+02, ..., 2.903e-01, 4.098e-01,\n",
              "        1.284e-01],\n",
              "       [9.173e+00, 1.386e+01, 5.920e+01, ..., 5.087e-02, 3.282e-01,\n",
              "        8.490e-02],\n",
              "       ...,\n",
              "       [1.429e+01, 1.682e+01, 9.030e+01, ..., 3.333e-02, 2.458e-01,\n",
              "        6.120e-02],\n",
              "       [1.398e+01, 1.962e+01, 9.112e+01, ..., 1.827e-01, 3.179e-01,\n",
              "        1.055e-01],\n",
              "       [1.218e+01, 2.052e+01, 7.722e+01, ..., 7.431e-02, 2.694e-01,\n",
              "        6.878e-02]])"
            ]
          },
          "execution_count": 132,
          "metadata": {},
          "output_type": "execute_result"
        }
      ],
      "source": [
        "x_train"
      ]
    },
    {
      "cell_type": "code",
      "execution_count": 133,
      "metadata": {
        "colab": {
          "base_uri": "https://localhost:8080/"
        },
        "id": "co5YmODYIJDc",
        "outputId": "baeffe8a-229f-4668-854b-5986ce3a03f4"
      },
      "outputs": [
        {
          "data": {
            "text/plain": [
              "array([[1.247e+01, 1.860e+01, 8.109e+01, ..., 1.015e-01, 3.014e-01,\n",
              "        8.750e-02],\n",
              "       [1.894e+01, 2.131e+01, 1.236e+02, ..., 1.789e-01, 2.551e-01,\n",
              "        6.589e-02],\n",
              "       [1.546e+01, 1.948e+01, 1.017e+02, ..., 1.514e-01, 2.837e-01,\n",
              "        8.019e-02],\n",
              "       ...,\n",
              "       [1.152e+01, 1.493e+01, 7.387e+01, ..., 9.608e-02, 2.664e-01,\n",
              "        7.809e-02],\n",
              "       [1.422e+01, 2.785e+01, 9.255e+01, ..., 8.219e-02, 1.890e-01,\n",
              "        7.796e-02],\n",
              "       [2.073e+01, 3.112e+01, 1.357e+02, ..., 1.659e-01, 2.868e-01,\n",
              "        8.218e-02]])"
            ]
          },
          "execution_count": 133,
          "metadata": {},
          "output_type": "execute_result"
        }
      ],
      "source": [
        "x_test"
      ]
    },
    {
      "cell_type": "code",
      "execution_count": 134,
      "metadata": {
        "id": "8ZUDFQcJIKXP"
      },
      "outputs": [],
      "source": [
        "kernels = ['linear', 'poly', 'rbf']\n",
        "accuracies = {}\n"
      ]
    },
    {
      "cell_type": "code",
      "execution_count": 135,
      "metadata": {
        "id": "pq1YA7PLIgFJ"
      },
      "outputs": [],
      "source": [
        "for kernel in kernels:\n",
        "    svm = SVC(kernel=kernel, degree=3 if kernel == 'poly' else 3)"
      ]
    },
    {
      "cell_type": "code",
      "execution_count": 136,
      "metadata": {
        "colab": {
          "base_uri": "https://localhost:8080/"
        },
        "id": "zugQoEd5KE9w",
        "outputId": "3a428d3d-b3d9-4043-b834-08be3f1295f6"
      },
      "outputs": [
        {
          "name": "stdout",
          "output_type": "stream",
          "text": [
            "Accuracy of SVM with rbf kernel: 0.9474\n"
          ]
        }
      ],
      "source": [
        "svm.fit(x_train, y_train)\n",
        "y_pred = svm.predict(x_test)\n",
        "accuracy = accuracy_score(y_test, y_pred)\n",
        "accuracies[kernel] = accuracy\n",
        "print(f'Accuracy of SVM with {kernel} kernel: {accuracy:.4f}')\n"
      ]
    },
    {
      "cell_type": "markdown",
      "metadata": {
        "id": "ecohICyLKQJA"
      },
      "source": [
        "**18) Write a python program to train an SVM classifier using Stratified k-fold cross-validation and compute average accuracy.**"
      ]
    },
    {
      "cell_type": "code",
      "execution_count": 137,
      "metadata": {
        "id": "Yerd6HigX9u2"
      },
      "outputs": [],
      "source": [
        "import numpy as np\n",
        "from sklearn import datasets\n",
        "from sklearn.model_selection import StratifiedKFold,cross_val_score\n",
        "\n",
        "from sklearn.svm import SVC\n",
        "from sklearn.metrics import accuracy_score\n",
        "from sklearn.preprocessing import StandardScaler\n",
        "\n"
      ]
    },
    {
      "cell_type": "code",
      "execution_count": 138,
      "metadata": {
        "id": "gcwwI1NrYsZg"
      },
      "outputs": [],
      "source": [
        "data = datasets.load_iris()\n",
        "X = data.data\n",
        "y = data.target\n"
      ]
    },
    {
      "cell_type": "code",
      "execution_count": 139,
      "metadata": {
        "colab": {
          "base_uri": "https://localhost:8080/"
        },
        "id": "wsO3LKTnYyhQ",
        "outputId": "9f884424-b376-4d0e-b4ed-07836b838e1d"
      },
      "outputs": [
        {
          "data": {
            "text/plain": [
              "['sepal length (cm)',\n",
              " 'sepal width (cm)',\n",
              " 'petal length (cm)',\n",
              " 'petal width (cm)']"
            ]
          },
          "execution_count": 139,
          "metadata": {},
          "output_type": "execute_result"
        }
      ],
      "source": [
        "data.feature_names"
      ]
    },
    {
      "cell_type": "code",
      "execution_count": 140,
      "metadata": {
        "colab": {
          "base_uri": "https://localhost:8080/"
        },
        "id": "qePTtPwJZYlQ",
        "outputId": "c23563db-8b23-4a06-f41a-ad254a9cc8d0"
      },
      "outputs": [
        {
          "data": {
            "text/plain": [
              "array(['setosa', 'versicolor', 'virginica'], dtype='<U10')"
            ]
          },
          "execution_count": 140,
          "metadata": {},
          "output_type": "execute_result"
        }
      ],
      "source": [
        "data.target_names"
      ]
    },
    {
      "cell_type": "code",
      "execution_count": 141,
      "metadata": {
        "id": "1EMce667Zbfx"
      },
      "outputs": [],
      "source": [
        "scaler = StandardScaler()\n",
        "X = scaler.fit_transform(X)"
      ]
    },
    {
      "cell_type": "code",
      "execution_count": 142,
      "metadata": {
        "id": "odB1fxOqZgUv"
      },
      "outputs": [],
      "source": [
        "svm_clf = SVC(kernel='linear', C=1.0, random_state=42)"
      ]
    },
    {
      "cell_type": "code",
      "execution_count": 143,
      "metadata": {
        "colab": {
          "base_uri": "https://localhost:8080/",
          "height": 80
        },
        "id": "HwDHsmkpadyl",
        "outputId": "a5dc335c-20c6-48ad-a692-6053ea95e184"
      },
      "outputs": [
        {
          "data": {
            "text/html": [
              "<style>#sk-container-id-11 {color: black;}#sk-container-id-11 pre{padding: 0;}#sk-container-id-11 div.sk-toggleable {background-color: white;}#sk-container-id-11 label.sk-toggleable__label {cursor: pointer;display: block;width: 100%;margin-bottom: 0;padding: 0.3em;box-sizing: border-box;text-align: center;}#sk-container-id-11 label.sk-toggleable__label-arrow:before {content: \"▸\";float: left;margin-right: 0.25em;color: #696969;}#sk-container-id-11 label.sk-toggleable__label-arrow:hover:before {color: black;}#sk-container-id-11 div.sk-estimator:hover label.sk-toggleable__label-arrow:before {color: black;}#sk-container-id-11 div.sk-toggleable__content {max-height: 0;max-width: 0;overflow: hidden;text-align: left;background-color: #f0f8ff;}#sk-container-id-11 div.sk-toggleable__content pre {margin: 0.2em;color: black;border-radius: 0.25em;background-color: #f0f8ff;}#sk-container-id-11 input.sk-toggleable__control:checked~div.sk-toggleable__content {max-height: 200px;max-width: 100%;overflow: auto;}#sk-container-id-11 input.sk-toggleable__control:checked~label.sk-toggleable__label-arrow:before {content: \"▾\";}#sk-container-id-11 div.sk-estimator input.sk-toggleable__control:checked~label.sk-toggleable__label {background-color: #d4ebff;}#sk-container-id-11 div.sk-label input.sk-toggleable__control:checked~label.sk-toggleable__label {background-color: #d4ebff;}#sk-container-id-11 input.sk-hidden--visually {border: 0;clip: rect(1px 1px 1px 1px);clip: rect(1px, 1px, 1px, 1px);height: 1px;margin: -1px;overflow: hidden;padding: 0;position: absolute;width: 1px;}#sk-container-id-11 div.sk-estimator {font-family: monospace;background-color: #f0f8ff;border: 1px dotted black;border-radius: 0.25em;box-sizing: border-box;margin-bottom: 0.5em;}#sk-container-id-11 div.sk-estimator:hover {background-color: #d4ebff;}#sk-container-id-11 div.sk-parallel-item::after {content: \"\";width: 100%;border-bottom: 1px solid gray;flex-grow: 1;}#sk-container-id-11 div.sk-label:hover label.sk-toggleable__label {background-color: #d4ebff;}#sk-container-id-11 div.sk-serial::before {content: \"\";position: absolute;border-left: 1px solid gray;box-sizing: border-box;top: 0;bottom: 0;left: 50%;z-index: 0;}#sk-container-id-11 div.sk-serial {display: flex;flex-direction: column;align-items: center;background-color: white;padding-right: 0.2em;padding-left: 0.2em;position: relative;}#sk-container-id-11 div.sk-item {position: relative;z-index: 1;}#sk-container-id-11 div.sk-parallel {display: flex;align-items: stretch;justify-content: center;background-color: white;position: relative;}#sk-container-id-11 div.sk-item::before, #sk-container-id-11 div.sk-parallel-item::before {content: \"\";position: absolute;border-left: 1px solid gray;box-sizing: border-box;top: 0;bottom: 0;left: 50%;z-index: -1;}#sk-container-id-11 div.sk-parallel-item {display: flex;flex-direction: column;z-index: 1;position: relative;background-color: white;}#sk-container-id-11 div.sk-parallel-item:first-child::after {align-self: flex-end;width: 50%;}#sk-container-id-11 div.sk-parallel-item:last-child::after {align-self: flex-start;width: 50%;}#sk-container-id-11 div.sk-parallel-item:only-child::after {width: 0;}#sk-container-id-11 div.sk-dashed-wrapped {border: 1px dashed gray;margin: 0 0.4em 0.5em 0.4em;box-sizing: border-box;padding-bottom: 0.4em;background-color: white;}#sk-container-id-11 div.sk-label label {font-family: monospace;font-weight: bold;display: inline-block;line-height: 1.2em;}#sk-container-id-11 div.sk-label-container {text-align: center;}#sk-container-id-11 div.sk-container {/* jupyter's `normalize.less` sets `[hidden] { display: none; }` but bootstrap.min.css set `[hidden] { display: none !important; }` so we also need the `!important` here to be able to override the default hidden behavior on the sphinx rendered scikit-learn.org. See: https://github.com/scikit-learn/scikit-learn/issues/21755 */display: inline-block !important;position: relative;}#sk-container-id-11 div.sk-text-repr-fallback {display: none;}</style><div id=\"sk-container-id-11\" class=\"sk-top-container\"><div class=\"sk-text-repr-fallback\"><pre>SVC(kernel=&#x27;linear&#x27;, random_state=42)</pre><b>In a Jupyter environment, please rerun this cell to show the HTML representation or trust the notebook. <br />On GitHub, the HTML representation is unable to render, please try loading this page with nbviewer.org.</b></div><div class=\"sk-container\" hidden><div class=\"sk-item\"><div class=\"sk-estimator sk-toggleable\"><input class=\"sk-toggleable__control sk-hidden--visually\" id=\"sk-estimator-id-21\" type=\"checkbox\" checked><label for=\"sk-estimator-id-21\" class=\"sk-toggleable__label sk-toggleable__label-arrow\">SVC</label><div class=\"sk-toggleable__content\"><pre>SVC(kernel=&#x27;linear&#x27;, random_state=42)</pre></div></div></div></div></div>"
            ],
            "text/plain": [
              "SVC(kernel='linear', random_state=42)"
            ]
          },
          "execution_count": 143,
          "metadata": {},
          "output_type": "execute_result"
        }
      ],
      "source": [
        "svm_clf"
      ]
    },
    {
      "cell_type": "code",
      "execution_count": 144,
      "metadata": {
        "id": "mq9jkbkKaAK-"
      },
      "outputs": [],
      "source": [
        "skf = StratifiedKFold(n_splits=3, shuffle=True, random_state=42)\n"
      ]
    },
    {
      "cell_type": "code",
      "execution_count": 145,
      "metadata": {
        "colab": {
          "base_uri": "https://localhost:8080/"
        },
        "id": "umQN7e7JaW5l",
        "outputId": "53ca4f84-db3e-40e5-fe0a-12a00c87f583"
      },
      "outputs": [
        {
          "data": {
            "text/plain": [
              "StratifiedKFold(n_splits=3, random_state=42, shuffle=True)"
            ]
          },
          "execution_count": 145,
          "metadata": {},
          "output_type": "execute_result"
        }
      ],
      "source": [
        "skf"
      ]
    },
    {
      "cell_type": "code",
      "execution_count": 146,
      "metadata": {
        "id": "kPUMXZotaElo"
      },
      "outputs": [],
      "source": [
        "accuracies = cross_val_score(svm_clf, X, y, cv=skf, scoring='accuracy')\n"
      ]
    },
    {
      "cell_type": "code",
      "execution_count": 147,
      "metadata": {
        "colab": {
          "base_uri": "https://localhost:8080/"
        },
        "id": "0ZHoeN4waU_l",
        "outputId": "1bb30566-5b82-4c9b-a919-8c080548b569"
      },
      "outputs": [
        {
          "data": {
            "text/plain": [
              "array([0.98, 0.96, 0.98])"
            ]
          },
          "execution_count": 147,
          "metadata": {},
          "output_type": "execute_result"
        }
      ],
      "source": [
        "accuracies"
      ]
    },
    {
      "cell_type": "markdown",
      "metadata": {
        "id": "oZRW_6G7bBKs"
      },
      "source": [
        "**19) Write a python program to to train Navie Bayes classifier using different prior probabilities and compare perfomance.**"
      ]
    },
    {
      "cell_type": "code",
      "execution_count": 148,
      "metadata": {
        "id": "NZ_UGtC_buH5"
      },
      "outputs": [],
      "source": [
        "from sklearn import datasets\n",
        "from sklearn.model_selection import train_test_split\n",
        "from sklearn.naive_bayes import GaussianNB\n",
        "from sklearn.metrics import accuracy_score\n",
        "import numpy as np"
      ]
    },
    {
      "cell_type": "code",
      "execution_count": 149,
      "metadata": {
        "id": "DNkj3MIwd6ln"
      },
      "outputs": [],
      "source": [
        "iris = datasets.load_iris()\n",
        "X, y = iris.data, iris.target\n"
      ]
    },
    {
      "cell_type": "code",
      "execution_count": 150,
      "metadata": {
        "id": "8WMRyDg1d9sP"
      },
      "outputs": [],
      "source": [
        "X_train, X_test, y_train, y_test = train_test_split(X, y, test_size=0.2, random_state=42, stratify=y)"
      ]
    },
    {
      "cell_type": "code",
      "execution_count": 151,
      "metadata": {
        "id": "Ktkco5nWd_Q0"
      },
      "outputs": [],
      "source": [
        "priors_list = [None, [0.2, 0.5, 0.3], [0.33, 0.33, 0.34]]\n"
      ]
    },
    {
      "cell_type": "code",
      "execution_count": 152,
      "metadata": {
        "colab": {
          "base_uri": "https://localhost:8080/"
        },
        "id": "VyJgg1cQeGo9",
        "outputId": "e035a30a-5183-4f4d-e8c6-cd6d17ea1f39"
      },
      "outputs": [
        {
          "name": "stdout",
          "output_type": "stream",
          "text": [
            "Prior probabilities: None\n",
            "Accuracy: 0.9667\n",
            "\n",
            "Prior probabilities: [0.2, 0.5, 0.3]\n",
            "Accuracy: 0.9333\n",
            "\n",
            "Prior probabilities: [0.33, 0.33, 0.34]\n",
            "Accuracy: 0.9667\n",
            "\n"
          ]
        }
      ],
      "source": [
        "for priors in priors_list:\n",
        "    nb_clf = GaussianNB(priors=priors)\n",
        "    nb_clf.fit(X_train, y_train)\n",
        "    y_pred = nb_clf.predict(X_test)\n",
        "    accuracy = accuracy_score(y_test, y_pred)\n",
        "    print(f'Prior probabilities: {priors}')\n",
        "    print(f'Accuracy: {accuracy:.4f}\\n')"
      ]
    },
    {
      "cell_type": "markdown",
      "metadata": {
        "id": "BgB3dfM4ePvT"
      },
      "source": [
        "**20) Write a python program to perform recursive Feature elimination before training on SVM classifier and compare accuracy.**"
      ]
    },
    {
      "cell_type": "code",
      "execution_count": 153,
      "metadata": {
        "id": "bzHoxbn3eswK"
      },
      "outputs": [],
      "source": [
        "from sklearn import datasets\n",
        "from sklearn.model_selection import train_test_split\n",
        "from sklearn.svm import SVC\n",
        "from sklearn.feature_selection import RFE\n",
        "from sklearn.metrics import accuracy_score\n",
        "from sklearn.preprocessing import StandardScaler"
      ]
    },
    {
      "cell_type": "code",
      "execution_count": 154,
      "metadata": {
        "id": "BA3Bp9wnhu4v"
      },
      "outputs": [],
      "source": [
        "iris = datasets.load_iris()\n",
        "X, y = iris.data, iris.target"
      ]
    },
    {
      "cell_type": "code",
      "execution_count": 155,
      "metadata": {
        "id": "QZ4_LIYKhx7j"
      },
      "outputs": [],
      "source": [
        "X_train, X_test, y_train, y_test = train_test_split(X, y, test_size=0.2, random_state=42, stratify=y)"
      ]
    },
    {
      "cell_type": "code",
      "execution_count": 156,
      "metadata": {
        "id": "PBaIzdM3h0HL"
      },
      "outputs": [],
      "source": [
        "scaler = StandardScaler()\n",
        "X_train = scaler.fit_transform(X_train)\n",
        "X_test = scaler.transform(X_test)"
      ]
    },
    {
      "cell_type": "code",
      "execution_count": 157,
      "metadata": {
        "id": "m5djYSBph2qT"
      },
      "outputs": [],
      "source": [
        "svm_clf = SVC(kernel='linear', C=1.0, random_state=42)\n"
      ]
    },
    {
      "cell_type": "code",
      "execution_count": 158,
      "metadata": {
        "colab": {
          "base_uri": "https://localhost:8080/",
          "height": 80
        },
        "id": "6ocqWxU1kZdM",
        "outputId": "b103e263-b543-413c-b26f-a9dcf70f3a46"
      },
      "outputs": [
        {
          "data": {
            "text/html": [
              "<style>#sk-container-id-12 {color: black;}#sk-container-id-12 pre{padding: 0;}#sk-container-id-12 div.sk-toggleable {background-color: white;}#sk-container-id-12 label.sk-toggleable__label {cursor: pointer;display: block;width: 100%;margin-bottom: 0;padding: 0.3em;box-sizing: border-box;text-align: center;}#sk-container-id-12 label.sk-toggleable__label-arrow:before {content: \"▸\";float: left;margin-right: 0.25em;color: #696969;}#sk-container-id-12 label.sk-toggleable__label-arrow:hover:before {color: black;}#sk-container-id-12 div.sk-estimator:hover label.sk-toggleable__label-arrow:before {color: black;}#sk-container-id-12 div.sk-toggleable__content {max-height: 0;max-width: 0;overflow: hidden;text-align: left;background-color: #f0f8ff;}#sk-container-id-12 div.sk-toggleable__content pre {margin: 0.2em;color: black;border-radius: 0.25em;background-color: #f0f8ff;}#sk-container-id-12 input.sk-toggleable__control:checked~div.sk-toggleable__content {max-height: 200px;max-width: 100%;overflow: auto;}#sk-container-id-12 input.sk-toggleable__control:checked~label.sk-toggleable__label-arrow:before {content: \"▾\";}#sk-container-id-12 div.sk-estimator input.sk-toggleable__control:checked~label.sk-toggleable__label {background-color: #d4ebff;}#sk-container-id-12 div.sk-label input.sk-toggleable__control:checked~label.sk-toggleable__label {background-color: #d4ebff;}#sk-container-id-12 input.sk-hidden--visually {border: 0;clip: rect(1px 1px 1px 1px);clip: rect(1px, 1px, 1px, 1px);height: 1px;margin: -1px;overflow: hidden;padding: 0;position: absolute;width: 1px;}#sk-container-id-12 div.sk-estimator {font-family: monospace;background-color: #f0f8ff;border: 1px dotted black;border-radius: 0.25em;box-sizing: border-box;margin-bottom: 0.5em;}#sk-container-id-12 div.sk-estimator:hover {background-color: #d4ebff;}#sk-container-id-12 div.sk-parallel-item::after {content: \"\";width: 100%;border-bottom: 1px solid gray;flex-grow: 1;}#sk-container-id-12 div.sk-label:hover label.sk-toggleable__label {background-color: #d4ebff;}#sk-container-id-12 div.sk-serial::before {content: \"\";position: absolute;border-left: 1px solid gray;box-sizing: border-box;top: 0;bottom: 0;left: 50%;z-index: 0;}#sk-container-id-12 div.sk-serial {display: flex;flex-direction: column;align-items: center;background-color: white;padding-right: 0.2em;padding-left: 0.2em;position: relative;}#sk-container-id-12 div.sk-item {position: relative;z-index: 1;}#sk-container-id-12 div.sk-parallel {display: flex;align-items: stretch;justify-content: center;background-color: white;position: relative;}#sk-container-id-12 div.sk-item::before, #sk-container-id-12 div.sk-parallel-item::before {content: \"\";position: absolute;border-left: 1px solid gray;box-sizing: border-box;top: 0;bottom: 0;left: 50%;z-index: -1;}#sk-container-id-12 div.sk-parallel-item {display: flex;flex-direction: column;z-index: 1;position: relative;background-color: white;}#sk-container-id-12 div.sk-parallel-item:first-child::after {align-self: flex-end;width: 50%;}#sk-container-id-12 div.sk-parallel-item:last-child::after {align-self: flex-start;width: 50%;}#sk-container-id-12 div.sk-parallel-item:only-child::after {width: 0;}#sk-container-id-12 div.sk-dashed-wrapped {border: 1px dashed gray;margin: 0 0.4em 0.5em 0.4em;box-sizing: border-box;padding-bottom: 0.4em;background-color: white;}#sk-container-id-12 div.sk-label label {font-family: monospace;font-weight: bold;display: inline-block;line-height: 1.2em;}#sk-container-id-12 div.sk-label-container {text-align: center;}#sk-container-id-12 div.sk-container {/* jupyter's `normalize.less` sets `[hidden] { display: none; }` but bootstrap.min.css set `[hidden] { display: none !important; }` so we also need the `!important` here to be able to override the default hidden behavior on the sphinx rendered scikit-learn.org. See: https://github.com/scikit-learn/scikit-learn/issues/21755 */display: inline-block !important;position: relative;}#sk-container-id-12 div.sk-text-repr-fallback {display: none;}</style><div id=\"sk-container-id-12\" class=\"sk-top-container\"><div class=\"sk-text-repr-fallback\"><pre>SVC(kernel=&#x27;linear&#x27;, random_state=42)</pre><b>In a Jupyter environment, please rerun this cell to show the HTML representation or trust the notebook. <br />On GitHub, the HTML representation is unable to render, please try loading this page with nbviewer.org.</b></div><div class=\"sk-container\" hidden><div class=\"sk-item\"><div class=\"sk-estimator sk-toggleable\"><input class=\"sk-toggleable__control sk-hidden--visually\" id=\"sk-estimator-id-22\" type=\"checkbox\" checked><label for=\"sk-estimator-id-22\" class=\"sk-toggleable__label sk-toggleable__label-arrow\">SVC</label><div class=\"sk-toggleable__content\"><pre>SVC(kernel=&#x27;linear&#x27;, random_state=42)</pre></div></div></div></div></div>"
            ],
            "text/plain": [
              "SVC(kernel='linear', random_state=42)"
            ]
          },
          "execution_count": 158,
          "metadata": {},
          "output_type": "execute_result"
        }
      ],
      "source": [
        "svm_clf"
      ]
    },
    {
      "cell_type": "code",
      "execution_count": 159,
      "metadata": {
        "id": "y6jtmQ8Lkbks"
      },
      "outputs": [],
      "source": [
        "rfe = RFE(estimator=svm_clf, n_features_to_select=2)\n",
        "X_train_rfe = rfe.fit_transform(X_train, y_train)\n",
        "X_test_rfe = rfe.transform(X_test)\n"
      ]
    },
    {
      "cell_type": "code",
      "execution_count": 160,
      "metadata": {
        "id": "B8KuZEgJk2Dt"
      },
      "outputs": [],
      "source": [
        "svm_clf.fit(X_train, y_train)\n",
        "y_pred_full = svm_clf.predict(X_test)\n",
        "accuracy_full = accuracy_score(y_test, y_pred_full)"
      ]
    },
    {
      "cell_type": "code",
      "execution_count": 161,
      "metadata": {
        "colab": {
          "base_uri": "https://localhost:8080/"
        },
        "id": "9DBcsQzQk5eL",
        "outputId": "f1ea2751-1775-4df5-9d70-67e6de453d1b"
      },
      "outputs": [
        {
          "data": {
            "text/plain": [
              "1.0"
            ]
          },
          "execution_count": 161,
          "metadata": {},
          "output_type": "execute_result"
        }
      ],
      "source": [
        "accuracy_full"
      ]
    },
    {
      "cell_type": "code",
      "execution_count": 162,
      "metadata": {
        "id": "omTU-wRTk-Uz"
      },
      "outputs": [],
      "source": [
        "svm_clf.fit(X_train_rfe, y_train)\n",
        "y_pred_rfe = svm_clf.predict(X_test_rfe)\n",
        "accuracy_rfe = accuracy_score(y_test, y_pred_rfe)"
      ]
    },
    {
      "cell_type": "code",
      "execution_count": 163,
      "metadata": {
        "colab": {
          "base_uri": "https://localhost:8080/"
        },
        "id": "ty4I1qDXk_97",
        "outputId": "35ada9db-22c4-4e43-80fc-b811a2b12dac"
      },
      "outputs": [
        {
          "data": {
            "text/plain": [
              "0.9333333333333333"
            ]
          },
          "execution_count": 163,
          "metadata": {},
          "output_type": "execute_result"
        }
      ],
      "source": [
        "accuracy_rfe"
      ]
    },
    {
      "cell_type": "markdown",
      "metadata": {
        "id": "L0w6XygFlE_U"
      },
      "source": [
        "**21) write a python program to train an SVM Classifier and evuate its performance using Precision ,Recall , and F1-score instead of accuracy.**"
      ]
    },
    {
      "cell_type": "code",
      "execution_count": 164,
      "metadata": {
        "id": "6cTVEY8VmX4v"
      },
      "outputs": [],
      "source": [
        "from sklearn import datasets\n",
        "from sklearn.model_selection import train_test_split\n",
        "from sklearn.svm import SVC\n",
        "from sklearn.preprocessing import StandardScaler\n",
        "from sklearn.metrics import precision_score, recall_score, f1_score\n",
        "\n",
        "# Load dataset\n",
        "iris = datasets.load_iris()\n",
        "X, y = iris.data, iris.target\n",
        "\n",
        "# Split into training and testing sets\n",
        "X_train, X_test, y_train, y_test = train_test_split(X, y, test_size=0.2, random_state=42, stratify=y)\n",
        "\n",
        "# Standardize features\n",
        "scaler = StandardScaler()\n",
        "X_train = scaler.fit_transform(X_train)\n",
        "X_test = scaler.transform(X_test)\n",
        "\n",
        "# Define and train SVM classifier\n",
        "svm_clf = SVC(kernel='linear', C=1.0, random_state=42)\n",
        "svm_clf.fit(X_train, y_train)\n",
        "\n",
        "# Predict on test data\n",
        "y_pred = svm_clf.predict(X_test)\n",
        "\n",
        "# Evaluate performance using Precision, Recall, and F1-score\n",
        "precision = precision_score(y_test, y_pred, average='weighted')\n",
        "recall = recall_score(y_test, y_pred, average='weighted')\n",
        "f1 = f1_score(y_test, y_pred, average='weighted')"
      ]
    },
    {
      "cell_type": "code",
      "execution_count": 184,
      "metadata": {
        "colab": {
          "base_uri": "https://localhost:8080/"
        },
        "id": "nsKJjrx1mxAh",
        "outputId": "ec1d430b-a096-4a0a-8195-d92cf03efae0"
      },
      "outputs": [
        {
          "data": {
            "text/plain": [
              "1.0"
            ]
          },
          "execution_count": 184,
          "metadata": {},
          "output_type": "execute_result"
        }
      ],
      "source": [
        "f1"
      ]
    },
    {
      "cell_type": "code",
      "execution_count": 166,
      "metadata": {
        "colab": {
          "base_uri": "https://localhost:8080/"
        },
        "id": "RqMxauRMmv5k",
        "outputId": "aa7aeabf-073e-4551-ed4d-663d25d4c922"
      },
      "outputs": [
        {
          "data": {
            "text/plain": [
              "1.0"
            ]
          },
          "execution_count": 166,
          "metadata": {},
          "output_type": "execute_result"
        }
      ],
      "source": [
        "recall"
      ]
    },
    {
      "cell_type": "code",
      "execution_count": 183,
      "metadata": {
        "colab": {
          "base_uri": "https://localhost:8080/"
        },
        "id": "SLJAUDlOmuy3",
        "outputId": "b4051daa-f2ac-4413-8a9e-67505e86e986"
      },
      "outputs": [
        {
          "data": {
            "text/plain": [
              "array([0.51666667, 0.51839465, 0.52013423, 0.52188552, 0.52364865,\n",
              "       0.52542373, 0.52721088, 0.52901024, 0.53082192, 0.53264605,\n",
              "       0.53448276, 0.53633218, 0.53819444, 0.54006969, 0.54195804,\n",
              "       0.54385965, 0.54225352, 0.54063604, 0.54255319, 0.54448399,\n",
              "       0.54642857, 0.5483871 , 0.55035971, 0.55234657, 0.55434783,\n",
              "       0.55636364, 0.55839416, 0.56043956, 0.5625    , 0.56457565,\n",
              "       0.56666667, 0.56877323, 0.56716418, 0.56928839, 0.57142857,\n",
              "       0.57358491, 0.57575758, 0.57794677, 0.58015267, 0.58237548,\n",
              "       0.58461538, 0.58687259, 0.58914729, 0.59143969, 0.59375   ,\n",
              "       0.59607843, 0.5984252 , 0.60079051, 0.6031746 , 0.60557769,\n",
              "       0.608     , 0.61044177, 0.61290323, 0.61538462, 0.61788618,\n",
              "       0.62040816, 0.61885246, 0.62139918, 0.62396694, 0.62655602,\n",
              "       0.62916667, 0.63179916, 0.63445378, 0.6371308 , 0.63983051,\n",
              "       0.64255319, 0.64529915, 0.64806867, 0.65086207, 0.64935065,\n",
              "       0.65217391, 0.65065502, 0.65350877, 0.65638767, 0.65929204,\n",
              "       0.66222222, 0.66071429, 0.65919283, 0.65765766, 0.66063348,\n",
              "       0.66363636, 0.66666667, 0.66972477, 0.67281106, 0.67592593,\n",
              "       0.67906977, 0.68224299, 0.68544601, 0.68867925, 0.69194313,\n",
              "       0.6952381 , 0.69856459, 0.70192308, 0.70531401, 0.70873786,\n",
              "       0.71219512, 0.71568627, 0.71921182, 0.72277228, 0.72636816,\n",
              "       0.73      , 0.73366834, 0.73232323, 0.73096447, 0.72959184,\n",
              "       0.73333333, 0.7371134 , 0.74093264, 0.74479167, 0.7486911 ,\n",
              "       0.74736842, 0.75132275, 0.75531915, 0.75935829, 0.76344086,\n",
              "       0.76216216, 0.76630435, 0.7704918 , 0.77472527, 0.77900552,\n",
              "       0.78333333, 0.7877095 , 0.79213483, 0.79661017, 0.80113636,\n",
              "       0.80571429, 0.81034483, 0.80924855, 0.81395349, 0.81871345,\n",
              "       0.82352941, 0.82840237, 0.83333333, 0.83233533, 0.8373494 ,\n",
              "       0.83636364, 0.84146341, 0.84662577, 0.84567901, 0.85093168,\n",
              "       0.85625   , 0.86163522, 0.86708861, 0.86624204, 0.86538462,\n",
              "       0.86451613, 0.86363636, 0.86928105, 0.875     , 0.87417219,\n",
              "       0.87333333, 0.87919463, 0.87837838, 0.87755102, 0.88194444,\n",
              "       0.88111888, 0.88732394, 0.88652482, 0.89285714, 0.89208633,\n",
              "       0.89130435, 0.89051095, 0.88970588, 0.88888889, 0.8880597 ,\n",
              "       0.88721805, 0.88636364, 0.88549618, 0.88461538, 0.88372093,\n",
              "       0.8828125 , 0.88188976, 0.88095238, 0.888     , 0.88709677,\n",
              "       0.88617886, 0.89344262, 0.89256198, 0.9       , 0.90756303,\n",
              "       0.91525424, 0.91452991, 0.92241379, 0.93043478, 0.92982456,\n",
              "       0.92920354, 0.92857143, 0.92792793, 0.92727273, 0.9266055 ,\n",
              "       0.92592593, 0.92523364, 0.9245283 , 0.92380952, 0.92307692,\n",
              "       0.9223301 , 0.92156863, 0.92079208, 0.93      , 0.92929293,\n",
              "       0.92857143, 0.92783505, 0.92708333, 0.92631579, 0.93617021,\n",
              "       0.93548387, 0.93478261, 0.93406593, 0.94444444, 0.94382022,\n",
              "       0.94318182, 0.94252874, 0.95348837, 0.95294118, 0.95238095,\n",
              "       0.95180723, 0.95121951, 0.96296296, 0.9625    , 0.97468354,\n",
              "       0.97435897, 0.97402597, 0.98684211, 0.98666667, 0.98648649,\n",
              "       0.98630137, 0.98611111, 0.98591549, 0.98571429, 0.98550725,\n",
              "       0.98529412, 0.98507463, 0.98484848, 0.98461538, 0.984375  ,\n",
              "       0.98412698, 0.98387097, 0.98360656, 0.98333333, 1.        ,\n",
              "       1.        , 1.        , 1.        , 1.        , 1.        ,\n",
              "       1.        , 1.        , 1.        , 1.        , 1.        ,\n",
              "       1.        , 1.        , 1.        , 1.        , 1.        ,\n",
              "       1.        , 1.        , 1.        , 1.        , 1.        ,\n",
              "       1.        , 1.        , 1.        , 1.        , 1.        ,\n",
              "       1.        , 1.        , 1.        , 1.        , 1.        ,\n",
              "       1.        , 1.        , 1.        , 1.        , 1.        ,\n",
              "       1.        , 1.        , 1.        , 1.        , 1.        ,\n",
              "       1.        , 1.        , 1.        , 1.        , 1.        ,\n",
              "       1.        , 1.        , 1.        , 1.        , 1.        ,\n",
              "       1.        , 1.        , 1.        , 1.        , 1.        ,\n",
              "       1.        , 1.        , 1.        , 1.        ])"
            ]
          },
          "execution_count": 183,
          "metadata": {},
          "output_type": "execute_result"
        }
      ],
      "source": [
        "precision"
      ]
    },
    {
      "cell_type": "markdown",
      "metadata": {
        "id": "K6BhVg7Um5HB"
      },
      "source": [
        "**22) Write a python program to train a Navie Bayes classifier and evauate its performance using log loss**"
      ]
    },
    {
      "cell_type": "code",
      "execution_count": 181,
      "metadata": {
        "colab": {
          "base_uri": "https://localhost:8080/"
        },
        "id": "rvAfIlxJpPgE",
        "outputId": "34b36a60-65ac-4ef9-8169-e1dcf2d3a5f0"
      },
      "outputs": [
        {
          "name": "stdout",
          "output_type": "stream",
          "text": [
            "Log Loss: 0.1420\n"
          ]
        }
      ],
      "source": [
        "import numpy as np\n",
        "from sklearn.model_selection import train_test_split\n",
        "from sklearn.naive_bayes import GaussianNB\n",
        "from sklearn.metrics import log_loss\n",
        "from sklearn.datasets import make_classification\n",
        "iris = datasets.load_iris()\n",
        "X, y = iris.data, iris.target\n",
        "\n",
        "# Split into training and testing sets\n",
        "X_train, X_test, y_train, y_test = train_test_split(X, y, test_size=0.2, random_state=42, stratify=y)\n",
        "\n",
        "# Standardize features\n",
        "scaler = StandardScaler()\n",
        "X_train = scaler.fit_transform(X_train)\n",
        "X_test = scaler.transform(X_test)\n",
        "\n",
        "# Train Naïve Bayes classifier\n",
        "nb_clf = GaussianNB()\n",
        "nb_clf.fit(X_train, y_train)\n",
        "\n",
        "# Predict probabilities\n",
        "y_prob = nb_clf.predict_proba(X_test)\n",
        "\n",
        "# Compute log loss\n",
        "logloss = log_loss(y_test, y_prob)\n",
        "\n",
        "print(f'Log Loss: {logloss:.4f}')\n"
      ]
    },
    {
      "cell_type": "code",
      "execution_count": 182,
      "metadata": {},
      "outputs": [
        {
          "name": "stdout",
          "output_type": "stream",
          "text": [
            "Log Loss: 0.1420\n"
          ]
        }
      ],
      "source": [
        "print(f'Log Loss: {logloss:.4f}')"
      ]
    },
    {
      "cell_type": "markdown",
      "metadata": {
        "id": "zUkJ7zRzqD8j"
      },
      "source": [
        "**23) Write a python program to train an SVM classifier and visualise the confusion matrix using seaborn**"
      ]
    },
    {
      "cell_type": "code",
      "execution_count": 186,
      "metadata": {
        "id": "t2omC5jG4SgG"
      },
      "outputs": [],
      "source": [
        "import numpy as np\n",
        "import seaborn as sns\n",
        "import matplotlib.pyplot as plt\n",
        "from sklearn.model_selection import train_test_split\n",
        "from sklearn.svm import SVC\n",
        "from sklearn.metrics import confusion_matrix\n",
        "from sklearn.datasets import make_classification\n"
      ]
    },
    {
      "cell_type": "code",
      "execution_count": 187,
      "metadata": {
        "id": "YCr-U39a5c9S"
      },
      "outputs": [],
      "source": [
        "X, y = make_classification(n_samples=1000, n_features=20, random_state=42)\n"
      ]
    },
    {
      "cell_type": "code",
      "execution_count": 188,
      "metadata": {
        "id": "KOVogb4-5jfr"
      },
      "outputs": [],
      "source": [
        "X_train, X_test, y_train, y_test = train_test_split(X, y, test_size=0.2, random_state=42)\n"
      ]
    },
    {
      "cell_type": "code",
      "execution_count": 189,
      "metadata": {
        "id": "675o9xoU5mWN"
      },
      "outputs": [],
      "source": [
        "svm_classifier = SVC(kernel='linear', probability=True, random_state=42)\n"
      ]
    },
    {
      "cell_type": "code",
      "execution_count": 190,
      "metadata": {
        "colab": {
          "base_uri": "https://localhost:8080/",
          "height": 80
        },
        "id": "oUE0GjC66znH",
        "outputId": "1362edde-458d-49b3-fa4c-b7053c00fcc9"
      },
      "outputs": [
        {
          "data": {
            "text/html": [
              "<style>#sk-container-id-14 {color: black;}#sk-container-id-14 pre{padding: 0;}#sk-container-id-14 div.sk-toggleable {background-color: white;}#sk-container-id-14 label.sk-toggleable__label {cursor: pointer;display: block;width: 100%;margin-bottom: 0;padding: 0.3em;box-sizing: border-box;text-align: center;}#sk-container-id-14 label.sk-toggleable__label-arrow:before {content: \"▸\";float: left;margin-right: 0.25em;color: #696969;}#sk-container-id-14 label.sk-toggleable__label-arrow:hover:before {color: black;}#sk-container-id-14 div.sk-estimator:hover label.sk-toggleable__label-arrow:before {color: black;}#sk-container-id-14 div.sk-toggleable__content {max-height: 0;max-width: 0;overflow: hidden;text-align: left;background-color: #f0f8ff;}#sk-container-id-14 div.sk-toggleable__content pre {margin: 0.2em;color: black;border-radius: 0.25em;background-color: #f0f8ff;}#sk-container-id-14 input.sk-toggleable__control:checked~div.sk-toggleable__content {max-height: 200px;max-width: 100%;overflow: auto;}#sk-container-id-14 input.sk-toggleable__control:checked~label.sk-toggleable__label-arrow:before {content: \"▾\";}#sk-container-id-14 div.sk-estimator input.sk-toggleable__control:checked~label.sk-toggleable__label {background-color: #d4ebff;}#sk-container-id-14 div.sk-label input.sk-toggleable__control:checked~label.sk-toggleable__label {background-color: #d4ebff;}#sk-container-id-14 input.sk-hidden--visually {border: 0;clip: rect(1px 1px 1px 1px);clip: rect(1px, 1px, 1px, 1px);height: 1px;margin: -1px;overflow: hidden;padding: 0;position: absolute;width: 1px;}#sk-container-id-14 div.sk-estimator {font-family: monospace;background-color: #f0f8ff;border: 1px dotted black;border-radius: 0.25em;box-sizing: border-box;margin-bottom: 0.5em;}#sk-container-id-14 div.sk-estimator:hover {background-color: #d4ebff;}#sk-container-id-14 div.sk-parallel-item::after {content: \"\";width: 100%;border-bottom: 1px solid gray;flex-grow: 1;}#sk-container-id-14 div.sk-label:hover label.sk-toggleable__label {background-color: #d4ebff;}#sk-container-id-14 div.sk-serial::before {content: \"\";position: absolute;border-left: 1px solid gray;box-sizing: border-box;top: 0;bottom: 0;left: 50%;z-index: 0;}#sk-container-id-14 div.sk-serial {display: flex;flex-direction: column;align-items: center;background-color: white;padding-right: 0.2em;padding-left: 0.2em;position: relative;}#sk-container-id-14 div.sk-item {position: relative;z-index: 1;}#sk-container-id-14 div.sk-parallel {display: flex;align-items: stretch;justify-content: center;background-color: white;position: relative;}#sk-container-id-14 div.sk-item::before, #sk-container-id-14 div.sk-parallel-item::before {content: \"\";position: absolute;border-left: 1px solid gray;box-sizing: border-box;top: 0;bottom: 0;left: 50%;z-index: -1;}#sk-container-id-14 div.sk-parallel-item {display: flex;flex-direction: column;z-index: 1;position: relative;background-color: white;}#sk-container-id-14 div.sk-parallel-item:first-child::after {align-self: flex-end;width: 50%;}#sk-container-id-14 div.sk-parallel-item:last-child::after {align-self: flex-start;width: 50%;}#sk-container-id-14 div.sk-parallel-item:only-child::after {width: 0;}#sk-container-id-14 div.sk-dashed-wrapped {border: 1px dashed gray;margin: 0 0.4em 0.5em 0.4em;box-sizing: border-box;padding-bottom: 0.4em;background-color: white;}#sk-container-id-14 div.sk-label label {font-family: monospace;font-weight: bold;display: inline-block;line-height: 1.2em;}#sk-container-id-14 div.sk-label-container {text-align: center;}#sk-container-id-14 div.sk-container {/* jupyter's `normalize.less` sets `[hidden] { display: none; }` but bootstrap.min.css set `[hidden] { display: none !important; }` so we also need the `!important` here to be able to override the default hidden behavior on the sphinx rendered scikit-learn.org. See: https://github.com/scikit-learn/scikit-learn/issues/21755 */display: inline-block !important;position: relative;}#sk-container-id-14 div.sk-text-repr-fallback {display: none;}</style><div id=\"sk-container-id-14\" class=\"sk-top-container\"><div class=\"sk-text-repr-fallback\"><pre>SVC(kernel=&#x27;linear&#x27;, probability=True, random_state=42)</pre><b>In a Jupyter environment, please rerun this cell to show the HTML representation or trust the notebook. <br />On GitHub, the HTML representation is unable to render, please try loading this page with nbviewer.org.</b></div><div class=\"sk-container\" hidden><div class=\"sk-item\"><div class=\"sk-estimator sk-toggleable\"><input class=\"sk-toggleable__control sk-hidden--visually\" id=\"sk-estimator-id-24\" type=\"checkbox\" checked><label for=\"sk-estimator-id-24\" class=\"sk-toggleable__label sk-toggleable__label-arrow\">SVC</label><div class=\"sk-toggleable__content\"><pre>SVC(kernel=&#x27;linear&#x27;, probability=True, random_state=42)</pre></div></div></div></div></div>"
            ],
            "text/plain": [
              "SVC(kernel='linear', probability=True, random_state=42)"
            ]
          },
          "execution_count": 190,
          "metadata": {},
          "output_type": "execute_result"
        }
      ],
      "source": [
        "svm_classifier.fit(X_train, y_train)"
      ]
    },
    {
      "cell_type": "code",
      "execution_count": 191,
      "metadata": {
        "id": "fSHt69aD63td"
      },
      "outputs": [],
      "source": [
        "y_pred = svm_classifier.predict(X_test)"
      ]
    },
    {
      "cell_type": "code",
      "execution_count": 192,
      "metadata": {
        "id": "tsyyTvj0676o"
      },
      "outputs": [],
      "source": [
        "conf_matrix = confusion_matrix(y_test, y_pred)"
      ]
    },
    {
      "cell_type": "code",
      "execution_count": 193,
      "metadata": {
        "colab": {
          "base_uri": "https://localhost:8080/"
        },
        "id": "a5f2v2EI7BPh",
        "outputId": "591906f1-3e69-4ffb-d62d-078c0bfe72ba"
      },
      "outputs": [
        {
          "data": {
            "text/plain": [
              "array([[85,  8],\n",
              "       [18, 89]], dtype=int64)"
            ]
          },
          "execution_count": 193,
          "metadata": {},
          "output_type": "execute_result"
        }
      ],
      "source": [
        "conf_matrix"
      ]
    },
    {
      "cell_type": "code",
      "execution_count": 194,
      "metadata": {
        "colab": {
          "base_uri": "https://localhost:8080/",
          "height": 410
        },
        "id": "wlgyaWnF7SrP",
        "outputId": "982e38af-4cdf-418d-ce10-9a9ca4a4efea"
      },
      "outputs": [
        {
          "data": {
            "image/png": "[encoded data removed]",
            "text/plain": [
              "<Figure size 600x400 with 2 Axes>"
            ]
          },
          "metadata": {},
          "output_type": "display_data"
        }
      ],
      "source": [
        "plt.figure(figsize=(6, 4))\n",
        "sns.heatmap(conf_matrix, annot=True, fmt='d', cmap='Blues', xticklabels=['Class 0', 'Class 1'], yticklabels=['Class 0', 'Class 1'])\n",
        "plt.xlabel('Predicted Labels')\n",
        "plt.ylabel('True Labels')\n",
        "plt.title('Confusion Matrix')\n",
        "plt.show()\n"
      ]
    },
    {
      "cell_type": "markdown",
      "metadata": {
        "id": "QYaTv6X--NKj"
      },
      "source": [
        "**24) Write a python program to train an SVM Regressor (SVR) and evuate its performance using Mean Absulate Error instad of MSE**"
      ]
    },
    {
      "cell_type": "code",
      "execution_count": 195,
      "metadata": {
        "colab": {
          "base_uri": "https://localhost:8080/",
          "height": 489
        },
        "id": "0BlduE5iAkI-",
        "outputId": "9318e38f-d621-4f18-a9e2-03acf85dd23b"
      },
      "outputs": [
        {
          "name": "stdout",
          "output_type": "stream",
          "text": [
            "Mean Absolute Error: 0.8373\n"
          ]
        },
        {
          "data": {
            "image/png": "[encoded data removed]",
            "text/plain": [
              "<Figure size 640x480 with 1 Axes>"
            ]
          },
          "metadata": {},
          "output_type": "display_data"
        }
      ],
      "source": [
        "import numpy as np\n",
        "import matplotlib.pyplot as plt\n",
        "from sklearn.model_selection import train_test_split\n",
        "from sklearn.svm import SVR\n",
        "from sklearn.metrics import mean_absolute_error\n",
        "from sklearn.datasets import make_regression\n",
        "\n",
        "# Generate a synthetic regression dataset\n",
        "X, y = make_regression(n_samples=1000, n_features=1, noise=0.1, random_state=42)\n",
        "\n",
        "# Split the dataset into training and testing sets\n",
        "X_train, X_test, y_train, y_test = train_test_split(X, y, test_size=0.2, random_state=42)\n",
        "\n",
        "# Initialize the SVR model\n",
        "svr_regressor = SVR(kernel='rbf')\n",
        "\n",
        "# Train the SVR model\n",
        "svr_regressor.fit(X_train, y_train)\n",
        "\n",
        "# Predict on the test set\n",
        "y_pred = svr_regressor.predict(X_test)\n",
        "\n",
        "# Compute Mean Absolute Error (MAE)\n",
        "mae = mean_absolute_error(y_test, y_pred)\n",
        "\n",
        "# Print the MAE\n",
        "print(f'Mean Absolute Error: {mae:.4f}')\n",
        "\n",
        "# Plot the results\n",
        "plt.scatter(X_test, y_test, color='blue', label='Actual')\n",
        "plt.scatter(X_test, y_pred, color='red', label='Predicted', alpha=0.5)\n",
        "plt.xlabel('Feature')\n",
        "plt.ylabel('Target')\n",
        "plt.title('SVR Predictions vs Actual Values')\n",
        "plt.legend()\n",
        "plt.show()\n"
      ]
    },
    {
      "cell_type": "markdown",
      "metadata": {
        "id": "lNrWgFF0Bi7J"
      },
      "source": [
        "**25) Write a Python program to train a Navie Bayes classifier and evauate its perfomance using the ROC-AUC score.**"
      ]
    },
    {
      "cell_type": "code",
      "execution_count": 196,
      "metadata": {
        "colab": {
          "base_uri": "https://localhost:8080/",
          "height": 581
        },
        "id": "vUDiidobfrAS",
        "outputId": "6bc967b6-deb6-494b-ab68-f1943bf243ef"
      },
      "outputs": [
        {
          "name": "stdout",
          "output_type": "stream",
          "text": [
            "ROC-AUC Score: 0.8852\n"
          ]
        },
        {
          "data": {
            "image/png": "[encoded data removed]",
            "text/plain": [
              "<Figure size 800x600 with 1 Axes>"
            ]
          },
          "metadata": {},
          "output_type": "display_data"
        }
      ],
      "source": [
        "import numpy as np\n",
        "import matplotlib.pyplot as plt\n",
        "from sklearn.model_selection import train_test_split\n",
        "from sklearn.naive_bayes import GaussianNB\n",
        "from sklearn.metrics import roc_auc_score, roc_curve\n",
        "from sklearn.datasets import make_classification\n",
        "\n",
        "# Generate synthetic dataset\n",
        "X, y = make_classification(n_samples=1000, n_features=20, random_state=42)\n",
        "\n",
        "# Split the dataset into training and testing sets\n",
        "X_train, X_test, y_train, y_test = train_test_split(X, y, test_size=0.3, random_state=42)\n",
        "\n",
        "# Initialize and train the Naive Bayes classifier\n",
        "nb_classifier = GaussianNB()\n",
        "nb_classifier.fit(X_train, y_train)\n",
        "\n",
        "# Predict probabilities\n",
        "y_probs = nb_classifier.predict_proba(X_test)[:, 1]\n",
        "\n",
        "# Compute ROC-AUC score\n",
        "roc_auc = roc_auc_score(y_test, y_probs)\n",
        "print(f\"ROC-AUC Score: {roc_auc:.4f}\")\n",
        "\n",
        "# Compute ROC curve\n",
        "fpr, tpr, _ = roc_curve(y_test, y_probs)\n",
        "\n",
        "# Plot ROC curve\n",
        "plt.figure(figsize=(8, 6))\n",
        "plt.plot(fpr, tpr, label=f\"Naive Bayes (AUC = {roc_auc:.4f})\")\n",
        "plt.plot([0, 1], [0, 1], linestyle='--', color='grey')\n",
        "plt.xlabel(\"False Positive Rate\")\n",
        "plt.ylabel(\"True Positive Rate\")\n",
        "plt.title(\"ROC Curve\")\n",
        "plt.legend()\n",
        "plt.show()\n"
      ]
    },
    {
      "cell_type": "markdown",
      "metadata": {
        "id": "S__bPWG8ghBD"
      },
      "source": [
        "**26) Write a python program to train an SVM classifier and visualise the precision - Recall curve.**"
      ]
    },
    {
      "cell_type": "code",
      "execution_count": 197,
      "metadata": {
        "colab": {
          "base_uri": "https://localhost:8080/",
          "height": 564
        },
        "id": "VPPQ-iXEgwAK",
        "outputId": "f1b54f73-171d-471a-9bc8-2260bf844245"
      },
      "outputs": [
        {
          "data": {
            "image/png": "[encoded data removed]",
            "text/plain": [
              "<Figure size 800x600 with 1 Axes>"
            ]
          },
          "metadata": {},
          "output_type": "display_data"
        }
      ],
      "source": [
        "import numpy as np\n",
        "import matplotlib.pyplot as plt\n",
        "from sklearn.model_selection import train_test_split\n",
        "from sklearn.svm import SVC\n",
        "from sklearn.metrics import precision_recall_curve, auc\n",
        "from sklearn.datasets import make_classification\n",
        "\n",
        "# Generate synthetic dataset\n",
        "X, y = make_classification(n_samples=1000, n_features=20, random_state=42)\n",
        "\n",
        "# Split the dataset into training and testing sets\n",
        "X_train, X_test, y_train, y_test = train_test_split(X, y, test_size=0.3, random_state=42)\n",
        "\n",
        "# Initialize and train the SVM classifier with probability estimation\n",
        "svm_classifier = SVC(kernel='linear', probability=True, random_state=42)\n",
        "svm_classifier.fit(X_train, y_train)\n",
        "\n",
        "# Predict probabilities\n",
        "y_probs = svm_classifier.predict_proba(X_test)[:, 1]\n",
        "\n",
        "# Compute Precision-Recall curve\n",
        "precision, recall, _ = precision_recall_curve(y_test, y_probs)\n",
        "pr_auc = auc(recall, precision)\n",
        "\n",
        "# Plot Precision-Recall curve\n",
        "plt.figure(figsize=(8, 6))\n",
        "plt.plot(recall, precision, label=f\"SVM (AUC = {pr_auc:.4f})\", color='blue')\n",
        "plt.xlabel(\"Recall\")\n",
        "plt.ylabel(\"Precision\")\n",
        "plt.title(\"Precision-Recall Curve\")\n",
        "plt.legend()\n",
        "plt.grid()\n",
        "plt.show()\n"
      ]
    },
    {
      "cell_type": "code",
      "execution_count": null,
      "metadata": {},
      "outputs": [],
      "source": []
    },
    {
      "cell_type": "code",
      "execution_count": null,
      "metadata": {},
      "outputs": [],
      "source": []
    }
  ],
  "metadata": {
    "colab": {
      "provenance": []
    },
    "kernelspec": {
      "display_name": "Python 3",
      "name": "python3"
    },
    "language_info": {
      "codemirror_mode": {
        "name": "ipython",
        "version": 3
      },
      "file_extension": ".py",
      "mimetype": "text/x-python",
      "name": "python",
      "nbconvert_exporter": "python",
      "pygments_lexer": "ipython3",
      "version": "3.12.1"
    }
  },
  "nbformat": 4,
  "nbformat_minor": 0
}
