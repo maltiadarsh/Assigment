{
 "cells": [
  {
   "cell_type": "markdown",
   "id": "33383731-1693-4627-809a-eaab065c0f24",
   "metadata": {},
   "source": [
    "# Theoretical Questions:"
   ]
  },
  {
   "cell_type": "markdown",
   "id": "a5c7e593-514a-4c12-a0e7-04fd3e69caf2",
   "metadata": {},
   "source": [
    "### Q1.  Explain the purpose and advantages of NumPy in scientific computing and data analysis. How does it enhance Python's capabilities for numerical operations?\n"
   ]
  },
  {
   "cell_type": "markdown",
   "id": "5f2ca25c-3bab-43b0-94f1-72c0863fb50c",
   "metadata": {},
   "source": [
    "## Answer :-\n",
    "### NumPy, short for Numerical Python is a fundamental library for scientific computing and data analysis in Python. Its primary purpose is to provide efficient and powerful tools for handling and processing numerical data \n",
    "#### key feature:-\n",
    "##### 1. Multidimensional Arrays:\n",
    "- The core feature of NumPy is its \"ndarray\" object, which supports n-dimensional arrays. This allows for the efficient storage and manipulation of large datasets."
   ]
  },
  {
   "cell_type": "code",
   "execution_count": 2,
   "id": "db7346d1-f464-442e-94de-d5a7fd156ba1",
   "metadata": {},
   "outputs": [
    {
     "name": "stdout",
     "output_type": "stream",
     "text": [
      "[[1 2 3]\n",
      " [4 5 6]]\n"
     ]
    }
   ],
   "source": [
    "import numpy as np \n",
    "l=[1,2,3,]\n",
    "l1=[4,5,6]\n",
    "array = np.array([l, l1])\n",
    "print(array)\n"
   ]
  },
  {
   "cell_type": "markdown",
   "id": "010fd534-3fdb-49d6-89ad-8e1dc47858ea",
   "metadata": {},
   "source": [
    "##### 2.Vectorized Operations:\n",
    "- NumPy supports vectorized operations, which enable element-wise operations on arrays without the need for explicit loops. This leads to more concise and faster code."
   ]
  },
  {
   "cell_type": "code",
   "execution_count": 3,
   "id": "cb6947ce-321a-4d50-96ee-6f4bed30c95b",
   "metadata": {},
   "outputs": [],
   "source": [
    "a = np.array(l)\n",
    "b = np.array(l1)\n",
    "c = a + b"
   ]
  },
  {
   "cell_type": "code",
   "execution_count": 4,
   "id": "84a1f25f-858b-460c-91a8-907482700ee5",
   "metadata": {},
   "outputs": [
    {
     "data": {
      "text/plain": [
       "array([5, 7, 9])"
      ]
     },
     "execution_count": 4,
     "metadata": {},
     "output_type": "execute_result"
    }
   ],
   "source": [
    "c"
   ]
  },
  {
   "cell_type": "markdown",
   "id": "2a0dcdd2-847e-4cc7-a683-023cd4221410",
   "metadata": {
    "tags": []
   },
   "source": [
    "\n",
    "\n",
    "\n",
    "\n",
    "\n",
    "## Q2. Compare and contrast np.mean() and np.average() functions in NumPy. When would you use one over the import numpy as np\n",
    "data = np.array([1, 2, 3, 4])\n",
    "weights = np.array([0.1, 0.2, 0.3, 0.4])\n",
    "weighted_average = np.average(data, weights=weights)\n",
    "print(weighted_average)  # Output: 3.0\n",
    "other?"
   ]
  },
  {
   "cell_type": "markdown",
   "id": "65b5e523-faf8-4f6f-aacb-1ac0ca29b33e",
   "metadata": {},
   "source": [
    "## answer:\n",
    "In NumPy, both np.mean() and np.average() are used to calculate the mean of an array, but they have some differences in terms of functionality and use cases.\n",
    "## np.mean() \n",
    " \n",
    "- it is used to compute mathmatical calculation along the axis "
   ]
  },
  {
   "cell_type": "code",
   "execution_count": 5,
   "id": "f1ee0680-6829-4557-9a23-3db282ca388b",
   "metadata": {},
   "outputs": [
    {
     "name": "stdout",
     "output_type": "stream",
     "text": [
      "2.5\n"
     ]
    }
   ],
   "source": [
    "import numpy as np\n",
    "data = np.array([1, 2, 3, 4])\n",
    "mean_value = np.mean(data)\n",
    "print(mean_value)  \n"
   ]
  },
  {
   "cell_type": "markdown",
   "id": "f911ddbd-8ad0-4252-b5b5-535dd19cbafb",
   "metadata": {},
   "source": [
    "## np.avarage()\n",
    "- it is used to Computes the weighted average along the specified axis.\n"
   ]
  },
  {
   "cell_type": "code",
   "execution_count": 6,
   "id": "d308ae83-8122-484f-bfcb-682b9032bcb7",
   "metadata": {},
   "outputs": [
    {
     "name": "stdout",
     "output_type": "stream",
     "text": [
      "3.0\n"
     ]
    }
   ],
   "source": [
    "\n",
    "a=np.array([1, 2, 3, 4])\n",
    "weights = np.array([0.1, 0.2, 0.3, 0.4])\n",
    "weighted_average = np.average(a, weights=weights)\n",
    "print(weighted_average) \n"
   ]
  },
  {
   "cell_type": "markdown",
   "id": "babb9c42-29a7-440a-9c1c-63928e09494a",
   "metadata": {},
   "source": [
    "### we use one over the import numpy as np.mean() and np.average()\n",
    "- when we  need to calculate the basic arithmetic mean of our data without considering any weightswe we use np.mean()\n",
    "- When we need to compute a weighted average where different elements have different levels of importance or frequency we use np.average()."
   ]
  },
  {
   "cell_type": "markdown",
   "id": "865378ed-1e7e-4844-866b-1b32187c9de8",
   "metadata": {},
   "source": [
    "## Q3. Describe the methods for reversing a NumPy array along different axes. Provide examples for 1D and 2D arrays."
   ]
  },
  {
   "cell_type": "markdown",
   "id": "c62b5531-b6fe-4266-b9c7-89c82fe0fb00",
   "metadata": {},
   "source": [
    "## Answer:\n",
    "- In NumPy, we can reverse an array along different axes using the numpy.flip() function. This function allows you to flip the order of elements along a specified axis or axes. \n",
    "- the methods for reversing NumPy arrays along different axes, with examples for both 1D and 2D arrays:"
   ]
  },
  {
   "cell_type": "code",
   "execution_count": 7,
   "id": "f26da8f8-f352-4071-9b6c-004b3f62faee",
   "metadata": {},
   "outputs": [
    {
     "name": "stdout",
     "output_type": "stream",
     "text": [
      "Reversed 1D array: [5 4 3 2 1]\n"
     ]
    }
   ],
   "source": [
    "# Create a 1D array\n",
    "arr1= np.array([1, 2, 3, 4, 5])\n",
    "\n",
    "arr_reversed = np.flip(arr1,)\n",
    "\n",
    "\n",
    "\n",
    "print(\"Reversed 1D array:\", arr_reversed )\n"
   ]
  },
  {
   "cell_type": "code",
   "execution_count": 8,
   "id": "31d526f3-3d05-477f-9a9c-b00568a8bced",
   "metadata": {},
   "outputs": [
    {
     "name": "stdout",
     "output_type": "stream",
     "text": [
      "Original 2D array:\n",
      "[[1 2 3]\n",
      " [4 5 6]\n",
      " [7 8 9]]\n",
      "\n",
      "Reversed 2D array (rows):\n",
      "[[7 8 9]\n",
      " [4 5 6]\n",
      " [1 2 3]]\n",
      "\n",
      "Reversed 2D array (columns):\n",
      "[[3 2 1]\n",
      " [6 5 4]\n",
      " [9 8 7]]\n"
     ]
    }
   ],
   "source": [
    "# Create a 2D array\n",
    "arr2 = np.array([[1, 2, 3],\n",
    "                  [4, 5, 6],\n",
    "                   [7, 8, 9]])\n",
    "\n",
    "# Reverse the array along axis 0 (rows)\n",
    "arr_reversed_rows = np.flip(arr2, axis=0)\n",
    "\n",
    "# Reverse the array along axis 1 (columns)\n",
    "arr_reversed_columns = np.flip(arr2, axis=1)\n",
    "\n",
    "print(\"Original 2D array:\")\n",
    "print(arr2)\n",
    "print(\"\\nReversed 2D array (rows):\")\n",
    "print(arr_reversed_rows)\n",
    "print(\"\\nReversed 2D array (columns):\")\n",
    "print(arr_reversed_columns)\n"
   ]
  },
  {
   "cell_type": "markdown",
   "id": "aa950dc6-e7f5-4be4-bafb-b9c27a77ad07",
   "metadata": {},
   "source": [
    "## Q4. How can you determine the data type of elements in a NumPy array? Discuss the importance of data types in memory management and performance."
   ]
  },
  {
   "cell_type": "markdown",
   "id": "ebb55cb2-7145-437f-8b52-0e769ac20660",
   "metadata": {},
   "source": [
    "## Answer :\n",
    "- To determine the data type of elements in a NumPy array using \"dtype\" attribute of the array \n",
    "- For example :- "
   ]
  },
  {
   "cell_type": "code",
   "execution_count": 9,
   "id": "1c1ee687-d394-4d41-8444-6cff53b8dc0a",
   "metadata": {},
   "outputs": [
    {
     "name": "stdout",
     "output_type": "stream",
     "text": [
      "Data type of elements a: int64\n",
      "Data type of elements b: <U10\n"
     ]
    }
   ],
   "source": [
    "import numpy as np\n",
    "\n",
    "a = np.array([1, 2, 3, 4, 5])\n",
    "b = np.array([\"adarsh\",\"srivastava\", \"pwskill\"])\n",
    "\n",
    "data_type_a = a.dtype\n",
    "data_type_b = b.dtype\n",
    "print(\"Data type of elements a:\", data_type_a)\n",
    "print(\"Data type of elements b:\", data_type_b)\n",
    "##  'U10' translates to \"Unicode string of maximum length 10,"
   ]
  },
  {
   "cell_type": "markdown",
   "id": "ee99ca01-4720-4f71-b872-1c5e517011f8",
   "metadata": {},
   "source": [
    "### The importance of data types in memory management and performance in NumPy"
   ]
  },
  {
   "cell_type": "markdown",
   "id": "e6880429-37f5-405d-8799-df649a3569c4",
   "metadata": {},
   "source": [
    "#### Memory management in NumPy :\n",
    "- memory mangement are art to stored in contiguos block of memory (data ) ,allowing for efficient storage and access .Choosing the correct data type ensures that memory usage is optimized.\n",
    "   - For example, using int8 (1 byte) instead of int64 (8 bytes) for small integers can save a significant amount of memory\n"
   ]
  },
  {
   "cell_type": "markdown",
   "id": "b480e597-5c8e-4f70-a2c0-1c6d1697eb18",
   "metadata": {},
   "source": [
    "#### Performance:"
   ]
  },
  {
   "cell_type": "markdown",
   "id": "a0dfeb19-a583-4f2c-a230-5302763b2299",
   "metadata": {},
   "source": [
    "- Operations on NumPy arrays can be significantly faster than on regular Python lists due to vectorization. The choice of data type can affect computational speed. For instance, floating-point operations (float32 or float64) might be slower than integer operations (int32 or int64)."
   ]
  },
  {
   "cell_type": "code",
   "execution_count": 10,
   "id": "341d0a7b-62e7-43b5-82da-4b33b0ba2e92",
   "metadata": {},
   "outputs": [
    {
     "name": "stdout",
     "output_type": "stream",
     "text": [
      "memory usage for int64 array: 40 bytes\n",
      "memory usage for int8 array: 5 bytes\n"
     ]
    }
   ],
   "source": [
    "# Array with int64 type\n",
    "array_int64 = np.array([1, 2, 3, 4, 5], dtype=np.int64)\n",
    "print(\"memory usage for int64 array:\", array_int64.nbytes, \"bytes\")\n",
    "\n",
    "# Array with int8 type\n",
    "array_int8 = np.array([1, 2, 3, 4, 5], dtype=np.int8)\n",
    "print(\"memory usage for int8 array:\", array_int8.nbytes, \"bytes\")"
   ]
  },
  {
   "cell_type": "markdown",
   "id": "ebf72071-ddb3-4e2f-86cb-7f27d029516b",
   "metadata": {},
   "source": [
    "## Q5. Define ndarrays in NumPy and explain their key features. How do they differ from standard Python lists?"
   ]
  },
  {
   "cell_type": "markdown",
   "id": "44b6c9ba-541b-4dc2-b416-40ddb2573786",
   "metadata": {},
   "source": [
    "## Answer:-\n",
    "### In NumPy ndarray (N-dimensional array) is a powerful **multi-dimensional** array object that is a core component of the NumPy library\n",
    "#### key feature of ndarray\n",
    " ##### 1. **Homogeneous Elements**:\n",
    "   - All elements in an ndarray must be of the same data type. This uniformity allows for efficient storage and operations.\n",
    "##### 2. Multi-dimensional:\n",
    "   - ndarray can have one or more dimensions (1D, 2D, 3D, etc.). The number of dimensions is known as the array’s rank.\n",
    "##### 3. Efficient Memory Usage:\n",
    "   - ndarray stores data in contiguous blocks of memory, making it more efficient in terms of both speed and memory usage compared to Python lists.\n",
    "##### 4. Support for Mathematical Operations:\n",
    "   - NumPy provides a vast array of functions for element-wise operations, linear algebra, statistical operations, and more, all of which can be applied directly to ndarray objects.\n",
    "##### 5. Broadcasting:\n",
    "   - This feature allows NumPy to perform operations on arrays of different shapes, by automatically expanding their shapes to be compatible.\n",
    "##### 6. Slicing and Indexing:\n",
    "   - NumPy offers advanced slicing and indexing capabilities that enable the extraction of subarrays and individual elements efficiently.\n",
    "##### 7. Vectorization:\n",
    "   - Operations on ndarray are typically vectorized, meaning they are implemented as highly optimized C loops instead of Python loops. This results in significant performance gains.\n",
    "\n",
    "### Difference between NumPy (ndarray) and Python List :-\n",
    "\n",
    "- In ndarray all the element in same type but in **list**  all the element can be different .\n",
    "- ndarray is faster than **list** for numerical computations . ndarray optimized **C**  backend and contiguous memory storage.\n",
    "- ndarray is more effeciency ( especillay for large array ) besause its compact layout . but in **List** less memory-efficient due to overhead from storing type information and object pointers. \n",
    "- ndarray support multidimessional array and do operation on it but in List we have also multidimmensional array but we cannot do operation on all the array and it is also slower than nd array.\n",
    "- In ndarray Offers advanced slicing, indexing, and broadcasting capabilities but **List** basic slicing and indexingand  no broadcasting."
   ]
  },
  {
   "cell_type": "markdown",
   "id": "813ecc1f-0fff-4f68-958e-a1326db41251",
   "metadata": {},
   "source": [
    "## Q6. Analyze the performance benefits of NumPy arrays over Python lists for large-scale numerical operations."
   ]
  },
  {
   "cell_type": "markdown",
   "id": "bab01221-439b-4348-8e33-8715c5f5d2a2",
   "metadata": {},
   "source": [
    "## Answer :-\n",
    "### NumPy arrays (ndarray) offer significant performance benefits over Python lists for large-scale numerical operations. These benefits stem from the way NumPy arrays are implemented and the optimizations they bring to numerical computing.\n",
    "### Memory Efficiency\n",
    " ##### Contiguous Memory Allocation:\n",
    "- In NumPy Arrays Elements are stored in contiguous blocks of memory, which improves cache performance and reduces memory overhead **but** In Python Lists elements are stored as individual objects with additional pointers and type information, leading to higher memory overhead and scattered memory allocation.\n",
    "### Example:\n"
   ]
  },
  {
   "cell_type": "code",
   "execution_count": 11,
   "id": "af20a653-8796-4d58-b6a3-9d1580f8f15b",
   "metadata": {},
   "outputs": [
    {
     "name": "stdout",
     "output_type": "stream",
     "text": [
      "NumPy array memory size: 800044832\n",
      "list memory size: 36000052\n"
     ]
    }
   ],
   "source": [
    "import numpy as np\n",
    "import sys\n",
    "\n",
    "# NumPy array\n",
    "array_np = np.arange(100005604)\n",
    "print(\"NumPy array memory size:\", array_np.nbytes)\n",
    "\n",
    "# list\n",
    "List = list(range(1000000))\n",
    "print(\"list memory size:\", sys.getsizeof(List) + sum(sys.getsizeof(i) for i in List))"
   ]
  },
  {
   "cell_type": "markdown",
   "id": "ab8101a5-5aa7-41dc-8759-b9ee8b8f0fcd",
   "metadata": {},
   "source": [
    "### Vectorization:\n",
    "\n",
    "##### NumPy Arrays: Operations are vectorized, meaning they are implemented as highly optimized C loops. This allows for operations on entire arrays without explicit loops in Python.\n",
    "##### Python Lists: Require explicit loops or list comprehensions for element-wise operations, which are slower due to Python's loop overhead.\n",
    "### Example:"
   ]
  },
  {
   "cell_type": "code",
   "execution_count": 12,
   "id": "cb5c12e6-68a7-41ec-9f5d-6ef6700c140d",
   "metadata": {},
   "outputs": [
    {
     "name": "stdout",
     "output_type": "stream",
     "text": [
      "NumPy array operation time: 0.003382444381713867\n",
      "Python list operation time: 0.0839376449584961\n"
     ]
    }
   ],
   "source": [
    "import numpy as np\n",
    "import time\n",
    "\n",
    "\n",
    "array_np = np.arange(1000000)\n",
    "list_py = list(range(1000000))\n",
    "\n",
    "\n",
    "start_np = time.time()\n",
    "array_np = array_np * 2\n",
    "end_np = time.time()\n",
    "print(\"NumPy array operation time:\", end_np - start_np)\n",
    "\n",
    "\n",
    "start_py = time.time()\n",
    "list_py = [x * 2 for x in list_py]\n",
    "end_py = time.time()\n",
    "print(\"Python list operation time:\", end_py - start_py)"
   ]
  },
  {
   "cell_type": "markdown",
   "id": "f93c1bf7-74c8-485e-a792-bf7bcfa465c7",
   "metadata": {},
   "source": [
    "### Broadcasting\n",
    "- NumPy  can perform operations on arrays of different shapes by automatically broadcasting smaller arrays to the shape of larger ones. This feature eliminates the need for explicit replication of data.\n",
    "- Python require manual handling and replication of data to achieve similar behavior, which is both error-prone and inefficient.\n",
    "#### example :"
   ]
  },
  {
   "cell_type": "code",
   "execution_count": 13,
   "id": "c9934474-c34f-4022-baf9-32d99a0025e4",
   "metadata": {},
   "outputs": [
    {
     "name": "stdout",
     "output_type": "stream",
     "text": [
      "Original array: [0 1 2 3 4]\n",
      "Broadcasted addition: [10 11 12 13 14]\n"
     ]
    }
   ],
   "source": [
    "array_np = np.arange(5)\n",
    "print(\"Original array:\", array_np)\n",
    "print(\"Broadcasted addition:\", array_np + 10)"
   ]
  },
  {
   "cell_type": "markdown",
   "id": "a18ca80f-5a5b-458b-b95f-ee7be6729dd5",
   "metadata": {},
   "source": [
    "### Optimized Mathematical Functions\n",
    "- NumPy provide a wide range of optimized mathematical functions (e.g., sin, cos, exp) that operate on entire arrays efficiently.\n",
    "- but in **Python** **list** require manual implementation using loops or comprehensions, which are less efficient.\n",
    "#### Example:"
   ]
  },
  {
   "cell_type": "code",
   "execution_count": 14,
   "id": "6c17260c-d95e-46cd-9f5e-daedebac39dc",
   "metadata": {},
   "outputs": [
    {
     "name": "stdout",
     "output_type": "stream",
     "text": [
      "NumPy sin function time: 0.028987884521484375\n",
      "Python list sin function time: 0.2270340919494629\n"
     ]
    }
   ],
   "source": [
    "import numpy as np\n",
    "import math\n",
    "\n",
    "# NumPy mathematical function\n",
    "n = np.arange(1000000)\n",
    "start_np = time.time()\n",
    "result_np = np.sin(n)\n",
    "end_np = time.time()\n",
    "print(\"NumPy sin function time:\", end_np - start_np)\n",
    "\n",
    "# Python list mathematical function\n",
    "list_py = list(range(1000000))\n",
    "start_py = time.time()\n",
    "result_py = [math.sin(x) for x in list_py]\n",
    "end_py = time.time()\n",
    "print(\"Python list sin function time:\", end_py - start_py)"
   ]
  },
  {
   "cell_type": "markdown",
   "id": "5edfdcb6-285b-4af8-acce-bf2daf71ef49",
   "metadata": {},
   "source": [
    "### Ease of Use with Multi-dimensional Data (Multi-dimensional Support)\n",
    "\n",
    "- NumPy array is natively support multi-dimensional arrays with efficient indexing, slicing, and reshaping operations.\n",
    "- but in Python lists we  Can simulate multi-dimensional arrays using nested lists, but operations are cumbersome and less efficient.\n",
    "#### Example:"
   ]
  },
  {
   "cell_type": "code",
   "execution_count": 16,
   "id": "dc38adde-2a8f-4d56-bff8-119820e4bc98",
   "metadata": {},
   "outputs": [
    {
     "name": "stdout",
     "output_type": "stream",
     "text": [
      "original 2D array:\n",
      " [[1 2 3]\n",
      " [4 5 6]\n",
      " [7 8 9]]\n",
      "sliced 2D array:\n",
      " [2 5 8]\n"
     ]
    }
   ],
   "source": [
    "array_2d = np.array([[1, 2, 3], [4, 5, 6], [7, 8, 9]])\n",
    "print(\"original 2D array:\\n\", array_2d)\n",
    "print(\"sliced 2D array:\\n\", array_2d[:, 1])"
   ]
  },
  {
   "cell_type": "markdown",
   "id": "b767054d-b663-4e5d-8c33-3754ecd9bdde",
   "metadata": {},
   "source": [
    "## Q7. Compare vstack() and hstack() functions in NumPy. Provide examples demonstrating their usage and output."
   ]
  },
  {
   "cell_type": "markdown",
   "id": "68b84b28-14bc-4e26-abb2-5afad99d0c7b",
   "metadata": {},
   "source": [
    "### Answer:-\n",
    "#### vstack()\n",
    "- vstack() stands for “vertical stack.” It stacks arrays vertically, row-wise. This means it combines arrays along the first axis (axis 0)\n",
    "### for examples:-"
   ]
  },
  {
   "cell_type": "code",
   "execution_count": 18,
   "id": "62c0e18a-8d3f-4958-ae68-b5a368261be6",
   "metadata": {},
   "outputs": [
    {
     "name": "stdout",
     "output_type": "stream",
     "text": [
      "[[1 2 3]\n",
      " [4 5 6]]\n"
     ]
    }
   ],
   "source": [
    "a = np.array([1, 2, 3])\n",
    "b = np.array([4, 5, 6])\n",
    "\n",
    "c = np.vstack((a, b))\n",
    "print(c)"
   ]
  },
  {
   "cell_type": "markdown",
   "id": "e5b92a6d-f6ec-4fbc-befc-74015df1ff93",
   "metadata": {},
   "source": [
    "### hstack()\n",
    "- hstack() stands for “horizontal stack.” It stacks arrays horizontally, column-wise. This means it combines arrays along the second axis (axis 1).\n",
    "### for example:-"
   ]
  },
  {
   "cell_type": "code",
   "execution_count": 19,
   "id": "9dafe9a6-e6ac-4926-88d7-16c7dc0fabcc",
   "metadata": {},
   "outputs": [
    {
     "name": "stdout",
     "output_type": "stream",
     "text": [
      "[1 2 3 4 5 6]\n"
     ]
    }
   ],
   "source": [
    "a = np.array([1, 2, 3])\n",
    "b = np.array([4, 5, 6])\n",
    "\n",
    "c = np.hstack((a, b))\n",
    "print(c)"
   ]
  },
  {
   "cell_type": "markdown",
   "id": "78eeedf2-f249-4f04-8d8c-799d997c9d8c",
   "metadata": {},
   "source": [
    "## Q8. Explain the differences between fliplr() and flipud() methods in NumPy, including their effects on various array dimensions."
   ]
  },
  {
   "cell_type": "markdown",
   "id": "d077a565-12ed-4c47-945c-6b17f1ee0f84",
   "metadata": {},
   "source": [
    "### answer :-\n",
    "#### fliplr()\n",
    "- fliplr() stands for **“flip left-right.”** It flips the array in the left/right direction, meaning it reverses the order of columns while keeping the rows intact. This function is useful when we want to mirror an array horizontally."
   ]
  },
  {
   "cell_type": "code",
   "execution_count": 22,
   "id": "3f75a3a9-fdbd-4f5d-a972-0112b832e6c6",
   "metadata": {},
   "outputs": [
    {
     "name": "stdout",
     "output_type": "stream",
     "text": [
      "[[3 2 1]\n",
      " [6 5 4]]\n"
     ]
    }
   ],
   "source": [
    "a = np.array([[1, 2, 3],\n",
    "             [4, 5, 6]])\n",
    "flip = np.fliplr(a)\n",
    "print(flip)\n"
   ]
  },
  {
   "cell_type": "markdown",
   "id": "75bc0b4c-53c1-492c-b514-106ddeebc0ae",
   "metadata": {},
   "source": [
    "#### flipud()\n",
    "- flipud() stands for **“flip up-down.”** It flips the array in the up/down direction, meaning it reverses the order of rows while keeping the columns intact. This function is useful when we want to mirror an array vertically."
   ]
  },
  {
   "cell_type": "code",
   "execution_count": 23,
   "id": "d7fbbc1d-5237-4889-92a4-8dbb064c9920",
   "metadata": {},
   "outputs": [
    {
     "name": "stdout",
     "output_type": "stream",
     "text": [
      "[[4 5 6]\n",
      " [1 2 3]]\n"
     ]
    }
   ],
   "source": [
    "a = np.array([[1, 2, 3],\n",
    "             [4, 5, 6]])\n",
    "flip = np.flipud(a)\n",
    "print(flip)\n"
   ]
  },
  {
   "cell_type": "markdown",
   "id": "9c47a001-b43b-437f-9a16-57c75bae873d",
   "metadata": {},
   "source": [
    "## Q9. Discuss the functionality of the array_split() method in NumPy. How does it handle uneven splits?"
   ]
  },
  {
   "cell_type": "markdown",
   "id": "21825cdd-34e8-4a5c-bd23-0f8148bb518f",
   "metadata": {},
   "source": [
    "### Answer: -\n",
    "- The array_split() method in NumPy is a versatile tool for dividing an array into multiple sub-arrays. Unlike the split() method, which requires equal-sized splits, array_split() can handle uneven splits gracefully. When you specify the number of splits, it divides the array as evenly as possible, distributing any leftover elements among the first few sub-arrays."
   ]
  },
  {
   "cell_type": "code",
   "execution_count": 26,
   "id": "990fa135-0f75-4623-a522-0029efb88e06",
   "metadata": {},
   "outputs": [
    {
     "name": "stdout",
     "output_type": "stream",
     "text": [
      "[array([0, 1, 2]), array([3, 4]), array([5, 6]), array([7, 8])]\n"
     ]
    }
   ],
   "source": [
    "x = np.arange(9)\n",
    "a = np.array_split(x, 4)\n",
    "print(a)\n"
   ]
  },
  {
   "cell_type": "markdown",
   "id": "8695dd9d-834f-406f-837e-96712bc5c4ab",
   "metadata": {},
   "source": [
    "- This flexibility makes array_split() particularly useful when dealing with data that doesn’t fit neatly into equal parts, ensuring that the resulting sub-arrays are as balanced as possible."
   ]
  },
  {
   "cell_type": "markdown",
   "id": "6ea50830-0c68-472e-951f-8225f4728f0e",
   "metadata": {},
   "source": [
    "## Q10. Explain the concepts of vectorization and broadcasting in NumPy. How do they contribute to efficient array operations?"
   ]
  },
  {
   "cell_type": "markdown",
   "id": "9ad75a5b-3c0e-4ae4-8f9f-c71d018a995a",
   "metadata": {},
   "source": [
    " ### Answer:\n",
    " \n",
    "#### Vectorization\n",
    "- Vectorization is like giving NumPy the ability to handle entire arrays at once, rather than dealing with each element individually. Imagine you have two lists of numbers and you want to add them together. Normally, you might use a loop to add each pair of numbers. With vectorization, you can skip the loop and just tell NumPy to add the arrays directly. This makes your code cleaner and much faster because NumPy uses highly optimized, low-level code to perform these operations.\n",
    "\n",
    "#### Broadcasting\n",
    "- Broadcasting is a feature that allows NumPy to perform operations on arrays of different shapes. When you have arrays of different sizes, NumPy can automatically expand the smaller array to match the shape of the larger one. This means you don’t have to manually resize or reshape your arrays.\n",
    "  For instance, if you want to add a single number to every element of an array, broadcasting makes it simple. NumPy treats the single number as if it were an array of the same size as the original array   and performs the addition.\n",
    "\n",
    "##### they contribute to efficient array operations\n",
    "- Both vectorization and broadcasting make your code more efficient and easier to read. They allow you to perform complex operations on large datasets quickly, without writing cumbersome loops. This is especially important in data science and machine learning, where you often work with large arrays of data."
   ]
  },
  {
   "cell_type": "markdown",
   "id": "fc097af2-47b1-41b9-a368-750f24d000f5",
   "metadata": {},
   "source": [
    "# Practical Questions:"
   ]
  },
  {
   "cell_type": "markdown",
   "id": "177ea5b4-184c-4aab-994b-0512a44485f2",
   "metadata": {},
   "source": [
    "### Q1.Create a 3x3 NumPy array with random integers between 1 and 100. Then, interchange its rows and columns."
   ]
  },
  {
   "cell_type": "code",
   "execution_count": 12,
   "id": "b34e0e60-d49a-4408-b954-89393626cd6a",
   "metadata": {},
   "outputs": [
    {
     "name": "stdout",
     "output_type": "stream",
     "text": [
      "[[70 44 73]\n",
      " [39 83 26]\n",
      " [72 85  2]]\n"
     ]
    }
   ],
   "source": [
    "import numpy as np\n",
    "array = np.random.randint(1, 101, size=(3, 3))\n",
    "print(array)"
   ]
  },
  {
   "cell_type": "code",
   "execution_count": 13,
   "id": "0baeef1d-9e2a-4f4b-b2ef-9e3442bf0e2c",
   "metadata": {},
   "outputs": [
    {
     "name": "stdout",
     "output_type": "stream",
     "text": [
      "[[70 39 72]\n",
      " [44 83 85]\n",
      " [73 26  2]]\n"
     ]
    }
   ],
   "source": [
    "transposed_array = np.transpose(array)\n",
    "print(transposed_array)\n"
   ]
  },
  {
   "cell_type": "markdown",
   "id": "20af2da9-57f6-428c-9837-4164ac8a33d5",
   "metadata": {},
   "source": [
    "### Q2. Generate a 1D NumPy array with 10 elements. Reshape it into a 2x5 array, then into a 5x2 array."
   ]
  },
  {
   "cell_type": "code",
   "execution_count": 15,
   "id": "effc29aa-9c2e-4a17-adba-5c88dcddc2cd",
   "metadata": {},
   "outputs": [
    {
     "name": "stdout",
     "output_type": "stream",
     "text": [
      "[0 1 2 3 4 5 6 7 8 9]\n"
     ]
    }
   ],
   "source": [
    "array=np.arange(10)\n",
    "print(array)"
   ]
  },
  {
   "cell_type": "markdown",
   "id": "e0a78b0e-77b6-4fd0-8c36-c1af3c5d1953",
   "metadata": {},
   "source": [
    "#### Reshape it into a 2x5 array"
   ]
  },
  {
   "cell_type": "code",
   "execution_count": 17,
   "id": "5cf1a960-a7bb-4438-9af8-e939a13422b5",
   "metadata": {},
   "outputs": [
    {
     "name": "stdout",
     "output_type": "stream",
     "text": [
      "[[0 1 2 3 4]\n",
      " [5 6 7 8 9]]\n"
     ]
    }
   ],
   "source": [
    "array1=array.reshape(2,5)\n",
    "print(array1)"
   ]
  },
  {
   "cell_type": "markdown",
   "id": "743cf2ea-2ab9-471e-9c28-3485f0f019d6",
   "metadata": {},
   "source": [
    "#### Reshape it into a 5x2 array"
   ]
  },
  {
   "cell_type": "code",
   "execution_count": 19,
   "id": "bc92165c-1024-4fa4-a5a1-28417af455e1",
   "metadata": {},
   "outputs": [
    {
     "name": "stdout",
     "output_type": "stream",
     "text": [
      "[[0 1]\n",
      " [2 3]\n",
      " [4 5]\n",
      " [6 7]\n",
      " [8 9]]\n"
     ]
    }
   ],
   "source": [
    "C=array1.reshape(5,2)\n",
    "print(array2)"
   ]
  },
  {
   "cell_type": "markdown",
   "id": "340040cf-1d2f-42d9-8992-df6fd701c01c",
   "metadata": {},
   "source": [
    "### Q3. Create a 4x4 NumPy array with random float values. Add a border of zeros around it, resulting in a 6x6 array\n"
   ]
  },
  {
   "cell_type": "code",
   "execution_count": 21,
   "id": "7354f5cc-520b-4660-b722-a3966b5a5ca2",
   "metadata": {},
   "outputs": [
    {
     "name": "stdout",
     "output_type": "stream",
     "text": [
      "[[0.32159119 0.43874598 0.60530239 0.95085146]\n",
      " [0.33545248 0.40367662 0.09452748 0.52972078]\n",
      " [0.25256689 0.81125124 0.68156858 0.96500056]\n",
      " [0.97816386 0.20038187 0.5926458  0.09992122]]\n"
     ]
    }
   ],
   "source": [
    "array = np.random.rand(4, 4)\n",
    "print(array)"
   ]
  },
  {
   "cell_type": "markdown",
   "id": "df756342-9d0a-4c5d-816a-9ff2076d971a",
   "metadata": {},
   "source": [
    "####  Add a border of zeros around it, resulting in a 6x6 array"
   ]
  },
  {
   "cell_type": "code",
   "execution_count": 34,
   "id": "ca8e3fc9-2cfe-43dc-ab09-acd136e8d6b5",
   "metadata": {},
   "outputs": [
    {
     "name": "stdout",
     "output_type": "stream",
     "text": [
      "[[0.         0.         0.         0.         0.         0.        ]\n",
      " [0.         0.32159119 0.43874598 0.60530239 0.95085146 0.        ]\n",
      " [0.         0.33545248 0.40367662 0.09452748 0.52972078 0.        ]\n",
      " [0.         0.25256689 0.81125124 0.68156858 0.96500056 0.        ]\n",
      " [0.         0.97816386 0.20038187 0.5926458  0.09992122 0.        ]\n",
      " [0.         0.         0.         0.         0.         0.        ]]\n"
     ]
    }
   ],
   "source": [
    "array1=np.pad(array, pad_width=1, mode='constant', constant_values=0)\n",
    "print(array1)"
   ]
  },
  {
   "cell_type": "markdown",
   "id": "5773bc01-658f-4f4a-95db-3494f0373313",
   "metadata": {},
   "source": [
    "### Q4. Using NumPy, create an array of integers from 10 to 60 with a step of 5"
   ]
  },
  {
   "cell_type": "code",
   "execution_count": 39,
   "id": "07b9b643-21b0-4538-92c2-62ba01c138c7",
   "metadata": {},
   "outputs": [
    {
     "name": "stdout",
     "output_type": "stream",
     "text": [
      "[18 31 55 38 15]\n"
     ]
    }
   ],
   "source": [
    "array = np.random.randint(10,60, 5)\n",
    "print(array)"
   ]
  },
  {
   "cell_type": "markdown",
   "id": "e45a10d1-44dd-4157-b6b7-9f758aeb9934",
   "metadata": {},
   "source": [
    "### Q5. Create a NumPy array of strings ['python', 'numpy', 'pandas']. Apply different case transformations (uppercase, lowercase, title case, etc.) to each element."
   ]
  },
  {
   "cell_type": "code",
   "execution_count": 40,
   "id": "e3039da8-9c69-4c55-b8a3-41f9cb4c080a",
   "metadata": {},
   "outputs": [
    {
     "name": "stdout",
     "output_type": "stream",
     "text": [
      "['python' 'numpy' 'pandas']\n"
     ]
    }
   ],
   "source": [
    "array = np.array(['python', 'numpy', 'pandas'])\n",
    "print(array)"
   ]
  },
  {
   "cell_type": "markdown",
   "id": "9d68df80-27c5-40c9-ac8e-003cf161de8f",
   "metadata": {},
   "source": [
    "#### Apply uppercase transformation"
   ]
  },
  {
   "cell_type": "code",
   "execution_count": 41,
   "id": "af694229-3319-40fd-b1f7-44d3ffb768c3",
   "metadata": {},
   "outputs": [
    {
     "name": "stdout",
     "output_type": "stream",
     "text": [
      "['PYTHON' 'NUMPY' 'PANDAS']\n"
     ]
    }
   ],
   "source": [
    "array1=np.char.upper(array)\n",
    "print(array1)"
   ]
  },
  {
   "cell_type": "markdown",
   "id": "6c887d85-0464-4592-bfab-de26834d2cac",
   "metadata": {},
   "source": [
    "#### Apply lowercase transformatio"
   ]
  },
  {
   "cell_type": "code",
   "execution_count": 43,
   "id": "15aa3f9d-fc31-4e31-b074-1dd3138e5a04",
   "metadata": {},
   "outputs": [
    {
     "name": "stdout",
     "output_type": "stream",
     "text": [
      "['python' 'numpy' 'pandas']\n"
     ]
    }
   ],
   "source": [
    "array2=np.char.lower(array)\n",
    "print(array2)"
   ]
  },
  {
   "cell_type": "markdown",
   "id": "e6964d0f-789a-4f6c-850d-2ef7d9840983",
   "metadata": {},
   "source": [
    "#### Apply titlecase transformatio"
   ]
  },
  {
   "cell_type": "code",
   "execution_count": 44,
   "id": "49ce0ce3-d9e3-456b-afa2-7b9139651ca9",
   "metadata": {},
   "outputs": [
    {
     "name": "stdout",
     "output_type": "stream",
     "text": [
      "['Python' 'Numpy' 'Pandas']\n"
     ]
    }
   ],
   "source": [
    "array3=np.char.title(array)\n",
    "print(array3)"
   ]
  },
  {
   "cell_type": "markdown",
   "id": "de8eb426-bff7-4224-ada8-be15a4eda631",
   "metadata": {},
   "source": [
    "### Q6. Generate a NumPy array of words. Insert a space between each character of every word in the array."
   ]
  },
  {
   "cell_type": "code",
   "execution_count": 46,
   "id": "675bf273-0520-4a8e-8042-bd05016bbba2",
   "metadata": {},
   "outputs": [],
   "source": [
    "word=np.array([\"adarsh\",\"srivastava\",\"shubham\",\"lal\"])\n",
    "#np.array(word)"
   ]
  },
  {
   "cell_type": "code",
   "execution_count": 49,
   "id": "6c168c3f-8ed0-4573-91d4-1b88ea737f09",
   "metadata": {},
   "outputs": [
    {
     "name": "stdout",
     "output_type": "stream",
     "text": [
      "['a d a r s h' 's r i v a s t a v a' 's h u b h a m' 'l a l']\n"
     ]
    }
   ],
   "source": [
    "word1=np.char.join(\" \",word)\n",
    "print(word1)"
   ]
  },
  {
   "cell_type": "markdown",
   "id": "242f1cdd-e5f3-44c8-a4cb-7b0824134cdf",
   "metadata": {},
   "source": [
    "### Q7. Create two 2D NumPy arrays and perform element-wise addition, subtraction, multiplication, and division."
   ]
  },
  {
   "cell_type": "code",
   "execution_count": 72,
   "id": "5fd89809-13db-4b93-bdc3-f3295b8cebbe",
   "metadata": {},
   "outputs": [
    {
     "name": "stdout",
     "output_type": "stream",
     "text": [
      "Array :\n",
      "[[54 67 99]\n",
      " [32 40 70]\n",
      " [89 24 27]]\n",
      "\n",
      "Array 1:\n",
      "[[18 49 70]\n",
      " [49 25 69]\n",
      " [20 34 94]]\n"
     ]
    }
   ],
   "source": [
    "array=np.random.randint(1,100,size=(3,3))\n",
    "array1=np.random.randint(1,100,size=(3,3))\n",
    "print(\"Array :\")\n",
    "print(array)\n",
    "\n",
    "print(\"\\nArray 1:\")\n",
    "print(array1)"
   ]
  },
  {
   "cell_type": "code",
   "execution_count": 71,
   "id": "0231e622-116e-438f-a6a6-58f533b62c88",
   "metadata": {},
   "outputs": [
    {
     "data": {
      "text/plain": [
       "2"
      ]
     },
     "execution_count": 71,
     "metadata": {},
     "output_type": "execute_result"
    }
   ],
   "source": [
    "array.ndim"
   ]
  },
  {
   "cell_type": "code",
   "execution_count": 74,
   "id": "83e0b4cb-9842-430c-8c9a-c57dd228da5a",
   "metadata": {},
   "outputs": [
    {
     "name": "stdout",
     "output_type": "stream",
     "text": [
      "[[ 72 116 169]\n",
      " [ 81  65 139]\n",
      " [109  58 121]]\n"
     ]
    }
   ],
   "source": [
    "add = array + array1\n",
    "print(add)"
   ]
  },
  {
   "cell_type": "markdown",
   "id": "be8c3318-5d3d-48b9-9fb0-47e3c6548c80",
   "metadata": {},
   "source": [
    "#### subtraction\n"
   ]
  },
  {
   "cell_type": "code",
   "execution_count": 76,
   "id": "51877a65-05e1-44d7-a839-f7db98433372",
   "metadata": {},
   "outputs": [
    {
     "name": "stdout",
     "output_type": "stream",
     "text": [
      "[[ 36  18  29]\n",
      " [-17  15   1]\n",
      " [ 69 -10 -67]]\n"
     ]
    }
   ],
   "source": [
    "subtraction = array-array1\n",
    "print(subtraction)"
   ]
  },
  {
   "cell_type": "markdown",
   "id": "61c97a54-3b23-4810-a396-01a0f0f3f3cd",
   "metadata": {},
   "source": [
    "#### multiplication\n"
   ]
  },
  {
   "cell_type": "code",
   "execution_count": 77,
   "id": "56229fd9-7d6a-47bd-a2f2-818aadcba01a",
   "metadata": {},
   "outputs": [
    {
     "name": "stdout",
     "output_type": "stream",
     "text": [
      "[[2916 4489 9801]\n",
      " [1024 1600 4900]\n",
      " [7921  576  729]]\n"
     ]
    }
   ],
   "source": [
    "multiplication=array*array\n",
    "print(multiplication)"
   ]
  },
  {
   "cell_type": "markdown",
   "id": "1af68005-161e-4df4-b432-1cd43f9b8393",
   "metadata": {},
   "source": [
    "#### division"
   ]
  },
  {
   "cell_type": "code",
   "execution_count": 78,
   "id": "a669a34c-50ed-48e8-a7a8-26cb4047af72",
   "metadata": {},
   "outputs": [
    {
     "name": "stdout",
     "output_type": "stream",
     "text": [
      "[[3.         1.36734694 1.41428571]\n",
      " [0.65306122 1.6        1.01449275]\n",
      " [4.45       0.70588235 0.28723404]]\n"
     ]
    }
   ],
   "source": [
    "division=array/array1\n",
    "print(division)"
   ]
  },
  {
   "cell_type": "markdown",
   "id": "b519e6be-0ed2-40dd-97ff-5abb1069eac4",
   "metadata": {},
   "source": [
    "### Q8. Use NumPy to create a 5x5 identity matrix, then extract its diagonal elements.\n"
   ]
  },
  {
   "cell_type": "code",
   "execution_count": 87,
   "id": "dd8d57cc-72b1-44e3-b698-9850e2836763",
   "metadata": {},
   "outputs": [
    {
     "name": "stdout",
     "output_type": "stream",
     "text": [
      "[[1. 0. 0. 0. 0.]\n",
      " [0. 1. 0. 0. 0.]\n",
      " [0. 0. 1. 0. 0.]\n",
      " [0. 0. 0. 1. 0.]\n",
      " [0. 0. 0. 0. 1.]]\n"
     ]
    }
   ],
   "source": [
    "array=np.eye(5)\n",
    "print(array)"
   ]
  },
  {
   "cell_type": "code",
   "execution_count": 88,
   "id": "f09b435f-41b1-443e-b070-f88ea1db0892",
   "metadata": {},
   "outputs": [
    {
     "name": "stdout",
     "output_type": "stream",
     "text": [
      "\n",
      " diagonal_array\n",
      "[1. 1. 1. 1. 1.]\n"
     ]
    }
   ],
   "source": [
    "diagonal_array=np.diagonal(array)\n",
    "print(\"\\n diagonal_array\")\n",
    "print(diagonal_array)\n"
   ]
  },
  {
   "cell_type": "markdown",
   "id": "9b738721-aa60-4443-9c19-db1926865849",
   "metadata": {},
   "source": [
    "### Q9. Generate a NumPy array of 100 random integers between 0 and 1000. Find and display all prime numbers in this array."
   ]
  },
  {
   "cell_type": "code",
   "execution_count": 96,
   "id": "2cd81e3e-7834-406c-9806-e0aa61ca4153",
   "metadata": {},
   "outputs": [
    {
     "name": "stdout",
     "output_type": "stream",
     "text": [
      "\n",
      " NumPy array of 100 random integers between 0 and 1000\n",
      "[ 67 917 825 852 788 739 219 807 421 902 560 864 240 723 743 481 128 175\n",
      " 140 309 878 799  75 209 986 224 244 512 836 133 677 507 333 750 412 975\n",
      " 720 823 398 224 366 114 233 401 137 101 616   8 978 962 546 597 523 781\n",
      " 857 701 593 702 997 871 217 554 445 508 467 446 263 551 641 386 155 991\n",
      " 802 871 391  95 570 643 765 806 991 460 476 318   8  91 745 316 751 493\n",
      " 540 310 715  27 922 659 927 381 523  28]\n"
     ]
    }
   ],
   "source": [
    "array=np.random.randint(0,1000,100)\n",
    "print(\"\\n NumPy array of 100 random integers between 0 and 1000\")\n",
    "print(array)\n"
   ]
  },
  {
   "cell_type": "code",
   "execution_count": 93,
   "id": "6784da48-8ce8-4e74-9bdb-789a6491e405",
   "metadata": {},
   "outputs": [
    {
     "name": "stdout",
     "output_type": "stream",
     "text": [
      "\n",
      "Prime numbers in the array:\n",
      "[571 431  43 853 233 433 107 911 769  47 163 523 251 359 887  89 547  13\n",
      " 509 523 197 461 733]\n"
     ]
    }
   ],
   "source": [
    "def is_prime(num):\n",
    "    if num <= 1:\n",
    "        return False\n",
    "    elif num <= 3:\n",
    "        return True\n",
    "    elif num % 2 == 0 or num % 3 == 0:\n",
    "        return False\n",
    "    i = 5\n",
    "    while i * i <= num:\n",
    "        if num % i == 0 or num % (i + 2) == 0:\n",
    "            return False\n",
    "        i += 6\n",
    "    return True\n",
    "\n",
    "primes = np.array([x for x in array if is_prime(x)])\n",
    "print(\"\\nPrime numbers in the array:\")\n",
    "print(primes)"
   ]
  },
  {
   "cell_type": "markdown",
   "id": "210ef039-9448-4722-81c1-5f68f5fd6a2e",
   "metadata": {},
   "source": [
    "### Q10. Create a NumPy array representing daily temperatures for a month. Calculate and display the weekly averages."
   ]
  },
  {
   "cell_type": "code",
   "execution_count": 101,
   "id": "dccccc4c-b980-4e90-b2ae-4492bf16600f",
   "metadata": {},
   "outputs": [
    {
     "name": "stdout",
     "output_type": "stream",
     "text": [
      "\n",
      "  daily temperatures of month\n",
      "[31.95254016 38.60757465 34.11053504 31.79532732 26.94619197 35.83576452\n",
      " 27.50348845 45.67092003 48.54651042 25.33766075 41.66900152 31.15579679\n",
      " 32.72178244 47.02386553 12.84144233 13.48517199 10.8087359  43.30479382\n",
      " 41.12627004 44.80048593 49.14473369 41.96634257 28.45917449 41.22116705\n",
      " 14.73097703 35.59684085 15.7341315  47.78675668 30.87393287 26.5864776 ]\n"
     ]
    }
   ],
   "source": [
    "np.random.seed(0)\n",
    "temp=np.random.uniform(low=10,high=50,size=30)\n",
    "print(\"\\n  daily temperatures of month\")\n",
    "print(temp)"
   ]
  },
  {
   "cell_type": "code",
   "execution_count": 106,
   "id": "7870a840-0361-47fe-8594-35349615e352",
   "metadata": {},
   "outputs": [
    {
     "name": "stdout",
     "output_type": "stream",
     "text": [
      "\n",
      " weekly_temp\n",
      "[[31.95254016 38.60757465 34.11053504 31.79532732 26.94619197 35.83576452\n",
      "  27.50348845]]\n"
     ]
    }
   ],
   "source": [
    "weekly_temp=temp.reshape(-1,7)\n",
    "print(\"\\n weekly_temp\")\n",
    "print(weekly_temp)"
   ]
  },
  {
   "cell_type": "code",
   "execution_count": 107,
   "id": "3f9d6dca-f5ca-46dc-a2f8-8197b82f175d",
   "metadata": {},
   "outputs": [
    {
     "data": {
      "text/plain": [
       "32.39306030306593"
      ]
     },
     "execution_count": 107,
     "metadata": {},
     "output_type": "execute_result"
    }
   ],
   "source": [
    "weekly_temp_avg=np.mean(weekly_temp)"
   ]
  }
 ],
 "metadata": {
  "kernelspec": {
   "display_name": "Python 3 (ipykernel)",
   "language": "python",
   "name": "python3"
  },
  "language_info": {
   "codemirror_mode": {
    "name": "ipython",
    "version": 3
   },
   "file_extension": ".py",
   "mimetype": "text/x-python",
   "name": "python",
   "nbconvert_exporter": "python",
   "pygments_lexer": "ipython3",
   "version": "3.10.8"
  }
 },
 "nbformat": 4,
 "nbformat_minor": 5
}
