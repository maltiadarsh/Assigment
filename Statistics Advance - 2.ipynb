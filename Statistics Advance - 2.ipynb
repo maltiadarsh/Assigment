{
 "cells": [
  {
   "cell_type": "markdown",
   "metadata": {},
   "source": [
    "### Q1. Define the z-statistic and explain its relationship to the standard normal distribution. How is the z-statistic used in hypothesis testing?"
   ]
  },
  {
   "cell_type": "markdown",
   "metadata": {},
   "source": [
    "### **Answer:**\n",
    "The z-statistic (or z-score) measures the number of standard deviations a data point (or sample mean)\n",
    "is from the population mean. It is calculated as:\n",
    "```\n",
    "    z = (X - μ) / σ\n",
    "```\n",
    "\n",
    "where X is the sample mean, μ is the population mean, and σ is the standard deviation.\n",
    "\n",
    "The z-score corresponds to a position in the standard normal distribution (mean = 0, standard deviation = 1).\n",
    "In hypothesis testing, the z-score allows us to determine how extreme a sample mean is, compared to\n",
    "the population mean, assuming the null hypothesis is true. The z-score helps find the p-value, which\n",
    "is then used to decide if we should reject or fail to reject the null hypothesis.\n",
    "\n"
   ]
  },
  {
   "cell_type": "markdown",
   "metadata": {},
   "source": [
    "### Question2 : What is a p-value, and how is it used in hypothesis testing? What does it mean if the p-value is very small (e.g., 0.01)?"
   ]
  },
  {
   "cell_type": "markdown",
   "metadata": {},
   "source": [
    "### **Answer** The p-value is the probability of obtaining a test statistic (like a z-score) as extreme as the one observed, assuming the null hypothesis is true. In hypothesis testing, the p-value helps assess the strength of evidence against the null hypothesis. A small p-value (e.g., 0.01) indicates strong evidence against the null hypothesis,suggesting that the observed result is unlikely under the null hypothesis, and we may consider rejecting it.\n",
    "\n"
   ]
  },
  {
   "cell_type": "markdown",
   "metadata": {},
   "source": [
    "### **Question3:** Compare and contrast the binomial and Bernoulli distributions. "
   ]
  },
  {
   "cell_type": "markdown",
   "metadata": {},
   "source": [
    "### **Answer:** The Bernoulli distribution represents a single binary outcome (1 for success, 0 for failure) with probability p of success. It has only one trial, whereas the binomial distribution is the sum of n independent Bernoulli trials with probability p.In other words, the binomial distribution represents the number of successes in a fixed number of Bernoulli trials.\n",
    "\n"
   ]
  },
  {
   "cell_type": "markdown",
   "metadata": {},
   "source": [
    "## Question 4: Under what conditions is the binomial distribution used, and how does it relate to the Bernoulli distribution?"
   ]
  },
  {
   "cell_type": "markdown",
   "metadata": {},
   "source": [
    "### **Answer:**\n",
    "The binomial distribution is used when:\n",
    "1. There are a fixed number of trials, n.\n",
    "2. Each trial has two possible outcomes (success or failure).\n",
    "3. The probability of success, p, is the same for each trial.\n",
    "4. Each trial is independent.\n",
    "\n",
    "The binomial distribution is essentially the sum of n independent Bernoulli trials.\n",
    "\n"
   ]
  },
  {
   "cell_type": "markdown",
   "metadata": {},
   "source": [
    "### Question5: What are the key properties of the Poisson distribution, and when is it appropriate to use this distribution?"
   ]
  },
  {
   "cell_type": "markdown",
   "metadata": {},
   "source": [
    "### **Answer:**\n",
    "The Poisson distribution is used to model the number of events occurring in a fixed interval of time or space,\n",
    "assuming the events occur independently and with a constant average rate λ (lambda). Key properties include:\n",
    "1. The mean and variance of the distribution are both equal to λ.\n",
    "2. It models rare events over continuous intervals.\n",
    "\n",
    "It is appropriate when events occur randomly, independently, and at a constant average rate.\n",
    "\n"
   ]
  },
  {
   "cell_type": "markdown",
   "metadata": {},
   "source": [
    "### Question6: Define the terms \"probability distribution\" and \"probability density function\" (PDF). How does a PDF differ from a probability mass function (PMF)?"
   ]
  },
  {
   "cell_type": "markdown",
   "metadata": {},
   "source": [
    "### Answers\n",
    "\n",
    "A probability distribution describes the likelihood of various outcomes in a random experiment.\n",
    "\n",
    "A probability density function (PDF) applies to continuous random variables and gives the relative likelihood\n",
    "of a variable taking a particular value within an interval.\n",
    "\n",
    "A probability mass function (PMF) applies to discrete random variables and provides the probability of each outcome.\n",
    "Unlike PMFs, PDFs do not provide probabilities of specific outcomes but rather of intervals, and the area under\n",
    "the PDF over a given interval equals the probability of outcomes in that interval.\n",
    "\n"
   ]
  },
  {
   "cell_type": "markdown",
   "metadata": {},
   "source": [
    "Question7: Explain the Central Limit Theorem (CLT) with example"
   ]
  },
  {
   "cell_type": "markdown",
   "metadata": {},
   "source": [
    "### Answer\n",
    "\n",
    "The Central Limit Theorem (CLT) states that the distribution of the sample mean of a sufficiently large sample\n",
    "from any population will approximate a normal distribution, regardless of the population's original distribution.\n",
    "The mean of this distribution will be the population mean, and its variance will be the population variance\n",
    "divided by the sample size.\n",
    "\n",
    "For example, if we sample the heights of people in a city and repeatedly calculate sample means, those means\n",
    "will form a normal distribution as sample size increases.\n",
    "\n"
   ]
  },
  {
   "cell_type": "markdown",
   "metadata": {},
   "source": [
    "### Question8: Compare z-scores and t-scores. When should you use a z-score, and when should a t-score be applied instead?"
   ]
  },
  {
   "cell_type": "markdown",
   "metadata": {},
   "source": [
    "### Answer\n",
    "A z-score is used when the population standard deviation is known, and the sample size is large (typically n > 30).\n",
    "A t-score is used when the population standard deviation is unknown, and the sample size is small (n ≤ 30).\n",
    "The t-distribution accounts for additional uncertainty due to a smaller sample size and approaches the z-distribution\n",
    "as sample size increases.\n",
    "\n"
   ]
  },
  {
   "cell_type": "markdown",
   "metadata": {},
   "source": [
    "### Question9: Given a sample mean of 105, a population mean of 100, a standard deviation of 15, and a sample size of 25, calculate the z-score and p-value. Based on a significance level of 0.05, do you reject or fail to reject the null hypothesis?\n",
    "\n",
    "- Task: Write Python code to calculate the z-score and p-value for the given data.\n",
    "\n",
    "- Objective: Apply the formula for the z-score and interpret the p-value for hypothesis testing.\n"
   ]
  },
  {
   "cell_type": "code",
   "execution_count": 2,
   "metadata": {},
   "outputs": [
    {
     "name": "stdout",
     "output_type": "stream",
     "text": [
      "Z-score: 1.6666666666666667\n",
      "P-value: 0.09558070454562939\n",
      "Fail to reject the null hypothesis\n"
     ]
    },
    {
     "data": {
      "text/plain": [
       "'\\nInterpretation: If the p-value is less than 0.05, we reject the null hypothesis, indicating that the sample mean\\nis significantly different from the population mean.\\n'"
      ]
     },
     "execution_count": 2,
     "metadata": {},
     "output_type": "execute_result"
    }
   ],
   "source": [
    "\n",
    "# Given data\n",
    "\n",
    "import numpy as np\n",
    "import scipy.stats as stats\n",
    "import matplotlib.pyplot as plt\n",
    "\n",
    "sample_mean = 105\n",
    "population_mean = 100\n",
    "std_dev = 15\n",
    "sample_size = 25\n",
    "\n",
    "# Calculate the z-score\n",
    "z_score = (sample_mean - population_mean) / (std_dev / np.sqrt(sample_size))\n",
    "print(\"Z-score:\", z_score)\n",
    "\n",
    "# Calculate the p-value\n",
    "p_value = 2 * (1 - stats.norm.cdf(abs(z_score)))  # two-tailed test\n",
    "print(\"P-value:\", p_value)\n",
    "\n",
    "# Hypothesis testing decision\n",
    "alpha = 0.05  # significance level\n",
    "if p_value < alpha:\n",
    "    print(\"Reject the null hypothesis\")\n",
    "else:\n",
    "    print(\"Fail to reject the null hypothesis\")\n",
    "\"\"\"\n",
    "Interpretation: If the p-value is less than 0.05, we reject the null hypothesis, indicating that the sample mean\n",
    "is significantly different from the population mean.\n",
    "\"\"\"\n"
   ]
  },
  {
   "cell_type": "markdown",
   "metadata": {},
   "source": [
    "### Question10: Simulate a binomial distribution with 10 trials and a probability of success of 0.6 using Python.\n",
    "### Generate 1,000 samples and plot the distribution. What is the expected mean and variance?\n",
    "\n",
    "- **Task:** Use Python to generate the data, plot the distribution, and calculate the mean and variance.\n",
    "\n",
    "- **Objective: Understand the properties of a binomial distribution and verify them through simulation.**"
   ]
  },
  {
   "cell_type": "code",
   "execution_count": 3,
   "metadata": {},
   "outputs": [
    {
     "data": {
      "image/png": "[encoded data removed]",
      "text/plain": [
       "<Figure size 640x480 with 1 Axes>"
      ]
     },
     "metadata": {},
     "output_type": "display_data"
    },
    {
     "name": "stdout",
     "output_type": "stream",
     "text": [
      "Expected Mean: 6.0\n",
      "Expected Variance: 2.4000000000000004\n"
     ]
    },
    {
     "data": {
      "text/plain": [
       "'\\nInterpretation: The expected mean and variance of a binomial distribution are n * p and n * p * (1 - p), respectively.\\nThis simulation allows us to verify these properties empirically.\\n'"
      ]
     },
     "execution_count": 3,
     "metadata": {},
     "output_type": "execute_result"
    }
   ],
   "source": [
    "## Answer:\n",
    "# Binomial distribution parameters\n",
    "n_trials = 10\n",
    "p_success = 0.6\n",
    "num_samples = 1000\n",
    "\n",
    "# Generate binomial distribution samples\n",
    "binomial_samples = np.random.binomial(n_trials, p_success, num_samples)\n",
    "\n",
    "# Plot the distribution\n",
    "plt.hist(binomial_samples, bins=range(0, n_trials+2), edgecolor='black', density=True)\n",
    "plt.title(\"Binomial Distribution (n=10, p=0.6)\")\n",
    "plt.xlabel(\"Number of Successes\")\n",
    "plt.ylabel(\"Probability\")\n",
    "plt.show()\n",
    "\n",
    "# Calculate mean and variance\n",
    "mean = n_trials * p_success\n",
    "variance = n_trials * p_success * (1 - p_success)\n",
    "print(\"Expected Mean:\", mean)\n",
    "print(\"Expected Variance:\", variance)\n",
    "\"\"\"\n",
    "Interpretation: The expected mean and variance of a binomial distribution are n * p and n * p * (1 - p), respectively.\n",
    "This simulation allows us to verify these properties empirically.\n",
    "\"\"\"\n"
   ]
  },
  {
   "cell_type": "code",
   "execution_count": null,
   "metadata": {},
   "outputs": [],
   "source": []
  }
 ],
 "metadata": {
  "kernelspec": {
   "display_name": "Python 3",
   "language": "python",
   "name": "python3"
  },
  "language_info": {
   "codemirror_mode": {
    "name": "ipython",
    "version": 3
   },
   "file_extension": ".py",
   "mimetype": "text/x-python",
   "name": "python",
   "nbconvert_exporter": "python",
   "pygments_lexer": "ipython3",
   "version": "3.12.1"
  }
 },
 "nbformat": 4,
 "nbformat_minor": 2
}
