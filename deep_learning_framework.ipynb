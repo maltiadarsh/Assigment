{
  "cells": [
    {
      "cell_type": "markdown",
      "metadata": {
        "id": "view-in-github",
        "colab_type": "text"
      },
      "source": [
        "<a href=\"https://colab.research.google.com/github/maltiadarsh/Assigment/blob/main/deep_learning_framework.ipynb\" target=\"_parent\"><img src=\"https://colab.research.google.com/assets/colab-badge.svg\" alt=\"Open In Colab\"/></a>"
      ]
    },
    {
      "cell_type": "markdown",
      "id": "d9ca49df",
      "metadata": {
        "id": "d9ca49df"
      },
      "source": [
        "# **Theory**"
      ]
    },
    {
      "cell_type": "markdown",
      "id": "ec9b7698",
      "metadata": {
        "id": "ec9b7698"
      },
      "source": [
        "### Q1. What is TensorFlow 2.0, and how is it different from TensorFlow 1.x2 ?"
      ]
    },
    {
      "cell_type": "markdown",
      "id": "83cfa946",
      "metadata": {
        "id": "83cfa946"
      },
      "source": [
        "### **Answer** :TensorFlow 2.0 is a library that provides a comprehensive ecosystem of tools for developers, researchers, and organizations who want to build scalable Machine Learning and Deep Learning applications.\n",
        "### TensorFlow 2.0 is an upgraded version of TensorFlow, designed to make machine learning workflows more intuitive and efficient. It introduces significant changes compared to TensorFlow 1.x, such as:\n",
        "\n",
        "1. **Eager Execution**: Enabled by default, allowing operations to execute immediately, making debugging and prototyping easier.\n",
        "2. **Simplified APIs**: Unified high-level APIs like `tf.keras` for building and training models.\n",
        "3. **Improved Compatibility**: Enhanced support for Pythonic code and integration with other libraries.\n",
        "4. **Reduced Redundancy**: Removal of deprecated APIs and redundant functionalities.\n",
        "5. **tf.function**: A new way to convert Python functions into TensorFlow graphs for performance optimization."
      ]
    },
    {
      "cell_type": "markdown",
      "id": "8a242dbd",
      "metadata": {
        "id": "8a242dbd"
      },
      "source": [
        "### Q2.How do you install TensorFlow 2.02"
      ]
    },
    {
      "cell_type": "markdown",
      "id": "8cf7c7a9",
      "metadata": {
        "vscode": {
          "languageId": "markdown"
        },
        "id": "8cf7c7a9"
      },
      "source": [
        "### **Answer** : To install TensorFlow 2.0.2, we can use pip install tensorflow==2.0.2"
      ]
    },
    {
      "cell_type": "markdown",
      "id": "d241fb76",
      "metadata": {
        "id": "d241fb76"
      },
      "source": [
        "### Q3. What is the primary function of the tf.function in TensorFlow 2.02"
      ]
    },
    {
      "cell_type": "markdown",
      "id": "7a6c37a8",
      "metadata": {
        "vscode": {
          "languageId": "markdown"
        },
        "id": "7a6c37a8"
      },
      "source": [
        "### **Answer** : The primary function of tf.function in TensorFlow 2.0 is to convert a Python function into a TensorFlow graph. This allows for performance optimization by leveraging TensorFlow's graph execution, which is faster and more efficient than eager execution. It enables better scalability and deployment of models in production environments."
      ]
    },
    {
      "cell_type": "markdown",
      "id": "c1e8f948",
      "metadata": {
        "id": "c1e8f948"
      },
      "source": [
        "### Q4. What is the purpose of the Model class in TensorFlow 2.02"
      ]
    },
    {
      "cell_type": "markdown",
      "id": "59450ee6",
      "metadata": {
        "vscode": {
          "languageId": "markdown"
        },
        "id": "59450ee6"
      },
      "source": [
        "### **Answer** : The Model class in TensorFlow 2.0, part of the tf.keras module, is used to define and train machine learning models. It provides a high-level API for building neural networks by combining layers and specifying the forward pass. The Model class also includes methods for compiling, training, evaluating, and saving models, making it a central component for developing deep learning applications in TensorFlow."
      ]
    },
    {
      "cell_type": "markdown",
      "id": "69c8cdb1",
      "metadata": {
        "id": "69c8cdb1"
      },
      "source": [
        "### Q5. How do you create a neural network using TensorFlow 2.02"
      ]
    },
    {
      "cell_type": "markdown",
      "id": "2a86dbeb",
      "metadata": {
        "vscode": {
          "languageId": "markdown"
        },
        "id": "2a86dbeb"
      },
      "source": [
        "To create a neural network using TensorFlow 2.0, you can use the tf.keras module, which provides a high-level API for building and training models. Here's a step-by-step explanation:\n",
        "\n",
        "1. **Import Required Libraries**: Start by importing TensorFlow and the necessary modules from `tf.keras`, such as `layers` and `models`.\n",
        "\n",
        "2. **Define the Model**: Use the `Sequential` class to stack layers in a linear fashion. Each layer can be added using the `Dense` class, specifying the number of neurons, activation function, and input shape for the first layer.\n",
        "\n",
        "3. **Compile the Model**: After defining the architecture, compile the model by specifying the optimizer, loss function, and evaluation metrics.\n",
        "\n",
        "4. **Train the Model**: Use the `fit` method to train the model on your dataset.\n",
        "\n",
        "5. **Evaluate and Save**: Evaluate the model's performance using the `evaluate` method and save it for future use if needed.\n",
        "\n",
        "For example, the code in cell 11 demonstrates how to create a simple neural network with an input layer, a hidden layer, and an output layer."
      ]
    },
    {
      "cell_type": "markdown",
      "id": "21404e20",
      "metadata": {
        "id": "21404e20"
      },
      "source": [
        "### Q6.What is the importance of Tensor Space in TensorFlow2"
      ]
    },
    {
      "cell_type": "markdown",
      "id": "e7b7c5f8",
      "metadata": {
        "vscode": {
          "languageId": "markdown"
        },
        "id": "e7b7c5f8"
      },
      "source": [
        "### **Answer** : Tensor Space in TensorFlow 2.0 is a conceptual framework that represents the multidimensional arrays (tensors) used in computations. It is important because:\n",
        "\n",
        "1. **Data Representation**: Tensors are the fundamental data structure in TensorFlow, representing inputs, outputs, and intermediate computations in machine learning models.\n",
        "\n",
        "2. **Dimensionality**: Tensor Space allows for the representation of data in various dimensions, such as scalars (0D), vectors (1D), matrices (2D), and higher-dimensional arrays (nD), enabling flexibility in handling complex data.\n",
        "\n",
        "3. **Efficient Computation**: Tensor operations are optimized for performance, leveraging hardware accelerators like GPUs and TPUs.\n",
        "\n",
        "4. **Mathematical Operations**: Tensor Space provides a foundation for performing mathematical operations, such as matrix multiplication, element-wise addition, and broadcasting.\n",
        "\n",
        "5. **Scalability**: Tensor Space supports large-scale computations, making it suitable for training deep learning models with massive datasets.\n",
        "\n",
        "Understanding Tensor Space is crucial for effectively utilizing TensorFlow's capabilities in building and optimizing machine learning models."
      ]
    },
    {
      "cell_type": "markdown",
      "id": "33a7f8b7",
      "metadata": {
        "id": "33a7f8b7"
      },
      "source": [
        "### Q7.  How can TensorBoard be integrated with TensorFlow 2.02"
      ]
    },
    {
      "cell_type": "markdown",
      "id": "3e3b1961",
      "metadata": {
        "vscode": {
          "languageId": "markdown"
        },
        "id": "3e3b1961"
      },
      "source": [
        "### **Answer** : TensorBoard can be integrated with TensorFlow 2.0 to visualize and monitor the training process of machine learning models. It provides insights into metrics like loss, accuracy, and computational graphs, making it easier to debug and optimize models.\n",
        "\n",
        "To integrate TensorBoard with TensorFlow 2.0, follow these steps:\n",
        "\n",
        "1. **Import TensorFlow and TensorBoard**: Ensure TensorFlow is installed, as TensorBoard is included with it.\n",
        "\n",
        "2. **Create a Log Directory**: Define a directory where TensorBoard logs will be saved. This directory will store the data generated during training.\n",
        "\n",
        "3. **Set Up a TensorBoard Callback**: Use the `tf.keras.callbacks.TensorBoard` class to create a callback that logs training metrics and other information.\n",
        "\n",
        "4. **Train the Model with the Callback**: Pass the TensorBoard callback to the `fit` method while training the model.\n",
        "\n",
        "5. **Launch TensorBoard**: Run TensorBoard from the command line using the log directory to visualize the training process.\n",
        "\n",
        "For example,"
      ]
    },
    {
      "cell_type": "code",
      "execution_count": 1,
      "id": "fc3c56a0",
      "metadata": {
        "id": "fc3c56a0"
      },
      "outputs": [],
      "source": [
        "import tensorflow as tf\n",
        "import datetime\n",
        "import numpy as np"
      ]
    },
    {
      "cell_type": "code",
      "execution_count": 2,
      "id": "d9e9ec30",
      "metadata": {
        "colab": {
          "base_uri": "https://localhost:8080/"
        },
        "id": "d9e9ec30",
        "outputId": "53401d3d-024c-49a7-f5f4-1f118d3fc452"
      },
      "outputs": [
        {
          "output_type": "stream",
          "name": "stderr",
          "text": [
            "/usr/local/lib/python3.11/dist-packages/keras/src/layers/core/dense.py:87: UserWarning: Do not pass an `input_shape`/`input_dim` argument to a layer. When using Sequential models, prefer using an `Input(shape)` object as the first layer in the model instead.\n",
            "  super().__init__(activity_regularizer=activity_regularizer, **kwargs)\n"
          ]
        }
      ],
      "source": [
        "# Define a simple model\n",
        "model = tf.keras.Sequential([\n",
        "    tf.keras.layers.Dense(10, activation='relu', input_shape=(4,)),\n",
        "    tf.keras.layers.Dense(1)\n",
        "])"
      ]
    },
    {
      "cell_type": "code",
      "execution_count": 3,
      "id": "b972cacf",
      "metadata": {
        "colab": {
          "base_uri": "https://localhost:8080/"
        },
        "id": "b972cacf",
        "outputId": "020fbc25-0661-4dfc-ee36-13cfa9ef2994"
      },
      "outputs": [
        {
          "output_type": "stream",
          "name": "stdout",
          "text": [
            "Epoch 1/5\n",
            "\u001b[1m4/4\u001b[0m \u001b[32m━━━━━━━━━━━━━━━━━━━━\u001b[0m\u001b[37m\u001b[0m \u001b[1m6s\u001b[0m 184ms/step - loss: 0.1848\n",
            "Epoch 2/5\n",
            "\u001b[1m4/4\u001b[0m \u001b[32m━━━━━━━━━━━━━━━━━━━━\u001b[0m\u001b[37m\u001b[0m \u001b[1m1s\u001b[0m 112ms/step - loss: 0.1700\n",
            "Epoch 3/5\n",
            "\u001b[1m4/4\u001b[0m \u001b[32m━━━━━━━━━━━━━━━━━━━━\u001b[0m\u001b[37m\u001b[0m \u001b[1m0s\u001b[0m 49ms/step - loss: 0.1877\n",
            "Epoch 4/5\n",
            "\u001b[1m4/4\u001b[0m \u001b[32m━━━━━━━━━━━━━━━━━━━━\u001b[0m\u001b[37m\u001b[0m \u001b[1m0s\u001b[0m 49ms/step - loss: 0.1777 \n",
            "Epoch 5/5\n",
            "\u001b[1m4/4\u001b[0m \u001b[32m━━━━━━━━━━━━━━━━━━━━\u001b[0m\u001b[37m\u001b[0m \u001b[1m0s\u001b[0m 73ms/step - loss: 0.1723\n"
          ]
        },
        {
          "output_type": "execute_result",
          "data": {
            "text/plain": [
              "<keras.src.callbacks.history.History at 0x7f106c914350>"
            ]
          },
          "metadata": {},
          "execution_count": 3
        }
      ],
      "source": [
        "# Compile the model\n",
        "model.compile(optimizer='adam', loss='mse')\n",
        "\n",
        "# Create a log directory for TensorBoard\n",
        "log_dir = \"logs/fit/\" + datetime.datetime.now().strftime(\"%Y%m%d-%H%M%S\")\n",
        "tensorboard_callback = tf.keras.callbacks.TensorBoard(log_dir=log_dir, histogram_freq=1)\n",
        "\n",
        "# Generate some dummy data\n",
        "x_train = np.random.random((100, 4))\n",
        "y_train = np.random.random((100, 1))\n",
        "\n",
        "# Train the model with TensorBoard callback\n",
        "model.fit(x_train, y_train, epochs=5, callbacks=[tensorboard_callback])\n"
      ]
    },
    {
      "cell_type": "markdown",
      "id": "e0b43d6c",
      "metadata": {
        "id": "e0b43d6c"
      },
      "source": [
        "### Q8. What is the purpose of TensorFlow Playground2"
      ]
    },
    {
      "cell_type": "markdown",
      "id": "83d569c7",
      "metadata": {
        "vscode": {
          "languageId": "markdown"
        },
        "id": "83d569c7"
      },
      "source": [
        "### **Answer** : TensorFlow Playground is an interactive web-based tool designed to help users understand and experiment with neural networks. It provides a visual and intuitive interface for exploring the behavior of neural networks with different architectures, activation functions, and hyperparameters.\n",
        "\n",
        "The purpose of TensorFlow Playground includes:\n",
        "\n",
        "1. **Educational Tool**: It is primarily used for educational purposes to teach the fundamentals of neural networks and deep learning concepts.\n",
        "\n",
        "2. **Experimentation**: Users can experiment with various configurations, such as the number of layers, neurons, learning rates, and activation functions, to observe their impact on model performance.\n",
        "\n",
        "3. **Visualization**: TensorFlow Playground offers real-time visualization of decision boundaries, loss functions, and weight updates, making it easier to understand how neural networks learn.\n",
        "\n",
        "4. **No Coding Required**: It allows users to explore neural networks without writing any code, making it accessible to beginners.\n",
        "\n",
        "5. **Interactive Learning**: The tool provides an interactive environment to test hypotheses and gain insights into the inner workings of neural networks.\n",
        "\n"
      ]
    },
    {
      "cell_type": "markdown",
      "id": "d8631356",
      "metadata": {
        "id": "d8631356"
      },
      "source": [
        "### Q9.What is Netron, and how is it useful for deep learning models?"
      ]
    },
    {
      "cell_type": "markdown",
      "id": "ef69bc4c",
      "metadata": {
        "vscode": {
          "languageId": "markdown"
        },
        "id": "ef69bc4c"
      },
      "source": [
        "### **Answer** : Netron is an open-source viewer for neural network, deep learning, and machine learning models. It supports a wide range of model formats, including TensorFlow, Keras, PyTorch, ONNX, Caffe, and more.\n",
        "\n",
        "**Usefulness for Deep Learning Models:**\n",
        "1. **Visualization**: Netron provides an interactive graphical interface to visualize the architecture of deep learning models, including layers, connections, and parameters.\n",
        "2. **Model Inspection**: It allows users to inspect model details such as layer types, shapes, weights, and attributes, making it easier to understand and debug models.\n",
        "3. **Format Support**: Netron supports many popular model formats, enabling users to view models from different frameworks in a unified interface.\n",
        "4. **Collaboration**: By visualizing models, Netron helps teams communicate model designs and structures more effectively.\n",
        "5. **No Coding Required**: Users can explore and analyze models without writing code, making it accessible to both technical and non-technical stakeholders."
      ]
    },
    {
      "cell_type": "markdown",
      "id": "ce570e2c",
      "metadata": {
        "id": "ce570e2c"
      },
      "source": [
        "### Q10. What is the difference between TensorFlow and PyTorch?"
      ]
    },
    {
      "cell_type": "markdown",
      "id": "38574e34",
      "metadata": {
        "vscode": {
          "languageId": "markdown"
        },
        "id": "38574e34"
      },
      "source": [
        "### **Answer** : TensorFlow and PyTorch are both popular open-source deep learning frameworks, but they have some key differences:\n",
        "\n",
        "1. **Computation Graphs**:\n",
        "    - **TensorFlow**: Uses static computation graphs (define-and-run) by default in 1.x, but supports eager execution (define-by-run) in 2.x.\n",
        "    - **PyTorch**: Uses dynamic computation graphs (define-by-run), making it more intuitive and Pythonic.\n",
        "\n",
        "2. **Ease of Use**:\n",
        "    - **TensorFlow**: Has a steeper learning curve, but TensorFlow 2.x has improved usability with Keras integration.\n",
        "    - **PyTorch**: Known for its simplicity and ease of use, especially for research and prototyping.\n",
        "\n",
        "3. **Community and Ecosystem**:\n",
        "    - **TensorFlow**: Backed by Google, has a larger ecosystem for production deployment (TensorFlow Lite, TensorFlow Serving, TensorFlow.js).\n",
        "    - **PyTorch**: Backed by Facebook, widely adopted in academia and research.\n",
        "\n",
        "4. **Deployment**:\n",
        "    - **TensorFlow**: Offers more mature tools for deploying models to mobile, web, and production environments.\n",
        "    - **PyTorch**: Deployment options are improving (TorchServe, TorchScript), but traditionally focused on research.\n",
        "\n",
        "5. **APIs**:\n",
        "    - **TensorFlow**: Uses Keras as its high-level API.\n",
        "    - **PyTorch**: Uses its own `torch.nn` module for building models.\n",
        "\n"
      ]
    },
    {
      "cell_type": "markdown",
      "id": "8d001178",
      "metadata": {
        "id": "8d001178"
      },
      "source": [
        "### Q11. How do you install PyTorch?"
      ]
    },
    {
      "cell_type": "markdown",
      "id": "3f5e014c",
      "metadata": {
        "vscode": {
          "languageId": "markdown"
        },
        "id": "3f5e014c"
      },
      "source": [
        "### **Answer** : To install PyTorch, we can use pip or conda depending on our environment. The recommended command for most users is:\n",
        "\n",
        "- Using pip:\n",
        "    ```\n",
        "    pip install torch torchvision torchaudio\n",
        "    ```\n",
        "\n",
        "- Using conda:\n",
        "    ```\n",
        "    conda install pytorch torchvision torchaudio cpuonly -c pytorch\n",
        "    ```\n"
      ]
    },
    {
      "cell_type": "markdown",
      "id": "50c23377",
      "metadata": {
        "id": "50c23377"
      },
      "source": [
        "### Q12. What is the basic structure of a PyTorch neural network?"
      ]
    },
    {
      "cell_type": "markdown",
      "id": "07777096",
      "metadata": {
        "id": "07777096"
      },
      "source": [
        "### **Answer**\n",
        "the basic structure of a PyTorch neural network\n",
        "```\n",
        "import torch\n",
        "\n",
        "import torch.nn as nn\n",
        "import torch.nn.functional as F\n",
        "```\n",
        "\n",
        "- Define a basic PyTorch neural network by subclassing nn.Module\n",
        "```\n",
        "class SimpleNet(nn.Module):\n",
        "    def __init__(self):\n",
        "        super(SimpleNet, self).__init__()\n",
        "        self.fc1 = nn.Linear(4, 16)   # Input layer to hidden layer\n",
        "        self.fc2 = nn.Linear(16, 1)   # Hidden layer to output layer\n",
        "\n",
        "    def forward(self, x):\n",
        "        x = F.relu(self.fc1(x))       # Activation function\n",
        "        x = self.fc2(x)\n",
        "        return x\n",
        "\n",
        "# Example: create an instance of the network\n",
        "model = SimpleNet()\n",
        "print(model)\n",
        "```"
      ]
    },
    {
      "cell_type": "markdown",
      "id": "0320c1c5",
      "metadata": {
        "id": "0320c1c5"
      },
      "source": [
        "### Q13. What is the significance of tensors in PyTorch?"
      ]
    },
    {
      "cell_type": "markdown",
      "id": "726c7868",
      "metadata": {
        "vscode": {
          "languageId": "markdown"
        },
        "id": "726c7868"
      },
      "source": [
        "### **Answer** : In PyTorch, tensors are the fundamental data structure used to represent and manipulate multi-dimensional arrays, similar to NumPy arrays but with additional capabilities for GPU acceleration and automatic differentiation. The significance of tensors in PyTorch includes:\n",
        "\n",
        "1. **Core Data Structure**: All inputs, outputs, and model parameters are represented as tensors, making them central to deep learning workflows.\n",
        "2. **Efficient Computation**: Tensors support fast mathematical operations on both CPUs and GPUs, enabling efficient training and inference of neural networks.\n",
        "3. **Automatic Differentiation**: PyTorch tensors can track computational graphs and gradients, which is essential for backpropagation and optimization during model training.\n",
        "4. **Interoperability**: Tensors can be easily converted to and from NumPy arrays, facilitating integration with other scientific computing tools.\n",
        "5. **Flexibility**: Tensors can represent data of various shapes and types, supporting a wide range of machine learning and deep learning tasks.M"
      ]
    },
    {
      "cell_type": "markdown",
      "id": "16ce7f10",
      "metadata": {
        "id": "16ce7f10"
      },
      "source": [
        "### Q14.What is the difference between torch.Tensor and torch.cuda.Tensor in PyTorch?"
      ]
    },
    {
      "cell_type": "markdown",
      "id": "784062e7",
      "metadata": {
        "vscode": {
          "languageId": "markdown"
        },
        "id": "784062e7"
      },
      "source": [
        "### **Answer** : In PyTorch, `torch.Tensor` is the base class for all tensors and can represent data stored on either the CPU or GPU. When a tensor is created, it is a `torch.Tensor` by default and resides on the CPU unless explicitly moved to the GPU.\n",
        "\n",
        "- **torch.Tensor**: Represents a tensor that is typically stored and operated on the CPU.\n",
        "- **torch.cuda.Tensor**: Represents a tensor stored and operated on a CUDA-enabled GPU. In practice, you create a CUDA tensor by calling `.to('cuda')` or `.cuda()` on a `torch.Tensor`.\n",
        "\n",
        "**Key Differences:**\n",
        "1. **Device Location**: `torch.Tensor` (CPU), `torch.cuda.Tensor` (GPU).\n",
        "2. **Computation**: Operations on `torch.cuda.Tensor` are performed on the GPU, which can significantly accelerate deep learning tasks.\n",
        "3. **Creation**: You create a CUDA tensor by moving a tensor to the GPU, e.g., `tensor.cuda()` or `tensor.to('cuda')`.\n"
      ]
    },
    {
      "cell_type": "markdown",
      "metadata": {
        "id": "rIPRIDmVOueD"
      },
      "source": [
        "### Q15. What is the purpose of the torch.optim module in PyTorch?"
      ],
      "id": "rIPRIDmVOueD"
    },
    {
      "cell_type": "markdown",
      "id": "b5c0f97b",
      "metadata": {
        "vscode": {
          "languageId": "markdown"
        },
        "id": "b5c0f97b"
      },
      "source": [
        "### **Answer** : The `torch.optim` module in PyTorch provides a collection of optimization algorithms used for training neural networks. Its main purpose is to update the parameters of a model (such as weights and biases) based on the computed gradients to minimize the loss function. Common optimizers include SGD, Adam, RMSprop, and others. The module allows for easy configuration and management of learning rates, momentum, weight decay, and other hyperparameters essential for efficient and effective model training."
      ]
    },
    {
      "cell_type": "markdown",
      "metadata": {
        "id": "4OVOrzJ2OueD"
      },
      "source": [
        "### Q16. What are some common activation functions used in neural networks?"
      ],
      "id": "4OVOrzJ2OueD"
    },
    {
      "cell_type": "markdown",
      "id": "57ffa202",
      "metadata": {
        "vscode": {
          "languageId": "markdown"
        },
        "id": "57ffa202"
      },
      "source": [
        "### **Answer** : Some common activation functions used in neural networks include:\n",
        "\n",
        "1. **ReLU (Rectified Linear Unit)**: `f(x) = max(0, x)`  \n",
        "    - Most widely used in deep learning due to simplicity and effectiveness.\n",
        "\n",
        "2. **Sigmoid**: `f(x) = 1 / (1 + exp(-x))`  \n",
        "    - Maps input to (0, 1), often used in binary classification.\n",
        "\n",
        "3. **Tanh (Hyperbolic Tangent)**: `f(x) = tanh(x)`  \n",
        "    - Maps input to (-1, 1), zero-centered.\n",
        "\n",
        "4. **Softmax**:  \n",
        "    - Converts a vector of values to a probability distribution, commonly used in the output layer for multi-class classification.\n",
        "\n",
        "5. **Leaky ReLU**: `f(x) = x if x > 0 else αx` (α is a small constant)  \n",
        "    - Allows a small, non-zero gradient when the unit is not active.\n",
        "\n",
        "6. **ELU (Exponential Linear Unit)**:  \n",
        "    - Helps alleviate the vanishing gradient problem and can speed up learning.\n",
        "\n"
      ]
    },
    {
      "cell_type": "markdown",
      "metadata": {
        "id": "JC4Cs5wDOueE"
      },
      "source": [
        "### Q17. What is the difference between torch.nn.Module and torch.nn.Sequential in PyTorch?"
      ],
      "id": "JC4Cs5wDOueE"
    },
    {
      "cell_type": "markdown",
      "id": "a0426ef9",
      "metadata": {
        "vscode": {
          "languageId": "markdown"
        },
        "id": "a0426ef9"
      },
      "source": [
        "### **Answer** :\n",
        "\n",
        "- **torch.nn.Module** is the base class for all neural network modules in PyTorch. we use it to define custom models by subclassing and implementing our own `__init__` and `forward` methods. This allows for flexible and complex architectures, including models with multiple inputs/outputs, branching, or custom computations.\n",
        "\n",
        "- **torch.nn.Sequential** is a container module that allows we to build neural networks by stacking layers/modules in a sequential order. It is useful for simple feedforward models where each layer's output is the next layer's input. we cannot implement models with multiple inputs, outputs, or non-linear data flows using `Sequential`.\n",
        "\n",
        "**Summary:**  \n",
        "- Use `nn.Module` for custom, flexible, or complex models.  \n",
        "- Use `nn.Sequential` for simple, linear stacks of layers."
      ]
    },
    {
      "cell_type": "markdown",
      "id": "966b003e",
      "metadata": {
        "id": "966b003e"
      },
      "source": [
        "### Q18. How can you monitor training progress in TensorFlow 2.0?"
      ]
    },
    {
      "cell_type": "markdown",
      "id": "38bd82c3",
      "metadata": {
        "vscode": {
          "languageId": "markdown"
        },
        "id": "38bd82c3"
      },
      "source": [
        "### **Answer** : In TensorFlow 2.0, we can monitor training progress using several methods:\n",
        "\n",
        "1. **Verbose Output**: The `fit()` method in `tf.keras` provides real-time updates on loss and metrics for each epoch or batch using the `verbose` parameter.\n",
        "\n",
        "2. **Callbacks**: Use callbacks like `tf.keras.callbacks.TensorBoard`, `EarlyStopping`, and `ModelCheckpoint` to log metrics, visualize training, and save models during training.\n",
        "\n",
        "3. **TensorBoard**: Integrate TensorBoard to visualize metrics such as loss, accuracy, histograms, and computational graphs. Launch TensorBoard and point it to the log directory specified in the callback.\n",
        "\n",
        "4. **Custom Callbacks**: Create custom callbacks to log or visualize additional information during training.\n",
        "\n",
        "These tools help track model performance, detect overfitting, and debug training processes efficiently."
      ]
    },
    {
      "cell_type": "markdown",
      "id": "829541e0",
      "metadata": {
        "id": "829541e0"
      },
      "source": [
        "### Q19. How does the Keras API fit into TensorFlow 2.0?"
      ]
    },
    {
      "cell_type": "markdown",
      "id": "643f1e87",
      "metadata": {
        "vscode": {
          "languageId": "markdown"
        },
        "id": "643f1e87"
      },
      "source": [
        "### **Answer** : In TensorFlow 2.0, the Keras API is the official high-level API for building and training deep learning models. It is fully integrated into TensorFlow as `tf.keras`, providing a user-friendly and consistent interface for defining models, layers, optimizers, and training loops. This integration simplifies model development, supports eager execution, and enables seamless deployment and interoperability with the broader TensorFlow ecosystem."
      ]
    },
    {
      "cell_type": "markdown",
      "id": "4a9b3fb5",
      "metadata": {
        "id": "4a9b3fb5"
      },
      "source": [
        "### Q20. What is an example of a deep learning project that can be implemented using TensorFlow 2.0?"
      ]
    },
    {
      "cell_type": "markdown",
      "id": "2bae3b58",
      "metadata": {
        "id": "2bae3b58"
      },
      "source": [
        "### **Answer** : An example of a deep learning project that can be implemented using TensorFlow 2.0 is an image classification system. For instance, we can build a Convolutional Neural Network (CNN) to classify images from the CIFAR-10 or MNIST dataset into different categories. The project involves loading and preprocessing the dataset, defining the CNN architecture using `tf.keras`, compiling and training the  model, evaluating its performance on a test set, and visualizing the results. This type of project helps in understanding core deep learning concepts such as convolutional layers, activation functions, pooling, and model optimization using backpropagation and gradient descent."
      ]
    },
    {
      "cell_type": "markdown",
      "id": "d5c8d561",
      "metadata": {
        "id": "d5c8d561"
      },
      "source": [
        "### Q21.What is the main advantage of using pre-trained models in TensorFlow and PyTorch?"
      ]
    },
    {
      "cell_type": "markdown",
      "id": "5f383cab",
      "metadata": {
        "vscode": {
          "languageId": "markdown"
        },
        "id": "5f383cab"
      },
      "source": [
        "### **Answer** : The main advantage of using pre-trained models in TensorFlow and PyTorch is that they allow we to leverage knowledge learned from large datasets and complex tasks, significantly reducing the time, computational resources, and data required to train a model from scratch. Pre-trained models enable transfer learning, where we can fine-tune the model on your specific task, often achieving better performance with less data and effort."
      ]
    },
    {
      "cell_type": "markdown",
      "id": "3cc0a3fe",
      "metadata": {
        "id": "3cc0a3fe"
      },
      "source": [
        "<h2 style=\"text-align: center; color: orange;\"><b>Practical</b></h2>\n"
      ]
    },
    {
      "cell_type": "markdown",
      "id": "f14018ac",
      "metadata": {
        "id": "f14018ac"
      },
      "source": [
        "### Q1. How do you install and verify that TensorFlow 2.0 was installed successfully?"
      ]
    },
    {
      "cell_type": "code",
      "execution_count": 4,
      "id": "dd8fc0c7",
      "metadata": {
        "colab": {
          "base_uri": "https://localhost:8080/"
        },
        "id": "dd8fc0c7",
        "outputId": "d39fffac-474f-4d97-a067-722abde9491e"
      },
      "outputs": [
        {
          "output_type": "stream",
          "name": "stdout",
          "text": [
            "\u001b[31mERROR: Could not find a version that satisfies the requirement tensorflow==2.0.0 (from versions: 2.12.0rc0, 2.12.0rc1, 2.12.0, 2.12.1, 2.13.0rc0, 2.13.0rc1, 2.13.0rc2, 2.13.0, 2.13.1, 2.14.0rc0, 2.14.0rc1, 2.14.0, 2.14.1, 2.15.0rc0, 2.15.0rc1, 2.15.0, 2.15.0.post1, 2.15.1, 2.16.0rc0, 2.16.1, 2.16.2, 2.17.0rc0, 2.17.0rc1, 2.17.0, 2.17.1, 2.18.0rc0, 2.18.0rc1, 2.18.0rc2, 2.18.0, 2.18.1, 2.19.0rc0, 2.19.0)\u001b[0m\u001b[31m\n",
            "\u001b[0m\u001b[31mERROR: No matching distribution found for tensorflow==2.0.0\u001b[0m\u001b[31m\n",
            "\u001b[0mTensorFlow version: 2.18.0\n"
          ]
        }
      ],
      "source": [
        "%pip install tensorflow==2.0.0\n",
        "import tensorflow as tf\n",
        "# To verify the installation and check the version:\n",
        "print(\"TensorFlow version:\", tf.__version__)"
      ]
    },
    {
      "cell_type": "markdown",
      "id": "0e8a3ce4",
      "metadata": {
        "id": "0e8a3ce4"
      },
      "source": [
        "### Q2. How can you define a simple function in TensorFlow 2.0 to perform addition?"
      ]
    },
    {
      "cell_type": "code",
      "execution_count": 5,
      "id": "420eb97b",
      "metadata": {
        "colab": {
          "base_uri": "https://localhost:8080/"
        },
        "id": "420eb97b",
        "outputId": "4d374b59-ff58-4ba7-d6ac-db21d3479702"
      },
      "outputs": [
        {
          "output_type": "stream",
          "name": "stdout",
          "text": [
            "Addition result: 8\n"
          ]
        }
      ],
      "source": [
        "@tf.function\n",
        "def add_tensors(a, b):\n",
        "    return tf.add(a, b)\n",
        "\n",
        "# Example usage:\n",
        "result = add_tensors(3, 5)\n",
        "print(\"Addition result:\", result.numpy())"
      ]
    },
    {
      "cell_type": "markdown",
      "id": "695dcae8",
      "metadata": {
        "id": "695dcae8"
      },
      "source": [
        "### Q3. How can you create a simple neural network in TensorFlow 2.0 with one hidden layer?"
      ]
    },
    {
      "cell_type": "code",
      "execution_count": null,
      "id": "21dd02cd",
      "metadata": {
        "id": "21dd02cd",
        "outputId": "2ad262e6-d99d-4150-9ec2-fafcfc1c497a"
      },
      "outputs": [
        {
          "name": "stdout",
          "output_type": "stream",
          "text": [
            "Epoch 1/5\n",
            "\u001b[1m4/4\u001b[0m \u001b[32m━━━━━━━━━━━━━━━━━━━━\u001b[0m\u001b[37m\u001b[0m \u001b[1m1s\u001b[0m 13ms/step - loss: 0.2439 \n",
            "Epoch 2/5\n",
            "\u001b[1m4/4\u001b[0m \u001b[32m━━━━━━━━━━━━━━━━━━━━\u001b[0m\u001b[37m\u001b[0m \u001b[1m0s\u001b[0m 12ms/step - loss: 0.2422\n",
            "Epoch 3/5\n",
            "\u001b[1m4/4\u001b[0m \u001b[32m━━━━━━━━━━━━━━━━━━━━\u001b[0m\u001b[37m\u001b[0m \u001b[1m0s\u001b[0m 11ms/step - loss: 0.2215\n",
            "Epoch 4/5\n",
            "\u001b[1m4/4\u001b[0m \u001b[32m━━━━━━━━━━━━━━━━━━━━\u001b[0m\u001b[37m\u001b[0m \u001b[1m0s\u001b[0m 13ms/step - loss: 0.1863\n",
            "Epoch 5/5\n",
            "\u001b[1m4/4\u001b[0m \u001b[32m━━━━━━━━━━━━━━━━━━━━\u001b[0m\u001b[37m\u001b[0m \u001b[1m0s\u001b[0m 12ms/step - loss: 0.1906\n"
          ]
        },
        {
          "data": {
            "text/plain": [
              "<keras.src.callbacks.history.History at 0x2a51c6dc490>"
            ]
          },
          "execution_count": 6,
          "metadata": {},
          "output_type": "execute_result"
        }
      ],
      "source": [
        "# to Create a simple neural network with one hidden layer using tf.keras\n",
        "simple_model = tf.keras.Sequential([\n",
        "    tf.keras.layers.Dense(8, activation='relu', input_shape=(4,)),  # Hidden layer with 8 units\n",
        "    tf.keras.layers.Dense(1)  # Output layer\n",
        "])\n",
        "\n",
        "# Compile the model\n",
        "simple_model.compile(optimizer='adam', loss='mse')\n",
        "\n",
        "# Train the model on the provided data\n",
        "simple_model.fit(x_train, y_train, epochs=5)"
      ]
    },
    {
      "cell_type": "markdown",
      "id": "8f804345",
      "metadata": {
        "id": "8f804345"
      },
      "source": [
        "### Q4. How can you visualize the training progress using TensorFlow and Matplotlib?"
      ]
    },
    {
      "cell_type": "code",
      "execution_count": 6,
      "id": "58301c11",
      "metadata": {
        "colab": {
          "base_uri": "https://localhost:8080/"
        },
        "id": "58301c11",
        "outputId": "e112dca0-5d91-439b-82f3-1dcde64a8e9f"
      },
      "outputs": [
        {
          "output_type": "stream",
          "name": "stdout",
          "text": [
            "Requirement already satisfied: matplotlib in /usr/local/lib/python3.11/dist-packages (3.10.0)\n",
            "Requirement already satisfied: contourpy>=1.0.1 in /usr/local/lib/python3.11/dist-packages (from matplotlib) (1.3.2)\n",
            "Requirement already satisfied: cycler>=0.10 in /usr/local/lib/python3.11/dist-packages (from matplotlib) (0.12.1)\n",
            "Requirement already satisfied: fonttools>=4.22.0 in /usr/local/lib/python3.11/dist-packages (from matplotlib) (4.58.0)\n",
            "Requirement already satisfied: kiwisolver>=1.3.1 in /usr/local/lib/python3.11/dist-packages (from matplotlib) (1.4.8)\n",
            "Requirement already satisfied: numpy>=1.23 in /usr/local/lib/python3.11/dist-packages (from matplotlib) (2.0.2)\n",
            "Requirement already satisfied: packaging>=20.0 in /usr/local/lib/python3.11/dist-packages (from matplotlib) (24.2)\n",
            "Requirement already satisfied: pillow>=8 in /usr/local/lib/python3.11/dist-packages (from matplotlib) (11.2.1)\n",
            "Requirement already satisfied: pyparsing>=2.3.1 in /usr/local/lib/python3.11/dist-packages (from matplotlib) (3.2.3)\n",
            "Requirement already satisfied: python-dateutil>=2.7 in /usr/local/lib/python3.11/dist-packages (from matplotlib) (2.9.0.post0)\n",
            "Requirement already satisfied: six>=1.5 in /usr/local/lib/python3.11/dist-packages (from python-dateutil>=2.7->matplotlib) (1.17.0)\n"
          ]
        }
      ],
      "source": [
        "\n",
        "%pip install matplotlib\n"
      ]
    },
    {
      "cell_type": "code",
      "source": [],
      "metadata": {
        "colab": {
          "base_uri": "https://localhost:8080/"
        },
        "id": "iUTOYRs1P3lT",
        "outputId": "dffc0346-2691-46da-decd-daf58fc529e9"
      },
      "id": "iUTOYRs1P3lT",
      "execution_count": 9,
      "outputs": [
        {
          "output_type": "stream",
          "name": "stdout",
          "text": [
            "Epoch 1/5\n",
            "\u001b[1m4/4\u001b[0m \u001b[32m━━━━━━━━━━━━━━━━━━━━\u001b[0m\u001b[37m\u001b[0m \u001b[1m1s\u001b[0m 9ms/step - loss: 0.5210  \n",
            "Epoch 2/5\n",
            "\u001b[1m4/4\u001b[0m \u001b[32m━━━━━━━━━━━━━━━━━━━━\u001b[0m\u001b[37m\u001b[0m \u001b[1m0s\u001b[0m 9ms/step - loss: 0.4986 \n",
            "Epoch 3/5\n",
            "\u001b[1m4/4\u001b[0m \u001b[32m━━━━━━━━━━━━━━━━━━━━\u001b[0m\u001b[37m\u001b[0m \u001b[1m0s\u001b[0m 9ms/step - loss: 0.4731 \n",
            "Epoch 4/5\n",
            "\u001b[1m4/4\u001b[0m \u001b[32m━━━━━━━━━━━━━━━━━━━━\u001b[0m\u001b[37m\u001b[0m \u001b[1m0s\u001b[0m 10ms/step - loss: 0.4275\n",
            "Epoch 5/5\n",
            "\u001b[1m4/4\u001b[0m \u001b[32m━━━━━━━━━━━━━━━━━━━━\u001b[0m\u001b[37m\u001b[0m \u001b[1m0s\u001b[0m 9ms/step - loss: 0.4025 \n"
          ]
        },
        {
          "output_type": "execute_result",
          "data": {
            "text/plain": [
              "<keras.src.callbacks.history.History at 0x7f110eabbdd0>"
            ]
          },
          "metadata": {},
          "execution_count": 9
        }
      ]
    },
    {
      "cell_type": "code",
      "execution_count": 10,
      "id": "8fb19947",
      "metadata": {
        "colab": {
          "base_uri": "https://localhost:8080/",
          "height": 472
        },
        "id": "8fb19947",
        "outputId": "0afc47aa-a053-48fe-ce06-006df1d77fab"
      },
      "outputs": [
        {
          "output_type": "display_data",
          "data": {
            "text/plain": [
              "<Figure size 640x480 with 1 Axes>"
            ],
            "image/png": "[encoded data removed]"
          },
          "metadata": {}
        }
      ],
      "source": [
        "\n",
        "import matplotlib.pyplot as plt\n",
        "\n",
        "# Train the model and store the history\n",
        "# Assuming simple_model, x_train, and y_train are already defined from previous steps\n",
        "history = simple_model.fit(x_train, y_train, epochs=20, verbose=0)\n",
        "\n",
        "# Plot the training loss\n",
        "plt.plot(history.history['loss'], label='Training Loss')\n",
        "plt.xlabel('Epoch')\n",
        "plt.ylabel('Loss')\n",
        "plt.title('Training Progress')\n",
        "plt.legend()\n",
        "plt.show()\n"
      ]
    },
    {
      "cell_type": "markdown",
      "id": "ecc46f48",
      "metadata": {
        "id": "ecc46f48"
      },
      "source": [
        "### Q5. How do you install PyTorch and verify the PyTorch installation?"
      ]
    },
    {
      "cell_type": "code",
      "execution_count": null,
      "id": "261271d7",
      "metadata": {
        "id": "261271d7",
        "outputId": "70083864-06c9-409c-9182-1b0803798939"
      },
      "outputs": [
        {
          "name": "stdout",
          "output_type": "stream",
          "text": [
            "Note: you may need to restart the kernel to use updated packages.Requirement already satisfied: torch in c:\\users\\asus\\appdata\\local\\packages\\pythonsoftwarefoundation.python.3.11_qbz5n2kfra8p0\\localcache\\local-packages\\python311\\site-packages (2.6.0)\n",
            "Collecting torchvision\n",
            "  Downloading torchvision-0.22.0-cp311-cp311-win_amd64.whl.metadata (6.3 kB)\n",
            "Collecting torchaudio\n",
            "  Downloading torchaudio-2.7.0-cp311-cp311-win_amd64.whl.metadata (6.7 kB)\n",
            "Requirement already satisfied: filelock in c:\\users\\asus\\appdata\\local\\packages\\pythonsoftwarefoundation.python.3.11_qbz5n2kfra8p0\\localcache\\local-packages\\python311\\site-packages (from torch) (3.18.0)\n",
            "Requirement already satisfied: typing-extensions>=4.10.0 in c:\\users\\asus\\appdata\\local\\packages\\pythonsoftwarefoundation.python.3.11_qbz5n2kfra8p0\\localcache\\local-packages\\python311\\site-packages (from torch) (4.12.2)\n",
            "Requirement already satisfied: networkx in c:\\users\\asus\\appdata\\local\\packages\\pythonsoftwarefoundation.python.3.11_qbz5n2kfra8p0\\localcache\\local-packages\\python311\\site-packages (from torch) (3.4.2)\n",
            "Requirement already satisfied: jinja2 in c:\\users\\asus\\appdata\\local\\packages\\pythonsoftwarefoundation.python.3.11_qbz5n2kfra8p0\\localcache\\local-packages\\python311\\site-packages (from torch) (3.1.6)\n",
            "Requirement already satisfied: fsspec in c:\\users\\asus\\appdata\\local\\packages\\pythonsoftwarefoundation.python.3.11_qbz5n2kfra8p0\\localcache\\local-packages\\python311\\site-packages (from torch) (2025.3.2)\n",
            "Requirement already satisfied: sympy==1.13.1 in c:\\users\\asus\\appdata\\local\\packages\\pythonsoftwarefoundation.python.3.11_qbz5n2kfra8p0\\localcache\\local-packages\\python311\\site-packages (from torch) (1.13.1)\n",
            "Requirement already satisfied: mpmath<1.4,>=1.1.0 in c:\\users\\asus\\appdata\\local\\packages\\pythonsoftwarefoundation.python.3.11_qbz5n2kfra8p0\\localcache\\local-packages\\python311\\site-packages (from sympy==1.13.1->torch) (1.3.0)\n",
            "Requirement already satisfied: numpy in c:\\users\\asus\\appdata\\local\\packages\\pythonsoftwarefoundation.python.3.11_qbz5n2kfra8p0\\localcache\\local-packages\\python311\\site-packages (from torchvision) (2.2.4)\n",
            "Collecting torch\n",
            "  Downloading torch-2.7.0-cp311-cp311-win_amd64.whl.metadata (29 kB)\n",
            "Requirement already satisfied: pillow!=8.3.*,>=5.3.0 in c:\\users\\asus\\appdata\\local\\packages\\pythonsoftwarefoundation.python.3.11_qbz5n2kfra8p0\\localcache\\local-packages\\python311\\site-packages (from torchvision) (11.1.0)\n",
            "Collecting sympy>=1.13.3 (from torch)\n",
            "  Downloading sympy-1.14.0-py3-none-any.whl.metadata (12 kB)\n",
            "Requirement already satisfied: MarkupSafe>=2.0 in c:\\users\\asus\\appdata\\local\\packages\\pythonsoftwarefoundation.python.3.11_qbz5n2kfra8p0\\localcache\\local-packages\\python311\\site-packages (from jinja2->torch) (3.0.2)\n",
            "Downloading torchvision-0.22.0-cp311-cp311-win_amd64.whl (1.7 MB)\n",
            "   ---------------------------------------- 0.0/1.7 MB ? eta -:--:--\n",
            "   - -------------------------------------- 0.1/1.7 MB 2.3 MB/s eta 0:00:01\n",
            "   -------- ------------------------------- 0.4/1.7 MB 4.6 MB/s eta 0:00:01\n",
            "   ------------------ --------------------- 0.8/1.7 MB 6.4 MB/s eta 0:00:01\n",
            "   ----------------------- ---------------- 1.0/1.7 MB 5.7 MB/s eta 0:00:01\n",
            "   --------------------------- ------------ 1.2/1.7 MB 5.3 MB/s eta 0:00:01\n",
            "   --------------------------- ------------ 1.2/1.7 MB 5.0 MB/s eta 0:00:01\n",
            "   --------------------------- ------------ 1.2/1.7 MB 5.0 MB/s eta 0:00:01\n",
            "   ----------------------------------- ---- 1.5/1.7 MB 4.2 MB/s eta 0:00:01\n",
            "   ---------------------------------------- 1.7/1.7 MB 4.5 MB/s eta 0:00:00\n",
            "Downloading torch-2.7.0-cp311-cp311-win_amd64.whl (212.5 MB)\n",
            "   ---------------------------------------- 0.0/212.5 MB ? eta -:--:--\n",
            "   ---------------------------------------- 0.3/212.5 MB 7.2 MB/s eta 0:00:30\n",
            "   ---------------------------------------- 0.5/212.5 MB 5.4 MB/s eta 0:00:39\n",
            "   ---------------------------------------- 0.7/212.5 MB 4.9 MB/s eta 0:00:43\n",
            "   ---------------------------------------- 0.8/212.5 MB 4.8 MB/s eta 0:00:45\n",
            "   ---------------------------------------- 0.8/212.5 MB 4.8 MB/s eta 0:00:45\n",
            "   ---------------------------------------- 0.8/212.5 MB 2.7 MB/s eta 0:01:18\n",
            "   ---------------------------------------- 1.2/212.5 MB 3.7 MB/s eta 0:00:58\n",
            "   ---------------------------------------- 1.6/212.5 MB 4.3 MB/s eta 0:00:49\n",
            "   ---------------------------------------- 1.8/212.5 MB 4.3 MB/s eta 0:00:50\n",
            "   ---------------------------------------- 2.0/212.5 MB 4.2 MB/s eta 0:00:51\n",
            "   ---------------------------------------- 2.2/212.5 MB 4.2 MB/s eta 0:00:51\n",
            "   ---------------------------------------- 2.2/212.5 MB 4.2 MB/s eta 0:00:51\n",
            "   ---------------------------------------- 2.3/212.5 MB 4.0 MB/s eta 0:00:53\n",
            "   ---------------------------------------- 2.3/212.5 MB 3.5 MB/s eta 0:01:00\n",
            "    --------------------------------------- 2.8/212.5 MB 4.0 MB/s eta 0:00:53\n",
            "    --------------------------------------- 3.0/212.5 MB 3.9 MB/s eta 0:00:54\n",
            "    --------------------------------------- 3.2/212.5 MB 3.9 MB/s eta 0:00:54\n",
            "    --------------------------------------- 3.3/212.5 MB 4.0 MB/s eta 0:00:53\n",
            "    --------------------------------------- 3.5/212.5 MB 4.0 MB/s eta 0:00:53\n",
            "    --------------------------------------- 3.7/212.5 MB 4.0 MB/s eta 0:00:53\n",
            "    --------------------------------------- 3.9/212.5 MB 4.0 MB/s eta 0:00:53\n",
            "    --------------------------------------- 4.1/212.5 MB 4.0 MB/s eta 0:00:53\n",
            "    --------------------------------------- 4.2/212.5 MB 4.0 MB/s eta 0:00:53\n",
            "    --------------------------------------- 4.4/212.5 MB 4.0 MB/s eta 0:00:53\n",
            "    --------------------------------------- 4.6/212.5 MB 4.0 MB/s eta 0:00:53\n",
            "    --------------------------------------- 4.8/212.5 MB 4.0 MB/s eta 0:00:53\n",
            "    --------------------------------------- 5.0/212.5 MB 4.0 MB/s eta 0:00:53\n",
            "    --------------------------------------- 5.1/212.5 MB 4.0 MB/s eta 0:00:53\n",
            "   - -------------------------------------- 5.3/212.5 MB 4.0 MB/s eta 0:00:53\n",
            "   - -------------------------------------- 5.5/212.5 MB 3.9 MB/s eta 0:00:53\n",
            "   - -------------------------------------- 5.7/212.5 MB 3.9 MB/s eta 0:00:53\n",
            "   - -------------------------------------- 5.9/212.5 MB 3.9 MB/s eta 0:00:53\n",
            "   - -------------------------------------- 6.1/212.5 MB 3.9 MB/s eta 0:00:53\n",
            "   - -------------------------------------- 6.2/212.5 MB 3.9 MB/s eta 0:00:53\n",
            "   - -------------------------------------- 6.4/212.5 MB 3.9 MB/s eta 0:00:53\n",
            "   - -------------------------------------- 6.6/212.5 MB 3.9 MB/s eta 0:00:53\n",
            "   - -------------------------------------- 6.8/212.5 MB 3.9 MB/s eta 0:00:53\n",
            "   - -------------------------------------- 6.9/212.5 MB 3.9 MB/s eta 0:00:53\n",
            "   - -------------------------------------- 7.1/212.5 MB 3.9 MB/s eta 0:00:53\n",
            "   - -------------------------------------- 7.3/212.5 MB 3.9 MB/s eta 0:00:53\n",
            "   - -------------------------------------- 7.5/212.5 MB 3.9 MB/s eta 0:00:53\n",
            "   - -------------------------------------- 7.7/212.5 MB 3.9 MB/s eta 0:00:53\n",
            "   - -------------------------------------- 7.8/212.5 MB 3.9 MB/s eta 0:00:53\n",
            "   - -------------------------------------- 8.0/212.5 MB 3.9 MB/s eta 0:00:53\n",
            "   - -------------------------------------- 8.2/212.5 MB 3.9 MB/s eta 0:00:53\n",
            "   - -------------------------------------- 8.4/212.5 MB 3.9 MB/s eta 0:00:52\n",
            "   - -------------------------------------- 8.6/212.5 MB 3.9 MB/s eta 0:00:53\n",
            "   - -------------------------------------- 8.7/212.5 MB 3.9 MB/s eta 0:00:53\n",
            "   - -------------------------------------- 8.9/212.5 MB 3.9 MB/s eta 0:00:52\n",
            "   - -------------------------------------- 9.1/212.5 MB 3.9 MB/s eta 0:00:52\n",
            "   - -------------------------------------- 9.3/212.5 MB 3.9 MB/s eta 0:00:52\n",
            "   - -------------------------------------- 9.5/212.5 MB 3.9 MB/s eta 0:00:52\n",
            "   - -------------------------------------- 9.6/212.5 MB 3.9 MB/s eta 0:00:52\n",
            "   - -------------------------------------- 9.8/212.5 MB 3.9 MB/s eta 0:00:52\n",
            "   - -------------------------------------- 10.0/212.5 MB 3.9 MB/s eta 0:00:52\n",
            "   - -------------------------------------- 10.2/212.5 MB 3.9 MB/s eta 0:00:52\n",
            "   - -------------------------------------- 10.4/212.5 MB 3.9 MB/s eta 0:00:52\n",
            "   - -------------------------------------- 10.5/212.5 MB 3.9 MB/s eta 0:00:53\n",
            "   -- ------------------------------------- 10.7/212.5 MB 3.9 MB/s eta 0:00:53\n",
            "   -- ------------------------------------- 10.9/212.5 MB 3.9 MB/s eta 0:00:53\n",
            "   -- ------------------------------------- 11.1/212.5 MB 4.0 MB/s eta 0:00:51\n",
            "   -- ------------------------------------- 11.3/212.5 MB 4.0 MB/s eta 0:00:51\n",
            "   -- ------------------------------------- 11.4/212.5 MB 3.9 MB/s eta 0:00:51\n",
            "   -- ------------------------------------- 11.6/212.5 MB 3.9 MB/s eta 0:00:52\n",
            "   -- ------------------------------------- 11.8/212.5 MB 3.9 MB/s eta 0:00:53\n",
            "   -- ------------------------------------- 12.0/212.5 MB 3.9 MB/s eta 0:00:53\n",
            "   -- ------------------------------------- 12.1/212.5 MB 3.9 MB/s eta 0:00:53\n",
            "   -- ------------------------------------- 12.3/212.5 MB 3.9 MB/s eta 0:00:52\n",
            "   -- ------------------------------------- 12.5/212.5 MB 4.0 MB/s eta 0:00:51\n",
            "   -- ------------------------------------- 12.7/212.5 MB 4.0 MB/s eta 0:00:51\n",
            "   -- ------------------------------------- 12.9/212.5 MB 3.9 MB/s eta 0:00:52\n",
            "   -- ------------------------------------- 13.0/212.5 MB 3.9 MB/s eta 0:00:52\n",
            "   -- ------------------------------------- 13.2/212.5 MB 3.9 MB/s eta 0:00:52\n",
            "   -- ------------------------------------- 13.4/212.5 MB 3.9 MB/s eta 0:00:52\n",
            "   -- ------------------------------------- 13.6/212.5 MB 3.9 MB/s eta 0:00:52\n",
            "   -- ------------------------------------- 13.8/212.5 MB 3.9 MB/s eta 0:00:52\n",
            "   -- ------------------------------------- 13.9/212.5 MB 3.9 MB/s eta 0:00:51\n",
            "   -- ------------------------------------- 14.1/212.5 MB 3.9 MB/s eta 0:00:51\n",
            "   -- ------------------------------------- 14.3/212.5 MB 3.9 MB/s eta 0:00:51\n",
            "   -- ------------------------------------- 14.5/212.5 MB 3.9 MB/s eta 0:00:51\n",
            "   -- ------------------------------------- 14.7/212.5 MB 3.9 MB/s eta 0:00:51\n",
            "   -- ------------------------------------- 14.8/212.5 MB 3.9 MB/s eta 0:00:51\n",
            "   -- ------------------------------------- 15.0/212.5 MB 3.9 MB/s eta 0:00:51\n",
            "   -- ------------------------------------- 15.2/212.5 MB 3.9 MB/s eta 0:00:51\n",
            "   -- ------------------------------------- 15.4/212.5 MB 3.9 MB/s eta 0:00:51\n",
            "   -- ------------------------------------- 15.6/212.5 MB 3.9 MB/s eta 0:00:51\n",
            "   -- ------------------------------------- 15.7/212.5 MB 3.9 MB/s eta 0:00:51\n",
            "   --- ------------------------------------ 15.9/212.5 MB 3.9 MB/s eta 0:00:51\n",
            "   --- ------------------------------------ 16.1/212.5 MB 3.9 MB/s eta 0:00:51\n",
            "   --- ------------------------------------ 16.3/212.5 MB 3.9 MB/s eta 0:00:51\n",
            "   --- ------------------------------------ 16.5/212.5 MB 3.9 MB/s eta 0:00:51\n",
            "   --- ------------------------------------ 16.7/212.5 MB 3.9 MB/s eta 0:00:51\n",
            "   --- ------------------------------------ 16.8/212.5 MB 3.9 MB/s eta 0:00:51\n",
            "   --- ------------------------------------ 17.0/212.5 MB 3.9 MB/s eta 0:00:51\n",
            "   --- ------------------------------------ 17.2/212.5 MB 3.9 MB/s eta 0:00:51\n",
            "   --- ------------------------------------ 17.4/212.5 MB 3.9 MB/s eta 0:00:51\n",
            "   --- ------------------------------------ 17.6/212.5 MB 3.9 MB/s eta 0:00:51\n",
            "   --- ------------------------------------ 17.7/212.5 MB 3.9 MB/s eta 0:00:51\n",
            "   --- ------------------------------------ 17.9/212.5 MB 3.9 MB/s eta 0:00:51\n",
            "   --- ------------------------------------ 18.1/212.5 MB 3.9 MB/s eta 0:00:51\n",
            "   --- ------------------------------------ 18.3/212.5 MB 3.9 MB/s eta 0:00:51\n",
            "   --- ------------------------------------ 18.4/212.5 MB 3.9 MB/s eta 0:00:51\n",
            "   --- ------------------------------------ 18.6/212.5 MB 3.9 MB/s eta 0:00:51\n",
            "   --- ------------------------------------ 18.8/212.5 MB 3.9 MB/s eta 0:00:50\n",
            "   --- ------------------------------------ 19.0/212.5 MB 3.9 MB/s eta 0:00:50\n",
            "   --- ------------------------------------ 19.2/212.5 MB 3.9 MB/s eta 0:00:50\n",
            "   --- ------------------------------------ 19.4/212.5 MB 3.9 MB/s eta 0:00:50\n",
            "   --- ------------------------------------ 19.5/212.5 MB 3.9 MB/s eta 0:00:50\n",
            "   --- ------------------------------------ 19.7/212.5 MB 3.9 MB/s eta 0:00:50\n",
            "   --- ------------------------------------ 19.9/212.5 MB 3.9 MB/s eta 0:00:50\n",
            "   --- ------------------------------------ 20.1/212.5 MB 3.9 MB/s eta 0:00:50\n",
            "   --- ------------------------------------ 20.3/212.5 MB 3.9 MB/s eta 0:00:50\n",
            "   --- ------------------------------------ 20.4/212.5 MB 3.9 MB/s eta 0:00:50\n",
            "   --- ------------------------------------ 20.6/212.5 MB 3.9 MB/s eta 0:00:50\n",
            "   --- ------------------------------------ 20.8/212.5 MB 3.9 MB/s eta 0:00:50\n",
            "   --- ------------------------------------ 21.0/212.5 MB 3.9 MB/s eta 0:00:50\n",
            "   --- ------------------------------------ 21.1/212.5 MB 3.9 MB/s eta 0:00:50\n",
            "   ---- ----------------------------------- 21.3/212.5 MB 3.9 MB/s eta 0:00:50\n",
            "   ---- ----------------------------------- 21.5/212.5 MB 3.9 MB/s eta 0:00:50\n",
            "   ---- ----------------------------------- 21.7/212.5 MB 3.9 MB/s eta 0:00:50\n",
            "   ---- ----------------------------------- 21.9/212.5 MB 3.9 MB/s eta 0:00:50\n",
            "   ---- ----------------------------------- 22.0/212.5 MB 3.9 MB/s eta 0:00:50\n",
            "   ---- ----------------------------------- 22.2/212.5 MB 3.9 MB/s eta 0:00:50\n",
            "   ---- ----------------------------------- 22.4/212.5 MB 3.9 MB/s eta 0:00:50\n",
            "   ---- ----------------------------------- 22.6/212.5 MB 3.9 MB/s eta 0:00:50\n",
            "   ---- ----------------------------------- 22.8/212.5 MB 3.9 MB/s eta 0:00:49\n",
            "   ---- ----------------------------------- 22.9/212.5 MB 3.9 MB/s eta 0:00:49\n",
            "   ---- ----------------------------------- 23.1/212.5 MB 3.9 MB/s eta 0:00:49\n",
            "   ---- ----------------------------------- 23.3/212.5 MB 3.9 MB/s eta 0:00:49\n",
            "   ---- ----------------------------------- 23.5/212.5 MB 3.9 MB/s eta 0:00:49\n",
            "   ---- ----------------------------------- 23.7/212.5 MB 3.9 MB/s eta 0:00:49\n",
            "   ---- ----------------------------------- 23.8/212.5 MB 3.9 MB/s eta 0:00:49\n",
            "   ---- ----------------------------------- 24.0/212.5 MB 3.9 MB/s eta 0:00:49\n",
            "   ---- ----------------------------------- 24.2/212.5 MB 3.9 MB/s eta 0:00:49\n",
            "   ---- ----------------------------------- 24.4/212.5 MB 3.9 MB/s eta 0:00:49\n",
            "   ---- ----------------------------------- 24.6/212.5 MB 3.9 MB/s eta 0:00:49\n",
            "   ---- ----------------------------------- 24.8/212.5 MB 3.9 MB/s eta 0:00:49\n",
            "   ---- ----------------------------------- 24.9/212.5 MB 3.9 MB/s eta 0:00:49\n",
            "   ---- ----------------------------------- 25.1/212.5 MB 3.9 MB/s eta 0:00:49\n",
            "   ---- ----------------------------------- 25.3/212.5 MB 3.9 MB/s eta 0:00:49\n",
            "   ---- ----------------------------------- 25.5/212.5 MB 3.9 MB/s eta 0:00:48\n",
            "   ---- ----------------------------------- 25.6/212.5 MB 3.9 MB/s eta 0:00:48\n",
            "   ---- ----------------------------------- 25.8/212.5 MB 3.9 MB/s eta 0:00:48\n",
            "   ---- ----------------------------------- 26.0/212.5 MB 3.9 MB/s eta 0:00:48\n",
            "   ---- ----------------------------------- 26.2/212.5 MB 3.9 MB/s eta 0:00:48\n",
            "   ---- ----------------------------------- 26.4/212.5 MB 3.9 MB/s eta 0:00:49\n",
            "   ---- ----------------------------------- 26.6/212.5 MB 3.9 MB/s eta 0:00:48\n",
            "   ----- ---------------------------------- 26.7/212.5 MB 3.9 MB/s eta 0:00:48\n",
            "   ----- ---------------------------------- 26.9/212.5 MB 3.9 MB/s eta 0:00:48\n",
            "   ----- ---------------------------------- 27.1/212.5 MB 3.9 MB/s eta 0:00:48\n",
            "   ----- ---------------------------------- 27.3/212.5 MB 3.9 MB/s eta 0:00:48\n",
            "   ----- ---------------------------------- 27.5/212.5 MB 3.9 MB/s eta 0:00:48\n",
            "   ----- ---------------------------------- 27.6/212.5 MB 3.9 MB/s eta 0:00:48\n",
            "   ----- ---------------------------------- 27.8/212.5 MB 3.9 MB/s eta 0:00:48\n",
            "   ----- ---------------------------------- 28.0/212.5 MB 3.9 MB/s eta 0:00:48\n",
            "   ----- ---------------------------------- 28.2/212.5 MB 3.9 MB/s eta 0:00:48\n",
            "   ----- ---------------------------------- 28.4/212.5 MB 3.9 MB/s eta 0:00:48\n",
            "   ----- ---------------------------------- 28.5/212.5 MB 3.9 MB/s eta 0:00:48\n",
            "   ----- ---------------------------------- 28.7/212.5 MB 3.9 MB/s eta 0:00:48\n",
            "   ----- ---------------------------------- 28.9/212.5 MB 3.9 MB/s eta 0:00:48\n",
            "   ----- ---------------------------------- 29.1/212.5 MB 3.9 MB/s eta 0:00:48\n",
            "   ----- ---------------------------------- 29.3/212.5 MB 3.9 MB/s eta 0:00:48\n",
            "   ----- ---------------------------------- 29.5/212.5 MB 3.9 MB/s eta 0:00:48\n",
            "   ----- ---------------------------------- 29.6/212.5 MB 3.9 MB/s eta 0:00:47\n",
            "   ----- ---------------------------------- 29.8/212.5 MB 3.9 MB/s eta 0:00:47\n",
            "   ----- ---------------------------------- 30.0/212.5 MB 3.9 MB/s eta 0:00:47\n",
            "   ----- ---------------------------------- 30.2/212.5 MB 3.9 MB/s eta 0:00:47\n",
            "   ----- ---------------------------------- 30.3/212.5 MB 3.9 MB/s eta 0:00:47\n",
            "   ----- ---------------------------------- 30.5/212.5 MB 3.9 MB/s eta 0:00:47\n",
            "   ----- ---------------------------------- 30.7/212.5 MB 3.9 MB/s eta 0:00:47\n",
            "   ----- ---------------------------------- 30.9/212.5 MB 3.9 MB/s eta 0:00:47\n",
            "   ----- ---------------------------------- 31.1/212.5 MB 3.9 MB/s eta 0:00:47\n",
            "   ----- ---------------------------------- 31.2/212.5 MB 3.9 MB/s eta 0:00:47\n",
            "   ----- ---------------------------------- 31.4/212.5 MB 3.9 MB/s eta 0:00:47\n",
            "   ----- ---------------------------------- 31.5/212.5 MB 3.9 MB/s eta 0:00:47\n",
            "   ----- ---------------------------------- 31.7/212.5 MB 3.9 MB/s eta 0:00:47\n",
            "   ------ --------------------------------- 32.0/212.5 MB 3.9 MB/s eta 0:00:47\n",
            "   ------ --------------------------------- 32.1/212.5 MB 3.9 MB/s eta 0:00:47\n",
            "   ------ --------------------------------- 32.3/212.5 MB 3.9 MB/s eta 0:00:47\n",
            "   ------ --------------------------------- 32.5/212.5 MB 3.9 MB/s eta 0:00:47\n",
            "   ------ --------------------------------- 32.7/212.5 MB 3.9 MB/s eta 0:00:47\n",
            "   ------ --------------------------------- 32.9/212.5 MB 3.9 MB/s eta 0:00:47\n",
            "   ------ --------------------------------- 33.0/212.5 MB 3.9 MB/s eta 0:00:47\n",
            "   ------ --------------------------------- 33.2/212.5 MB 3.9 MB/s eta 0:00:47\n",
            "   ------ --------------------------------- 33.4/212.5 MB 3.9 MB/s eta 0:00:47\n",
            "   ------ --------------------------------- 33.6/212.5 MB 3.9 MB/s eta 0:00:47\n",
            "   ------ --------------------------------- 33.8/212.5 MB 3.9 MB/s eta 0:00:46\n",
            "   ------ --------------------------------- 33.9/212.5 MB 3.9 MB/s eta 0:00:47\n",
            "   ------ --------------------------------- 34.1/212.5 MB 3.9 MB/s eta 0:00:47\n",
            "   ------ --------------------------------- 34.3/212.5 MB 3.9 MB/s eta 0:00:47\n",
            "   ------ --------------------------------- 34.5/212.5 MB 3.9 MB/s eta 0:00:46\n",
            "   ------ --------------------------------- 34.7/212.5 MB 3.9 MB/s eta 0:00:46\n",
            "   ------ --------------------------------- 34.8/212.5 MB 3.9 MB/s eta 0:00:46\n",
            "   ------ --------------------------------- 35.0/212.5 MB 3.9 MB/s eta 0:00:46\n",
            "   ------ --------------------------------- 35.2/212.5 MB 3.9 MB/s eta 0:00:46\n",
            "   ------ --------------------------------- 35.4/212.5 MB 3.9 MB/s eta 0:00:46\n",
            "   ------ --------------------------------- 35.6/212.5 MB 3.9 MB/s eta 0:00:46\n",
            "   ------ --------------------------------- 35.7/212.5 MB 3.9 MB/s eta 0:00:46\n",
            "   ------ --------------------------------- 35.9/212.5 MB 3.9 MB/s eta 0:00:46\n",
            "   ------ --------------------------------- 36.1/212.5 MB 3.9 MB/s eta 0:00:46\n",
            "   ------ --------------------------------- 36.3/212.5 MB 3.9 MB/s eta 0:00:46\n",
            "   ------ --------------------------------- 36.5/212.5 MB 3.9 MB/s eta 0:00:46\n",
            "   ------ --------------------------------- 36.6/212.5 MB 3.9 MB/s eta 0:00:46\n",
            "   ------ --------------------------------- 36.8/212.5 MB 3.9 MB/s eta 0:00:46\n",
            "   ------ --------------------------------- 37.0/212.5 MB 3.9 MB/s eta 0:00:46\n",
            "   ------- -------------------------------- 37.2/212.5 MB 3.9 MB/s eta 0:00:45\n",
            "   ------- -------------------------------- 37.3/212.5 MB 3.9 MB/s eta 0:00:45\n",
            "   ------- -------------------------------- 37.5/212.5 MB 3.9 MB/s eta 0:00:45\n",
            "   ------- -------------------------------- 37.8/212.5 MB 3.9 MB/s eta 0:00:45\n",
            "   ------- -------------------------------- 37.9/212.5 MB 3.9 MB/s eta 0:00:45\n",
            "   ------- -------------------------------- 38.1/212.5 MB 3.9 MB/s eta 0:00:45\n",
            "   ------- -------------------------------- 38.3/212.5 MB 3.9 MB/s eta 0:00:45\n",
            "   ------- -------------------------------- 38.5/212.5 MB 3.9 MB/s eta 0:00:45\n",
            "   ------- -------------------------------- 38.7/212.5 MB 3.9 MB/s eta 0:00:45\n",
            "   ------- -------------------------------- 38.8/212.5 MB 3.9 MB/s eta 0:00:45\n",
            "   ------- -------------------------------- 39.0/212.5 MB 3.9 MB/s eta 0:00:45\n",
            "   ------- -------------------------------- 39.2/212.5 MB 3.9 MB/s eta 0:00:45\n",
            "   ------- -------------------------------- 39.4/212.5 MB 3.9 MB/s eta 0:00:45\n",
            "   ------- -------------------------------- 39.6/212.5 MB 3.9 MB/s eta 0:00:45\n",
            "   ------- -------------------------------- 39.7/212.5 MB 3.9 MB/s eta 0:00:45\n",
            "   ------- -------------------------------- 39.9/212.5 MB 3.9 MB/s eta 0:00:45\n",
            "   ------- -------------------------------- 40.1/212.5 MB 3.9 MB/s eta 0:00:45\n",
            "   ------- -------------------------------- 40.3/212.5 MB 3.9 MB/s eta 0:00:45\n",
            "   ------- -------------------------------- 40.5/212.5 MB 3.9 MB/s eta 0:00:45\n",
            "   ------- -------------------------------- 40.7/212.5 MB 3.9 MB/s eta 0:00:45\n",
            "   ------- -------------------------------- 40.8/212.5 MB 3.9 MB/s eta 0:00:45\n",
            "   ------- -------------------------------- 41.0/212.5 MB 3.9 MB/s eta 0:00:45\n",
            "   ------- -------------------------------- 41.1/212.5 MB 3.9 MB/s eta 0:00:44\n",
            "   ------- -------------------------------- 41.4/212.5 MB 3.9 MB/s eta 0:00:44\n",
            "   ------- -------------------------------- 41.5/212.5 MB 3.9 MB/s eta 0:00:44\n",
            "   ------- -------------------------------- 41.7/212.5 MB 3.9 MB/s eta 0:00:45\n",
            "   ------- -------------------------------- 41.9/212.5 MB 3.9 MB/s eta 0:00:44\n",
            "   ------- -------------------------------- 42.1/212.5 MB 3.9 MB/s eta 0:00:44\n",
            "   ------- -------------------------------- 42.3/212.5 MB 3.9 MB/s eta 0:00:44\n",
            "   ------- -------------------------------- 42.5/212.5 MB 3.9 MB/s eta 0:00:44\n",
            "   -------- ------------------------------- 42.6/212.5 MB 3.9 MB/s eta 0:00:44\n",
            "   -------- ------------------------------- 42.8/212.5 MB 3.9 MB/s eta 0:00:44\n",
            "   -------- ------------------------------- 43.0/212.5 MB 3.9 MB/s eta 0:00:44\n",
            "   -------- ------------------------------- 43.2/212.5 MB 3.9 MB/s eta 0:00:44\n",
            "   -------- ------------------------------- 43.3/212.5 MB 3.9 MB/s eta 0:00:44\n",
            "   -------- ------------------------------- 43.5/212.5 MB 3.9 MB/s eta 0:00:44\n",
            "   -------- ------------------------------- 43.7/212.5 MB 3.9 MB/s eta 0:00:44\n",
            "   -------- ------------------------------- 43.9/212.5 MB 3.9 MB/s eta 0:00:44\n",
            "   -------- ------------------------------- 44.1/212.5 MB 3.9 MB/s eta 0:00:44\n",
            "   -------- ------------------------------- 44.3/212.5 MB 3.9 MB/s eta 0:00:44\n",
            "   -------- ------------------------------- 44.4/212.5 MB 3.9 MB/s eta 0:00:44\n",
            "   -------- ------------------------------- 44.6/212.5 MB 3.9 MB/s eta 0:00:44\n",
            "   -------- ------------------------------- 44.7/212.5 MB 3.9 MB/s eta 0:00:44\n",
            "   -------- ------------------------------- 44.7/212.5 MB 3.9 MB/s eta 0:00:44\n",
            "   -------- ------------------------------- 44.7/212.5 MB 3.9 MB/s eta 0:00:44\n",
            "   -------- ------------------------------- 45.0/212.5 MB 3.8 MB/s eta 0:00:45\n",
            "   -------- ------------------------------- 45.5/212.5 MB 3.9 MB/s eta 0:00:43\n",
            "   -------- ------------------------------- 45.7/212.5 MB 3.9 MB/s eta 0:00:43\n",
            "   -------- ------------------------------- 45.9/212.5 MB 3.9 MB/s eta 0:00:43\n",
            "   -------- ------------------------------- 46.1/212.5 MB 3.9 MB/s eta 0:00:43\n",
            "   -------- ------------------------------- 46.3/212.5 MB 3.9 MB/s eta 0:00:43\n",
            "   -------- ------------------------------- 46.4/212.5 MB 3.9 MB/s eta 0:00:43\n",
            "   -------- ------------------------------- 46.6/212.5 MB 3.9 MB/s eta 0:00:43\n",
            "   -------- ------------------------------- 46.8/212.5 MB 3.9 MB/s eta 0:00:43\n",
            "   -------- ------------------------------- 47.0/212.5 MB 3.9 MB/s eta 0:00:43\n",
            "   -------- ------------------------------- 47.2/212.5 MB 3.9 MB/s eta 0:00:43\n",
            "   -------- ------------------------------- 47.3/212.5 MB 3.9 MB/s eta 0:00:43\n",
            "   -------- ------------------------------- 47.5/212.5 MB 3.9 MB/s eta 0:00:43\n",
            "   -------- ------------------------------- 47.7/212.5 MB 3.9 MB/s eta 0:00:43\n",
            "   --------- ------------------------------ 47.9/212.5 MB 3.9 MB/s eta 0:00:43\n",
            "   --------- ------------------------------ 48.1/212.5 MB 3.9 MB/s eta 0:00:43\n",
            "   --------- ------------------------------ 48.2/212.5 MB 3.9 MB/s eta 0:00:43\n",
            "   --------- ------------------------------ 48.4/212.5 MB 3.9 MB/s eta 0:00:43\n",
            "   --------- ------------------------------ 48.6/212.5 MB 3.9 MB/s eta 0:00:43\n",
            "   --------- ------------------------------ 48.8/212.5 MB 3.9 MB/s eta 0:00:43\n",
            "   --------- ------------------------------ 49.0/212.5 MB 3.9 MB/s eta 0:00:43\n",
            "   --------- ------------------------------ 49.1/212.5 MB 3.9 MB/s eta 0:00:43\n",
            "   --------- ------------------------------ 49.3/212.5 MB 3.9 MB/s eta 0:00:43\n",
            "   --------- ------------------------------ 49.5/212.5 MB 3.9 MB/s eta 0:00:42\n",
            "   --------- ------------------------------ 49.7/212.5 MB 3.9 MB/s eta 0:00:42\n",
            "   --------- ------------------------------ 49.9/212.5 MB 3.9 MB/s eta 0:00:42\n",
            "   --------- ------------------------------ 50.1/212.5 MB 3.9 MB/s eta 0:00:42\n",
            "   --------- ------------------------------ 50.2/212.5 MB 3.9 MB/s eta 0:00:42\n",
            "   --------- ------------------------------ 50.4/212.5 MB 3.9 MB/s eta 0:00:42\n",
            "   --------- ------------------------------ 50.6/212.5 MB 3.9 MB/s eta 0:00:42\n",
            "   --------- ------------------------------ 50.8/212.5 MB 3.9 MB/s eta 0:00:42\n",
            "   --------- ------------------------------ 50.9/212.5 MB 3.9 MB/s eta 0:00:42\n",
            "   --------- ------------------------------ 51.1/212.5 MB 3.9 MB/s eta 0:00:42\n",
            "   --------- ------------------------------ 51.3/212.5 MB 3.9 MB/s eta 0:00:42\n",
            "   --------- ------------------------------ 51.5/212.5 MB 3.9 MB/s eta 0:00:42\n",
            "   --------- ------------------------------ 51.7/212.5 MB 3.9 MB/s eta 0:00:42\n",
            "   --------- ------------------------------ 51.8/212.5 MB 3.9 MB/s eta 0:00:42\n",
            "   --------- ------------------------------ 52.0/212.5 MB 3.9 MB/s eta 0:00:42\n",
            "   --------- ------------------------------ 52.2/212.5 MB 3.9 MB/s eta 0:00:42\n",
            "   --------- ------------------------------ 52.4/212.5 MB 3.9 MB/s eta 0:00:42\n",
            "   --------- ------------------------------ 52.6/212.5 MB 3.9 MB/s eta 0:00:42\n",
            "   --------- ------------------------------ 52.7/212.5 MB 3.9 MB/s eta 0:00:42\n",
            "   --------- ------------------------------ 52.9/212.5 MB 3.9 MB/s eta 0:00:41\n",
            "   --------- ------------------------------ 53.1/212.5 MB 3.9 MB/s eta 0:00:41\n",
            "   ---------- ----------------------------- 53.3/212.5 MB 3.9 MB/s eta 0:00:41\n",
            "   ---------- ----------------------------- 53.5/212.5 MB 3.9 MB/s eta 0:00:41\n",
            "   ---------- ----------------------------- 53.6/212.5 MB 3.9 MB/s eta 0:00:41\n",
            "   ---------- ----------------------------- 53.8/212.5 MB 3.9 MB/s eta 0:00:41\n",
            "   ---------- ----------------------------- 54.0/212.5 MB 3.9 MB/s eta 0:00:41\n",
            "   ---------- ----------------------------- 54.2/212.5 MB 3.9 MB/s eta 0:00:41\n",
            "   ---------- ----------------------------- 54.4/212.5 MB 3.9 MB/s eta 0:00:41\n",
            "   ---------- ----------------------------- 54.5/212.5 MB 3.9 MB/s eta 0:00:41\n",
            "   ---------- ----------------------------- 54.7/212.5 MB 3.9 MB/s eta 0:00:41\n",
            "   ---------- ----------------------------- 54.9/212.5 MB 4.1 MB/s eta 0:00:39\n",
            "   ---------- ----------------------------- 55.1/212.5 MB 4.1 MB/s eta 0:00:39\n",
            "   ---------- ----------------------------- 55.3/212.5 MB 4.0 MB/s eta 0:00:39\n",
            "   ---------- ----------------------------- 55.4/212.5 MB 4.0 MB/s eta 0:00:40\n",
            "   ---------- ----------------------------- 55.6/212.5 MB 3.9 MB/s eta 0:00:41\n",
            "   ---------- ----------------------------- 55.8/212.5 MB 3.9 MB/s eta 0:00:41\n",
            "   ---------- ----------------------------- 56.0/212.5 MB 3.9 MB/s eta 0:00:41\n",
            "   ---------- ----------------------------- 56.2/212.5 MB 3.9 MB/s eta 0:00:41\n",
            "   ---------- ----------------------------- 56.4/212.5 MB 3.9 MB/s eta 0:00:41\n",
            "   ---------- ----------------------------- 56.5/212.5 MB 3.9 MB/s eta 0:00:41\n",
            "   ---------- ----------------------------- 56.7/212.5 MB 3.9 MB/s eta 0:00:41\n",
            "   ---------- ----------------------------- 56.9/212.5 MB 3.9 MB/s eta 0:00:40\n",
            "   ---------- ----------------------------- 57.1/212.5 MB 3.9 MB/s eta 0:00:41\n",
            "   ---------- ----------------------------- 57.2/212.5 MB 3.9 MB/s eta 0:00:40\n",
            "   ---------- ----------------------------- 57.4/212.5 MB 3.9 MB/s eta 0:00:40\n",
            "   ---------- ----------------------------- 57.6/212.5 MB 3.9 MB/s eta 0:00:40\n",
            "   ---------- ----------------------------- 57.8/212.5 MB 3.9 MB/s eta 0:00:40\n",
            "   ---------- ----------------------------- 58.0/212.5 MB 3.9 MB/s eta 0:00:40\n",
            "   ---------- ----------------------------- 58.2/212.5 MB 3.9 MB/s eta 0:00:40\n",
            "   ---------- ----------------------------- 58.3/212.5 MB 3.9 MB/s eta 0:00:40\n",
            "   ----------- ---------------------------- 58.5/212.5 MB 3.9 MB/s eta 0:00:40\n",
            "   ----------- ---------------------------- 58.7/212.5 MB 3.9 MB/s eta 0:00:40\n",
            "   ----------- ---------------------------- 58.9/212.5 MB 3.9 MB/s eta 0:00:40\n",
            "   ----------- ---------------------------- 59.1/212.5 MB 3.9 MB/s eta 0:00:40\n",
            "   ----------- ---------------------------- 59.2/212.5 MB 3.9 MB/s eta 0:00:40\n",
            "   ----------- ---------------------------- 59.4/212.5 MB 3.9 MB/s eta 0:00:40\n",
            "   ----------- ---------------------------- 59.6/212.5 MB 3.9 MB/s eta 0:00:40\n",
            "   ----------- ---------------------------- 59.8/212.5 MB 3.9 MB/s eta 0:00:40\n",
            "   ----------- ---------------------------- 59.9/212.5 MB 3.9 MB/s eta 0:00:40\n",
            "   ----------- ---------------------------- 60.1/212.5 MB 3.9 MB/s eta 0:00:40\n",
            "   ----------- ---------------------------- 60.3/212.5 MB 3.9 MB/s eta 0:00:40\n",
            "   ----------- ---------------------------- 60.5/212.5 MB 3.9 MB/s eta 0:00:40\n",
            "   ----------- ---------------------------- 60.7/212.5 MB 3.9 MB/s eta 0:00:40\n",
            "   ----------- ---------------------------- 60.9/212.5 MB 3.9 MB/s eta 0:00:40\n",
            "   ----------- ---------------------------- 60.9/212.5 MB 3.9 MB/s eta 0:00:39\n",
            "   ----------- ---------------------------- 60.9/212.5 MB 3.9 MB/s eta 0:00:39\n",
            "   ----------- ---------------------------- 60.9/212.5 MB 3.9 MB/s eta 0:00:39\n",
            "   ----------- ---------------------------- 61.6/212.5 MB 3.9 MB/s eta 0:00:39\n",
            "   ----------- ---------------------------- 61.8/212.5 MB 3.9 MB/s eta 0:00:39\n",
            "   ----------- ---------------------------- 61.9/212.5 MB 3.9 MB/s eta 0:00:39\n",
            "   ----------- ---------------------------- 62.1/212.5 MB 3.9 MB/s eta 0:00:39\n",
            "   ----------- ---------------------------- 62.3/212.5 MB 3.9 MB/s eta 0:00:39\n",
            "   ----------- ---------------------------- 62.5/212.5 MB 3.9 MB/s eta 0:00:39\n",
            "   ----------- ---------------------------- 62.6/212.5 MB 3.9 MB/s eta 0:00:39\n",
            "   ----------- ---------------------------- 62.8/212.5 MB 3.9 MB/s eta 0:00:39\n",
            "   ----------- ---------------------------- 63.0/212.5 MB 3.9 MB/s eta 0:00:39\n",
            "   ----------- ---------------------------- 63.2/212.5 MB 3.9 MB/s eta 0:00:39\n",
            "   ----------- ---------------------------- 63.4/212.5 MB 3.9 MB/s eta 0:00:39\n",
            "   ----------- ---------------------------- 63.5/212.5 MB 3.9 MB/s eta 0:00:39\n",
            "   ----------- ---------------------------- 63.7/212.5 MB 3.9 MB/s eta 0:00:39\n",
            "   ------------ --------------------------- 63.9/212.5 MB 3.9 MB/s eta 0:00:39\n",
            "   ------------ --------------------------- 64.1/212.5 MB 3.9 MB/s eta 0:00:39\n",
            "   ------------ --------------------------- 64.3/212.5 MB 3.9 MB/s eta 0:00:39\n",
            "   ------------ --------------------------- 64.4/212.5 MB 3.9 MB/s eta 0:00:39\n",
            "   ------------ --------------------------- 64.6/212.5 MB 3.9 MB/s eta 0:00:39\n",
            "   ------------ --------------------------- 64.8/212.5 MB 3.9 MB/s eta 0:00:39\n",
            "   ------------ --------------------------- 65.0/212.5 MB 3.9 MB/s eta 0:00:38\n",
            "   ------------ --------------------------- 65.1/212.5 MB 3.9 MB/s eta 0:00:38\n",
            "   ------------ --------------------------- 65.3/212.5 MB 3.9 MB/s eta 0:00:38\n",
            "   ------------ --------------------------- 65.5/212.5 MB 3.9 MB/s eta 0:00:38\n",
            "   ------------ --------------------------- 65.7/212.5 MB 3.9 MB/s eta 0:00:38\n",
            "   ------------ --------------------------- 65.9/212.5 MB 3.9 MB/s eta 0:00:38\n",
            "   ------------ --------------------------- 66.0/212.5 MB 3.9 MB/s eta 0:00:38\n",
            "   ------------ --------------------------- 66.2/212.5 MB 3.9 MB/s eta 0:00:38\n",
            "   ------------ --------------------------- 66.4/212.5 MB 3.9 MB/s eta 0:00:38\n",
            "   ------------ --------------------------- 66.6/212.5 MB 3.9 MB/s eta 0:00:38\n",
            "   ------------ --------------------------- 66.8/212.5 MB 3.9 MB/s eta 0:00:38\n",
            "   ------------ --------------------------- 66.9/212.5 MB 3.9 MB/s eta 0:00:38\n",
            "   ------------ --------------------------- 67.1/212.5 MB 3.9 MB/s eta 0:00:38\n",
            "   ------------ --------------------------- 67.3/212.5 MB 3.9 MB/s eta 0:00:38\n",
            "   ------------ --------------------------- 67.5/212.5 MB 3.9 MB/s eta 0:00:38\n",
            "   ------------ --------------------------- 67.7/212.5 MB 3.9 MB/s eta 0:00:38\n",
            "   ------------ --------------------------- 67.8/212.5 MB 3.9 MB/s eta 0:00:38\n",
            "   ------------ --------------------------- 68.0/212.5 MB 3.9 MB/s eta 0:00:38\n",
            "   ------------ --------------------------- 68.2/212.5 MB 3.9 MB/s eta 0:00:38\n",
            "   ------------ --------------------------- 68.4/212.5 MB 3.9 MB/s eta 0:00:38\n",
            "   ------------ --------------------------- 68.6/212.5 MB 3.9 MB/s eta 0:00:38\n",
            "   ------------ --------------------------- 68.7/212.5 MB 3.9 MB/s eta 0:00:38\n",
            "   ------------ --------------------------- 68.9/212.5 MB 3.9 MB/s eta 0:00:38\n",
            "   ------------- -------------------------- 69.1/212.5 MB 3.9 MB/s eta 0:00:38\n",
            "   ------------- -------------------------- 69.3/212.5 MB 3.9 MB/s eta 0:00:37\n",
            "   ------------- -------------------------- 69.5/212.5 MB 3.9 MB/s eta 0:00:37\n",
            "   ------------- -------------------------- 69.6/212.5 MB 3.9 MB/s eta 0:00:37\n",
            "   ------------- -------------------------- 69.8/212.5 MB 3.9 MB/s eta 0:00:37\n",
            "   ------------- -------------------------- 70.0/212.5 MB 3.9 MB/s eta 0:00:37\n",
            "   ------------- -------------------------- 70.2/212.5 MB 3.9 MB/s eta 0:00:37\n",
            "   ------------- -------------------------- 70.3/212.5 MB 3.9 MB/s eta 0:00:37\n",
            "   ------------- -------------------------- 70.5/212.5 MB 3.9 MB/s eta 0:00:37\n",
            "   ------------- -------------------------- 70.7/212.5 MB 3.9 MB/s eta 0:00:37\n",
            "   ------------- -------------------------- 70.9/212.5 MB 3.9 MB/s eta 0:00:37\n",
            "   ------------- -------------------------- 71.1/212.5 MB 3.9 MB/s eta 0:00:37\n",
            "   ------------- -------------------------- 71.2/212.5 MB 4.0 MB/s eta 0:00:35\n",
            "   ------------- -------------------------- 71.4/212.5 MB 4.0 MB/s eta 0:00:36\n",
            "   ------------- -------------------------- 71.6/212.5 MB 3.9 MB/s eta 0:00:37\n",
            "   ------------- -------------------------- 71.8/212.5 MB 3.9 MB/s eta 0:00:37\n",
            "   ------------- -------------------------- 72.0/212.5 MB 3.9 MB/s eta 0:00:37\n",
            "   ------------- -------------------------- 72.1/212.5 MB 3.9 MB/s eta 0:00:37\n",
            "   ------------- -------------------------- 72.3/212.5 MB 3.9 MB/s eta 0:00:37\n",
            "   ------------- -------------------------- 72.5/212.5 MB 3.9 MB/s eta 0:00:37\n",
            "   ------------- -------------------------- 72.7/212.5 MB 3.9 MB/s eta 0:00:37\n",
            "   ------------- -------------------------- 72.8/212.5 MB 3.9 MB/s eta 0:00:36\n",
            "   ------------- -------------------------- 73.0/212.5 MB 3.9 MB/s eta 0:00:36\n",
            "   ------------- -------------------------- 73.2/212.5 MB 3.9 MB/s eta 0:00:36\n",
            "   ------------- -------------------------- 73.4/212.5 MB 3.9 MB/s eta 0:00:36\n",
            "   ------------- -------------------------- 73.6/212.5 MB 3.9 MB/s eta 0:00:36\n",
            "   ------------- -------------------------- 73.8/212.5 MB 3.9 MB/s eta 0:00:36\n",
            "   ------------- -------------------------- 73.9/212.5 MB 3.9 MB/s eta 0:00:36\n",
            "   ------------- -------------------------- 74.1/212.5 MB 3.9 MB/s eta 0:00:36\n",
            "   ------------- -------------------------- 74.3/212.5 MB 3.9 MB/s eta 0:00:36\n",
            "   -------------- ------------------------- 74.5/212.5 MB 3.9 MB/s eta 0:00:36\n",
            "   -------------- ------------------------- 74.7/212.5 MB 3.9 MB/s eta 0:00:36\n",
            "   -------------- ------------------------- 74.8/212.5 MB 3.9 MB/s eta 0:00:36\n",
            "   -------------- ------------------------- 75.0/212.5 MB 3.9 MB/s eta 0:00:36\n",
            "   -------------- ------------------------- 75.2/212.5 MB 3.9 MB/s eta 0:00:36\n",
            "   -------------- ------------------------- 75.4/212.5 MB 3.9 MB/s eta 0:00:36\n",
            "   -------------- ------------------------- 75.6/212.5 MB 3.9 MB/s eta 0:00:36\n",
            "   -------------- ------------------------- 75.7/212.5 MB 3.9 MB/s eta 0:00:36\n",
            "   -------------- ------------------------- 75.9/212.5 MB 3.9 MB/s eta 0:00:36\n",
            "   -------------- ------------------------- 76.1/212.5 MB 3.9 MB/s eta 0:00:36\n",
            "   -------------- ------------------------- 76.3/212.5 MB 3.9 MB/s eta 0:00:36\n",
            "   -------------- ------------------------- 76.4/212.5 MB 3.9 MB/s eta 0:00:36\n",
            "   -------------- ------------------------- 76.6/212.5 MB 3.9 MB/s eta 0:00:36\n",
            "   -------------- ------------------------- 76.8/212.5 MB 3.9 MB/s eta 0:00:36\n",
            "   -------------- ------------------------- 77.0/212.5 MB 3.9 MB/s eta 0:00:35\n",
            "   -------------- ------------------------- 77.2/212.5 MB 3.9 MB/s eta 0:00:35\n",
            "   -------------- ------------------------- 77.3/212.5 MB 3.9 MB/s eta 0:00:35\n",
            "   -------------- ------------------------- 77.5/212.5 MB 3.9 MB/s eta 0:00:35\n",
            "   -------------- ------------------------- 77.7/212.5 MB 3.9 MB/s eta 0:00:35\n",
            "   -------------- ------------------------- 77.9/212.5 MB 3.9 MB/s eta 0:00:35\n",
            "   -------------- ------------------------- 78.1/212.5 MB 3.9 MB/s eta 0:00:35\n",
            "   -------------- ------------------------- 78.2/212.5 MB 3.9 MB/s eta 0:00:35\n",
            "   -------------- ------------------------- 78.4/212.5 MB 3.9 MB/s eta 0:00:35\n",
            "   -------------- ------------------------- 78.6/212.5 MB 3.9 MB/s eta 0:00:35\n",
            "   -------------- ------------------------- 78.7/212.5 MB 3.9 MB/s eta 0:00:35\n",
            "   -------------- ------------------------- 79.0/212.5 MB 3.9 MB/s eta 0:00:35\n",
            "   -------------- ------------------------- 79.2/212.5 MB 3.9 MB/s eta 0:00:35\n",
            "   -------------- ------------------------- 79.4/212.5 MB 3.9 MB/s eta 0:00:35\n",
            "   -------------- ------------------------- 79.5/212.5 MB 3.9 MB/s eta 0:00:35\n",
            "   --------------- ------------------------ 79.7/212.5 MB 3.9 MB/s eta 0:00:35\n",
            "   --------------- ------------------------ 79.9/212.5 MB 3.9 MB/s eta 0:00:35\n",
            "   --------------- ------------------------ 80.1/212.5 MB 3.9 MB/s eta 0:00:34\n",
            "   --------------- ------------------------ 80.2/212.5 MB 3.9 MB/s eta 0:00:34\n",
            "   --------------- ------------------------ 80.4/212.5 MB 3.9 MB/s eta 0:00:34\n",
            "   --------------- ------------------------ 80.6/212.5 MB 3.9 MB/s eta 0:00:34\n",
            "   --------------- ------------------------ 80.8/212.5 MB 3.9 MB/s eta 0:00:34\n",
            "   --------------- ------------------------ 81.0/212.5 MB 3.9 MB/s eta 0:00:34\n",
            "   --------------- ------------------------ 81.2/212.5 MB 3.9 MB/s eta 0:00:34\n",
            "   --------------- ------------------------ 81.3/212.5 MB 3.9 MB/s eta 0:00:34\n",
            "   --------------- ------------------------ 81.5/212.5 MB 3.9 MB/s eta 0:00:34\n",
            "   --------------- ------------------------ 81.7/212.5 MB 3.9 MB/s eta 0:00:34\n",
            "   --------------- ------------------------ 81.9/212.5 MB 3.9 MB/s eta 0:00:34\n",
            "   --------------- ------------------------ 82.1/212.5 MB 3.9 MB/s eta 0:00:34\n",
            "   --------------- ------------------------ 82.2/212.5 MB 3.9 MB/s eta 0:00:34\n",
            "   --------------- ------------------------ 82.4/212.5 MB 3.9 MB/s eta 0:00:34\n",
            "   --------------- ------------------------ 82.6/212.5 MB 3.9 MB/s eta 0:00:34\n",
            "   --------------- ------------------------ 82.8/212.5 MB 3.9 MB/s eta 0:00:34\n",
            "   --------------- ------------------------ 83.0/212.5 MB 3.9 MB/s eta 0:00:34\n",
            "   --------------- ------------------------ 83.1/212.5 MB 3.9 MB/s eta 0:00:34\n",
            "   --------------- ------------------------ 83.3/212.5 MB 3.9 MB/s eta 0:00:34\n",
            "   --------------- ------------------------ 83.5/212.5 MB 3.9 MB/s eta 0:00:34\n",
            "   --------------- ------------------------ 83.7/212.5 MB 3.9 MB/s eta 0:00:34\n",
            "   --------------- ------------------------ 83.9/212.5 MB 3.9 MB/s eta 0:00:34\n",
            "   --------------- ------------------------ 84.0/212.5 MB 3.9 MB/s eta 0:00:34\n",
            "   --------------- ------------------------ 84.2/212.5 MB 3.9 MB/s eta 0:00:34\n",
            "   --------------- ------------------------ 84.4/212.5 MB 3.9 MB/s eta 0:00:34\n",
            "   --------------- ------------------------ 84.6/212.5 MB 3.9 MB/s eta 0:00:33\n",
            "   --------------- ------------------------ 84.8/212.5 MB 3.9 MB/s eta 0:00:33\n",
            "   --------------- ------------------------ 84.9/212.5 MB 3.9 MB/s eta 0:00:33\n",
            "   ---------------- ----------------------- 85.1/212.5 MB 3.9 MB/s eta 0:00:33\n",
            "   ---------------- ----------------------- 85.3/212.5 MB 3.9 MB/s eta 0:00:33\n",
            "   ---------------- ----------------------- 85.5/212.5 MB 3.9 MB/s eta 0:00:33\n",
            "   ---------------- ----------------------- 85.7/212.5 MB 3.9 MB/s eta 0:00:33\n",
            "   ---------------- ----------------------- 85.8/212.5 MB 3.9 MB/s eta 0:00:33\n",
            "   ---------------- ----------------------- 86.0/212.5 MB 3.9 MB/s eta 0:00:33\n",
            "   ---------------- ----------------------- 86.2/212.5 MB 3.9 MB/s eta 0:00:33\n",
            "   ---------------- ----------------------- 86.4/212.5 MB 3.9 MB/s eta 0:00:33\n",
            "   ---------------- ----------------------- 86.6/212.5 MB 3.9 MB/s eta 0:00:33\n",
            "   ---------------- ----------------------- 86.7/212.5 MB 3.9 MB/s eta 0:00:33\n",
            "   ---------------- ----------------------- 86.9/212.5 MB 3.9 MB/s eta 0:00:33\n",
            "   ---------------- ----------------------- 87.1/212.5 MB 3.9 MB/s eta 0:00:33\n",
            "   ---------------- ----------------------- 87.3/212.5 MB 3.9 MB/s eta 0:00:33\n",
            "   ---------------- ----------------------- 87.4/212.5 MB 3.9 MB/s eta 0:00:33\n",
            "   ---------------- ----------------------- 87.6/212.5 MB 3.9 MB/s eta 0:00:33\n",
            "   ---------------- ----------------------- 87.8/212.5 MB 3.9 MB/s eta 0:00:33\n",
            "   ---------------- ----------------------- 88.0/212.5 MB 3.9 MB/s eta 0:00:33\n",
            "   ---------------- ----------------------- 88.2/212.5 MB 3.9 MB/s eta 0:00:33\n",
            "   ---------------- ----------------------- 88.3/212.5 MB 3.9 MB/s eta 0:00:33\n",
            "   ---------------- ----------------------- 88.5/212.5 MB 3.9 MB/s eta 0:00:32\n",
            "   ---------------- ----------------------- 88.7/212.5 MB 3.9 MB/s eta 0:00:32\n",
            "   ---------------- ----------------------- 88.9/212.5 MB 3.9 MB/s eta 0:00:32\n",
            "   ---------------- ----------------------- 89.1/212.5 MB 3.9 MB/s eta 0:00:32\n",
            "   ---------------- ----------------------- 89.2/212.5 MB 3.9 MB/s eta 0:00:32\n",
            "   ---------------- ----------------------- 89.4/212.5 MB 3.9 MB/s eta 0:00:32\n",
            "   ---------------- ----------------------- 89.6/212.5 MB 3.9 MB/s eta 0:00:32\n",
            "   ---------------- ----------------------- 89.8/212.5 MB 3.9 MB/s eta 0:00:32\n",
            "   ---------------- ----------------------- 90.0/212.5 MB 3.9 MB/s eta 0:00:32\n",
            "   ---------------- ----------------------- 90.1/212.5 MB 3.9 MB/s eta 0:00:32\n",
            "   ----------------- ---------------------- 90.3/212.5 MB 3.9 MB/s eta 0:00:32\n",
            "   ----------------- ---------------------- 90.5/212.5 MB 3.9 MB/s eta 0:00:32\n",
            "   ----------------- ---------------------- 90.7/212.5 MB 3.9 MB/s eta 0:00:32\n",
            "   ----------------- ---------------------- 90.9/212.5 MB 3.9 MB/s eta 0:00:32\n",
            "   ----------------- ---------------------- 91.1/212.5 MB 3.9 MB/s eta 0:00:32\n",
            "   ----------------- ---------------------- 91.2/212.5 MB 3.9 MB/s eta 0:00:32\n",
            "   ----------------- ---------------------- 91.4/212.5 MB 3.9 MB/s eta 0:00:32\n",
            "   ----------------- ---------------------- 91.6/212.5 MB 3.9 MB/s eta 0:00:32\n",
            "   ----------------- ---------------------- 91.8/212.5 MB 3.9 MB/s eta 0:00:32\n",
            "   ----------------- ---------------------- 92.0/212.5 MB 3.9 MB/s eta 0:00:32\n",
            "   ----------------- ---------------------- 92.1/212.5 MB 3.9 MB/s eta 0:00:32\n",
            "   ----------------- ---------------------- 92.3/212.5 MB 3.9 MB/s eta 0:00:31\n",
            "   ----------------- ---------------------- 92.5/212.5 MB 3.9 MB/s eta 0:00:31\n",
            "   ----------------- ---------------------- 92.7/212.5 MB 3.9 MB/s eta 0:00:31\n",
            "   ----------------- ---------------------- 92.9/212.5 MB 3.9 MB/s eta 0:00:31\n",
            "   ----------------- ---------------------- 93.0/212.5 MB 3.9 MB/s eta 0:00:31\n",
            "   ----------------- ---------------------- 93.2/212.5 MB 3.9 MB/s eta 0:00:31\n",
            "   ----------------- ---------------------- 93.4/212.5 MB 3.9 MB/s eta 0:00:31\n",
            "   ----------------- ---------------------- 93.6/212.5 MB 3.9 MB/s eta 0:00:31\n",
            "   ----------------- ---------------------- 93.8/212.5 MB 3.9 MB/s eta 0:00:31\n",
            "   ----------------- ---------------------- 93.9/212.5 MB 3.9 MB/s eta 0:00:31\n",
            "   ----------------- ---------------------- 94.1/212.5 MB 3.9 MB/s eta 0:00:31\n",
            "   ----------------- ---------------------- 94.3/212.5 MB 3.9 MB/s eta 0:00:31\n",
            "   ----------------- ---------------------- 94.5/212.5 MB 3.9 MB/s eta 0:00:31\n",
            "   ----------------- ---------------------- 94.7/212.5 MB 3.9 MB/s eta 0:00:31\n",
            "   ----------------- ---------------------- 94.9/212.5 MB 3.9 MB/s eta 0:00:31\n",
            "   ----------------- ---------------------- 95.0/212.5 MB 3.9 MB/s eta 0:00:31\n",
            "   ----------------- ---------------------- 95.2/212.5 MB 3.9 MB/s eta 0:00:31\n",
            "   ----------------- ---------------------- 95.4/212.5 MB 3.9 MB/s eta 0:00:31\n",
            "   ----------------- ---------------------- 95.6/212.5 MB 3.9 MB/s eta 0:00:31\n",
            "   ------------------ --------------------- 95.7/212.5 MB 3.9 MB/s eta 0:00:30\n",
            "   ------------------ --------------------- 95.9/212.5 MB 3.9 MB/s eta 0:00:30\n",
            "   ------------------ --------------------- 96.1/212.5 MB 3.9 MB/s eta 0:00:30\n",
            "   ------------------ --------------------- 96.3/212.5 MB 3.9 MB/s eta 0:00:30\n",
            "   ------------------ --------------------- 96.5/212.5 MB 3.9 MB/s eta 0:00:30\n",
            "   ------------------ --------------------- 96.6/212.5 MB 3.9 MB/s eta 0:00:30\n",
            "   ------------------ --------------------- 96.8/212.5 MB 3.9 MB/s eta 0:00:30\n",
            "   ------------------ --------------------- 97.0/212.5 MB 3.9 MB/s eta 0:00:30\n",
            "   ------------------ --------------------- 97.2/212.5 MB 3.9 MB/s eta 0:00:30\n",
            "   ------------------ --------------------- 97.4/212.5 MB 3.9 MB/s eta 0:00:30\n",
            "   ------------------ --------------------- 97.5/212.5 MB 3.9 MB/s eta 0:00:30\n",
            "   ------------------ --------------------- 97.7/212.5 MB 3.9 MB/s eta 0:00:30\n",
            "   ------------------ --------------------- 97.9/212.5 MB 3.9 MB/s eta 0:00:30\n",
            "   ------------------ --------------------- 98.1/212.5 MB 3.9 MB/s eta 0:00:30\n",
            "   ------------------ --------------------- 98.2/212.5 MB 3.9 MB/s eta 0:00:30\n",
            "   ------------------ --------------------- 98.4/212.5 MB 3.9 MB/s eta 0:00:30\n",
            "   ------------------ --------------------- 98.6/212.5 MB 3.9 MB/s eta 0:00:30\n",
            "   ------------------ --------------------- 98.8/212.5 MB 3.9 MB/s eta 0:00:30\n",
            "   ------------------ --------------------- 99.0/212.5 MB 3.9 MB/s eta 0:00:30\n",
            "   ------------------ --------------------- 99.1/212.5 MB 3.9 MB/s eta 0:00:30\n",
            "   ------------------ --------------------- 99.3/212.5 MB 3.9 MB/s eta 0:00:30\n",
            "   ------------------ --------------------- 99.5/212.5 MB 3.9 MB/s eta 0:00:29\n",
            "   ------------------ --------------------- 99.7/212.5 MB 3.9 MB/s eta 0:00:29\n",
            "   ------------------ --------------------- 99.9/212.5 MB 3.9 MB/s eta 0:00:29\n",
            "   ------------------ --------------------- 100.0/212.5 MB 3.9 MB/s eta 0:00:29\n",
            "   ------------------ --------------------- 100.2/212.5 MB 3.9 MB/s eta 0:00:29\n",
            "   ------------------ --------------------- 100.4/212.5 MB 3.9 MB/s eta 0:00:29\n",
            "   ------------------ --------------------- 100.6/212.5 MB 3.9 MB/s eta 0:00:29\n",
            "   ------------------ --------------------- 100.8/212.5 MB 3.9 MB/s eta 0:00:29\n",
            "   ------------------ --------------------- 100.9/212.5 MB 3.9 MB/s eta 0:00:29\n",
            "   ------------------- -------------------- 101.1/212.5 MB 3.9 MB/s eta 0:00:29\n",
            "   ------------------- -------------------- 101.3/212.5 MB 3.9 MB/s eta 0:00:29\n",
            "   ------------------- -------------------- 101.3/212.5 MB 3.9 MB/s eta 0:00:29\n",
            "   ------------------- -------------------- 101.3/212.5 MB 3.9 MB/s eta 0:00:29\n",
            "   ------------------- -------------------- 101.6/212.5 MB 3.9 MB/s eta 0:00:29\n",
            "   ------------------- -------------------- 101.8/212.5 MB 3.8 MB/s eta 0:00:30\n",
            "   ------------------- -------------------- 102.2/212.5 MB 3.9 MB/s eta 0:00:29\n",
            "   ------------------- -------------------- 102.4/212.5 MB 3.9 MB/s eta 0:00:29\n",
            "   ------------------- -------------------- 102.6/212.5 MB 3.9 MB/s eta 0:00:29\n",
            "   ------------------- -------------------- 102.7/212.5 MB 3.9 MB/s eta 0:00:29\n",
            "   ------------------- -------------------- 102.9/212.5 MB 3.9 MB/s eta 0:00:29\n",
            "   ------------------- -------------------- 103.1/212.5 MB 3.9 MB/s eta 0:00:29\n",
            "   ------------------- -------------------- 103.3/212.5 MB 3.9 MB/s eta 0:00:29\n",
            "   ------------------- -------------------- 103.5/212.5 MB 3.9 MB/s eta 0:00:28\n",
            "   ------------------- -------------------- 103.6/212.5 MB 3.9 MB/s eta 0:00:28\n",
            "   ------------------- -------------------- 103.8/212.5 MB 3.9 MB/s eta 0:00:28\n",
            "   ------------------- -------------------- 104.0/212.5 MB 3.9 MB/s eta 0:00:28\n",
            "   ------------------- -------------------- 104.2/212.5 MB 3.9 MB/s eta 0:00:28\n",
            "   ------------------- -------------------- 104.4/212.5 MB 3.9 MB/s eta 0:00:28\n",
            "   ------------------- -------------------- 104.5/212.5 MB 3.9 MB/s eta 0:00:28\n",
            "   ------------------- -------------------- 104.7/212.5 MB 3.9 MB/s eta 0:00:28\n",
            "   ------------------- -------------------- 104.9/212.5 MB 3.9 MB/s eta 0:00:28\n",
            "   ------------------- -------------------- 105.1/212.5 MB 3.9 MB/s eta 0:00:28\n",
            "   ------------------- -------------------- 105.3/212.5 MB 3.9 MB/s eta 0:00:28\n",
            "   ------------------- -------------------- 105.4/212.5 MB 3.9 MB/s eta 0:00:28\n",
            "   ------------------- -------------------- 105.6/212.5 MB 3.9 MB/s eta 0:00:28\n",
            "   ------------------- -------------------- 105.8/212.5 MB 3.9 MB/s eta 0:00:28\n",
            "   ------------------- -------------------- 106.0/212.5 MB 3.9 MB/s eta 0:00:28\n",
            "   ------------------- -------------------- 106.1/212.5 MB 3.9 MB/s eta 0:00:28\n",
            "   -------------------- ------------------- 106.3/212.5 MB 3.9 MB/s eta 0:00:28\n",
            "   -------------------- ------------------- 106.5/212.5 MB 3.9 MB/s eta 0:00:28\n",
            "   -------------------- ------------------- 106.7/212.5 MB 3.9 MB/s eta 0:00:28\n",
            "   -------------------- ------------------- 106.8/212.5 MB 3.9 MB/s eta 0:00:28\n",
            "   -------------------- ------------------- 107.0/212.5 MB 3.9 MB/s eta 0:00:28\n",
            "   -------------------- ------------------- 107.2/212.5 MB 3.9 MB/s eta 0:00:28\n",
            "   -------------------- ------------------- 107.4/212.5 MB 3.9 MB/s eta 0:00:28\n",
            "   -------------------- ------------------- 107.6/212.5 MB 3.9 MB/s eta 0:00:28\n",
            "   -------------------- ------------------- 107.8/212.5 MB 3.9 MB/s eta 0:00:28\n",
            "   -------------------- ------------------- 107.9/212.5 MB 3.9 MB/s eta 0:00:27\n",
            "   -------------------- ------------------- 108.1/212.5 MB 3.9 MB/s eta 0:00:27\n",
            "   -------------------- ------------------- 108.3/212.5 MB 3.9 MB/s eta 0:00:27\n",
            "   -------------------- ------------------- 108.5/212.5 MB 3.9 MB/s eta 0:00:27\n",
            "   -------------------- ------------------- 108.7/212.5 MB 3.9 MB/s eta 0:00:27\n",
            "   -------------------- ------------------- 108.8/212.5 MB 3.9 MB/s eta 0:00:27\n",
            "   -------------------- ------------------- 109.0/212.5 MB 3.9 MB/s eta 0:00:27\n",
            "   -------------------- ------------------- 109.2/212.5 MB 3.9 MB/s eta 0:00:27\n",
            "   -------------------- ------------------- 109.4/212.5 MB 3.9 MB/s eta 0:00:27\n",
            "   -------------------- ------------------- 109.6/212.5 MB 3.9 MB/s eta 0:00:27\n",
            "   -------------------- ------------------- 109.7/212.5 MB 3.9 MB/s eta 0:00:27\n",
            "   -------------------- ------------------- 109.9/212.5 MB 3.9 MB/s eta 0:00:27\n",
            "   -------------------- ------------------- 110.1/212.5 MB 3.9 MB/s eta 0:00:27\n",
            "   -------------------- ------------------- 110.3/212.5 MB 3.9 MB/s eta 0:00:27\n",
            "   -------------------- ------------------- 110.5/212.5 MB 3.9 MB/s eta 0:00:27\n",
            "   -------------------- ------------------- 110.7/212.5 MB 3.9 MB/s eta 0:00:27\n",
            "   -------------------- ------------------- 110.8/212.5 MB 3.9 MB/s eta 0:00:27\n",
            "   -------------------- ------------------- 110.9/212.5 MB 3.9 MB/s eta 0:00:27\n",
            "   -------------------- ------------------- 111.2/212.5 MB 3.9 MB/s eta 0:00:27\n",
            "   -------------------- ------------------- 111.4/212.5 MB 3.9 MB/s eta 0:00:27\n",
            "   -------------------- ------------------- 111.5/212.5 MB 4.0 MB/s eta 0:00:25\n",
            "   --------------------- ------------------ 111.7/212.5 MB 4.0 MB/s eta 0:00:26\n",
            "   --------------------- ------------------ 111.9/212.5 MB 4.0 MB/s eta 0:00:26\n",
            "   --------------------- ------------------ 112.0/212.5 MB 4.0 MB/s eta 0:00:26\n",
            "   --------------------- ------------------ 112.3/212.5 MB 3.9 MB/s eta 0:00:26\n",
            "   --------------------- ------------------ 112.5/212.5 MB 3.9 MB/s eta 0:00:26\n",
            "   --------------------- ------------------ 112.6/212.5 MB 3.9 MB/s eta 0:00:26\n",
            "   --------------------- ------------------ 112.8/212.5 MB 3.9 MB/s eta 0:00:26\n",
            "   --------------------- ------------------ 113.0/212.5 MB 3.9 MB/s eta 0:00:26\n",
            "   --------------------- ------------------ 113.2/212.5 MB 3.9 MB/s eta 0:00:26\n",
            "   --------------------- ------------------ 113.3/212.5 MB 3.9 MB/s eta 0:00:26\n",
            "   --------------------- ------------------ 113.5/212.5 MB 3.9 MB/s eta 0:00:26\n",
            "   --------------------- ------------------ 113.7/212.5 MB 3.9 MB/s eta 0:00:26\n",
            "   --------------------- ------------------ 113.9/212.5 MB 3.9 MB/s eta 0:00:26\n",
            "   --------------------- ------------------ 114.1/212.5 MB 3.9 MB/s eta 0:00:26\n",
            "   --------------------- ------------------ 114.3/212.5 MB 3.9 MB/s eta 0:00:26\n",
            "   --------------------- ------------------ 114.4/212.5 MB 3.9 MB/s eta 0:00:26\n",
            "   --------------------- ------------------ 114.6/212.5 MB 3.9 MB/s eta 0:00:26\n",
            "   --------------------- ------------------ 114.8/212.5 MB 3.9 MB/s eta 0:00:26\n",
            "   --------------------- ------------------ 115.0/212.5 MB 3.9 MB/s eta 0:00:26\n",
            "   --------------------- ------------------ 115.2/212.5 MB 3.9 MB/s eta 0:00:26\n",
            "   --------------------- ------------------ 115.3/212.5 MB 3.9 MB/s eta 0:00:26\n",
            "   --------------------- ------------------ 115.5/212.5 MB 3.9 MB/s eta 0:00:26\n",
            "   --------------------- ------------------ 115.7/212.5 MB 3.9 MB/s eta 0:00:25\n",
            "   --------------------- ------------------ 115.8/212.5 MB 3.9 MB/s eta 0:00:25\n",
            "   --------------------- ------------------ 116.1/212.5 MB 3.9 MB/s eta 0:00:25\n",
            "   --------------------- ------------------ 116.3/212.5 MB 3.9 MB/s eta 0:00:25\n",
            "   --------------------- ------------------ 116.4/212.5 MB 3.9 MB/s eta 0:00:25\n",
            "   --------------------- ------------------ 116.6/212.5 MB 3.9 MB/s eta 0:00:25\n",
            "   --------------------- ------------------ 116.8/212.5 MB 3.9 MB/s eta 0:00:25\n",
            "   ---------------------- ----------------- 117.0/212.5 MB 3.9 MB/s eta 0:00:25\n",
            "   ---------------------- ----------------- 117.1/212.5 MB 3.9 MB/s eta 0:00:25\n",
            "   ---------------------- ----------------- 117.3/212.5 MB 3.9 MB/s eta 0:00:25\n",
            "   ---------------------- ----------------- 117.5/212.5 MB 3.9 MB/s eta 0:00:25\n",
            "   ---------------------- ----------------- 117.6/212.5 MB 3.9 MB/s eta 0:00:25\n",
            "   ---------------------- ----------------- 117.8/212.5 MB 3.9 MB/s eta 0:00:25\n",
            "   ---------------------- ----------------- 118.0/212.5 MB 3.9 MB/s eta 0:00:25\n",
            "   ---------------------- ----------------- 118.2/212.5 MB 3.9 MB/s eta 0:00:25\n",
            "   ---------------------- ----------------- 118.4/212.5 MB 3.9 MB/s eta 0:00:25\n",
            "   ---------------------- ----------------- 118.5/212.5 MB 3.9 MB/s eta 0:00:25\n",
            "   ---------------------- ----------------- 118.7/212.5 MB 3.9 MB/s eta 0:00:25\n",
            "   ---------------------- ----------------- 118.9/212.5 MB 3.9 MB/s eta 0:00:25\n",
            "   ---------------------- ----------------- 119.1/212.5 MB 3.9 MB/s eta 0:00:25\n",
            "   ---------------------- ----------------- 119.3/212.5 MB 3.9 MB/s eta 0:00:25\n",
            "   ---------------------- ----------------- 119.5/212.5 MB 3.9 MB/s eta 0:00:25\n",
            "   ---------------------- ----------------- 119.7/212.5 MB 3.9 MB/s eta 0:00:24\n",
            "   ---------------------- ----------------- 119.8/212.5 MB 3.9 MB/s eta 0:00:24\n",
            "   ---------------------- ----------------- 120.0/212.5 MB 3.9 MB/s eta 0:00:24\n",
            "   ---------------------- ----------------- 120.2/212.5 MB 3.9 MB/s eta 0:00:24\n",
            "   ---------------------- ----------------- 120.4/212.5 MB 3.9 MB/s eta 0:00:24\n",
            "   ---------------------- ----------------- 120.5/212.5 MB 3.9 MB/s eta 0:00:24\n",
            "   ---------------------- ----------------- 120.7/212.5 MB 3.9 MB/s eta 0:00:24\n",
            "   ---------------------- ----------------- 120.9/212.5 MB 3.9 MB/s eta 0:00:24\n",
            "   ---------------------- ----------------- 121.1/212.5 MB 3.9 MB/s eta 0:00:24\n",
            "   ---------------------- ----------------- 121.3/212.5 MB 3.9 MB/s eta 0:00:24\n",
            "   ---------------------- ----------------- 121.4/212.5 MB 3.9 MB/s eta 0:00:24\n",
            "   ---------------------- ----------------- 121.6/212.5 MB 3.9 MB/s eta 0:00:24\n",
            "   ---------------------- ----------------- 121.8/212.5 MB 3.9 MB/s eta 0:00:24\n",
            "   ---------------------- ----------------- 122.0/212.5 MB 3.9 MB/s eta 0:00:24\n",
            "   ---------------------- ----------------- 122.2/212.5 MB 3.9 MB/s eta 0:00:24\n",
            "   ----------------------- ---------------- 122.3/212.5 MB 3.9 MB/s eta 0:00:24\n",
            "   ----------------------- ---------------- 122.5/212.5 MB 3.9 MB/s eta 0:00:24\n",
            "   ----------------------- ---------------- 122.7/212.5 MB 3.9 MB/s eta 0:00:24\n",
            "   ----------------------- ---------------- 122.9/212.5 MB 3.9 MB/s eta 0:00:23\n",
            "   ----------------------- ---------------- 123.1/212.5 MB 3.9 MB/s eta 0:00:24\n",
            "   ----------------------- ---------------- 123.2/212.5 MB 3.9 MB/s eta 0:00:23\n",
            "   ----------------------- ---------------- 123.4/212.5 MB 3.9 MB/s eta 0:00:23\n",
            "   ----------------------- ---------------- 123.6/212.5 MB 3.9 MB/s eta 0:00:23\n",
            "   ----------------------- ---------------- 123.8/212.5 MB 3.9 MB/s eta 0:00:23\n",
            "   ----------------------- ---------------- 124.0/212.5 MB 3.9 MB/s eta 0:00:23\n",
            "   ----------------------- ---------------- 124.1/212.5 MB 3.9 MB/s eta 0:00:23\n",
            "   ----------------------- ---------------- 124.3/212.5 MB 3.9 MB/s eta 0:00:23\n",
            "   ----------------------- ---------------- 124.5/212.5 MB 3.9 MB/s eta 0:00:23\n",
            "   ----------------------- ---------------- 124.7/212.5 MB 3.9 MB/s eta 0:00:23\n",
            "   ----------------------- ---------------- 124.9/212.5 MB 3.9 MB/s eta 0:00:23\n",
            "   ----------------------- ---------------- 125.0/212.5 MB 3.9 MB/s eta 0:00:23\n",
            "   ----------------------- ---------------- 125.2/212.5 MB 3.9 MB/s eta 0:00:23\n",
            "   ----------------------- ---------------- 125.4/212.5 MB 3.9 MB/s eta 0:00:23\n",
            "   ----------------------- ---------------- 125.6/212.5 MB 3.9 MB/s eta 0:00:23\n",
            "   ----------------------- ---------------- 125.8/212.5 MB 3.9 MB/s eta 0:00:23\n",
            "   ----------------------- ---------------- 125.9/212.5 MB 3.9 MB/s eta 0:00:23\n",
            "   ----------------------- ---------------- 126.1/212.5 MB 3.9 MB/s eta 0:00:23\n",
            "   ----------------------- ---------------- 126.3/212.5 MB 3.9 MB/s eta 0:00:23\n",
            "   ----------------------- ---------------- 126.5/212.5 MB 3.9 MB/s eta 0:00:23\n",
            "   ----------------------- ---------------- 126.6/212.5 MB 3.9 MB/s eta 0:00:23\n",
            "   ----------------------- ---------------- 126.8/212.5 MB 3.9 MB/s eta 0:00:23\n",
            "   ----------------------- ---------------- 127.0/212.5 MB 3.9 MB/s eta 0:00:23\n",
            "   ----------------------- ---------------- 127.2/212.5 MB 3.9 MB/s eta 0:00:23\n",
            "   ----------------------- ---------------- 127.4/212.5 MB 3.9 MB/s eta 0:00:22\n",
            "   ------------------------ --------------- 127.6/212.5 MB 3.9 MB/s eta 0:00:22\n",
            "   ------------------------ --------------- 127.7/212.5 MB 3.9 MB/s eta 0:00:22\n",
            "   ------------------------ --------------- 127.9/212.5 MB 3.9 MB/s eta 0:00:22\n",
            "   ------------------------ --------------- 128.1/212.5 MB 3.9 MB/s eta 0:00:22\n",
            "   ------------------------ --------------- 128.3/212.5 MB 3.9 MB/s eta 0:00:22\n",
            "   ------------------------ --------------- 128.5/212.5 MB 3.9 MB/s eta 0:00:22\n",
            "   ------------------------ --------------- 128.6/212.5 MB 3.9 MB/s eta 0:00:22\n",
            "   ------------------------ --------------- 128.8/212.5 MB 3.9 MB/s eta 0:00:22\n",
            "   ------------------------ --------------- 129.0/212.5 MB 3.9 MB/s eta 0:00:22\n",
            "   ------------------------ --------------- 129.2/212.5 MB 3.9 MB/s eta 0:00:22\n",
            "   ------------------------ --------------- 129.3/212.5 MB 3.9 MB/s eta 0:00:22\n",
            "   ------------------------ --------------- 129.5/212.5 MB 3.9 MB/s eta 0:00:22\n",
            "   ------------------------ --------------- 129.7/212.5 MB 3.9 MB/s eta 0:00:22\n",
            "   ------------------------ --------------- 129.9/212.5 MB 3.9 MB/s eta 0:00:22\n",
            "   ------------------------ --------------- 130.1/212.5 MB 3.9 MB/s eta 0:00:22\n",
            "   ------------------------ --------------- 130.2/212.5 MB 3.9 MB/s eta 0:00:22\n",
            "   ------------------------ --------------- 130.4/212.5 MB 3.9 MB/s eta 0:00:22\n",
            "   ------------------------ --------------- 130.6/212.5 MB 3.9 MB/s eta 0:00:22\n",
            "   ------------------------ --------------- 130.8/212.5 MB 3.9 MB/s eta 0:00:22\n",
            "   ------------------------ --------------- 130.9/212.5 MB 3.9 MB/s eta 0:00:21\n",
            "   ------------------------ --------------- 131.1/212.5 MB 3.9 MB/s eta 0:00:21\n",
            "   ------------------------ --------------- 131.3/212.5 MB 3.9 MB/s eta 0:00:21\n",
            "   ------------------------ --------------- 131.5/212.5 MB 3.9 MB/s eta 0:00:21\n",
            "   ------------------------ --------------- 131.7/212.5 MB 3.9 MB/s eta 0:00:21\n",
            "   ------------------------ --------------- 131.9/212.5 MB 3.9 MB/s eta 0:00:21\n",
            "   ------------------------ --------------- 132.0/212.5 MB 3.9 MB/s eta 0:00:21\n",
            "   ------------------------ --------------- 132.2/212.5 MB 3.9 MB/s eta 0:00:21\n",
            "   ------------------------ --------------- 132.4/212.5 MB 3.9 MB/s eta 0:00:21\n",
            "   ------------------------ --------------- 132.6/212.5 MB 3.9 MB/s eta 0:00:21\n",
            "   ------------------------ --------------- 132.8/212.5 MB 3.9 MB/s eta 0:00:21\n",
            "   ------------------------- -------------- 132.9/212.5 MB 3.9 MB/s eta 0:00:21\n",
            "   ------------------------- -------------- 133.1/212.5 MB 3.9 MB/s eta 0:00:21\n",
            "   ------------------------- -------------- 133.3/212.5 MB 3.9 MB/s eta 0:00:21\n",
            "   ------------------------- -------------- 133.5/212.5 MB 3.9 MB/s eta 0:00:21\n",
            "   ------------------------- -------------- 133.7/212.5 MB 3.9 MB/s eta 0:00:21\n",
            "   ------------------------- -------------- 133.8/212.5 MB 3.9 MB/s eta 0:00:21\n",
            "   ------------------------- -------------- 134.0/212.5 MB 3.9 MB/s eta 0:00:21\n",
            "   ------------------------- -------------- 134.2/212.5 MB 3.9 MB/s eta 0:00:21\n",
            "   ------------------------- -------------- 134.4/212.5 MB 3.9 MB/s eta 0:00:21\n",
            "   ------------------------- -------------- 134.6/212.5 MB 3.9 MB/s eta 0:00:21\n",
            "   ------------------------- -------------- 134.7/212.5 MB 3.9 MB/s eta 0:00:20\n",
            "   ------------------------- -------------- 134.9/212.5 MB 3.9 MB/s eta 0:00:20\n",
            "   ------------------------- -------------- 135.1/212.5 MB 3.9 MB/s eta 0:00:20\n",
            "   ------------------------- -------------- 135.3/212.5 MB 3.9 MB/s eta 0:00:20\n",
            "   ------------------------- -------------- 135.5/212.5 MB 3.9 MB/s eta 0:00:20\n",
            "\n",
            "PyTorch version: 2.6.0+cpu\n",
            "   ------------------------- -------------- 135.6/212.5 MB 3.9 MB/s eta 0:00:20\n",
            "   ------------------------- -------------- 135.8/212.5 MB 3.9 MB/s eta 0:00:20\n",
            "   ------------------------- -------------- 136.0/212.5 MB 3.9 MB/s eta 0:00:20\n",
            "   ------------------------- -------------- 136.2/212.5 MB 3.9 MB/s eta 0:00:20\n",
            "   ------------------------- -------------- 136.3/212.5 MB 3.9 MB/s eta 0:00:20\n",
            "   ------------------------- -------------- 136.5/212.5 MB 3.9 MB/s eta 0:00:20\n",
            "   ------------------------- -------------- 136.7/212.5 MB 3.9 MB/s eta 0:00:20\n",
            "   ------------------------- -------------- 136.9/212.5 MB 3.9 MB/s eta 0:00:20\n",
            "   ------------------------- -------------- 137.0/212.5 MB 3.9 MB/s eta 0:00:20\n",
            "   ------------------------- -------------- 137.3/212.5 MB 3.9 MB/s eta 0:00:20\n",
            "   ------------------------- -------------- 137.4/212.5 MB 3.9 MB/s eta 0:00:20\n",
            "   ------------------------- -------------- 137.6/212.5 MB 3.9 MB/s eta 0:00:20\n",
            "   ------------------------- -------------- 137.8/212.5 MB 3.9 MB/s eta 0:00:20\n",
            "   ------------------------- -------------- 138.0/212.5 MB 3.9 MB/s eta 0:00:20\n",
            "   -------------------------- ------------- 138.1/212.5 MB 3.9 MB/s eta 0:00:20\n",
            "   -------------------------- ------------- 138.3/212.5 MB 3.9 MB/s eta 0:00:20\n",
            "   -------------------------- ------------- 138.5/212.5 MB 3.9 MB/s eta 0:00:19\n",
            "   -------------------------- ------------- 138.7/212.5 MB 3.9 MB/s eta 0:00:19\n",
            "   -------------------------- ------------- 138.9/212.5 MB 3.9 MB/s eta 0:00:20\n",
            "   -------------------------- ------------- 139.0/212.5 MB 3.9 MB/s eta 0:00:19\n",
            "   -------------------------- ------------- 139.2/212.5 MB 3.9 MB/s eta 0:00:19\n",
            "   -------------------------- ------------- 139.4/212.5 MB 3.9 MB/s eta 0:00:19\n",
            "   -------------------------- ------------- 139.6/212.5 MB 3.9 MB/s eta 0:00:19\n",
            "   -------------------------- ------------- 139.7/212.5 MB 3.9 MB/s eta 0:00:19\n",
            "   -------------------------- ------------- 140.0/212.5 MB 3.9 MB/s eta 0:00:19\n",
            "   -------------------------- ------------- 140.1/212.5 MB 3.9 MB/s eta 0:00:19\n",
            "   -------------------------- ------------- 140.3/212.5 MB 3.9 MB/s eta 0:00:19\n",
            "   -------------------------- ------------- 140.5/212.5 MB 3.9 MB/s eta 0:00:19\n",
            "   -------------------------- ------------- 140.7/212.5 MB 3.9 MB/s eta 0:00:19\n",
            "   -------------------------- ------------- 140.8/212.5 MB 3.9 MB/s eta 0:00:19\n",
            "   -------------------------- ------------- 141.0/212.5 MB 3.9 MB/s eta 0:00:19\n",
            "   -------------------------- ------------- 141.2/212.5 MB 3.9 MB/s eta 0:00:19\n",
            "   -------------------------- ------------- 141.4/212.5 MB 3.9 MB/s eta 0:00:19\n",
            "   -------------------------- ------------- 141.5/212.5 MB 3.9 MB/s eta 0:00:19\n",
            "   -------------------------- ------------- 141.7/212.5 MB 3.9 MB/s eta 0:00:19\n",
            "   -------------------------- ------------- 141.9/212.5 MB 3.9 MB/s eta 0:00:19\n",
            "   -------------------------- ------------- 142.1/212.5 MB 3.9 MB/s eta 0:00:19\n",
            "   -------------------------- ------------- 142.3/212.5 MB 3.9 MB/s eta 0:00:19\n",
            "   -------------------------- ------------- 142.4/212.5 MB 3.9 MB/s eta 0:00:18\n",
            "   -------------------------- ------------- 142.6/212.5 MB 3.9 MB/s eta 0:00:18\n",
            "   -------------------------- ------------- 142.8/212.5 MB 3.9 MB/s eta 0:00:18\n",
            "   -------------------------- ------------- 143.0/212.5 MB 3.9 MB/s eta 0:00:18\n",
            "   -------------------------- ------------- 143.2/212.5 MB 3.9 MB/s eta 0:00:18\n",
            "   -------------------------- ------------- 143.3/212.5 MB 3.9 MB/s eta 0:00:18\n",
            "   --------------------------- ------------ 143.5/212.5 MB 3.9 MB/s eta 0:00:18\n",
            "   --------------------------- ------------ 143.7/212.5 MB 3.9 MB/s eta 0:00:18\n",
            "   --------------------------- ------------ 143.9/212.5 MB 3.9 MB/s eta 0:00:18\n",
            "   --------------------------- ------------ 144.1/212.5 MB 3.9 MB/s eta 0:00:18\n",
            "   --------------------------- ------------ 144.2/212.5 MB 3.9 MB/s eta 0:00:18\n",
            "   --------------------------- ------------ 144.4/212.5 MB 3.9 MB/s eta 0:00:18\n",
            "   --------------------------- ------------ 144.6/212.5 MB 3.9 MB/s eta 0:00:18\n",
            "   --------------------------- ------------ 144.8/212.5 MB 3.9 MB/s eta 0:00:18\n",
            "   --------------------------- ------------ 145.0/212.5 MB 3.9 MB/s eta 0:00:18\n",
            "   --------------------------- ------------ 145.1/212.5 MB 3.9 MB/s eta 0:00:18\n",
            "   --------------------------- ------------ 145.3/212.5 MB 3.9 MB/s eta 0:00:18\n",
            "   --------------------------- ------------ 145.5/212.5 MB 3.9 MB/s eta 0:00:18\n",
            "   --------------------------- ------------ 145.7/212.5 MB 3.9 MB/s eta 0:00:18\n",
            "   --------------------------- ------------ 145.9/212.5 MB 3.9 MB/s eta 0:00:18\n",
            "   --------------------------- ------------ 146.0/212.5 MB 3.9 MB/s eta 0:00:18\n",
            "   --------------------------- ------------ 146.2/212.5 MB 3.9 MB/s eta 0:00:18\n",
            "   --------------------------- ------------ 146.4/212.5 MB 3.9 MB/s eta 0:00:17\n",
            "   --------------------------- ------------ 146.6/212.5 MB 3.9 MB/s eta 0:00:17\n",
            "   --------------------------- ------------ 146.8/212.5 MB 3.9 MB/s eta 0:00:17\n",
            "   --------------------------- ------------ 147.0/212.5 MB 3.9 MB/s eta 0:00:17\n",
            "   --------------------------- ------------ 147.1/212.5 MB 3.9 MB/s eta 0:00:17\n",
            "   --------------------------- ------------ 147.3/212.5 MB 3.9 MB/s eta 0:00:17\n",
            "   --------------------------- ------------ 147.4/212.5 MB 3.9 MB/s eta 0:00:17\n",
            "   --------------------------- ------------ 147.4/212.5 MB 3.9 MB/s eta 0:00:17\n",
            "   --------------------------- ------------ 147.4/212.5 MB 3.9 MB/s eta 0:00:17\n",
            "   --------------------------- ------------ 147.7/212.5 MB 3.8 MB/s eta 0:00:18\n",
            "   --------------------------- ------------ 148.2/212.5 MB 3.9 MB/s eta 0:00:17\n",
            "   --------------------------- ------------ 148.4/212.5 MB 3.9 MB/s eta 0:00:17\n",
            "   --------------------------- ------------ 148.6/212.5 MB 3.9 MB/s eta 0:00:17\n",
            "   --------------------------- ------------ 148.8/212.5 MB 3.9 MB/s eta 0:00:17\n",
            "   ---------------------------- ----------- 148.9/212.5 MB 3.9 MB/s eta 0:00:17\n",
            "   ---------------------------- ----------- 149.1/212.5 MB 3.9 MB/s eta 0:00:17\n",
            "   ---------------------------- ----------- 149.3/212.5 MB 3.9 MB/s eta 0:00:17\n",
            "   ---------------------------- ----------- 149.5/212.5 MB 3.9 MB/s eta 0:00:17\n",
            "   ---------------------------- ----------- 149.7/212.5 MB 3.9 MB/s eta 0:00:17\n",
            "   ---------------------------- ----------- 149.8/212.5 MB 3.9 MB/s eta 0:00:17\n",
            "   ---------------------------- ----------- 150.0/212.5 MB 3.9 MB/s eta 0:00:17\n",
            "   ---------------------------- ----------- 150.2/212.5 MB 3.9 MB/s eta 0:00:16\n",
            "   ---------------------------- ----------- 150.4/212.5 MB 3.9 MB/s eta 0:00:16\n",
            "   ---------------------------- ----------- 150.5/212.5 MB 3.9 MB/s eta 0:00:16\n",
            "   ---------------------------- ----------- 150.7/212.5 MB 3.9 MB/s eta 0:00:16\n",
            "   ---------------------------- ----------- 150.9/212.5 MB 3.9 MB/s eta 0:00:16\n",
            "   ---------------------------- ----------- 151.1/212.5 MB 3.9 MB/s eta 0:00:16\n",
            "   ---------------------------- ----------- 151.3/212.5 MB 3.9 MB/s eta 0:00:16\n",
            "   ---------------------------- ----------- 151.4/212.5 MB 3.9 MB/s eta 0:00:16\n",
            "   ---------------------------- ----------- 151.6/212.5 MB 3.9 MB/s eta 0:00:16\n",
            "   ---------------------------- ----------- 151.8/212.5 MB 3.9 MB/s eta 0:00:16\n",
            "   ---------------------------- ----------- 152.0/212.5 MB 3.9 MB/s eta 0:00:16\n",
            "   ---------------------------- ----------- 152.2/212.5 MB 3.9 MB/s eta 0:00:16\n",
            "   ---------------------------- ----------- 152.3/212.5 MB 3.9 MB/s eta 0:00:16\n",
            "   ---------------------------- ----------- 152.5/212.5 MB 3.9 MB/s eta 0:00:16\n",
            "   ---------------------------- ----------- 152.7/212.5 MB 3.9 MB/s eta 0:00:16\n",
            "   ---------------------------- ----------- 152.9/212.5 MB 3.9 MB/s eta 0:00:16\n",
            "   ---------------------------- ----------- 153.0/212.5 MB 3.9 MB/s eta 0:00:16\n",
            "   ---------------------------- ----------- 153.2/212.5 MB 3.9 MB/s eta 0:00:16\n",
            "   ---------------------------- ----------- 153.4/212.5 MB 3.9 MB/s eta 0:00:16\n",
            "   ---------------------------- ----------- 153.6/212.5 MB 3.9 MB/s eta 0:00:16\n",
            "   ---------------------------- ----------- 153.8/212.5 MB 3.9 MB/s eta 0:00:16\n",
            "   ---------------------------- ----------- 154.0/212.5 MB 3.9 MB/s eta 0:00:16\n",
            "   ---------------------------- ----------- 154.1/212.5 MB 3.9 MB/s eta 0:00:16\n",
            "   ----------------------------- ---------- 154.3/212.5 MB 3.9 MB/s eta 0:00:15\n",
            "   ----------------------------- ---------- 154.5/212.5 MB 3.9 MB/s eta 0:00:15\n",
            "   ----------------------------- ---------- 154.7/212.5 MB 3.9 MB/s eta 0:00:15\n",
            "   ----------------------------- ---------- 154.8/212.5 MB 3.9 MB/s eta 0:00:15\n",
            "   ----------------------------- ---------- 155.0/212.5 MB 3.9 MB/s eta 0:00:15\n",
            "   ----------------------------- ---------- 155.2/212.5 MB 3.9 MB/s eta 0:00:15\n",
            "   ----------------------------- ---------- 155.4/212.5 MB 3.9 MB/s eta 0:00:15\n",
            "   ----------------------------- ---------- 155.6/212.5 MB 3.9 MB/s eta 0:00:15\n",
            "   ----------------------------- ---------- 155.8/212.5 MB 3.9 MB/s eta 0:00:15\n",
            "   ----------------------------- ---------- 155.9/212.5 MB 3.9 MB/s eta 0:00:15\n",
            "   ----------------------------- ---------- 156.1/212.5 MB 3.9 MB/s eta 0:00:15\n",
            "   ----------------------------- ---------- 156.3/212.5 MB 3.9 MB/s eta 0:00:15\n",
            "   ----------------------------- ---------- 156.5/212.5 MB 3.9 MB/s eta 0:00:15\n",
            "   ----------------------------- ---------- 156.6/212.5 MB 3.9 MB/s eta 0:00:15\n",
            "   ----------------------------- ---------- 156.8/212.5 MB 3.9 MB/s eta 0:00:15\n",
            "   ----------------------------- ---------- 157.0/212.5 MB 3.9 MB/s eta 0:00:15\n",
            "   ----------------------------- ---------- 157.2/212.5 MB 3.9 MB/s eta 0:00:15\n",
            "   ----------------------------- ---------- 157.4/212.5 MB 3.9 MB/s eta 0:00:15\n",
            "   ----------------------------- ---------- 157.6/212.5 MB 3.9 MB/s eta 0:00:15\n",
            "   ----------------------------- ---------- 157.7/212.5 MB 4.0 MB/s eta 0:00:14\n",
            "   ----------------------------- ---------- 157.9/212.5 MB 4.0 MB/s eta 0:00:14\n",
            "   ----------------------------- ---------- 158.1/212.5 MB 4.0 MB/s eta 0:00:14\n",
            "   ----------------------------- ---------- 158.3/212.5 MB 3.9 MB/s eta 0:00:14\n",
            "   ----------------------------- ---------- 158.5/212.5 MB 3.9 MB/s eta 0:00:14\n",
            "   ----------------------------- ---------- 158.6/212.5 MB 3.9 MB/s eta 0:00:14\n",
            "   ----------------------------- ---------- 158.8/212.5 MB 3.9 MB/s eta 0:00:14\n",
            "   ----------------------------- ---------- 159.0/212.5 MB 3.9 MB/s eta 0:00:14\n",
            "   ----------------------------- ---------- 159.2/212.5 MB 3.9 MB/s eta 0:00:14\n",
            "   ----------------------------- ---------- 159.4/212.5 MB 3.9 MB/s eta 0:00:14\n",
            "   ------------------------------ --------- 159.5/212.5 MB 3.9 MB/s eta 0:00:14\n",
            "   ------------------------------ --------- 159.7/212.5 MB 3.9 MB/s eta 0:00:14\n",
            "   ------------------------------ --------- 159.9/212.5 MB 3.9 MB/s eta 0:00:14\n",
            "   ------------------------------ --------- 160.1/212.5 MB 3.9 MB/s eta 0:00:14\n",
            "   ------------------------------ --------- 160.3/212.5 MB 3.9 MB/s eta 0:00:14\n",
            "   ------------------------------ --------- 160.4/212.5 MB 3.9 MB/s eta 0:00:14\n",
            "   ------------------------------ --------- 160.6/212.5 MB 3.9 MB/s eta 0:00:14\n",
            "   ------------------------------ --------- 160.8/212.5 MB 3.9 MB/s eta 0:00:14\n",
            "   ------------------------------ --------- 161.0/212.5 MB 3.9 MB/s eta 0:00:14\n",
            "   ------------------------------ --------- 161.1/212.5 MB 3.9 MB/s eta 0:00:14\n",
            "   ------------------------------ --------- 161.4/212.5 MB 3.9 MB/s eta 0:00:14\n",
            "   ------------------------------ --------- 161.5/212.5 MB 3.9 MB/s eta 0:00:14\n",
            "   ------------------------------ --------- 161.7/212.5 MB 3.9 MB/s eta 0:00:14\n",
            "   ------------------------------ --------- 161.9/212.5 MB 3.9 MB/s eta 0:00:13\n",
            "   ------------------------------ --------- 162.1/212.5 MB 3.9 MB/s eta 0:00:14\n",
            "   ------------------------------ --------- 162.2/212.5 MB 3.9 MB/s eta 0:00:13\n",
            "   ------------------------------ --------- 162.4/212.5 MB 3.9 MB/s eta 0:00:13\n",
            "   ------------------------------ --------- 162.6/212.5 MB 3.9 MB/s eta 0:00:13\n",
            "   ------------------------------ --------- 162.8/212.5 MB 3.9 MB/s eta 0:00:13\n",
            "   ------------------------------ --------- 163.0/212.5 MB 3.9 MB/s eta 0:00:13\n",
            "   ------------------------------ --------- 163.2/212.5 MB 3.9 MB/s eta 0:00:13\n",
            "   ------------------------------ --------- 163.3/212.5 MB 3.9 MB/s eta 0:00:13\n",
            "   ------------------------------ --------- 163.5/212.5 MB 3.9 MB/s eta 0:00:13\n",
            "   ------------------------------ --------- 163.7/212.5 MB 3.9 MB/s eta 0:00:13\n",
            "   ------------------------------ --------- 163.9/212.5 MB 3.9 MB/s eta 0:00:13\n",
            "   ------------------------------ --------- 164.1/212.5 MB 3.9 MB/s eta 0:00:13\n",
            "   ------------------------------ --------- 164.1/212.5 MB 3.9 MB/s eta 0:00:13\n",
            "   ------------------------------ --------- 164.1/212.5 MB 3.9 MB/s eta 0:00:13\n",
            "   ------------------------------ --------- 164.1/212.5 MB 3.7 MB/s eta 0:00:14\n",
            "   ------------------------------ --------- 164.5/212.5 MB 3.8 MB/s eta 0:00:13\n",
            "   ------------------------------- -------- 164.9/212.5 MB 3.9 MB/s eta 0:00:13\n",
            "   ------------------------------- -------- 165.1/212.5 MB 3.9 MB/s eta 0:00:13\n",
            "   ------------------------------- -------- 165.3/212.5 MB 3.9 MB/s eta 0:00:13\n",
            "   ------------------------------- -------- 165.5/212.5 MB 3.9 MB/s eta 0:00:13\n",
            "   ------------------------------- -------- 165.7/212.5 MB 3.9 MB/s eta 0:00:13\n",
            "   ------------------------------- -------- 165.8/212.5 MB 3.9 MB/s eta 0:00:12\n",
            "   ------------------------------- -------- 166.0/212.5 MB 3.9 MB/s eta 0:00:12\n",
            "   ------------------------------- -------- 166.2/212.5 MB 3.9 MB/s eta 0:00:12\n",
            "   ------------------------------- -------- 166.4/212.5 MB 3.9 MB/s eta 0:00:12\n",
            "   ------------------------------- -------- 166.6/212.5 MB 3.9 MB/s eta 0:00:12\n",
            "   ------------------------------- -------- 166.7/212.5 MB 3.9 MB/s eta 0:00:12\n",
            "   ------------------------------- -------- 166.9/212.5 MB 3.9 MB/s eta 0:00:12\n",
            "   ------------------------------- -------- 167.1/212.5 MB 3.9 MB/s eta 0:00:12\n",
            "   ------------------------------- -------- 167.3/212.5 MB 3.9 MB/s eta 0:00:12\n",
            "   ------------------------------- -------- 167.5/212.5 MB 3.9 MB/s eta 0:00:12\n",
            "   ------------------------------- -------- 167.6/212.5 MB 3.9 MB/s eta 0:00:12\n",
            "   ------------------------------- -------- 167.8/212.5 MB 3.9 MB/s eta 0:00:12\n",
            "   ------------------------------- -------- 168.0/212.5 MB 3.9 MB/s eta 0:00:12\n",
            "   ------------------------------- -------- 168.2/212.5 MB 3.9 MB/s eta 0:00:12\n",
            "   ------------------------------- -------- 168.3/212.5 MB 3.9 MB/s eta 0:00:12\n",
            "   ------------------------------- -------- 168.5/212.5 MB 3.9 MB/s eta 0:00:12\n",
            "   ------------------------------- -------- 168.7/212.5 MB 3.9 MB/s eta 0:00:12\n",
            "   ------------------------------- -------- 168.9/212.5 MB 3.9 MB/s eta 0:00:12\n",
            "   ------------------------------- -------- 169.1/212.5 MB 3.9 MB/s eta 0:00:12\n",
            "   ------------------------------- -------- 169.2/212.5 MB 3.9 MB/s eta 0:00:12\n",
            "   ------------------------------- -------- 169.4/212.5 MB 3.9 MB/s eta 0:00:12\n",
            "   ------------------------------- -------- 169.6/212.5 MB 3.9 MB/s eta 0:00:12\n",
            "   ------------------------------- -------- 169.8/212.5 MB 3.9 MB/s eta 0:00:11\n",
            "   ------------------------------- -------- 170.0/212.5 MB 3.9 MB/s eta 0:00:11\n",
            "   -------------------------------- ------- 170.1/212.5 MB 3.9 MB/s eta 0:00:11\n",
            "   -------------------------------- ------- 170.3/212.5 MB 3.9 MB/s eta 0:00:11\n",
            "   -------------------------------- ------- 170.5/212.5 MB 3.9 MB/s eta 0:00:11\n",
            "   -------------------------------- ------- 170.7/212.5 MB 3.9 MB/s eta 0:00:11\n",
            "   -------------------------------- ------- 170.9/212.5 MB 3.9 MB/s eta 0:00:11\n",
            "   -------------------------------- ------- 171.0/212.5 MB 3.9 MB/s eta 0:00:11\n",
            "   -------------------------------- ------- 171.2/212.5 MB 3.9 MB/s eta 0:00:11\n",
            "   -------------------------------- ------- 171.4/212.5 MB 3.9 MB/s eta 0:00:11\n",
            "   -------------------------------- ------- 171.6/212.5 MB 3.9 MB/s eta 0:00:11\n",
            "   -------------------------------- ------- 171.7/212.5 MB 3.9 MB/s eta 0:00:11\n",
            "   -------------------------------- ------- 171.9/212.5 MB 3.9 MB/s eta 0:00:11\n",
            "   -------------------------------- ------- 172.1/212.5 MB 3.9 MB/s eta 0:00:11\n",
            "   -------------------------------- ------- 172.3/212.5 MB 3.9 MB/s eta 0:00:11\n",
            "   -------------------------------- ------- 172.5/212.5 MB 3.9 MB/s eta 0:00:11\n",
            "   -------------------------------- ------- 172.6/212.5 MB 3.9 MB/s eta 0:00:11\n",
            "   -------------------------------- ------- 172.8/212.5 MB 3.9 MB/s eta 0:00:11\n",
            "   -------------------------------- ------- 173.0/212.5 MB 3.9 MB/s eta 0:00:11\n",
            "   -------------------------------- ------- 173.2/212.5 MB 3.9 MB/s eta 0:00:11\n",
            "   -------------------------------- ------- 173.4/212.5 MB 3.9 MB/s eta 0:00:11\n",
            "   -------------------------------- ------- 173.5/212.5 MB 3.9 MB/s eta 0:00:11\n",
            "   -------------------------------- ------- 173.7/212.5 MB 3.9 MB/s eta 0:00:10\n",
            "   -------------------------------- ------- 173.9/212.5 MB 3.9 MB/s eta 0:00:10\n",
            "   -------------------------------- ------- 174.1/212.5 MB 3.9 MB/s eta 0:00:10\n",
            "   -------------------------------- ------- 174.3/212.5 MB 3.9 MB/s eta 0:00:10\n",
            "   -------------------------------- ------- 174.4/212.5 MB 4.0 MB/s eta 0:00:10\n",
            "   -------------------------------- ------- 174.6/212.5 MB 4.0 MB/s eta 0:00:10\n",
            "   -------------------------------- ------- 174.8/212.5 MB 4.0 MB/s eta 0:00:10\n",
            "   -------------------------------- ------- 175.0/212.5 MB 3.9 MB/s eta 0:00:10\n",
            "   -------------------------------- ------- 175.1/212.5 MB 3.9 MB/s eta 0:00:10\n",
            "   --------------------------------- ------ 175.3/212.5 MB 3.9 MB/s eta 0:00:10\n",
            "   --------------------------------- ------ 175.5/212.5 MB 3.9 MB/s eta 0:00:10\n",
            "   --------------------------------- ------ 175.7/212.5 MB 3.9 MB/s eta 0:00:10\n",
            "   --------------------------------- ------ 175.9/212.5 MB 3.9 MB/s eta 0:00:10\n",
            "   --------------------------------- ------ 176.1/212.5 MB 3.9 MB/s eta 0:00:10\n",
            "   --------------------------------- ------ 176.2/212.5 MB 3.9 MB/s eta 0:00:10\n",
            "   --------------------------------- ------ 176.4/212.5 MB 3.9 MB/s eta 0:00:10\n",
            "   --------------------------------- ------ 176.5/212.5 MB 3.9 MB/s eta 0:00:10\n",
            "   --------------------------------- ------ 176.5/212.5 MB 3.9 MB/s eta 0:00:10\n",
            "   --------------------------------- ------ 176.5/212.5 MB 3.9 MB/s eta 0:00:10\n",
            "   --------------------------------- ------ 176.8/212.5 MB 3.8 MB/s eta 0:00:10\n",
            "   --------------------------------- ------ 176.8/212.5 MB 3.8 MB/s eta 0:00:10\n",
            "   --------------------------------- ------ 177.0/212.5 MB 3.7 MB/s eta 0:00:10\n",
            "   --------------------------------- ------ 177.2/212.5 MB 3.7 MB/s eta 0:00:10\n",
            "   --------------------------------- ------ 177.3/212.5 MB 3.7 MB/s eta 0:00:10\n",
            "   --------------------------------- ------ 177.3/212.5 MB 3.7 MB/s eta 0:00:10\n",
            "   --------------------------------- ------ 177.5/212.5 MB 3.6 MB/s eta 0:00:10\n",
            "   --------------------------------- ------ 177.6/212.5 MB 3.6 MB/s eta 0:00:10\n",
            "   --------------------------------- ------ 177.7/212.5 MB 3.6 MB/s eta 0:00:10\n",
            "   --------------------------------- ------ 177.7/212.5 MB 3.5 MB/s eta 0:00:10\n",
            "   --------------------------------- ------ 177.7/212.5 MB 3.5 MB/s eta 0:00:10\n",
            "   --------------------------------- ------ 178.0/212.5 MB 3.5 MB/s eta 0:00:10\n",
            "   --------------------------------- ------ 178.1/212.5 MB 3.5 MB/s eta 0:00:10\n",
            "   --------------------------------- ------ 178.1/212.5 MB 3.5 MB/s eta 0:00:10\n",
            "   --------------------------------- ------ 178.1/212.5 MB 3.4 MB/s eta 0:00:11\n",
            "   --------------------------------- ------ 178.2/212.5 MB 3.3 MB/s eta 0:00:11\n",
            "   --------------------------------- ------ 178.2/212.5 MB 3.3 MB/s eta 0:00:11\n",
            "   --------------------------------- ------ 178.3/212.5 MB 3.3 MB/s eta 0:00:11\n",
            "   --------------------------------- ------ 178.4/212.5 MB 3.3 MB/s eta 0:00:11\n",
            "   --------------------------------- ------ 178.4/212.5 MB 3.2 MB/s eta 0:00:11\n",
            "   --------------------------------- ------ 178.5/212.5 MB 3.2 MB/s eta 0:00:11\n",
            "   --------------------------------- ------ 178.6/212.5 MB 3.1 MB/s eta 0:00:11\n",
            "   --------------------------------- ------ 178.6/212.5 MB 3.1 MB/s eta 0:00:11\n",
            "   --------------------------------- ------ 178.6/212.5 MB 3.1 MB/s eta 0:00:11\n",
            "   --------------------------------- ------ 178.7/212.5 MB 3.1 MB/s eta 0:00:12\n",
            "   --------------------------------- ------ 178.8/212.5 MB 3.0 MB/s eta 0:00:12\n",
            "   --------------------------------- ------ 178.8/212.5 MB 3.0 MB/s eta 0:00:12\n",
            "   --------------------------------- ------ 178.9/212.5 MB 3.0 MB/s eta 0:00:12\n",
            "   --------------------------------- ------ 179.0/212.5 MB 2.9 MB/s eta 0:00:12\n",
            "   --------------------------------- ------ 179.0/212.5 MB 2.9 MB/s eta 0:00:12\n",
            "   --------------------------------- ------ 179.1/212.5 MB 2.9 MB/s eta 0:00:12\n",
            "   --------------------------------- ------ 179.2/212.5 MB 2.9 MB/s eta 0:00:12\n",
            "   --------------------------------- ------ 179.2/212.5 MB 2.9 MB/s eta 0:00:12\n",
            "   --------------------------------- ------ 179.3/212.5 MB 2.8 MB/s eta 0:00:12\n",
            "   --------------------------------- ------ 179.3/212.5 MB 2.8 MB/s eta 0:00:12\n",
            "   --------------------------------- ------ 179.4/212.5 MB 2.8 MB/s eta 0:00:12\n",
            "   --------------------------------- ------ 179.4/212.5 MB 2.8 MB/s eta 0:00:12\n",
            "   --------------------------------- ------ 179.5/212.5 MB 2.7 MB/s eta 0:00:13\n",
            "   --------------------------------- ------ 179.5/212.5 MB 2.7 MB/s eta 0:00:13\n",
            "   --------------------------------- ------ 179.6/212.5 MB 2.7 MB/s eta 0:00:13\n",
            "   --------------------------------- ------ 179.7/212.5 MB 2.7 MB/s eta 0:00:13\n",
            "   --------------------------------- ------ 179.7/212.5 MB 2.7 MB/s eta 0:00:13\n",
            "   --------------------------------- ------ 179.8/212.5 MB 2.6 MB/s eta 0:00:13\n",
            "   --------------------------------- ------ 179.9/212.5 MB 2.6 MB/s eta 0:00:13\n",
            "   --------------------------------- ------ 179.9/212.5 MB 2.6 MB/s eta 0:00:13\n",
            "   --------------------------------- ------ 180.0/212.5 MB 2.6 MB/s eta 0:00:13\n",
            "   --------------------------------- ------ 180.0/212.5 MB 2.5 MB/s eta 0:00:13\n",
            "   --------------------------------- ------ 180.1/212.5 MB 2.5 MB/s eta 0:00:13\n",
            "   --------------------------------- ------ 180.2/212.5 MB 2.5 MB/s eta 0:00:13\n",
            "   --------------------------------- ------ 180.3/212.5 MB 2.5 MB/s eta 0:00:13\n",
            "   --------------------------------- ------ 180.4/212.5 MB 2.5 MB/s eta 0:00:14\n",
            "   --------------------------------- ------ 180.4/212.5 MB 2.5 MB/s eta 0:00:14\n",
            "   --------------------------------- ------ 180.5/212.5 MB 2.4 MB/s eta 0:00:14\n",
            "   --------------------------------- ------ 180.6/212.5 MB 2.4 MB/s eta 0:00:14\n",
            "   --------------------------------- ------ 180.6/212.5 MB 2.4 MB/s eta 0:00:14\n",
            "   ---------------------------------- ----- 180.7/212.5 MB 2.4 MB/s eta 0:00:14\n",
            "   ---------------------------------- ----- 180.8/212.5 MB 2.4 MB/s eta 0:00:14\n",
            "   ---------------------------------- ----- 180.9/212.5 MB 2.4 MB/s eta 0:00:14\n",
            "   ---------------------------------- ----- 180.9/212.5 MB 2.3 MB/s eta 0:00:14\n",
            "   ---------------------------------- ----- 181.0/212.5 MB 2.3 MB/s eta 0:00:14\n",
            "   ---------------------------------- ----- 181.0/212.5 MB 2.3 MB/s eta 0:00:14\n",
            "   ---------------------------------- ----- 181.1/212.5 MB 2.3 MB/s eta 0:00:14\n",
            "   ---------------------------------- ----- 181.2/212.5 MB 2.3 MB/s eta 0:00:14\n",
            "   ---------------------------------- ----- 181.3/212.5 MB 2.3 MB/s eta 0:00:14\n",
            "   ---------------------------------- ----- 181.3/212.5 MB 2.3 MB/s eta 0:00:14\n",
            "   ---------------------------------- ----- 181.4/212.5 MB 2.2 MB/s eta 0:00:14\n",
            "   ---------------------------------- ----- 181.5/212.5 MB 2.2 MB/s eta 0:00:14\n",
            "   ---------------------------------- ----- 181.5/212.5 MB 2.2 MB/s eta 0:00:14\n",
            "   ---------------------------------- ----- 181.6/212.5 MB 2.2 MB/s eta 0:00:15\n",
            "   ---------------------------------- ----- 181.6/212.5 MB 2.2 MB/s eta 0:00:15\n",
            "   ---------------------------------- ----- 181.6/212.5 MB 2.2 MB/s eta 0:00:15\n",
            "   ---------------------------------- ----- 181.7/212.5 MB 2.2 MB/s eta 0:00:15\n",
            "   ---------------------------------- ----- 181.8/212.5 MB 2.1 MB/s eta 0:00:15\n",
            "   ---------------------------------- ----- 181.8/212.5 MB 2.1 MB/s eta 0:00:15\n",
            "   ---------------------------------- ----- 181.9/212.5 MB 2.1 MB/s eta 0:00:15\n",
            "   ---------------------------------- ----- 181.9/212.5 MB 2.1 MB/s eta 0:00:15\n",
            "   ---------------------------------- ----- 181.9/212.5 MB 2.1 MB/s eta 0:00:15\n",
            "   ---------------------------------- ----- 182.0/212.5 MB 2.1 MB/s eta 0:00:15\n",
            "   ---------------------------------- ----- 182.1/212.5 MB 2.1 MB/s eta 0:00:15\n",
            "   ---------------------------------- ----- 182.1/212.5 MB 2.0 MB/s eta 0:00:15\n",
            "   ---------------------------------- ----- 182.2/212.5 MB 2.0 MB/s eta 0:00:15\n",
            "   ---------------------------------- ----- 182.3/212.5 MB 2.0 MB/s eta 0:00:15\n",
            "   ---------------------------------- ----- 182.4/212.5 MB 2.0 MB/s eta 0:00:16\n",
            "   ---------------------------------- ----- 182.4/212.5 MB 2.0 MB/s eta 0:00:16\n",
            "   ---------------------------------- ----- 182.5/212.5 MB 2.0 MB/s eta 0:00:16\n",
            "   ---------------------------------- ----- 182.7/212.5 MB 2.0 MB/s eta 0:00:16\n",
            "   ---------------------------------- ----- 182.9/212.5 MB 2.0 MB/s eta 0:00:15\n",
            "   ---------------------------------- ----- 183.1/212.5 MB 2.0 MB/s eta 0:00:15\n",
            "   ---------------------------------- ----- 183.3/212.5 MB 2.0 MB/s eta 0:00:15\n",
            "   ---------------------------------- ----- 183.5/212.5 MB 2.0 MB/s eta 0:00:15\n",
            "   ---------------------------------- ----- 183.7/212.5 MB 2.0 MB/s eta 0:00:15\n",
            "   ---------------------------------- ----- 183.9/212.5 MB 2.0 MB/s eta 0:00:15\n",
            "   ---------------------------------- ----- 184.1/212.5 MB 2.0 MB/s eta 0:00:15\n",
            "   ---------------------------------- ----- 184.2/212.5 MB 2.0 MB/s eta 0:00:15\n",
            "   ---------------------------------- ----- 184.5/212.5 MB 2.0 MB/s eta 0:00:15\n",
            "   ---------------------------------- ----- 184.7/212.5 MB 2.0 MB/s eta 0:00:14\n",
            "   ---------------------------------- ----- 184.9/212.5 MB 2.0 MB/s eta 0:00:14\n",
            "   ---------------------------------- ----- 185.1/212.5 MB 2.0 MB/s eta 0:00:14\n",
            "   ---------------------------------- ----- 185.3/212.5 MB 2.0 MB/s eta 0:00:14\n",
            "   ---------------------------------- ----- 185.4/212.5 MB 2.0 MB/s eta 0:00:14\n",
            "   ---------------------------------- ----- 185.6/212.5 MB 2.0 MB/s eta 0:00:14\n",
            "   ---------------------------------- ----- 185.8/212.5 MB 2.0 MB/s eta 0:00:14\n",
            "   ----------------------------------- ---- 186.0/212.5 MB 2.0 MB/s eta 0:00:14\n",
            "   ----------------------------------- ---- 186.3/212.5 MB 2.0 MB/s eta 0:00:14\n",
            "   ----------------------------------- ---- 186.5/212.5 MB 2.0 MB/s eta 0:00:13\n",
            "   ----------------------------------- ---- 186.7/212.5 MB 2.0 MB/s eta 0:00:13\n",
            "   ----------------------------------- ---- 186.9/212.5 MB 2.1 MB/s eta 0:00:13\n",
            "   ----------------------------------- ---- 187.1/212.5 MB 2.1 MB/s eta 0:00:13\n",
            "   ----------------------------------- ---- 187.2/212.5 MB 2.1 MB/s eta 0:00:13\n",
            "   ----------------------------------- ---- 187.4/212.5 MB 2.1 MB/s eta 0:00:13\n",
            "   ----------------------------------- ---- 187.6/212.5 MB 2.1 MB/s eta 0:00:12\n",
            "   ----------------------------------- ---- 187.8/212.5 MB 2.1 MB/s eta 0:00:12\n",
            "   ----------------------------------- ---- 188.0/212.5 MB 2.2 MB/s eta 0:00:12\n",
            "   ----------------------------------- ---- 188.2/212.5 MB 2.1 MB/s eta 0:00:12\n",
            "   ----------------------------------- ---- 188.3/212.5 MB 2.2 MB/s eta 0:00:12\n",
            "   ----------------------------------- ---- 188.5/212.5 MB 2.2 MB/s eta 0:00:11\n",
            "   ----------------------------------- ---- 188.7/212.5 MB 2.3 MB/s eta 0:00:11\n",
            "   ----------------------------------- ---- 188.9/212.5 MB 2.3 MB/s eta 0:00:11\n",
            "   ----------------------------------- ---- 189.1/212.5 MB 2.4 MB/s eta 0:00:10\n",
            "   ----------------------------------- ---- 189.2/212.5 MB 2.4 MB/s eta 0:00:10\n",
            "   ----------------------------------- ---- 189.4/212.5 MB 2.5 MB/s eta 0:00:10\n",
            "   ----------------------------------- ---- 189.6/212.5 MB 2.6 MB/s eta 0:00:09\n",
            "   ----------------------------------- ---- 189.8/212.5 MB 2.6 MB/s eta 0:00:09\n",
            "   ----------------------------------- ---- 190.0/212.5 MB 2.7 MB/s eta 0:00:09\n",
            "   ----------------------------------- ---- 190.1/212.5 MB 2.8 MB/s eta 0:00:09\n",
            "   ----------------------------------- ---- 190.3/212.5 MB 2.8 MB/s eta 0:00:08\n",
            "   ----------------------------------- ---- 190.5/212.5 MB 2.8 MB/s eta 0:00:08\n",
            "   ----------------------------------- ---- 190.7/212.5 MB 2.9 MB/s eta 0:00:08\n",
            "   ----------------------------------- ---- 190.8/212.5 MB 3.0 MB/s eta 0:00:08\n",
            "   ----------------------------------- ---- 191.0/212.5 MB 3.0 MB/s eta 0:00:08\n",
            "   ----------------------------------- ---- 191.2/212.5 MB 3.1 MB/s eta 0:00:07\n",
            "   ------------------------------------ --- 191.4/212.5 MB 3.2 MB/s eta 0:00:07\n",
            "   ------------------------------------ --- 191.6/212.5 MB 3.3 MB/s eta 0:00:07\n",
            "   ------------------------------------ --- 191.8/212.5 MB 3.4 MB/s eta 0:00:07\n",
            "   ------------------------------------ --- 191.9/212.5 MB 3.5 MB/s eta 0:00:06\n",
            "   ------------------------------------ --- 192.1/212.5 MB 3.7 MB/s eta 0:00:06\n",
            "   ------------------------------------ --- 192.3/212.5 MB 3.8 MB/s eta 0:00:06\n",
            "   ------------------------------------ --- 192.5/212.5 MB 3.9 MB/s eta 0:00:06\n",
            "   ------------------------------------ --- 192.7/212.5 MB 4.0 MB/s eta 0:00:05\n",
            "   ------------------------------------ --- 192.8/212.5 MB 4.0 MB/s eta 0:00:05\n",
            "   ------------------------------------ --- 193.0/212.5 MB 4.0 MB/s eta 0:00:05\n",
            "   ------------------------------------ --- 193.2/212.5 MB 4.0 MB/s eta 0:00:05\n",
            "   ------------------------------------ --- 193.4/212.5 MB 4.0 MB/s eta 0:00:05\n",
            "   ------------------------------------ --- 193.5/212.5 MB 4.0 MB/s eta 0:00:05\n",
            "   ------------------------------------ --- 193.7/212.5 MB 4.0 MB/s eta 0:00:05\n",
            "   ------------------------------------ --- 193.9/212.5 MB 4.0 MB/s eta 0:00:05\n",
            "   ------------------------------------ --- 194.1/212.5 MB 4.0 MB/s eta 0:00:05\n",
            "   ------------------------------------ --- 194.3/212.5 MB 4.0 MB/s eta 0:00:05\n",
            "   ------------------------------------ --- 194.5/212.5 MB 4.0 MB/s eta 0:00:05\n",
            "   ------------------------------------ --- 194.6/212.5 MB 4.0 MB/s eta 0:00:05\n",
            "   ------------------------------------ --- 194.8/212.5 MB 4.0 MB/s eta 0:00:05\n",
            "   ------------------------------------ --- 195.0/212.5 MB 4.0 MB/s eta 0:00:05\n",
            "   ------------------------------------ --- 195.2/212.5 MB 3.9 MB/s eta 0:00:05\n",
            "   ------------------------------------ --- 195.4/212.5 MB 3.9 MB/s eta 0:00:05\n",
            "   ------------------------------------ --- 195.5/212.5 MB 3.9 MB/s eta 0:00:05\n",
            "   ------------------------------------ --- 195.7/212.5 MB 4.0 MB/s eta 0:00:05\n",
            "   ------------------------------------ --- 195.9/212.5 MB 4.0 MB/s eta 0:00:05\n",
            "   ------------------------------------ --- 196.1/212.5 MB 3.9 MB/s eta 0:00:05\n",
            "   ------------------------------------ --- 196.3/212.5 MB 3.9 MB/s eta 0:00:05\n",
            "   ------------------------------------ --- 196.5/212.5 MB 3.9 MB/s eta 0:00:05\n",
            "   ------------------------------------- -- 196.6/212.5 MB 3.9 MB/s eta 0:00:05\n",
            "   ------------------------------------- -- 196.8/212.5 MB 3.9 MB/s eta 0:00:05\n",
            "   ------------------------------------- -- 197.0/212.5 MB 3.9 MB/s eta 0:00:05\n",
            "   ------------------------------------- -- 197.2/212.5 MB 3.9 MB/s eta 0:00:04\n",
            "   ------------------------------------- -- 197.3/212.5 MB 3.9 MB/s eta 0:00:04\n",
            "   ------------------------------------- -- 197.5/212.5 MB 3.9 MB/s eta 0:00:04\n",
            "   ------------------------------------- -- 197.7/212.5 MB 3.9 MB/s eta 0:00:04\n",
            "   ------------------------------------- -- 197.9/212.5 MB 3.9 MB/s eta 0:00:04\n",
            "   ------------------------------------- -- 198.0/212.5 MB 3.9 MB/s eta 0:00:04\n",
            "   ------------------------------------- -- 198.2/212.5 MB 3.9 MB/s eta 0:00:04\n",
            "   ------------------------------------- -- 198.4/212.5 MB 3.9 MB/s eta 0:00:04\n",
            "   ------------------------------------- -- 198.6/212.5 MB 3.9 MB/s eta 0:00:04\n",
            "   ------------------------------------- -- 198.8/212.5 MB 3.9 MB/s eta 0:00:04\n",
            "   ------------------------------------- -- 198.9/212.5 MB 3.9 MB/s eta 0:00:04\n",
            "   ------------------------------------- -- 199.1/212.5 MB 3.9 MB/s eta 0:00:04\n",
            "   ------------------------------------- -- 199.3/212.5 MB 3.9 MB/s eta 0:00:04\n",
            "   ------------------------------------- -- 199.5/212.5 MB 3.9 MB/s eta 0:00:04\n",
            "   ------------------------------------- -- 199.7/212.5 MB 3.9 MB/s eta 0:00:04\n",
            "   ------------------------------------- -- 199.9/212.5 MB 3.9 MB/s eta 0:00:04\n",
            "   ------------------------------------- -- 200.0/212.5 MB 3.9 MB/s eta 0:00:04\n",
            "   ------------------------------------- -- 200.2/212.5 MB 3.9 MB/s eta 0:00:04\n",
            "   ------------------------------------- -- 200.4/212.5 MB 3.9 MB/s eta 0:00:04\n",
            "   ------------------------------------- -- 200.6/212.5 MB 3.9 MB/s eta 0:00:04\n",
            "   ------------------------------------- -- 200.8/212.5 MB 3.9 MB/s eta 0:00:04\n",
            "   ------------------------------------- -- 200.9/212.5 MB 3.9 MB/s eta 0:00:03\n",
            "   ------------------------------------- -- 201.1/212.5 MB 3.9 MB/s eta 0:00:03\n",
            "   ------------------------------------- -- 201.3/212.5 MB 3.9 MB/s eta 0:00:03\n",
            "   ------------------------------------- -- 201.5/212.5 MB 3.9 MB/s eta 0:00:03\n",
            "   ------------------------------------- -- 201.7/212.5 MB 3.9 MB/s eta 0:00:03\n",
            "   ------------------------------------- -- 201.9/212.5 MB 3.9 MB/s eta 0:00:03\n",
            "   -------------------------------------- - 202.0/212.5 MB 3.9 MB/s eta 0:00:03\n",
            "   -------------------------------------- - 202.2/212.5 MB 3.9 MB/s eta 0:00:03\n",
            "   -------------------------------------- - 202.4/212.5 MB 3.9 MB/s eta 0:00:03\n",
            "   -------------------------------------- - 202.6/212.5 MB 3.9 MB/s eta 0:00:03\n",
            "   -------------------------------------- - 202.8/212.5 MB 3.9 MB/s eta 0:00:03\n",
            "   -------------------------------------- - 202.9/212.5 MB 3.9 MB/s eta 0:00:03\n",
            "   -------------------------------------- - 203.1/212.5 MB 3.9 MB/s eta 0:00:03\n",
            "   -------------------------------------- - 203.3/212.5 MB 3.9 MB/s eta 0:00:03\n",
            "   -------------------------------------- - 203.5/212.5 MB 3.9 MB/s eta 0:00:03\n",
            "   -------------------------------------- - 203.7/212.5 MB 3.9 MB/s eta 0:00:03\n",
            "   -------------------------------------- - 203.8/212.5 MB 3.9 MB/s eta 0:00:03\n",
            "   -------------------------------------- - 204.0/212.5 MB 3.9 MB/s eta 0:00:03\n",
            "   -------------------------------------- - 204.2/212.5 MB 3.9 MB/s eta 0:00:03\n",
            "   -------------------------------------- - 204.4/212.5 MB 3.9 MB/s eta 0:00:03\n",
            "   -------------------------------------- - 204.6/212.5 MB 3.9 MB/s eta 0:00:03\n",
            "   -------------------------------------- - 204.7/212.5 MB 3.9 MB/s eta 0:00:02\n",
            "   -------------------------------------- - 204.9/212.5 MB 3.9 MB/s eta 0:00:02\n",
            "   -------------------------------------- - 205.1/212.5 MB 3.9 MB/s eta 0:00:02\n",
            "   -------------------------------------- - 205.3/212.5 MB 3.9 MB/s eta 0:00:02\n",
            "   -------------------------------------- - 205.4/212.5 MB 3.9 MB/s eta 0:00:02\n",
            "   -------------------------------------- - 205.6/212.5 MB 3.9 MB/s eta 0:00:02\n",
            "   -------------------------------------- - 205.8/212.5 MB 3.9 MB/s eta 0:00:02\n",
            "   -------------------------------------- - 206.0/212.5 MB 3.9 MB/s eta 0:00:02\n",
            "   -------------------------------------- - 206.2/212.5 MB 3.9 MB/s eta 0:00:02\n",
            "   -------------------------------------- - 206.3/212.5 MB 3.9 MB/s eta 0:00:02\n",
            "   -------------------------------------- - 206.5/212.5 MB 3.9 MB/s eta 0:00:02\n",
            "   -------------------------------------- - 206.7/212.5 MB 3.9 MB/s eta 0:00:02\n",
            "   -------------------------------------- - 206.9/212.5 MB 3.9 MB/s eta 0:00:02\n",
            "   -------------------------------------- - 207.1/212.5 MB 3.9 MB/s eta 0:00:02\n",
            "   ---------------------------------------  207.3/212.5 MB 3.9 MB/s eta 0:00:02\n",
            "   ---------------------------------------  207.4/212.5 MB 3.9 MB/s eta 0:00:02\n",
            "   ---------------------------------------  207.6/212.5 MB 3.9 MB/s eta 0:00:02\n",
            "   ---------------------------------------  207.8/212.5 MB 3.9 MB/s eta 0:00:02\n",
            "   ---------------------------------------  208.0/212.5 MB 3.9 MB/s eta 0:00:02\n",
            "   ---------------------------------------  208.1/212.5 MB 3.9 MB/s eta 0:00:02\n",
            "   ---------------------------------------  208.3/212.5 MB 3.9 MB/s eta 0:00:02\n",
            "   ---------------------------------------  208.5/212.5 MB 3.9 MB/s eta 0:00:02\n",
            "   ---------------------------------------  208.7/212.5 MB 3.9 MB/s eta 0:00:01\n",
            "   ---------------------------------------  208.9/212.5 MB 3.9 MB/s eta 0:00:01\n",
            "   ---------------------------------------  209.0/212.5 MB 3.9 MB/s eta 0:00:01\n",
            "   ---------------------------------------  209.2/212.5 MB 3.9 MB/s eta 0:00:01\n",
            "   ---------------------------------------  209.4/212.5 MB 3.9 MB/s eta 0:00:01\n",
            "   ---------------------------------------  209.6/212.5 MB 3.9 MB/s eta 0:00:01\n",
            "   ---------------------------------------  209.8/212.5 MB 3.9 MB/s eta 0:00:01\n",
            "   ---------------------------------------  209.9/212.5 MB 3.9 MB/s eta 0:00:01\n",
            "   ---------------------------------------  210.1/212.5 MB 3.9 MB/s eta 0:00:01\n",
            "   ---------------------------------------  210.3/212.5 MB 3.9 MB/s eta 0:00:01\n",
            "   ---------------------------------------  210.5/212.5 MB 3.9 MB/s eta 0:00:01\n",
            "   ---------------------------------------  210.7/212.5 MB 3.9 MB/s eta 0:00:01\n",
            "   ---------------------------------------  210.8/212.5 MB 3.9 MB/s eta 0:00:01\n",
            "   ---------------------------------------  211.0/212.5 MB 3.9 MB/s eta 0:00:01\n",
            "   ---------------------------------------  211.2/212.5 MB 3.9 MB/s eta 0:00:01\n",
            "   ---------------------------------------  211.4/212.5 MB 3.9 MB/s eta 0:00:01\n",
            "   ---------------------------------------  211.6/212.5 MB 3.9 MB/s eta 0:00:01\n",
            "   ---------------------------------------  211.8/212.5 MB 3.9 MB/s eta 0:00:01\n",
            "   ---------------------------------------  211.9/212.5 MB 3.9 MB/s eta 0:00:01\n",
            "   ---------------------------------------  212.1/212.5 MB 3.9 MB/s eta 0:00:01\n",
            "   ---------------------------------------  212.3/212.5 MB 3.9 MB/s eta 0:00:01\n",
            "   ---------------------------------------  212.5/212.5 MB 3.9 MB/s eta 0:00:01\n",
            "   ---------------------------------------  212.5/212.5 MB 3.9 MB/s eta 0:00:01\n",
            "   ---------------------------------------  212.5/212.5 MB 3.9 MB/s eta 0:00:01\n",
            "   ---------------------------------------  212.5/212.5 MB 3.9 MB/s eta 0:00:01\n",
            "   ---------------------------------------  212.5/212.5 MB 3.9 MB/s eta 0:00:01\n",
            "   ---------------------------------------  212.5/212.5 MB 3.9 MB/s eta 0:00:01\n",
            "   ---------------------------------------  212.5/212.5 MB 3.9 MB/s eta 0:00:01\n",
            "   ---------------------------------------  212.5/212.5 MB 3.9 MB/s eta 0:00:01\n",
            "   ---------------------------------------  212.5/212.5 MB 3.9 MB/s eta 0:00:01\n",
            "   ---------------------------------------  212.5/212.5 MB 3.9 MB/s eta 0:00:01\n",
            "   ---------------------------------------  212.5/212.5 MB 3.9 MB/s eta 0:00:01\n",
            "   ---------------------------------------  212.5/212.5 MB 3.9 MB/s eta 0:00:01\n",
            "   ---------------------------------------- 212.5/212.5 MB 3.2 MB/s eta 0:00:00\n",
            "Downloading torchaudio-2.7.0-cp311-cp311-win_amd64.whl (2.5 MB)\n",
            "   ---------------------------------------- 0.0/2.5 MB ? eta -:--:--\n",
            "   ---- ----------------------------------- 0.3/2.5 MB 6.3 MB/s eta 0:00:01\n",
            "   ----------- ---------------------------- 0.7/2.5 MB 7.6 MB/s eta 0:00:01\n",
            "   -------------- ------------------------- 0.9/2.5 MB 6.4 MB/s eta 0:00:01\n",
            "   ----------------- ---------------------- 1.1/2.5 MB 6.2 MB/s eta 0:00:01\n",
            "   -------------------- ------------------- 1.3/2.5 MB 5.7 MB/s eta 0:00:01\n",
            "   ----------------------- ---------------- 1.5/2.5 MB 5.1 MB/s eta 0:00:01\n",
            "   ------------------------- -------------- 1.6/2.5 MB 5.2 MB/s eta 0:00:01\n",
            "   ---------------------------- ----------- 1.8/2.5 MB 5.0 MB/s eta 0:00:01\n",
            "   ------------------------------- -------- 2.0/2.5 MB 4.8 MB/s eta 0:00:01\n",
            "   ---------------------------------- ----- 2.2/2.5 MB 4.8 MB/s eta 0:00:01\n",
            "   ------------------------------------- -- 2.4/2.5 MB 4.7 MB/s eta 0:00:01\n",
            "   ---------------------------------------  2.5/2.5 MB 4.5 MB/s eta 0:00:01\n",
            "   ---------------------------------------- 2.5/2.5 MB 4.4 MB/s eta 0:00:00\n",
            "Downloading sympy-1.14.0-py3-none-any.whl (6.3 MB)\n",
            "   ---------------------------------------- 0.0/6.3 MB ? eta -:--:--\n",
            "   - -------------------------------------- 0.3/6.3 MB 8.3 MB/s eta 0:00:01\n",
            "   --- ------------------------------------ 0.5/6.3 MB 6.3 MB/s eta 0:00:01\n",
            "   ---- ----------------------------------- 0.7/6.3 MB 5.4 MB/s eta 0:00:02\n",
            "   ----- ---------------------------------- 0.9/6.3 MB 5.1 MB/s eta 0:00:02\n",
            "   ------ --------------------------------- 1.1/6.3 MB 4.8 MB/s eta 0:00:02\n",
            "   ------- -------------------------------- 1.2/6.3 MB 4.6 MB/s eta 0:00:02\n",
            "   --------- ------------------------------ 1.4/6.3 MB 4.5 MB/s eta 0:00:02\n",
            "   ---------- ----------------------------- 1.6/6.3 MB 4.4 MB/s eta 0:00:02\n",
            "   ----------- ---------------------------- 1.8/6.3 MB 4.4 MB/s eta 0:00:02\n",
            "   ------------ --------------------------- 2.0/6.3 MB 4.3 MB/s eta 0:00:02\n",
            "   ------------- -------------------------- 2.2/6.3 MB 4.3 MB/s eta 0:00:01\n",
            "   -------------- ------------------------- 2.3/6.3 MB 4.3 MB/s eta 0:00:01\n",
            "   --------------- ------------------------ 2.5/6.3 MB 4.2 MB/s eta 0:00:01\n",
            "   ----------------- ---------------------- 2.7/6.3 MB 4.2 MB/s eta 0:00:01\n",
            "   ------------------ --------------------- 2.9/6.3 MB 4.2 MB/s eta 0:00:01\n",
            "   ------------------- -------------------- 3.0/6.3 MB 4.1 MB/s eta 0:00:01\n",
            "   -------------------- ------------------- 3.2/6.3 MB 4.1 MB/s eta 0:00:01\n",
            "   --------------------- ------------------ 3.4/6.3 MB 4.1 MB/s eta 0:00:01\n",
            "   ---------------------- ----------------- 3.6/6.3 MB 4.1 MB/s eta 0:00:01\n",
            "   ----------------------- ---------------- 3.8/6.3 MB 4.1 MB/s eta 0:00:01\n",
            "   ------------------------- -------------- 4.0/6.3 MB 4.1 MB/s eta 0:00:01\n",
            "   -------------------------- ------------- 4.1/6.3 MB 4.1 MB/s eta 0:00:01\n",
            "   --------------------------- ------------ 4.3/6.3 MB 4.0 MB/s eta 0:00:01\n",
            "   ---------------------------- ----------- 4.5/6.3 MB 4.0 MB/s eta 0:00:01\n",
            "   ----------------------------- ---------- 4.7/6.3 MB 4.0 MB/s eta 0:00:01\n",
            "   ------------------------------ --------- 4.8/6.3 MB 4.0 MB/s eta 0:00:01\n",
            "   -------------------------------- ------- 5.0/6.3 MB 4.0 MB/s eta 0:00:01\n",
            "   --------------------------------- ------ 5.2/6.3 MB 4.0 MB/s eta 0:00:01\n",
            "   ---------------------------------- ----- 5.4/6.3 MB 4.0 MB/s eta 0:00:01\n",
            "   ----------------------------------- ---- 5.6/6.3 MB 4.0 MB/s eta 0:00:01\n",
            "   ------------------------------------ --- 5.7/6.3 MB 4.0 MB/s eta 0:00:01\n",
            "   ------------------------------------- -- 5.9/6.3 MB 4.0 MB/s eta 0:00:01\n",
            "   -------------------------------------- - 6.1/6.3 MB 4.0 MB/s eta 0:00:01\n",
            "   ---------------------------------------  6.3/6.3 MB 4.0 MB/s eta 0:00:01\n",
            "   ---------------------------------------  6.3/6.3 MB 4.0 MB/s eta 0:00:01\n",
            "   ---------------------------------------  6.3/6.3 MB 4.0 MB/s eta 0:00:01\n",
            "   ---------------------------------------  6.3/6.3 MB 4.0 MB/s eta 0:00:01\n",
            "   ---------------------------------------  6.3/6.3 MB 4.0 MB/s eta 0:00:01\n",
            "   ---------------------------------------  6.3/6.3 MB 4.0 MB/s eta 0:00:01\n",
            "   ---------------------------------------  6.3/6.3 MB 4.0 MB/s eta 0:00:01\n",
            "   ---------------------------------------  6.3/6.3 MB 4.0 MB/s eta 0:00:01\n",
            "   ---------------------------------------  6.3/6.3 MB 4.0 MB/s eta 0:00:01\n",
            "   ---------------------------------------- 6.3/6.3 MB 3.2 MB/s eta 0:00:00\n",
            "Installing collected packages: sympy, torch, torchvision, torchaudio\n",
            "  Attempting uninstall: sympy\n",
            "    Found existing installation: sympy 1.13.1\n",
            "    Uninstalling sympy-1.13.1:\n",
            "      Successfully uninstalled sympy-1.13.1\n",
            "  Attempting uninstall: torch\n",
            "    Found existing installation: torch 2.6.0\n",
            "    Uninstalling torch-2.6.0:\n",
            "      Successfully uninstalled torch-2.6.0\n",
            "Successfully installed sympy-1.14.0 torch-2.7.0 torchaudio-2.7.0 torchvision-0.22.0\n"
          ]
        },
        {
          "name": "stderr",
          "output_type": "stream",
          "text": [
            "  WARNING: Failed to remove contents in a temporary directory 'C:\\Users\\ASUS\\AppData\\Local\\Packages\\PythonSoftwareFoundation.Python.3.11_qbz5n2kfra8p0\\LocalCache\\local-packages\\Python311\\site-packages\\~orch'.\n",
            "  You can safely remove it manually.\n",
            "\n",
            "[notice] A new release of pip is available: 24.0 -> 25.1.1\n",
            "[notice] To update, run: C:\\Users\\ASUS\\AppData\\Local\\Microsoft\\WindowsApps\\PythonSoftwareFoundation.Python.3.11_qbz5n2kfra8p0\\python.exe -m pip install --upgrade pip\n"
          ]
        }
      ],
      "source": [
        "import torch\n",
        "\n",
        "# Install PyTorch using pip\n",
        "%pip install torch torchvision torchaudio\n",
        "\n",
        "# Import torch and print the version to verify installation\n",
        "print(\"PyTorch version:\", torch.__version__)"
      ]
    },
    {
      "cell_type": "markdown",
      "id": "57f47bc4",
      "metadata": {
        "id": "57f47bc4"
      },
      "source": [
        "## Q6.How do you create a simple neural network in PyTorch?"
      ]
    },
    {
      "cell_type": "code",
      "execution_count": 11,
      "id": "97f4f42a",
      "metadata": {
        "colab": {
          "base_uri": "https://localhost:8080/"
        },
        "id": "97f4f42a",
        "outputId": "2e7b7a5a-bdf9-4778-dafb-e8cb9ea1acad"
      },
      "outputs": [
        {
          "output_type": "stream",
          "name": "stdout",
          "text": [
            "SimpleNet(\n",
            "  (fc1): Linear(in_features=4, out_features=8, bias=True)\n",
            "  (fc2): Linear(in_features=8, out_features=1, bias=True)\n",
            ")\n"
          ]
        }
      ],
      "source": [
        "import torch\n",
        "\n",
        "import torch.nn as nn\n",
        "import torch.nn.functional as F\n",
        "\n",
        "# Define a simple neural network by subclassing nn.Module\n",
        "class SimpleNet(nn.Module):\n",
        "    def __init__(self):\n",
        "        super(SimpleNet, self).__init__()\n",
        "        self.fc1 = nn.Linear(4, 8)   # Input layer to hidden layer (4 inputs, 8 hidden units)\n",
        "        self.fc2 = nn.Linear(8, 1)   # Hidden layer to output layer (1 output)\n",
        "\n",
        "    def forward(self, x):\n",
        "        x = F.relu(self.fc1(x))      # Activation function for hidden layer\n",
        "        x = self.fc2(x)              # Output layer (no activation for regression)\n",
        "        return x\n",
        "\n",
        "# Create an instance of the network\n",
        "pytorch_model = SimpleNet()\n",
        "print(pytorch_model)"
      ]
    },
    {
      "cell_type": "markdown",
      "id": "31da2239",
      "metadata": {
        "id": "31da2239"
      },
      "source": [
        "### Q7.How do you define a loss function and optimizer in PyTorch?"
      ]
    },
    {
      "cell_type": "code",
      "execution_count": 12,
      "id": "024c7064",
      "metadata": {
        "vscode": {
          "languageId": "r"
        },
        "colab": {
          "base_uri": "https://localhost:8080/"
        },
        "id": "024c7064",
        "outputId": "11bac33f-7ff9-4c15-d493-b2c1008681a0"
      },
      "outputs": [
        {
          "output_type": "stream",
          "name": "stdout",
          "text": [
            "Loss function: MSELoss()\n",
            "Optimizer: Adam (\n",
            "Parameter Group 0\n",
            "    amsgrad: False\n",
            "    betas: (0.9, 0.999)\n",
            "    capturable: False\n",
            "    differentiable: False\n",
            "    eps: 1e-08\n",
            "    foreach: None\n",
            "    fused: None\n",
            "    lr: 0.01\n",
            "    maximize: False\n",
            "    weight_decay: 0\n",
            ")\n"
          ]
        }
      ],
      "source": [
        "# Define a loss function (e.g., Mean Squared Error for regression)\n",
        "criterion = nn.MSELoss()\n",
        "\n",
        "# Define an optimizer (e.g., Adam optimizer)\n",
        "optimizer = torch.optim.Adam(pytorch_model.parameters(), lr=0.01)\n",
        "\n",
        "print(\"Loss function:\", criterion)\n",
        "print(\"Optimizer:\", optimizer)"
      ]
    },
    {
      "cell_type": "markdown",
      "id": "1e82fc85",
      "metadata": {
        "id": "1e82fc85"
      },
      "source": [
        "## Q8. How do you implement a custom loss function in PyTorch?"
      ]
    },
    {
      "cell_type": "code",
      "execution_count": 13,
      "id": "93f260ba",
      "metadata": {
        "colab": {
          "base_uri": "https://localhost:8080/"
        },
        "id": "93f260ba",
        "outputId": "28b5e00b-ec7f-4d5b-e7c2-a719b1a6ba58"
      },
      "outputs": [
        {
          "output_type": "stream",
          "name": "stdout",
          "text": [
            "Custom MAE Loss: 0.613604724407196\n"
          ]
        }
      ],
      "source": [
        "def custom_mae_loss(output, target):\n",
        "    return torch.mean(torch.abs(output - target))\n",
        "\n",
        "# Example usage:\n",
        "output = pytorch_model(torch.tensor(x_train, dtype=torch.float32))\n",
        "target = torch.tensor(y_train, dtype=torch.float32)\n",
        "loss = custom_mae_loss(output, target)\n",
        "print(\"Custom MAE Loss:\", loss.item())"
      ]
    },
    {
      "cell_type": "markdown",
      "id": "7008fc79",
      "metadata": {
        "id": "7008fc79"
      },
      "source": [
        "### Q9. How do you save and load a TensorFlow model?"
      ]
    },
    {
      "cell_type": "code",
      "execution_count": 14,
      "id": "cee5629d",
      "metadata": {
        "colab": {
          "base_uri": "https://localhost:8080/",
          "height": 230
        },
        "id": "cee5629d",
        "outputId": "6acea2f1-389e-4da9-daf3-84422eb44f05"
      },
      "outputs": [
        {
          "output_type": "stream",
          "name": "stderr",
          "text": [
            "WARNING:absl:You are saving your model as an HDF5 file via `model.save()` or `keras.saving.save_model(model)`. This file format is considered legacy. We recommend using instead the native Keras format, e.g. `model.save('my_model.keras')` or `keras.saving.save_model(model, 'my_model.keras')`. \n"
          ]
        },
        {
          "output_type": "display_data",
          "data": {
            "text/plain": [
              "\u001b[1mModel: \"sequential_1\"\u001b[0m\n"
            ],
            "text/html": [
              "<pre style=\"white-space:pre;overflow-x:auto;line-height:normal;font-family:Menlo,'DejaVu Sans Mono',consolas,'Courier New',monospace\"><span style=\"font-weight: bold\">Model: \"sequential_1\"</span>\n",
              "</pre>\n"
            ]
          },
          "metadata": {}
        },
        {
          "output_type": "display_data",
          "data": {
            "text/plain": [
              "┏━━━━━━━━━━━━━━━━━━━━━━━━━━━━━━━━━┳━━━━━━━━━━━━━━━━━━━━━━━━┳━━━━━━━━━━━━━━━┓\n",
              "┃\u001b[1m \u001b[0m\u001b[1mLayer (type)                   \u001b[0m\u001b[1m \u001b[0m┃\u001b[1m \u001b[0m\u001b[1mOutput Shape          \u001b[0m\u001b[1m \u001b[0m┃\u001b[1m \u001b[0m\u001b[1m      Param #\u001b[0m\u001b[1m \u001b[0m┃\n",
              "┡━━━━━━━━━━━━━━━━━━━━━━━━━━━━━━━━━╇━━━━━━━━━━━━━━━━━━━━━━━━╇━━━━━━━━━━━━━━━┩\n",
              "│ dense_2 (\u001b[38;5;33mDense\u001b[0m)                 │ (\u001b[38;5;45mNone\u001b[0m, \u001b[38;5;34m8\u001b[0m)              │            \u001b[38;5;34m40\u001b[0m │\n",
              "├─────────────────────────────────┼────────────────────────┼───────────────┤\n",
              "│ dense_3 (\u001b[38;5;33mDense\u001b[0m)                 │ (\u001b[38;5;45mNone\u001b[0m, \u001b[38;5;34m1\u001b[0m)              │             \u001b[38;5;34m9\u001b[0m │\n",
              "└─────────────────────────────────┴────────────────────────┴───────────────┘\n"
            ],
            "text/html": [
              "<pre style=\"white-space:pre;overflow-x:auto;line-height:normal;font-family:Menlo,'DejaVu Sans Mono',consolas,'Courier New',monospace\">┏━━━━━━━━━━━━━━━━━━━━━━━━━━━━━━━━━┳━━━━━━━━━━━━━━━━━━━━━━━━┳━━━━━━━━━━━━━━━┓\n",
              "┃<span style=\"font-weight: bold\"> Layer (type)                    </span>┃<span style=\"font-weight: bold\"> Output Shape           </span>┃<span style=\"font-weight: bold\">       Param # </span>┃\n",
              "┡━━━━━━━━━━━━━━━━━━━━━━━━━━━━━━━━━╇━━━━━━━━━━━━━━━━━━━━━━━━╇━━━━━━━━━━━━━━━┩\n",
              "│ dense_2 (<span style=\"color: #0087ff; text-decoration-color: #0087ff\">Dense</span>)                 │ (<span style=\"color: #00d7ff; text-decoration-color: #00d7ff\">None</span>, <span style=\"color: #00af00; text-decoration-color: #00af00\">8</span>)              │            <span style=\"color: #00af00; text-decoration-color: #00af00\">40</span> │\n",
              "├─────────────────────────────────┼────────────────────────┼───────────────┤\n",
              "│ dense_3 (<span style=\"color: #0087ff; text-decoration-color: #0087ff\">Dense</span>)                 │ (<span style=\"color: #00d7ff; text-decoration-color: #00d7ff\">None</span>, <span style=\"color: #00af00; text-decoration-color: #00af00\">1</span>)              │             <span style=\"color: #00af00; text-decoration-color: #00af00\">9</span> │\n",
              "└─────────────────────────────────┴────────────────────────┴───────────────┘\n",
              "</pre>\n"
            ]
          },
          "metadata": {}
        },
        {
          "output_type": "display_data",
          "data": {
            "text/plain": [
              "\u001b[1m Total params: \u001b[0m\u001b[38;5;34m49\u001b[0m (196.00 B)\n"
            ],
            "text/html": [
              "<pre style=\"white-space:pre;overflow-x:auto;line-height:normal;font-family:Menlo,'DejaVu Sans Mono',consolas,'Courier New',monospace\"><span style=\"font-weight: bold\"> Total params: </span><span style=\"color: #00af00; text-decoration-color: #00af00\">49</span> (196.00 B)\n",
              "</pre>\n"
            ]
          },
          "metadata": {}
        },
        {
          "output_type": "display_data",
          "data": {
            "text/plain": [
              "\u001b[1m Trainable params: \u001b[0m\u001b[38;5;34m49\u001b[0m (196.00 B)\n"
            ],
            "text/html": [
              "<pre style=\"white-space:pre;overflow-x:auto;line-height:normal;font-family:Menlo,'DejaVu Sans Mono',consolas,'Courier New',monospace\"><span style=\"font-weight: bold\"> Trainable params: </span><span style=\"color: #00af00; text-decoration-color: #00af00\">49</span> (196.00 B)\n",
              "</pre>\n"
            ]
          },
          "metadata": {}
        },
        {
          "output_type": "display_data",
          "data": {
            "text/plain": [
              "\u001b[1m Non-trainable params: \u001b[0m\u001b[38;5;34m0\u001b[0m (0.00 B)\n"
            ],
            "text/html": [
              "<pre style=\"white-space:pre;overflow-x:auto;line-height:normal;font-family:Menlo,'DejaVu Sans Mono',consolas,'Courier New',monospace\"><span style=\"font-weight: bold\"> Non-trainable params: </span><span style=\"color: #00af00; text-decoration-color: #00af00\">0</span> (0.00 B)\n",
              "</pre>\n"
            ]
          },
          "metadata": {}
        }
      ],
      "source": [
        "# Save the TensorFlow model\n",
        "simple_model.save('my_tf_model.h5')  # Saves in HDF5 format\n",
        "\n",
        "# Load the saved model\n",
        "loaded_model = tf.keras.models.load_model('my_tf_model.h5', compile=False)\n",
        "\n",
        "# Recompile the loaded model with the correct loss function\n",
        "loaded_model.compile(optimizer='adam', loss=tf.keras.losses.MeanSquaredError())\n",
        "\n",
        "# Verify the loaded model\n",
        "loaded_model.summary()"
      ]
    },
    {
      "cell_type": "markdown",
      "id": "9901bee6",
      "metadata": {
        "id": "9901bee6"
      },
      "source": []
    }
  ],
  "metadata": {
    "kernelspec": {
      "display_name": "Python 3",
      "language": "python",
      "name": "python3"
    },
    "language_info": {
      "codemirror_mode": {
        "name": "ipython",
        "version": 3
      },
      "file_extension": ".py",
      "mimetype": "text/x-python",
      "name": "python",
      "nbconvert_exporter": "python",
      "pygments_lexer": "ipython3",
      "version": "3.11.9"
    },
    "colab": {
      "provenance": [],
      "include_colab_link": true
    }
  },
  "nbformat": 4,
  "nbformat_minor": 5
}