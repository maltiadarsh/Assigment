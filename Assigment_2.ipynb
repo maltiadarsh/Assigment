{
 "cells": [
  {
   "cell_type": "markdown",
   "id": "2d0abba8-1a20-4687-9199-fd3dbf300451",
   "metadata": {},
   "source": [
    "## Q1. Discuss string slicing and provide examples .\n",
    "## Answer :-\n",
    "String Slicing is a important feature in python that allow we to extract substring from string . string operator are within **[   ]**, The string slicing for syntax :- String[start:Stop:Step] .\n",
    "- default strat is **0** indexing  .\n",
    "- default stop is last index of string   .\n",
    "- default step is 1.\n",
    "\n",
    "### Example of string slicing:\n",
    " \n",
    "\n"
   ]
  },
  {
   "cell_type": "code",
   "execution_count": 1,
   "id": "3793d04f-2e97-479e-a428-7e46530ee165",
   "metadata": {},
   "outputs": [
    {
     "name": "stdout",
     "output_type": "stream",
     "text": [
      "ada\n"
     ]
    }
   ],
   "source": [
    "a = \"adarsh\"\n",
    "print(a[0:3])"
   ]
  },
  {
   "cell_type": "markdown",
   "id": "4b764486-e41e-4cf3-9ecf-272efc85a414",
   "metadata": {},
   "source": [
    "## Q.2 Explain the key features of lists in Python \n",
    "## Answer :-\n",
    "The key feature of list in python are :\n",
    "    - list are comes within [  ].\n",
    "     \n",
    "#### 1. Ordered Collection \n",
    " list makes ordered of sequences , we can acccess the data from using index .\n"
   ]
  },
  {
   "cell_type": "code",
   "execution_count": 2,
   "id": "a45ce0a0-c4a0-4967-b9f6-4ef963955ae6",
   "metadata": {},
   "outputs": [],
   "source": [
    "l=[1,2,3,4,5,6,]"
   ]
  },
  {
   "cell_type": "code",
   "execution_count": 3,
   "id": "a4cf9c76-da2e-4556-9bde-cc22c207bb64",
   "metadata": {},
   "outputs": [
    {
     "data": {
      "text/plain": [
       "1"
      ]
     },
     "execution_count": 3,
     "metadata": {},
     "output_type": "execute_result"
    }
   ],
   "source": [
    "l[0]"
   ]
  },
  {
   "cell_type": "markdown",
   "id": "03ce1807-cdbd-40ae-88e1-19b6c8ada1b6",
   "metadata": {},
   "source": [
    "#### 2. Mutable  \n",
    "list is mutabale .means we can update delete and do more operation after creating list "
   ]
  },
  {
   "cell_type": "code",
   "execution_count": 4,
   "id": "21108ff6-b083-4b54-8e25-623e7e636780",
   "metadata": {},
   "outputs": [
    {
     "name": "stdout",
     "output_type": "stream",
     "text": [
      "[1, 20, 3]\n"
     ]
    }
   ],
   "source": [
    "l = [1, 2, 3]\n",
    "l[1] = 20\n",
    "print(l)  \n"
   ]
  },
  {
   "cell_type": "markdown",
   "id": "882c8a2b-45d4-4e22-a729-364a9b1a44a0",
   "metadata": {},
   "source": [
    "#### 3. Slicing\n",
    "list allow to slicing . we can do slicing operation on list  \n"
   ]
  },
  {
   "cell_type": "code",
   "execution_count": 5,
   "id": "f84e632c-d8ab-4b21-9430-15c578484a08",
   "metadata": {},
   "outputs": [],
   "source": [
    "l =[1,2,3,4,5,6,7,8,9,10,10,20,30,5]"
   ]
  },
  {
   "cell_type": "code",
   "execution_count": 6,
   "id": "d41e2b48-5938-4060-89e3-36ca26e16a35",
   "metadata": {},
   "outputs": [
    {
     "data": {
      "text/plain": [
       "14"
      ]
     },
     "execution_count": 6,
     "metadata": {},
     "output_type": "execute_result"
    }
   ],
   "source": [
    "len(l)"
   ]
  },
  {
   "cell_type": "code",
   "execution_count": 7,
   "id": "3d3868aa-0d00-4250-9610-a8ef98b91486",
   "metadata": {},
   "outputs": [
    {
     "data": {
      "text/plain": [
       "[2, 3, 4, 5, 6]"
      ]
     },
     "execution_count": 7,
     "metadata": {},
     "output_type": "execute_result"
    }
   ],
   "source": [
    "l[1:6]"
   ]
  },
  {
   "cell_type": "code",
   "execution_count": 8,
   "id": "28f31c98-df3e-4e7a-aea4-665d4e1afa49",
   "metadata": {},
   "outputs": [
    {
     "data": {
      "text/plain": [
       "[1, 3, 5, 7, 9, 10, 30]"
      ]
     },
     "execution_count": 8,
     "metadata": {},
     "output_type": "execute_result"
    }
   ],
   "source": [
    "l[0:14:2]"
   ]
  },
  {
   "cell_type": "markdown",
   "id": "842f29ae-eae8-42ce-b1e4-e464ebf66e97",
   "metadata": {},
   "source": [
    "#### 4.Built-in Methods\n",
    "Lists come with several built-in methods to facilitate various operations, such as:\n",
    "\n",
    "- append(): Adds an element to the end of the list.\n",
    "- extend(): Adds multiple elements to the end of the list.\n",
    "- insert(): Inserts an element at a specified position.\n",
    "- remove(): Removes the first occurrence of a specified value.\n",
    "- pop(): Removes and returns the element at a specified position (default is the last element).\n",
    "- clear(): Removes all elements from the list.\n",
    "- index(): Returns the index of the first occurrence of a specified value.\n",
    "- count(): Returns the number of occurrences of a specified value.\n",
    "- sort(): Sorts the elements of the list in ascending order.\n",
    "- reverse(): Reverses the order of elements in the list.\n",
    "- copy(): Returns a shallow copy of the list."
   ]
  },
  {
   "cell_type": "markdown",
   "id": "b1401ee5-3281-4dbe-aefe-96648b73c689",
   "metadata": {},
   "source": [
    "#### 5.Iterability\n",
    "we can iterate over list using loop"
   ]
  },
  {
   "cell_type": "code",
   "execution_count": 9,
   "id": "47f0b9aa-ff3d-4538-b956-c486242e0d3f",
   "metadata": {},
   "outputs": [
    {
     "name": "stdout",
     "output_type": "stream",
     "text": [
      "1\n",
      "2\n",
      "3\n",
      "4\n",
      "5\n",
      "6\n",
      "7\n",
      "8\n",
      "9\n"
     ]
    }
   ],
   "source": [
    "l=[1,2,3,4,5,6,7,8,9]\n",
    "for i in l:\n",
    "    print(i)"
   ]
  },
  {
   "cell_type": "markdown",
   "id": "38df4bf8-0514-4f80-a294-2ed223998c2c",
   "metadata": {},
   "source": [
    "#### 6.Nested list \n",
    "nested list means list under list for example"
   ]
  },
  {
   "cell_type": "code",
   "execution_count": 10,
   "id": "1d6b8727-c50c-409c-ba94-718306897317",
   "metadata": {},
   "outputs": [
    {
     "name": "stdout",
     "output_type": "stream",
     "text": [
      "6\n"
     ]
    }
   ],
   "source": [
    "l = [[1, 2, 3], [4, 5, 6], [7, 8, 9]]\n",
    "print(l[1][2]) \n"
   ]
  },
  {
   "cell_type": "code",
   "execution_count": 11,
   "id": "8570acd5-c219-44ef-97fb-af5cc013a49f",
   "metadata": {},
   "outputs": [
    {
     "data": {
      "text/plain": [
       "[1, 2, 3]"
      ]
     },
     "execution_count": 11,
     "metadata": {},
     "output_type": "execute_result"
    }
   ],
   "source": [
    "l[0]"
   ]
  },
  {
   "cell_type": "markdown",
   "id": "349d9d25-4495-450d-88ff-5e903ff1940e",
   "metadata": {},
   "source": [
    "#### 7. List Concatenation\n",
    "we can Concatenation by using **\"+\"** operator"
   ]
  },
  {
   "cell_type": "code",
   "execution_count": 12,
   "id": "8edd1592-9b62-425d-b4e7-942bc94e4ba8",
   "metadata": {},
   "outputs": [
    {
     "name": "stdout",
     "output_type": "stream",
     "text": [
      "[1, 2, 3, 2, 3, 5, 6]\n"
     ]
    }
   ],
   "source": [
    "l1=[1,2,3,]\n",
    "l2=[2,3,5,6,]\n",
    "print(l1+l2)"
   ]
  },
  {
   "cell_type": "markdown",
   "id": "b1838f8e-9772-4c6d-becd-1572dde08100",
   "metadata": {},
   "source": [
    "#### 8. Repetition\n",
    "Lists can be repeated using the \"*\"operator."
   ]
  },
  {
   "cell_type": "code",
   "execution_count": 13,
   "id": "dbf4ab97-928e-4fd7-8b62-73deeef682a8",
   "metadata": {},
   "outputs": [
    {
     "name": "stdout",
     "output_type": "stream",
     "text": [
      "[1, 2, 3, 4, 5, 6, 1, 2, 3, 4, 5, 6, 1, 2, 3, 4, 5, 6]\n"
     ]
    }
   ],
   "source": [
    "l=[1,2,3,4,5,6,]\n",
    "print(l*3)"
   ]
  },
  {
   "cell_type": "markdown",
   "id": "5ebb1b74-b048-446f-993a-1855868b57d3",
   "metadata": {},
   "source": [
    "#### 9.Dynamic Size\n",
    "list have dynamic types property which is srink and grow dynamically . which means we can add and remove element  "
   ]
  },
  {
   "cell_type": "code",
   "execution_count": 14,
   "id": "bd6ff47c-2755-408a-b389-1330c702a404",
   "metadata": {},
   "outputs": [],
   "source": [
    "l=[1,2,3,4,]"
   ]
  },
  {
   "cell_type": "code",
   "execution_count": 15,
   "id": "0de9b575-248e-40ab-ad46-ace90976660a",
   "metadata": {},
   "outputs": [],
   "source": [
    "l.append(5)"
   ]
  },
  {
   "cell_type": "code",
   "execution_count": 16,
   "id": "dc2c7c41-a6f5-49cb-95b7-91098cbd83a4",
   "metadata": {},
   "outputs": [
    {
     "name": "stdout",
     "output_type": "stream",
     "text": [
      "[1, 2, 3, 4, 5]\n"
     ]
    }
   ],
   "source": [
    "print(l)"
   ]
  },
  {
   "cell_type": "code",
   "execution_count": 17,
   "id": "adbfa188-a67e-4d36-9791-bc842eb58fda",
   "metadata": {},
   "outputs": [],
   "source": [
    "l1=[10,20,30,40,50]"
   ]
  },
  {
   "cell_type": "code",
   "execution_count": 18,
   "id": "145eee58-f043-4745-87cb-c4664e7eccbb",
   "metadata": {},
   "outputs": [
    {
     "name": "stdout",
     "output_type": "stream",
     "text": [
      "[1, 2, 3, 4, 5, [10, 20, 30, 40, 50]]\n"
     ]
    }
   ],
   "source": [
    "l.append(l1)\n",
    "print(l)"
   ]
  },
  {
   "cell_type": "code",
   "execution_count": 19,
   "id": "ef3846cb-ed32-4749-aafe-1e73b5e2c58c",
   "metadata": {},
   "outputs": [
    {
     "name": "stdout",
     "output_type": "stream",
     "text": [
      "[1, 2, 3, 4, 5]\n"
     ]
    }
   ],
   "source": [
    "l.remove(l1)\n",
    "print(l)"
   ]
  },
  {
   "cell_type": "markdown",
   "id": "5cd8cd4b-4e24-4ba7-855e-92db0ddd3d8c",
   "metadata": {},
   "source": [
    "## Q3.Describe how to access, modify and delete elements in a list with examples . \n",
    "## Answer:- In list we can access element by index\n"
   ]
  },
  {
   "cell_type": "code",
   "execution_count": 1,
   "id": "e9a0fee0-c9ba-47f8-8ba8-1c71b08d3aab",
   "metadata": {},
   "outputs": [],
   "source": [
    "## we can access elements of a list using their index.  the first element has an index of 0.\n",
    "l=[10,20,30,40,50,60]"
   ]
  },
  {
   "cell_type": "code",
   "execution_count": 2,
   "id": "bb967e9e-e2c0-4298-baf0-8dec20d4e4a8",
   "metadata": {},
   "outputs": [
    {
     "data": {
      "text/plain": [
       "10"
      ]
     },
     "execution_count": 2,
     "metadata": {},
     "output_type": "execute_result"
    }
   ],
   "source": [
    "l[0]"
   ]
  },
  {
   "cell_type": "code",
   "execution_count": 3,
   "id": "ca01a021-c9be-4e9a-afdf-da80b3414001",
   "metadata": {},
   "outputs": [
    {
     "data": {
      "text/plain": [
       "30"
      ]
     },
     "execution_count": 3,
     "metadata": {},
     "output_type": "execute_result"
    }
   ],
   "source": [
    "l[2]"
   ]
  },
  {
   "cell_type": "code",
   "execution_count": 4,
   "id": "5ee910b4-9819-4553-8fb9-28e30b24eedd",
   "metadata": {},
   "outputs": [
    {
     "data": {
      "text/plain": [
       "60"
      ]
     },
     "execution_count": 4,
     "metadata": {},
     "output_type": "execute_result"
    }
   ],
   "source": [
    "#negative indexing\n",
    "l[-1]"
   ]
  },
  {
   "cell_type": "markdown",
   "id": "6630092a-c797-43d8-8201-d7328b033f4f",
   "metadata": {},
   "source": [
    "## slicing is a important method which is also help to access the element of list "
   ]
  },
  {
   "cell_type": "code",
   "execution_count": 5,
   "id": "3038d9fd-8d47-476d-861a-468104ea03e1",
   "metadata": {},
   "outputs": [
    {
     "data": {
      "text/plain": [
       "[10, 20, 30]"
      ]
     },
     "execution_count": 5,
     "metadata": {},
     "output_type": "execute_result"
    }
   ],
   "source": [
    "l[0:3]"
   ]
  },
  {
   "cell_type": "code",
   "execution_count": 6,
   "id": "c26f4490-467d-407e-9a3a-ba503f972883",
   "metadata": {},
   "outputs": [
    {
     "data": {
      "text/plain": [
       "[20, 30]"
      ]
     },
     "execution_count": 6,
     "metadata": {},
     "output_type": "execute_result"
    }
   ],
   "source": [
    "l[1:3]"
   ]
  },
  {
   "cell_type": "code",
   "execution_count": 7,
   "id": "8057fafb-22f7-4284-9334-3dd611b532c0",
   "metadata": {},
   "outputs": [
    {
     "data": {
      "text/plain": [
       "[20, 40]"
      ]
     },
     "execution_count": 7,
     "metadata": {},
     "output_type": "execute_result"
    }
   ],
   "source": [
    "l[1:5:2]"
   ]
  },
  {
   "cell_type": "markdown",
   "id": "02644d56-1ca2-48eb-8b46-b20012b1a2e9",
   "metadata": {},
   "source": [
    "## modify element by add some element or delete element from list "
   ]
  },
  {
   "cell_type": "code",
   "execution_count": 8,
   "id": "ab624e4c-65bd-424f-bfe0-7e9c8a4b8d44",
   "metadata": {},
   "outputs": [],
   "source": [
    "#for example\n",
    "l.append(100)"
   ]
  },
  {
   "cell_type": "code",
   "execution_count": 9,
   "id": "f86befa6-30f5-4dee-b3b6-6e1a2962bdd0",
   "metadata": {},
   "outputs": [
    {
     "name": "stdout",
     "output_type": "stream",
     "text": [
      "[10, 20, 30, 40, 50, 60, 100]\n"
     ]
    }
   ],
   "source": [
    "print(l)"
   ]
  },
  {
   "cell_type": "code",
   "execution_count": 14,
   "id": "9582b56c-bd28-4f06-adfc-c7e9e722be46",
   "metadata": {},
   "outputs": [],
   "source": [
    "l.reverse()"
   ]
  },
  {
   "cell_type": "code",
   "execution_count": 15,
   "id": "7b3d75e2-cf61-48b5-8647-542af39314cf",
   "metadata": {},
   "outputs": [
    {
     "name": "stdout",
     "output_type": "stream",
     "text": [
      "[100, 60, 50, 40, 30, 20, 10]\n"
     ]
    }
   ],
   "source": [
    "print(l)"
   ]
  },
  {
   "cell_type": "code",
   "execution_count": 18,
   "id": "f36ce327-7709-41af-bbc0-c2c381164a66",
   "metadata": {},
   "outputs": [],
   "source": [
    "l.insert(10,20,)"
   ]
  },
  {
   "cell_type": "code",
   "execution_count": 29,
   "id": "050469c1-0296-41b7-8bb8-f3c11f112d46",
   "metadata": {},
   "outputs": [
    {
     "data": {
      "text/plain": [
       "[10, 20, 20, 30, 40, 50, 60, 100]"
      ]
     },
     "execution_count": 29,
     "metadata": {},
     "output_type": "execute_result"
    }
   ],
   "source": [
    "l"
   ]
  },
  {
   "cell_type": "markdown",
   "id": "4d7af66e-c619-41ca-afc3-a929d8dc2c48",
   "metadata": {},
   "source": [
    "### In list we see that we have pop , del and remove "
   ]
  },
  {
   "cell_type": "markdown",
   "id": "6fe72e3f-9983-4110-ad9d-e09e84054ea8",
   "metadata": {},
   "source": [
    "## pop is used to removes and returns the element at the specified index. If no index is specified, it removes and returns the last element"
   ]
  },
  {
   "cell_type": "code",
   "execution_count": 33,
   "id": "e252b783-d6d0-4c4c-a5b9-f813d2cc1bbe",
   "metadata": {},
   "outputs": [
    {
     "data": {
      "text/plain": [
       "20"
      ]
     },
     "execution_count": 33,
     "metadata": {},
     "output_type": "execute_result"
    }
   ],
   "source": [
    "l.pop(1)"
   ]
  },
  {
   "cell_type": "code",
   "execution_count": 34,
   "id": "ae2daf8c-fb0b-43b3-8f9f-eae6b71a0845",
   "metadata": {},
   "outputs": [
    {
     "data": {
      "text/plain": [
       "[10, 30, 40, 50, 60, 100]"
      ]
     },
     "execution_count": 34,
     "metadata": {},
     "output_type": "execute_result"
    }
   ],
   "source": [
    "l"
   ]
  },
  {
   "cell_type": "markdown",
   "id": "37fa2a85-4544-4fa7-81f3-e86c5dbc248c",
   "metadata": {},
   "source": [
    "## del method is used to delete the element by index"
   ]
  },
  {
   "cell_type": "code",
   "execution_count": 38,
   "id": "e2543c8f-213c-46ac-96f0-27b88cb26021",
   "metadata": {},
   "outputs": [
    {
     "ename": "SyntaxError",
     "evalue": "invalid syntax (95745974.py, line 1)",
     "output_type": "error",
     "traceback": [
      "\u001b[0;36m  Cell \u001b[0;32mIn[38], line 1\u001b[0;36m\u001b[0m\n\u001b[0;31m    l.del[2]\u001b[0m\n\u001b[0m      ^\u001b[0m\n\u001b[0;31mSyntaxError\u001b[0m\u001b[0;31m:\u001b[0m invalid syntax\n"
     ]
    }
   ],
   "source": [
    "l.del[2]"
   ]
  },
  {
   "cell_type": "code",
   "execution_count": 39,
   "id": "08188dc2-0ae6-4ca5-b6bf-8e01180e1076",
   "metadata": {},
   "outputs": [
    {
     "name": "stdout",
     "output_type": "stream",
     "text": [
      "[10, 40, 50, 60, 100]\n"
     ]
    }
   ],
   "source": [
    "del l[1]\n",
    "print(l)"
   ]
  },
  {
   "cell_type": "code",
   "execution_count": 41,
   "id": "a98a3cae-3a9f-4a6d-9d27-30163736b803",
   "metadata": {},
   "outputs": [],
   "source": [
    "l.remove(10)"
   ]
  },
  {
   "cell_type": "code",
   "execution_count": 42,
   "id": "ebb62ab8-09c8-44df-b152-62f27aed7b0d",
   "metadata": {},
   "outputs": [
    {
     "data": {
      "text/plain": [
       "[40, 50, 60, 100]"
      ]
     },
     "execution_count": 42,
     "metadata": {},
     "output_type": "execute_result"
    }
   ],
   "source": [
    "l"
   ]
  },
  {
   "cell_type": "code",
   "execution_count": 43,
   "id": "3c9be488-bcd7-40b8-9de4-bd9870bae204",
   "metadata": {},
   "outputs": [],
   "source": [
    "del l[3]"
   ]
  },
  {
   "cell_type": "code",
   "execution_count": 44,
   "id": "a929b0e7-3256-4669-9cc9-17b0496f6b32",
   "metadata": {},
   "outputs": [
    {
     "data": {
      "text/plain": [
       "[40, 50, 60]"
      ]
     },
     "execution_count": 44,
     "metadata": {},
     "output_type": "execute_result"
    }
   ],
   "source": [
    "l"
   ]
  },
  {
   "cell_type": "markdown",
   "id": "9b2efc40-5c3c-4507-8a29-18a25580685d",
   "metadata": {},
   "source": [
    "## Q4.Compare and contrast tuples and lists with examples ?"
   ]
  },
  {
   "cell_type": "markdown",
   "id": "7fc5a1ce-c0a4-4ef3-bf71-5fbdf2bb202d",
   "metadata": {},
   "source": [
    "### By storing the element both are same in which means we can store different types of data in tuple and list but they have many difference which are following :-"
   ]
  },
  {
   "cell_type": "markdown",
   "id": "9273f1a8-83cf-4bac-b1b2-900710f258d5",
   "metadata": {},
   "source": [
    "## Tuple"
   ]
  },
  {
   "cell_type": "markdown",
   "id": "ec047cdf-59db-493d-9f3a-92916fcd0cb3",
   "metadata": {},
   "source": [
    "- tuple is an immutable ( cannot change )data types\n",
    "- it can excute faster than list "
   ]
  },
  {
   "cell_type": "markdown",
   "id": "94686912-85a0-44aa-ae7e-8ad4269d5225",
   "metadata": {},
   "source": [
    "##### syntax"
   ]
  },
  {
   "cell_type": "code",
   "execution_count": 52,
   "id": "bb24ba4b-b01d-41bf-9ea1-5cc407851d2b",
   "metadata": {},
   "outputs": [],
   "source": [
    "## for example:-\n",
    "t=(1,2,3,3.5,\"adarsh\")"
   ]
  },
  {
   "cell_type": "code",
   "execution_count": 53,
   "id": "b7826b31-a1d3-4a33-8953-ef2a2865a8df",
   "metadata": {},
   "outputs": [
    {
     "data": {
      "text/plain": [
       "(1, 2, 3, 3.5, 'adarsh')"
      ]
     },
     "execution_count": 53,
     "metadata": {},
     "output_type": "execute_result"
    }
   ],
   "source": [
    "t"
   ]
  },
  {
   "cell_type": "code",
   "execution_count": 54,
   "id": "ff87e048-2cd6-4a6b-96c4-933934ab0008",
   "metadata": {},
   "outputs": [
    {
     "data": {
      "text/plain": [
       "tuple"
      ]
     },
     "execution_count": 54,
     "metadata": {},
     "output_type": "execute_result"
    }
   ],
   "source": [
    "type(t)"
   ]
  },
  {
   "cell_type": "markdown",
   "id": "5a90811e-4607-45f8-9e20-10cca7797fdd",
   "metadata": {},
   "source": [
    "### once we defined a tuple element cannot be manipulate"
   ]
  },
  {
   "cell_type": "markdown",
   "id": "6b63afcd-f390-454f-9987-de71c5cd2429",
   "metadata": {},
   "source": [
    "## List"
   ]
  },
  {
   "cell_type": "code",
   "execution_count": 55,
   "id": "763e7c50-0f96-4a8d-b3d8-56b93b31be5a",
   "metadata": {},
   "outputs": [],
   "source": [
    "####Python list sre contaners to store a set of values of any data types"
   ]
  },
  {
   "cell_type": "code",
   "execution_count": 57,
   "id": "b020fe61-de2d-4fb9-aa18-cfd7939c98ee",
   "metadata": {},
   "outputs": [],
   "source": [
    "##for example:\n",
    "l=[\"adarsh\",10,50.3,True,False,3+9j]"
   ]
  },
  {
   "cell_type": "code",
   "execution_count": 58,
   "id": "46052a5d-862c-44a3-b4e2-db50d0d6b3f1",
   "metadata": {},
   "outputs": [
    {
     "data": {
      "text/plain": [
       "list"
      ]
     },
     "execution_count": 58,
     "metadata": {},
     "output_type": "execute_result"
    }
   ],
   "source": [
    "type(l)"
   ]
  },
  {
   "cell_type": "markdown",
   "id": "1d4dc87a-0de6-4161-a377-ff7232939702",
   "metadata": {},
   "source": [
    "#### list is mutable data type \n",
    "#### list is slower due to mutablity "
   ]
  },
  {
   "cell_type": "markdown",
   "id": "7f8ef734-f73e-4c47-8f13-c9ef7022a4cf",
   "metadata": {},
   "source": [
    "## Q5.Describe the key features of sets and provide examples of their use"
   ]
  },
  {
   "cell_type": "markdown",
   "id": "4b456f90-9743-425d-b092-03346825d68e",
   "metadata": {},
   "source": [
    "## The key features of sets are:-\n",
    "- It is unordered collection of data .\n",
    "- its syntax is {}\n",
    "- it is not allow duplicate element .\n",
    "- it is unmutable data types"
   ]
  },
  {
   "cell_type": "code",
   "execution_count": 59,
   "id": "899e6ebe-db88-40d1-b0a9-992b84816692",
   "metadata": {},
   "outputs": [],
   "source": [
    "s={\"adarsh\",10,7,7.5,3+9j}"
   ]
  },
  {
   "cell_type": "code",
   "execution_count": 60,
   "id": "b1e6e84f-c5c4-4d60-8520-8924b236d9a3",
   "metadata": {},
   "outputs": [
    {
     "data": {
      "text/plain": [
       "set"
      ]
     },
     "execution_count": 60,
     "metadata": {},
     "output_type": "execute_result"
    }
   ],
   "source": [
    "type(s)"
   ]
  },
  {
   "cell_type": "code",
   "execution_count": 61,
   "id": "012de0cf-d98e-4b36-a2ad-8545fd228444",
   "metadata": {},
   "outputs": [],
   "source": [
    "## Duplicate\n",
    "s1={\"adarsh\",10,7,7,7.5,3+9j}"
   ]
  },
  {
   "cell_type": "code",
   "execution_count": 62,
   "id": "97bc9196-2d4b-4f94-beb2-18003178c925",
   "metadata": {},
   "outputs": [
    {
     "data": {
      "text/plain": [
       "{(3+9j), 10, 7, 7.5, 'adarsh'}"
      ]
     },
     "execution_count": 62,
     "metadata": {},
     "output_type": "execute_result"
    }
   ],
   "source": [
    "s1"
   ]
  },
  {
   "cell_type": "markdown",
   "id": "e6dfafb0-3f15-4627-9021-a88392e10db7",
   "metadata": {},
   "source": [
    "## Q6. Discuss the use cases of tuples and sets in Python programming."
   ]
  },
  {
   "cell_type": "markdown",
   "id": "bc2d0a98-bf52-4fe6-9f09-5e398c0d80d8",
   "metadata": {},
   "source": [
    "## Answer"
   ]
  },
  {
   "cell_type": "markdown",
   "id": "2e08dfa6-fa50-4fc6-8bfa-862ec7939fff",
   "metadata": {},
   "source": [
    "### Tuples and lists are both sequence data types in Python that can store collections of items. However, they have some key differences in their properties and use cases"
   ]
  },
  {
   "cell_type": "markdown",
   "id": "d1b9aeef-fbfa-4cf8-829d-9ed15c61f95c",
   "metadata": {},
   "source": [
    "# Tuple"
   ]
  },
  {
   "cell_type": "markdown",
   "id": "f2a1fc3b-6d5e-4a45-9d1d-c9a8a086f708",
   "metadata": {},
   "source": [
    "#### Characteristics:\n",
    "- Immutable: Once created, their elements cannot be changed.\n",
    "- Ordered: Elements are stored in a specific order and can be accessed by index.\n",
    "- Allows Duplicates: Tuples can contain duplicate elements."
   ]
  },
  {
   "cell_type": "markdown",
   "id": "1bc4e0e3-666c-4bad-ba80-b92f2b6924e2",
   "metadata": {},
   "source": [
    "### Storing Heterogeneous Data"
   ]
  },
  {
   "cell_type": "code",
   "execution_count": 64,
   "id": "c3aa52c5-cd0f-4089-b7b4-34365fe67384",
   "metadata": {},
   "outputs": [],
   "source": [
    "t=(10,20,30,\"adarsh\")"
   ]
  },
  {
   "cell_type": "markdown",
   "id": "d8b83b95-171c-4c59-afd0-9c80280632b1",
   "metadata": {},
   "source": [
    "## Set"
   ]
  },
  {
   "cell_type": "markdown",
   "id": "1ab30a62-bf1c-4a89-8f5a-1b96d22f2a17",
   "metadata": {},
   "source": [
    "#### Characteristics:\n",
    "- Mutable: Elements can be added or removed.\n",
    "- Unordered: Elements are not stored in any particular order and cannot be accessed by index.\n",
    "- No Duplicates: Sets automatically handle duplicate elements."
   ]
  },
  {
   "cell_type": "code",
   "execution_count": 65,
   "id": "1c9ee070-e3ff-4ce4-8400-b0d577b7fbd7",
   "metadata": {},
   "outputs": [],
   "source": [
    "s = {10,20,30,\"adarsh\"}"
   ]
  },
  {
   "cell_type": "markdown",
   "id": "b42cff84-6406-4440-8a54-0988df70056b",
   "metadata": {},
   "source": [
    "#### Sets support operations like union, intersection, difference, and symmetric difference."
   ]
  },
  {
   "cell_type": "code",
   "execution_count": 66,
   "id": "8c2029a9-167d-4834-97d4-acb10bce1d69",
   "metadata": {},
   "outputs": [],
   "source": [
    "set_a = {1, 2, 3}\n",
    "set_b = {3, 4, 5} "
   ]
  },
  {
   "cell_type": "code",
   "execution_count": 67,
   "id": "a1cba852-53c0-4972-971a-f9dd15d095ac",
   "metadata": {},
   "outputs": [],
   "source": [
    "union = set_a | set_b "
   ]
  },
  {
   "cell_type": "code",
   "execution_count": 68,
   "id": "cf6df80e-1096-4bde-b685-98083ac42f67",
   "metadata": {},
   "outputs": [
    {
     "data": {
      "text/plain": [
       "{1, 2, 3, 4, 5}"
      ]
     },
     "execution_count": 68,
     "metadata": {},
     "output_type": "execute_result"
    }
   ],
   "source": [
    "union"
   ]
  },
  {
   "cell_type": "code",
   "execution_count": 69,
   "id": "d7ceac08-bbc4-4ef6-b31b-ff75b3276aee",
   "metadata": {},
   "outputs": [],
   "source": [
    "intersection = set_a & set_b"
   ]
  },
  {
   "cell_type": "code",
   "execution_count": 70,
   "id": "9216184e-3dbe-4c61-a385-6ef74799a278",
   "metadata": {},
   "outputs": [
    {
     "data": {
      "text/plain": [
       "{3}"
      ]
     },
     "execution_count": 70,
     "metadata": {},
     "output_type": "execute_result"
    }
   ],
   "source": [
    "intersection"
   ]
  },
  {
   "cell_type": "code",
   "execution_count": 71,
   "id": "b72ce663-dc00-4bd2-85ec-63688f39aaf1",
   "metadata": {},
   "outputs": [],
   "source": [
    "difference = set_a - set_b"
   ]
  },
  {
   "cell_type": "code",
   "execution_count": 72,
   "id": "c73552ef-0aee-4e15-a156-773fed5f6b21",
   "metadata": {},
   "outputs": [
    {
     "data": {
      "text/plain": [
       "{1, 2}"
      ]
     },
     "execution_count": 72,
     "metadata": {},
     "output_type": "execute_result"
    }
   ],
   "source": [
    "difference"
   ]
  },
  {
   "cell_type": "code",
   "execution_count": 73,
   "id": "b54ac3ca-5872-4e29-8150-97d676b77391",
   "metadata": {},
   "outputs": [],
   "source": [
    "symmetric_difference = set_a ^ set_b"
   ]
  },
  {
   "cell_type": "code",
   "execution_count": 74,
   "id": "0d0f2bbc-bc46-4574-9fd1-e9d2c38ca99a",
   "metadata": {},
   "outputs": [
    {
     "data": {
      "text/plain": [
       "{1, 2, 4, 5}"
      ]
     },
     "execution_count": 74,
     "metadata": {},
     "output_type": "execute_result"
    }
   ],
   "source": [
    "symmetric_difference"
   ]
  },
  {
   "cell_type": "markdown",
   "id": "b0bc6485-0c2a-468a-93e4-b40340c09329",
   "metadata": {},
   "source": [
    "## Q7.Describe how to add ,modify, and delete items in a dictionary with examples"
   ]
  },
  {
   "cell_type": "markdown",
   "id": "6b99c7f4-1713-4bf8-93e4-a2127758c3f0",
   "metadata": {},
   "source": [
    "### answer"
   ]
  },
  {
   "cell_type": "markdown",
   "id": "60792e74-d700-41a1-b737-635f40f5564a",
   "metadata": {},
   "source": [
    "### Dictionaries in Python are collections of key-value pairs. They are mutable, meaning we can add, modify, and delete items using key and value"
   ]
  },
  {
   "cell_type": "markdown",
   "id": "b0455f8d-4f0c-4253-9fe9-490b064d9d45",
   "metadata": {},
   "source": [
    "### Adding Items to a Dictionary\n",
    "#### Add a New Key-Value Pair:\n",
    "- we can add a new key-value pair by assigning a value to a new key."
   ]
  },
  {
   "cell_type": "code",
   "execution_count": 75,
   "id": "3b7a5f14-78e2-419e-9d5e-2d34d141799f",
   "metadata": {},
   "outputs": [
    {
     "name": "stdout",
     "output_type": "stream",
     "text": [
      "{'name': 'adarsh', 'age': 22, 'city': 'bhabhua'}\n"
     ]
    }
   ],
   "source": [
    "my_dict = {'name': 'adarsh', 'age': 22}\n",
    "my_dict['city'] = 'bhabhua'\n",
    "print(my_dict) \n"
   ]
  },
  {
   "cell_type": "markdown",
   "id": "4f34a24f-e74a-4ecf-876b-aea17d9d6300",
   "metadata": {},
   "source": [
    "#### Update Multiple Key-Value Pairs (using update()):\n",
    "\n",
    "- We can add multiple key-value pairs using the update() method."
   ]
  },
  {
   "cell_type": "code",
   "execution_count": 76,
   "id": "1167d9a0-209c-4b07-82dc-96bd90bb066c",
   "metadata": {},
   "outputs": [
    {
     "name": "stdout",
     "output_type": "stream",
     "text": [
      "{'name': 'adarsh', 'age': 22, 'city': 'bhabhua', 'email': '2003maltidevi@gmail.com', 'phone': '454673144'}\n"
     ]
    }
   ],
   "source": [
    "my_dict.update({'email': '2003maltidevi@gmail.com', 'phone': '454673144'})\n",
    "print(my_dict) \n"
   ]
  },
  {
   "cell_type": "markdown",
   "id": "3ee97cb0-876c-4afa-acac-289fb32ec382",
   "metadata": {},
   "source": [
    "#### Modifying Items in a Dictionary\n",
    "##### Modify an Existing Value:\n",
    "- You can modify the value of an existing key by reassigning it."
   ]
  },
  {
   "cell_type": "code",
   "execution_count": 78,
   "id": "a7701372-3306-4532-a98c-389a34af04ba",
   "metadata": {},
   "outputs": [
    {
     "name": "stdout",
     "output_type": "stream",
     "text": [
      "{'name': 'shubham', 'age': 22, 'city': 'bhabhua', 'email': '2003maltidevi@gmail.com', 'phone': '454673144'}\n"
     ]
    }
   ],
   "source": [
    "my_dict['name'] = 'shubham'\n",
    "print(my_dict) \n"
   ]
  },
  {
   "cell_type": "markdown",
   "id": "34122735-943d-4928-838a-2a410dc7b949",
   "metadata": {},
   "source": [
    "#### Deleting Items from a Dictionary\n",
    "##### Delete by Key using (del):\n",
    "- You can delete a key-value pair using the del statement."
   ]
  },
  {
   "cell_type": "code",
   "execution_count": 79,
   "id": "84d26950-0e61-4960-b727-3ba66bed129f",
   "metadata": {},
   "outputs": [
    {
     "name": "stdout",
     "output_type": "stream",
     "text": [
      "{'name': 'shubham', 'age': 22, 'city': 'bhabhua', 'email': '2003maltidevi@gmail.com'}\n"
     ]
    }
   ],
   "source": [
    "del my_dict['phone']\n",
    "print(my_dict)"
   ]
  },
  {
   "cell_type": "markdown",
   "id": "6406ac28-1fda-48bd-ac65-e3ce86e55e8f",
   "metadata": {},
   "source": [
    "#### Delete by Key (using pop()):\n",
    "- The pop() method removes the key-value pair and returns the value."
   ]
  },
  {
   "cell_type": "code",
   "execution_count": 80,
   "id": "e03a530b-6c9f-49cd-bec8-0c4ab978d97c",
   "metadata": {},
   "outputs": [
    {
     "name": "stdout",
     "output_type": "stream",
     "text": [
      "2003maltidevi@gmail.com\n",
      "{'name': 'shubham', 'age': 22, 'city': 'bhabhua'}\n"
     ]
    }
   ],
   "source": [
    "email = my_dict.pop('email')\n",
    "print(email)  \n",
    "print(my_dict) "
   ]
  },
  {
   "cell_type": "markdown",
   "id": "f5b50918-b9ea-4650-9d99-1ed64d60a150",
   "metadata": {},
   "source": [
    "## Q8. Discuss the importance of dictionary keys being immutable and provide examples"
   ]
  },
  {
   "cell_type": "markdown",
   "id": "f260bbfb-e468-46fb-a9d9-0317f2b17252",
   "metadata": {},
   "source": [
    "### Answer\n",
    "### The importance of immutable dictionary keys\n",
    "#### Hashability:\n",
    "\n",
    "- Dictionary keys must be hashable, meaning they must have a fixed hash value during their lifetime.\n",
    "- Immutable objects, such as strings, numbers, and tuples (containing only immutable elements), have a consistent hash value.\n",
    "- Hashable objects can be quickly compared during dictionary operations, ensuring efficient access and retrieval."
   ]
  },
  {
   "cell_type": "code",
   "execution_count": 81,
   "id": "05061211-ff92-4595-9bd1-36cb81e7a7b5",
   "metadata": {},
   "outputs": [
    {
     "name": "stdout",
     "output_type": "stream",
     "text": [
      "{'name': 'adarsh', 'age': 22}\n"
     ]
    }
   ],
   "source": [
    "my_dict = {'name': 'adarsh', 'age': 22}\n",
    "print(my_dict)"
   ]
  },
  {
   "cell_type": "code",
   "execution_count": null,
   "id": "32a5e864-382e-41ff-b0a2-510a4c29a2b5",
   "metadata": {},
   "outputs": [],
   "source": []
  }
 ],
 "metadata": {
  "kernelspec": {
   "display_name": "Python 3 (ipykernel)",
   "language": "python",
   "name": "python3"
  },
  "language_info": {
   "codemirror_mode": {
    "name": "ipython",
    "version": 3
   },
   "file_extension": ".py",
   "mimetype": "text/x-python",
   "name": "python",
   "nbconvert_exporter": "python",
   "pygments_lexer": "ipython3",
   "version": "3.10.8"
  }
 },
 "nbformat": 4,
 "nbformat_minor": 5
}
