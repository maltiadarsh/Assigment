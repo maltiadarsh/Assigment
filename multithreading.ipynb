{
 "cells": [
  {
   "cell_type": "markdown",
   "id": "64cb0122-4909-4125-9405-02f335dcdf9e",
   "metadata": {},
   "source": [
    "## Q1. Discuss the scenarios where multithreading is preferable to multiprocessing and scenarios where multiprocessing is a better choice."
   ]
  },
  {
   "cell_type": "markdown",
   "id": "b25b23df-5c20-4075-a55b-c008531de04a",
   "metadata": {},
   "source": [
    "\n",
    "### Multithreading is preferable for I/O-bound tasks like reading/writing files, network communication, or database access, where tasks spend a lot of time waiting. Threads share the same memory space, making communication easy and efficient without the overhead of inter-process communication. Multithreading is lightweight, allowing for quick context switching, and is ideal when tasks do not require high CPU usage, such as in GUI applications or lightweight servers.\n",
    "### On the other hand, multiprocessing is better for CPU-bound tasks that require significant computation, such as data processing, numerical calculations, or machine learning training. It effectively utilizes multiple CPU cores, bypassing Python’s Global Interpreter Lock (GIL), which can hinder multithreading in CPU-intensive tasks. Multiprocessing offers fault isolation, as processes run independently; if one crashes, others remain unaffected. It scales well across multiple cores and is suitable for parallel processing frameworks like MapReduce."
   ]
  },
  {
   "cell_type": "markdown",
   "id": "41e169f8-afb4-4dc0-9595-c4f26ac46b1a",
   "metadata": {},
   "source": [
    "## Q2. Describe what a process pool is and how it helps in managing multiple processes efficiently."
   ]
  },
  {
   "cell_type": "markdown",
   "id": "c18395cf-06e6-47ac-82b8-dd7bd93259dc",
   "metadata": {},
   "source": [
    "### A process pool is a collection of worker processes that are managed by a pool manager to efficiently handle multiple tasks. Instead of creating and destroying processes repeatedly, which is resource-intensive, a process pool maintains a fixed number of processes ready to execute tasks\n",
    "###  it helps in managing multiple processes efficiently following types:-\n",
    "- **Reusability**: Processes in the pool are reused for multiple tasks, reducing the overhead of creating and terminating processes repeatedly.\n",
    "\n",
    "- **Load Balancing**: The pool manager automatically assigns tasks to available processes, balancing the load and ensuring that all processes are used effectively.\n",
    "\n",
    "- **Resource Management**: By limiting the number of processes, a process pool controls resource usage, preventing excessive strain on the system.\n",
    "\n",
    "- **Simplified Code**: Using a process pool abstracts the complexity of managing multiple processes, making it easier to write parallel code without manually handling process creation, synchronization, and cleanup."
   ]
  },
  {
   "cell_type": "markdown",
   "id": "cf9f2e09-f0dd-4f4d-aa9b-92b818aacd49",
   "metadata": {},
   "source": [
    "## Q3. Explain what multiprocessing is and why it is used in Python programs.\n"
   ]
  },
  {
   "cell_type": "markdown",
   "id": "efaf6fca-8cb2-4d79-b319-abcc9f5a8198",
   "metadata": {},
   "source": [
    "### Multiprocessing in Python refers to the ability to run multiple processes simultaneously, leveraging the power of multiple CPU cores.\n",
    "### Multiprocessing is used in Python programs to achieve true parallelism and improve performance, especially for CPU-bound tasks"
   ]
  },
  {
   "cell_type": "markdown",
   "id": "e93c4ed7-6d16-4dd8-894f-4a41dec062f6",
   "metadata": {},
   "source": [
    "## Q4. Write a Python program using multithreading where one thread adds numbers to a list, and another thread removes numbers from the list. Implement a mechanism to avoid race conditions using threading.Lock."
   ]
  },
  {
   "cell_type": "code",
   "execution_count": 1,
   "id": "59296aae-1921-45d8-98f3-a6c5f048d5b2",
   "metadata": {},
   "outputs": [
    {
     "name": "stdout",
     "output_type": "stream",
     "text": [
      "Added 0 to list. List now: [0]\n",
      "Removed 0 from list. List now: []\n",
      "Added 1 to list. List now: [1]\n",
      "Removed 1 from list. List now: []\n",
      "Added 2 to list. List now: [2]\n",
      "Added 3 to list. List now: [2, 3]\n",
      "Removed 2 from list. List now: [3]\n",
      "Added 4 to list. List now: [3, 4]\n",
      "Removed 3 from list. List now: [4]\n",
      "Added 5 to list. List now: [4, 5]\n",
      "Added 6 to list. List now: [4, 5, 6]\n",
      "Removed 4 from list. List now: [5, 6]\n",
      "Added 7 to list. List now: [5, 6, 7]\n",
      "Removed 5 from list. List now: [6, 7]\n",
      "Added 8 to list. List now: [6, 7, 8]\n",
      "Added 9 to list. List now: [6, 7, 8, 9]\n",
      "Removed 6 from list. List now: [7, 8, 9]\n",
      "Removed 7 from list. List now: [8, 9]\n",
      "Removed 8 from list. List now: [9]\n",
      "Removed 9 from list. List now: []\n",
      "Final list: []\n"
     ]
    }
   ],
   "source": [
    "import threading\n",
    "import time\n",
    "\n",
    "\n",
    "shared_list = []\n",
    "lock = threading.Lock()\n",
    "\n",
    "def add_to_list():\n",
    "    for i in range(10):\n",
    "        time.sleep(0.1)  \n",
    "        with lock:\n",
    "            shared_list.append(i)\n",
    "            print(f\"Added {i} to list. List now: {shared_list}\")\n",
    "\n",
    "def remove_from_list():\n",
    "    for i in range(10):\n",
    "        time.sleep(0.15)  \n",
    "        with lock:\n",
    "            if shared_list:\n",
    "                removed = shared_list.pop(0)\n",
    "                print(f\"Removed {removed} from list. List now: {shared_list}\")\n",
    "\n",
    "# Create threads\n",
    "t1 = threading.Thread(target=add_to_list)\n",
    "t2 = threading.Thread(target=remove_from_list)\n",
    "\n",
    "# Start threads\n",
    "t1.start()\n",
    "t2.start()\n",
    "\n",
    "\n",
    "t1.join()\n",
    "t2.join()\n",
    "\n",
    "print(\"Final list:\", shared_list)\n"
   ]
  },
  {
   "cell_type": "markdown",
   "id": "6edb5446-d30d-4bef-ac05-88617bbd5c19",
   "metadata": {},
   "source": [
    "## Q5. Describe the methods and tools available in Python for safely sharing data between threads and processes."
   ]
  },
  {
   "cell_type": "markdown",
   "id": "512eb226-1bd7-4a3c-8bb8-be2009af512e",
   "metadata": {},
   "source": [
    "### In Python, safely sharing data between threads and processes is important to prevent data corruption and ensure synchronization. the method and tools are :\n",
    "### **For Threads**\n",
    "- Locks (threading.Lock): Locks are used to ensure that only one thread accesses a shared resource at a time. This prevents race conditions by allowing only one thread to execute a specific block of code.\n",
    "\n",
    "- RLocks (threading.RLock): Similar to locks, RLocks allow a thread to acquire the same lock multiple times, useful when a thread needs to enter a locked section of code from within another locked section.\n",
    "\n",
    "- Condition Variables (threading.Condition): These are used for complex thread synchronization, allowing threads to wait for some condition to be met before proceeding.\n",
    "\n",
    "- Queues (queue.Queue): A thread-safe data structure for safely exchanging data between threads. It handles the necessary locking mechanisms internally, making it easy to pass data between threads without additional synchronization code.\n",
    "\n",
    "### **For Processes**\n",
    "- Queues (multiprocessing.Queue): Similar to thread queues but designed for inter-process communication. They use shared memory or pipes, allowing processes to safely exchange data.\n",
    "\n",
    "- Pipes (multiprocessing.Pipe): Pipes provide a way for two processes to communicate with each other by sending data back and forth. They are simpler than queues but only allow communication between two processes.\n",
    "\n",
    "- Shared Memory (multiprocessing.Value and multiprocessing.Array): These allow sharing simple data types and arrays between processes by storing data in shared memory, with synchronization provided by locks.\n",
    "\n",
    "- Managers (multiprocessing.Manager): Managers allow sharing more complex data types, like dictionaries and lists, across processes. They provide proxies to access the shared data safely with automatic synchronization."
   ]
  },
  {
   "cell_type": "markdown",
   "id": "199162c4-22c6-4172-8c2e-6e62c69337a7",
   "metadata": {},
   "source": [
    "## Q6. Discuss why it's crucial to handle exceptions in concurrent programs and the techniques available for doing so"
   ]
  },
  {
   "cell_type": "markdown",
   "id": "524b4bae-ef55-44af-b47a-2a4f854dc7b3",
   "metadata": {},
   "source": [
    "### Handling exceptions in concurrent programs is crucial because errors in one part of the program can affect the entire system. Without proper handling, exceptions can lead to unpredictable behavior, crashes, or data corruption.\n",
    "### Handling Exceptions:\n",
    "- Stability: Unhandled exceptions can cause the entire program or system to crash. Proper exception handling ensures that errors in one thread or process don’t bring down the whole application.\n",
    "\n",
    "- Error Reporting: It allows for meaningful error messages and logging, which is essential for debugging and understanding what went wrong.\n",
    "\n",
    "- Resource Management: Proper handling helps ensure that resources like file handles, network connections, and memory are properly released even if an error occurs.\n",
    "\n",
    "### Techniques for Handling Exceptions:\n",
    "- Try-Except Blocks: In both threads and processes, use **try-except** blocks to catch and handle exceptions locally. This prevents errors from propagating uncontrollably.\n",
    "\n",
    "- Exception Propagation: In threads, exceptions can be caught and logged within the thread itself. You can also communicate exceptions back to the main thread using thread-safe mechanisms like queues.\n",
    "\n",
    "- Callbacks and Error Handling Functions: For concurrent frameworks or libraries, use callbacks or specific error-handling functions provided by the framework to manage exceptions.\n",
    "\n",
    "- Process Supervision: In multiprocessing, use techniques like process pools or supervisor processes to monitor child processes. These can handle or log exceptions raised by child processes and ensure they are managed properly.\n",
    "\n",
    "- Timeouts and Checks: Implement timeouts and regular checks to catch long-running or stuck tasks, which might indicate underlying exceptions or issues."
   ]
  },
  {
   "cell_type": "markdown",
   "id": "45a88e8b-553e-433c-bc15-d6a3769dc0fc",
   "metadata": {},
   "source": [
    "## Q7. Create a program that uses a thread pool to calculate the factorial of numbers from 1 to 10 concurrently. Use concurrent.futures.ThreadPoolExecutor to manage the threads.\n",
    "\n"
   ]
  },
  {
   "cell_type": "code",
   "execution_count": 3,
   "id": "29e02f6b-25f3-42be-8963-34366b8b059a",
   "metadata": {},
   "outputs": [
    {
     "name": "stdout",
     "output_type": "stream",
     "text": [
      "Factorial of 1 is 1\n",
      "Factorial of 2 is 2\n",
      "Factorial of 3 is 6\n",
      "Factorial of 4 is 24\n",
      "Factorial of 5 is 120\n",
      "Factorial of 6 is 720\n",
      "Factorial of 7 is 5040\n",
      "Factorial of 8 is 40320\n",
      "Factorial of 9 is 362880\n",
      "Factorial of 10 is 3628800\n"
     ]
    }
   ],
   "source": [
    "import concurrent.futures\n",
    "import math\n",
    "\n",
    "def factorial(n):\n",
    "    \n",
    "    return math.factorial(n)\n",
    "\n",
    "def main():\n",
    "  \n",
    "    numbers = range(1, 11)\n",
    "    with concurrent.futures.ThreadPoolExecutor(max_workers=5) as executor:\n",
    "      \n",
    "        results = {number: executor.submit(factorial, number) for number in numbers}\n",
    "\n",
    "        \n",
    "        for number, future in results.items():\n",
    "            try:\n",
    "                result = future.result() \n",
    "                print(f\"Factorial of {number} is {result}\")\n",
    "            except Exception as e:\n",
    "                print(f\"An error occurred for number {number}: {e}\")\n",
    "\n",
    "if __name__ == \"__main__\":\n",
    "    main()\n"
   ]
  },
  {
   "cell_type": "markdown",
   "id": "2d9e3842-7083-4204-a0e7-a2488b993543",
   "metadata": {},
   "source": [
    "## Q8. Create a Python program that uses multiprocessing.Pool to compute the square of numbers from 1 to 10 in parallel. Measure the time taken to perform this computation using a pool of different sizes (e.g., 2, 4, 8 processes).\n",
    "\n"
   ]
  },
  {
   "cell_type": "code",
   "execution_count": null,
   "id": "443846dd-14a5-4259-9b1c-b9ce48d75d89",
   "metadata": {},
   "outputs": [],
   "source": []
  },
  {
   "cell_type": "code",
   "execution_count": null,
   "id": "7e203695-a687-4de6-90d9-02266307be0d",
   "metadata": {},
   "outputs": [],
   "source": []
  }
 ],
 "metadata": {
  "kernelspec": {
   "display_name": "Python 3 (ipykernel)",
   "language": "python",
   "name": "python3"
  },
  "language_info": {
   "codemirror_mode": {
    "name": "ipython",
    "version": 3
   },
   "file_extension": ".py",
   "mimetype": "text/x-python",
   "name": "python",
   "nbconvert_exporter": "python",
   "pygments_lexer": "ipython3",
   "version": "3.10.8"
  }
 },
 "nbformat": 4,
 "nbformat_minor": 5
}
